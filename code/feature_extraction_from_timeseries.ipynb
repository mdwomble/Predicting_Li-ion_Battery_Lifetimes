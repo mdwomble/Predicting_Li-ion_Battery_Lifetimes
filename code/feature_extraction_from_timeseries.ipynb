{
 "cells": [
  {
   "cell_type": "markdown",
   "metadata": {},
   "source": [
    "# Timeseries Data Preparation"
   ]
  },
  {
   "cell_type": "markdown",
   "metadata": {},
   "source": [
    "### Import Modules"
   ]
  },
  {
   "cell_type": "code",
   "execution_count": 1,
   "metadata": {},
   "outputs": [],
   "source": [
    "# Data Manipulation\n",
    "import pandas as pd\n",
    "import os\n",
    "import numpy as np\n",
    "from sklearn.metrics import auc\n",
    "import math\n",
    "from scipy.optimize import curve_fit\n",
    "\n",
    "# Data Visualization\n",
    "import matplotlib.pyplot as plt"
   ]
  },
  {
   "cell_type": "markdown",
   "metadata": {},
   "source": [
    "### Load Timeseries Data"
   ]
  },
  {
   "cell_type": "code",
   "execution_count": 2,
   "metadata": {},
   "outputs": [],
   "source": [
    "# data file pathways\n",
    "feature_path=r'C:\\Users\\dmmkm\\Documents\\Projects\\battery_management_systems\\extracted_features'\n",
    "timeseries_path=r'C:\\Users\\dmmkm\\Documents\\Projects\\battery_management_systems\\timeseries_data'\n",
    "a123_path=timeseries_path+r'\\a123'\n",
    "snl_path=timeseries_path+r'\\snl'\n",
    "oxford_path=timeseries_path+r'\\oxford'\n",
    "ulpur_path=timeseries_path+r'\\ulpur'\n",
    "hnei_path=timeseries_path+r'\\hnei'\n",
    "calce_path=timeseries_path+r'\\calce'"
   ]
  },
  {
   "cell_type": "markdown",
   "metadata": {},
   "source": [
    "### Prepping a123 Timeseries Data"
   ]
  },
  {
   "cell_type": "code",
   "execution_count": 3,
   "metadata": {},
   "outputs": [
    {
     "data": {
      "text/html": [
       "<div>\n",
       "<style scoped>\n",
       "    .dataframe tbody tr th:only-of-type {\n",
       "        vertical-align: middle;\n",
       "    }\n",
       "\n",
       "    .dataframe tbody tr th {\n",
       "        vertical-align: top;\n",
       "    }\n",
       "\n",
       "    .dataframe thead th {\n",
       "        text-align: right;\n",
       "    }\n",
       "</style>\n",
       "<table border=\"1\" class=\"dataframe\">\n",
       "  <thead>\n",
       "    <tr style=\"text-align: right;\">\n",
       "      <th></th>\n",
       "      <th>Current (A)</th>\n",
       "      <th>Charge_Capacity (Ah)</th>\n",
       "      <th>Discharge_Capacity (Ah)</th>\n",
       "      <th>Cell_Temperature (C)</th>\n",
       "      <th>Voltage (V)</th>\n",
       "      <th>Test_Time (s)</th>\n",
       "      <th>Cycle_Index</th>\n",
       "      <th>dt</th>\n",
       "      <th>Power (W)</th>\n",
       "    </tr>\n",
       "  </thead>\n",
       "  <tbody>\n",
       "    <tr>\n",
       "      <th>0</th>\n",
       "      <td>0.000000</td>\n",
       "      <td>0.000000</td>\n",
       "      <td>0.0</td>\n",
       "      <td>31.632496</td>\n",
       "      <td>2.026416</td>\n",
       "      <td>0.000000</td>\n",
       "      <td>1</td>\n",
       "      <td>0.000000</td>\n",
       "      <td>0.000000</td>\n",
       "    </tr>\n",
       "    <tr>\n",
       "      <th>1</th>\n",
       "      <td>0.215908</td>\n",
       "      <td>0.000001</td>\n",
       "      <td>0.0</td>\n",
       "      <td>31.632496</td>\n",
       "      <td>2.039388</td>\n",
       "      <td>0.002417</td>\n",
       "      <td>1</td>\n",
       "      <td>0.002417</td>\n",
       "      <td>0.440319</td>\n",
       "    </tr>\n",
       "    <tr>\n",
       "      <th>2</th>\n",
       "      <td>0.359831</td>\n",
       "      <td>0.000001</td>\n",
       "      <td>0.0</td>\n",
       "      <td>31.632496</td>\n",
       "      <td>2.051660</td>\n",
       "      <td>0.002912</td>\n",
       "      <td>1</td>\n",
       "      <td>0.000495</td>\n",
       "      <td>0.738250</td>\n",
       "    </tr>\n",
       "    <tr>\n",
       "      <th>3</th>\n",
       "      <td>0.467846</td>\n",
       "      <td>0.000001</td>\n",
       "      <td>0.0</td>\n",
       "      <td>31.632496</td>\n",
       "      <td>2.063070</td>\n",
       "      <td>0.003212</td>\n",
       "      <td>1</td>\n",
       "      <td>0.000300</td>\n",
       "      <td>0.965199</td>\n",
       "    </tr>\n",
       "    <tr>\n",
       "      <th>4</th>\n",
       "      <td>0.575877</td>\n",
       "      <td>0.000001</td>\n",
       "      <td>0.0</td>\n",
       "      <td>31.632496</td>\n",
       "      <td>2.076204</td>\n",
       "      <td>0.003498</td>\n",
       "      <td>1</td>\n",
       "      <td>0.000287</td>\n",
       "      <td>1.195639</td>\n",
       "    </tr>\n",
       "  </tbody>\n",
       "</table>\n",
       "</div>"
      ],
      "text/plain": [
       "   Current (A)  Charge_Capacity (Ah)  Discharge_Capacity (Ah)  \\\n",
       "0     0.000000              0.000000                      0.0   \n",
       "1     0.215908              0.000001                      0.0   \n",
       "2     0.359831              0.000001                      0.0   \n",
       "3     0.467846              0.000001                      0.0   \n",
       "4     0.575877              0.000001                      0.0   \n",
       "\n",
       "   Cell_Temperature (C)  Voltage (V)  Test_Time (s)  Cycle_Index        dt  \\\n",
       "0             31.632496     2.026416       0.000000            1  0.000000   \n",
       "1             31.632496     2.039388       0.002417            1  0.002417   \n",
       "2             31.632496     2.051660       0.002912            1  0.000495   \n",
       "3             31.632496     2.063070       0.003212            1  0.000300   \n",
       "4             31.632496     2.076204       0.003498            1  0.000287   \n",
       "\n",
       "   Power (W)  \n",
       "0   0.000000  \n",
       "1   0.440319  \n",
       "2   0.738250  \n",
       "3   0.965199  \n",
       "4   1.195639  "
      ]
     },
     "execution_count": 3,
     "metadata": {},
     "output_type": "execute_result"
    }
   ],
   "source": [
    "# view first data file\n",
    "a123_files=os.listdir(a123_path)\n",
    "\n",
    "cell_df=pd.read_csv(a123_path+'\\\\'+a123_files[0])\n",
    "cell_df.head()"
   ]
  },
  {
   "cell_type": "code",
   "execution_count": 4,
   "metadata": {},
   "outputs": [
    {
     "name": "stdout",
     "output_type": "stream",
     "text": [
      "a123_b1c0.csv\n",
      "a123_b1c1.csv\n",
      "a123_b1c11.csv\n",
      "a123_b1c14.csv\n",
      "a123_b1c15.csv\n",
      "a123_b1c16.csv\n",
      "a123_b1c17.csv\n",
      "a123_b1c18.csv\n",
      "a123_b1c19.csv\n",
      "a123_b1c2.csv\n",
      "a123_b1c20.csv\n",
      "a123_b1c21.csv\n",
      "a123_b1c23.csv\n",
      "a123_b1c24.csv\n",
      "a123_b1c25.csv\n",
      "a123_b1c26.csv\n",
      "a123_b1c27.csv\n",
      "a123_b1c28.csv\n",
      "a123_b1c29.csv\n",
      "a123_b1c3.csv\n",
      "a123_b1c30.csv\n",
      "a123_b1c31.csv\n",
      "a123_b1c32.csv\n",
      "a123_b1c33.csv\n",
      "a123_b1c34.csv\n",
      "a123_b1c35.csv\n",
      "a123_b1c36.csv\n",
      "a123_b1c37.csv\n",
      "a123_b1c38.csv\n",
      "a123_b1c39.csv\n",
      "a123_b1c4.csv\n",
      "a123_b1c40.csv\n",
      "a123_b1c41.csv\n",
      "a123_b1c42.csv\n",
      "a123_b1c43.csv\n",
      "a123_b1c44.csv\n",
      "a123_b1c45.csv\n",
      "a123_b1c5.csv\n",
      "a123_b1c6.csv\n",
      "a123_b1c7.csv\n",
      "a123_b1c9.csv\n",
      "a123_b2c0.csv\n",
      "a123_b2c1.csv\n",
      "a123_b2c10.csv\n",
      "a123_b2c11.csv\n",
      "a123_b2c12.csv\n",
      "a123_b2c13.csv\n",
      "a123_b2c14.csv\n",
      "a123_b2c17.csv\n",
      "a123_b2c18.csv\n",
      "a123_b2c19.csv\n",
      "a123_b2c2.csv\n",
      "a123_b2c20.csv\n",
      "a123_b2c21.csv\n",
      "a123_b2c22.csv\n",
      "a123_b2c23.csv\n",
      "a123_b2c24.csv\n",
      "a123_b2c25.csv\n",
      "a123_b2c26.csv\n",
      "a123_b2c27.csv\n",
      "a123_b2c28.csv\n",
      "a123_b2c29.csv\n",
      "a123_b2c3.csv\n",
      "a123_b2c30.csv\n",
      "a123_b2c31.csv\n",
      "a123_b2c32.csv\n",
      "a123_b2c33.csv\n",
      "a123_b2c34.csv\n",
      "a123_b2c35.csv\n",
      "a123_b2c36.csv\n",
      "a123_b2c37.csv\n",
      "a123_b2c38.csv\n",
      "a123_b2c39.csv\n",
      "a123_b2c4.csv\n",
      "a123_b2c40.csv\n",
      "a123_b2c41.csv\n",
      "a123_b2c42.csv\n",
      "a123_b2c43.csv\n",
      "a123_b2c44.csv\n",
      "a123_b2c45.csv\n",
      "a123_b2c46.csv\n",
      "a123_b2c47.csv\n",
      "a123_b2c5.csv\n",
      "a123_b2c6.csv\n",
      "a123_b3c0.csv\n",
      "a123_b3c1.csv\n",
      "a123_b3c10.csv\n",
      "a123_b3c11.csv\n",
      "a123_b3c12.csv\n",
      "a123_b3c13.csv\n",
      "a123_b3c14.csv\n",
      "a123_b3c15.csv\n",
      "a123_b3c16.csv\n",
      "a123_b3c17.csv\n",
      "a123_b3c18.csv\n",
      "a123_b3c19.csv\n",
      "a123_b3c20.csv\n",
      "a123_b3c21.csv\n",
      "a123_b3c22.csv\n",
      "a123_b3c24.csv\n",
      "a123_b3c25.csv\n",
      "a123_b3c26.csv\n",
      "a123_b3c27.csv\n",
      "a123_b3c28.csv\n",
      "a123_b3c29.csv\n",
      "a123_b3c3.csv\n",
      "a123_b3c30.csv\n",
      "a123_b3c31.csv\n",
      "a123_b3c33.csv\n",
      "a123_b3c34.csv\n",
      "a123_b3c35.csv\n",
      "a123_b3c36.csv\n",
      "a123_b3c38.csv\n",
      "a123_b3c39.csv\n",
      "a123_b3c4.csv\n",
      "a123_b3c40.csv\n",
      "a123_b3c41.csv\n",
      "a123_b3c44.csv\n",
      "a123_b3c45.csv\n",
      "a123_b3c5.csv\n",
      "a123_b3c6.csv\n",
      "a123_b3c7.csv\n",
      "a123_b3c8.csv\n",
      "a123_b3c9.csv\n",
      "SNL_18650_LFP_15C_0-100_0.5-1C_a_timeseries.csv\n",
      "SNL_18650_LFP_15C_0-100_0.5-1C_b_timeseries.csv\n",
      "SNL_18650_LFP_15C_0-100_0.5-2C_a_timeseries.csv\n",
      "SNL_18650_LFP_15C_0-100_0.5-2C_b_timeseries.csv\n",
      "SNL_18650_LFP_25C_0-100_0.5-0.5C_a_timeseries.csv\n",
      "SNL_18650_LFP_25C_0-100_0.5-1C_a_timeseries.csv\n",
      "SNL_18650_LFP_25C_0-100_0.5-1C_b_timeseries.csv\n",
      "SNL_18650_LFP_25C_0-100_0.5-1C_c_timeseries.csv\n",
      "SNL_18650_LFP_25C_0-100_0.5-1C_d_timeseries.csv\n",
      "SNL_18650_LFP_25C_0-100_0.5-2C_a_timeseries.csv\n",
      "SNL_18650_LFP_25C_0-100_0.5-2C_b_timeseries.csv\n",
      "SNL_18650_LFP_25C_0-100_0.5-3C_a_timeseries.csv\n",
      "SNL_18650_LFP_25C_0-100_0.5-3C_b_timeseries.csv\n",
      "SNL_18650_LFP_25C_0-100_0.5-3C_c_timeseries.csv\n",
      "SNL_18650_LFP_25C_0-100_0.5-3C_d_timeseries.csv\n",
      "SNL_18650_LFP_25C_20-80_0.5-0.5C_a_timeseries.csv\n",
      "SNL_18650_LFP_25C_20-80_0.5-0.5C_b_timeseries.csv\n",
      "SNL_18650_LFP_25C_20-80_0.5-0.5C_c_timeseries.csv\n",
      "SNL_18650_LFP_25C_20-80_0.5-0.5C_d_timeseries.csv\n",
      "SNL_18650_LFP_25C_20-80_0.5-3C_a_timeseries.csv\n",
      "SNL_18650_LFP_25C_40-60_0.5-0.5C_a_timeseries.csv\n",
      "SNL_18650_LFP_25C_40-60_0.5-0.5C_b_timeseries.csv\n",
      "SNL_18650_LFP_25C_40-60_0.5-3C_b_timeseries.csv\n",
      "SNL_18650_LFP_35C_0-100_0.5-1C_a_timeseries.csv\n",
      "SNL_18650_LFP_35C_0-100_0.5-1C_b_timeseries.csv\n",
      "SNL_18650_LFP_35C_0-100_0.5-1C_c_timeseries.csv\n",
      "SNL_18650_LFP_35C_0-100_0.5-1C_d_timeseries.csv\n",
      "SNL_18650_LFP_35C_0-100_0.5-2C_a_timeseries.csv\n",
      "SNL_18650_LFP_35C_0-100_0.5-2C_b_timeseries.csv\n",
      "SNL_18650_NCA_15C_0-100_0.5-1C_a_timeseries.csv\n",
      "SNL_18650_NCA_15C_0-100_0.5-1C_b_timeseries.csv\n",
      "SNL_18650_NCA_15C_0-100_0.5-2C_a_timeseries.csv\n",
      "SNL_18650_NCA_15C_0-100_0.5-2C_b_timeseries.csv\n",
      "SNL_18650_NCA_25C_0-100_0.5-0.5C_a_timeseries.csv\n",
      "SNL_18650_NCA_25C_0-100_0.5-0.5C_b_timeseries.csv\n",
      "SNL_18650_NCA_25C_0-100_0.5-1C_a_timeseries.csv\n",
      "SNL_18650_NCA_25C_0-100_0.5-1C_b_timeseries.csv\n",
      "SNL_18650_NCA_25C_0-100_0.5-1C_c_timeseries.csv\n",
      "SNL_18650_NCA_25C_0-100_0.5-1C_d_timeseries.csv\n",
      "SNL_18650_NCA_25C_0-100_0.5-2C_a_timeseries.csv\n",
      "SNL_18650_NCA_25C_0-100_0.5-2C_b_timeseries.csv\n",
      "SNL_18650_NCA_25C_20-80_0.5-0.5C_a_timeseries.csv\n",
      "SNL_18650_NCA_25C_20-80_0.5-0.5C_b_timeseries.csv\n",
      "SNL_18650_NCA_25C_20-80_0.5-0.5C_c_timeseries.csv\n",
      "SNL_18650_NCA_25C_20-80_0.5-0.5C_d_timeseries.csv\n",
      "SNL_18650_NCA_25C_40-60_0.5-0.5C_a_timeseries.csv\n",
      "SNL_18650_NCA_25C_40-60_0.5-0.5C_b_timeseries.csv\n",
      "SNL_18650_NCA_35C_0-100_0.5-1C_a_timeseries.csv\n",
      "SNL_18650_NCA_35C_0-100_0.5-1C_b_timeseries.csv\n",
      "SNL_18650_NCA_35C_0-100_0.5-1C_c_timeseries.csv\n",
      "SNL_18650_NCA_35C_0-100_0.5-1C_d_timeseries.csv\n",
      "SNL_18650_NCA_35C_0-100_0.5-2C_a_timeseries.csv\n",
      "SNL_18650_NCA_35C_0-100_0.5-2C_b_timeseries.csv\n",
      "SNL_18650_NMC_15C_0-100_0.5-1C_a_timeseries.csv\n",
      "SNL_18650_NMC_15C_0-100_0.5-1C_b_timeseries.csv\n",
      "SNL_18650_NMC_15C_0-100_0.5-2C_a_timeseries.csv\n",
      "SNL_18650_NMC_15C_0-100_0.5-2C_b_timeseries.csv\n",
      "SNL_18650_NMC_25C_0-100_0.5-0.5C_a_timeseries.csv\n",
      "SNL_18650_NMC_25C_0-100_0.5-0.5C_b_timeseries.csv\n",
      "SNL_18650_NMC_25C_0-100_0.5-1C_a_timeseries.csv\n",
      "SNL_18650_NMC_25C_0-100_0.5-1C_b_timeseries.csv\n",
      "SNL_18650_NMC_25C_0-100_0.5-1C_c_timeseries.csv\n",
      "SNL_18650_NMC_25C_0-100_0.5-1C_d_timeseries.csv\n",
      "SNL_18650_NMC_25C_0-100_0.5-2C_a_timeseries.csv\n",
      "SNL_18650_NMC_25C_0-100_0.5-2C_b_timeseries.csv\n",
      "SNL_18650_NMC_25C_0-100_0.5-3C_a_timeseries.csv\n",
      "SNL_18650_NMC_25C_0-100_0.5-3C_b_timeseries.csv\n",
      "SNL_18650_NMC_25C_0-100_0.5-3C_c_timeseries.csv\n",
      "SNL_18650_NMC_25C_0-100_0.5-3C_d_timeseries.csv\n",
      "SNL_18650_NMC_25C_20-80_0.5-0.5C_a_timeseries.csv\n",
      "SNL_18650_NMC_25C_20-80_0.5-0.5C_b_timeseries.csv\n",
      "SNL_18650_NMC_25C_20-80_0.5-0.5C_c_timeseries.csv\n",
      "SNL_18650_NMC_25C_20-80_0.5-0.5C_d_timeseries.csv\n",
      "SNL_18650_NMC_25C_20-80_0.5-3C_a_timeseries.csv\n",
      "SNL_18650_NMC_35C_0-100_0.5-1C_a_timeseries.csv\n",
      "SNL_18650_NMC_35C_0-100_0.5-1C_b_timeseries.csv\n",
      "SNL_18650_NMC_35C_0-100_0.5-1C_c_timeseries.csv\n",
      "SNL_18650_NMC_35C_0-100_0.5-1C_d_timeseries.csv\n",
      "SNL_18650_NMC_35C_0-100_0.5-2C_a_timeseries.csv\n",
      "SNL_18650_NMC_35C_0-100_0.5-2C_b_timeseries.csv\n",
      "OX_1-1_pouch_LCO_40C_0-100_2-1.84C_a_timeseries.csv\n",
      "OX_1-2_pouch_LCO_40C_0-100_2-1.84C_b_timeseries.csv\n",
      "OX_1-3_pouch_LCO_40C_0-100_2-1.84C_c_timeseries.csv\n",
      "OX_1-4_pouch_LCO_40C_0-100_2-1.84C_d_timeseries.csv\n",
      "OX_1-5_pouch_LCO_40C_0-100_2-1.84C_e_timeseries.csv\n",
      "OX_1-6_pouch_LCO_40C_0-100_2-1.84C_f_timeseries.csv\n",
      "OX_1-7_pouch_LCO_40C_0-100_2-1.84C_g_timeseries.csv\n",
      "OX_1-8_pouch_LCO_40C_0-100_2-1.84C_h_timeseries.csv\n",
      "UL-PUR_N10-EX9_18650_NCA_23C_0-100_0.5-0.5C_i_timeseries.csv\n",
      "UL-PUR_N10-NA7_18650_NCA_23C_0-100_0.5-0.5C_g_timeseries.csv\n",
      "UL-PUR_N10-OV8_18650_NCA_23C_0-100_0.5-0.5C_h_timeseries.csv\n",
      "UL-PUR_N15-EX4_18650_NCA_23C_0-100_0.5-0.5C_d_timeseries.csv\n",
      "UL-PUR_N15-NA10_18650_NCA_23C_0-100_0.5-0.5C_j_timeseries.csv\n",
      "UL-PUR_N15-OV3_18650_NCA_23C_0-100_0.5-0.5C_c_timeseries.csv\n",
      "UL-PUR_N20-EX2_18650_NCA_23C_0-100_0.5-0.5C_b_timeseries.csv\n",
      "UL-PUR_N20-NA5_18650_NCA_23C_0-100_0.5-0.5C_e_timeseries.csv\n",
      "UL-PUR_N20-NA6_18650_NCA_23C_0-100_0.5-0.5C_f_timeseries.csv\n",
      "UL-PUR_N20-OV1_18650_NCA_23C_0-100_0.5-0.5C_a_timeseries.csv\n",
      "UL-PUR_R10-EX6_18650_NCA_23C_2.5-96.5_0.5-0.5C_f_timeseries.csv\n",
      "UL-PUR_R10-NA11_18650_NCA_23C_2.5-96.5_0.5-0.5C_k_timeseries.csv\n",
      "UL-PUR_R10-OV5_18650_NCA_23C_2.5-96.5_0.5-0.5C_e_timeseries.csv\n",
      "UL-PUR_R15-EX4_18650_NCA_23C_2.5-96.5_0.5-0.5C_d_timeseries.csv\n",
      "UL-PUR_R15-NA10_18650_NCA_23C_2.5-96.5_0.5-0.5C_j_timeseries.csv\n",
      "UL-PUR_R15-OV3_18650_NCA_23C_2.5-96.5_0.5-0.5C_c_timeseries.csv\n",
      "UL-PUR_R20-EX2_18650_NCA_23C_2.5-96.5_0.5-0.5C_b_timeseries.csv\n",
      "UL-PUR_R20-NA7_18650_NCA_23C_2.5-96.5_0.5-0.5C_g_timeseries.csv\n",
      "UL-PUR_R20-NA8_18650_NCA_23C_2.5-96.5_0.5-0.5C_h_timeseries.csv\n",
      "UL-PUR_R20-NA9_18650_NCA_23C_2.5-96.5_0.5-0.5C_i_timeseries.csv\n",
      "UL-PUR_R20-OV1_18650_NCA_23C_2.5-96.5_0.5-0.5C_a_timeseries.csv\n",
      "HNEI_18650_NMC_LCO_25C_0-100_0.5-1.5C_a_timeseries.csv\n",
      "HNEI_18650_NMC_LCO_25C_0-100_0.5-1.5C_b_timeseries.csv\n",
      "HNEI_18650_NMC_LCO_25C_0-100_0.5-1.5C_c_timeseries.csv\n",
      "HNEI_18650_NMC_LCO_25C_0-100_0.5-1.5C_d_timeseries.csv\n",
      "HNEI_18650_NMC_LCO_25C_0-100_0.5-1.5C_e_timeseries.csv\n",
      "HNEI_18650_NMC_LCO_25C_0-100_0.5-1.5C_f_timeseries.csv\n",
      "HNEI_18650_NMC_LCO_25C_0-100_0.5-1.5C_g_timeseries.csv\n",
      "HNEI_18650_NMC_LCO_25C_0-100_0.5-1.5C_j_timeseries.csv\n",
      "HNEI_18650_NMC_LCO_25C_0-100_0.5-1.5C_l_timeseries.csv\n",
      "HNEI_18650_NMC_LCO_25C_0-100_0.5-1.5C_n_timeseries.csv\n",
      "HNEI_18650_NMC_LCO_25C_0-100_0.5-1.5C_o_timeseries.csv\n",
      "HNEI_18650_NMC_LCO_25C_0-100_0.5-1.5C_p_timeseries.csv\n",
      "HNEI_18650_NMC_LCO_25C_0-100_0.5-1.5C_s_timeseries.csv\n",
      "HNEI_18650_NMC_LCO_25C_0-100_0.5-1.5C_t_timeseries.csv\n",
      "CALCE_CX2-16_prism_LCO_25C_0-100_0.5-0.5C_a_timeseries.csv\n",
      "CALCE_CX2-25_prism_LCO_25C_0-100_0.5-0.5C_b_timeseries.csv\n",
      "CALCE_CX2-33_prism_LCO_25C_0-100_0.5-0.5C_d_timeseries.csv\n",
      "CALCE_CX2-36_prism_LCO_25C_0-100_0.5-0.5C_f_timeseries.csv\n",
      "CALCE_CX2-37_prism_LCO_25C_0-100_0.5-0.5C_g_timeseries.csv\n",
      "CALCE_CX2-38_prism_LCO_25C_0-100_0.5-0.5C_h_timeseries.csv\n"
     ]
    }
   ],
   "source": [
    "# add power column to dataframe if not already present\n",
    "paths = [a123_path, snl_path, oxford_path, ulpur_path, hnei_path, calce_path]\n",
    "\n",
    "for path in paths:\n",
    "    files=os.listdir(path)\n",
    "    for file in files:\n",
    "        print(file)\n",
    "\n",
    "        cell_df=pd.read_csv(path+'\\\\'+file)\n",
    "        voltage=cell_df['Voltage (V)'].to_numpy()\n",
    "        current=cell_df['Current (A)'].to_numpy()\n",
    "        power=current*voltage\n",
    "        cell_df['Power (W)']=power\n",
    "\n",
    "        cell_df.to_csv(path+'\\\\'+file, index=False)\n"
   ]
  },
  {
   "cell_type": "code",
   "execution_count": null,
   "metadata": {},
   "outputs": [
    {
     "name": "stdout",
     "output_type": "stream",
     "text": [
      "SNL_18650_LFP_15C_0-100_0.5-1C_a_timeseries.csv\n",
      "SNL_18650_LFP_15C_0-100_0.5-1C_b_timeseries.csv\n",
      "SNL_18650_LFP_15C_0-100_0.5-2C_a_timeseries.csv\n",
      "SNL_18650_LFP_15C_0-100_0.5-2C_b_timeseries.csv\n",
      "SNL_18650_LFP_25C_0-100_0.5-0.5C_a_timeseries.csv\n",
      "SNL_18650_LFP_25C_0-100_0.5-1C_a_timeseries.csv\n",
      "SNL_18650_LFP_25C_0-100_0.5-1C_b_timeseries.csv\n",
      "SNL_18650_LFP_25C_0-100_0.5-1C_c_timeseries.csv\n",
      "SNL_18650_LFP_25C_0-100_0.5-1C_d_timeseries.csv\n",
      "SNL_18650_LFP_25C_0-100_0.5-2C_a_timeseries.csv\n",
      "SNL_18650_LFP_25C_0-100_0.5-2C_b_timeseries.csv\n",
      "SNL_18650_LFP_25C_0-100_0.5-3C_a_timeseries.csv\n",
      "SNL_18650_LFP_25C_0-100_0.5-3C_b_timeseries.csv\n",
      "SNL_18650_LFP_25C_0-100_0.5-3C_c_timeseries.csv\n",
      "SNL_18650_LFP_25C_0-100_0.5-3C_d_timeseries.csv\n",
      "SNL_18650_LFP_25C_20-80_0.5-0.5C_a_timeseries.csv\n",
      "SNL_18650_LFP_25C_20-80_0.5-0.5C_b_timeseries.csv\n",
      "SNL_18650_LFP_25C_20-80_0.5-0.5C_c_timeseries.csv\n",
      "SNL_18650_LFP_25C_20-80_0.5-0.5C_d_timeseries.csv\n",
      "SNL_18650_LFP_25C_20-80_0.5-3C_a_timeseries.csv\n",
      "SNL_18650_LFP_25C_40-60_0.5-0.5C_a_timeseries.csv\n",
      "SNL_18650_LFP_25C_40-60_0.5-0.5C_b_timeseries.csv\n",
      "SNL_18650_LFP_25C_40-60_0.5-3C_a_timeseries.csv\n",
      "SNL_18650_LFP_25C_40-60_0.5-3C_b_timeseries.csv\n",
      "SNL_18650_LFP_35C_0-100_0.5-1C_a_timeseries.csv\n",
      "SNL_18650_LFP_35C_0-100_0.5-1C_b_timeseries.csv\n",
      "SNL_18650_LFP_35C_0-100_0.5-1C_c_timeseries.csv\n",
      "SNL_18650_LFP_35C_0-100_0.5-1C_d_timeseries.csv\n",
      "SNL_18650_LFP_35C_0-100_0.5-2C_a_timeseries.csv\n",
      "SNL_18650_LFP_35C_0-100_0.5-2C_b_timeseries.csv\n",
      "SNL_18650_NCA_15C_0-100_0.5-1C_a_timeseries.csv\n",
      "SNL_18650_NCA_15C_0-100_0.5-1C_b_timeseries.csv\n",
      "SNL_18650_NCA_15C_0-100_0.5-2C_a_timeseries.csv\n",
      "SNL_18650_NCA_15C_0-100_0.5-2C_b_timeseries.csv\n",
      "SNL_18650_NCA_25C_0-100_0.5-0.5C_a_timeseries.csv\n",
      "SNL_18650_NCA_25C_0-100_0.5-0.5C_b_timeseries.csv\n",
      "SNL_18650_NCA_25C_0-100_0.5-1C_a_timeseries.csv\n",
      "SNL_18650_NCA_25C_0-100_0.5-1C_b_timeseries.csv\n",
      "SNL_18650_NCA_25C_0-100_0.5-1C_c_timeseries.csv\n",
      "SNL_18650_NCA_25C_0-100_0.5-1C_d_timeseries.csv\n",
      "SNL_18650_NCA_25C_0-100_0.5-2C_a_timeseries.csv\n",
      "SNL_18650_NCA_25C_0-100_0.5-2C_b_timeseries.csv\n",
      "SNL_18650_NCA_25C_20-80_0.5-0.5C_a_timeseries.csv\n",
      "SNL_18650_NCA_25C_20-80_0.5-0.5C_b_timeseries.csv\n",
      "SNL_18650_NCA_25C_20-80_0.5-0.5C_c_timeseries.csv\n",
      "SNL_18650_NCA_25C_20-80_0.5-0.5C_d_timeseries.csv\n",
      "SNL_18650_NCA_25C_40-60_0.5-0.5C_a_timeseries.csv\n",
      "SNL_18650_NCA_25C_40-60_0.5-0.5C_b_timeseries.csv\n",
      "SNL_18650_NCA_35C_0-100_0.5-1C_a_timeseries.csv\n",
      "SNL_18650_NCA_35C_0-100_0.5-1C_b_timeseries.csv\n",
      "SNL_18650_NCA_35C_0-100_0.5-1C_c_timeseries.csv\n",
      "SNL_18650_NCA_35C_0-100_0.5-1C_d_timeseries.csv\n",
      "SNL_18650_NCA_35C_0-100_0.5-2C_a_timeseries.csv\n",
      "SNL_18650_NCA_35C_0-100_0.5-2C_b_timeseries.csv\n",
      "SNL_18650_NMC_15C_0-100_0.5-1C_a_timeseries.csv\n",
      "SNL_18650_NMC_15C_0-100_0.5-1C_b_timeseries.csv\n",
      "SNL_18650_NMC_15C_0-100_0.5-2C_a_timeseries.csv\n",
      "SNL_18650_NMC_15C_0-100_0.5-2C_b_timeseries.csv\n",
      "SNL_18650_NMC_25C_0-100_0.5-0.5C_a_timeseries.csv\n",
      "SNL_18650_NMC_25C_0-100_0.5-0.5C_b_timeseries.csv\n",
      "SNL_18650_NMC_25C_0-100_0.5-1C_a_timeseries.csv\n",
      "SNL_18650_NMC_25C_0-100_0.5-1C_b_timeseries.csv\n",
      "SNL_18650_NMC_25C_0-100_0.5-1C_c_timeseries.csv\n",
      "SNL_18650_NMC_25C_0-100_0.5-1C_d_timeseries.csv\n",
      "SNL_18650_NMC_25C_0-100_0.5-2C_a_timeseries.csv\n",
      "SNL_18650_NMC_25C_0-100_0.5-2C_b_timeseries.csv\n",
      "SNL_18650_NMC_25C_0-100_0.5-3C_a_timeseries.csv\n",
      "SNL_18650_NMC_25C_0-100_0.5-3C_b_timeseries.csv\n",
      "SNL_18650_NMC_25C_0-100_0.5-3C_c_timeseries.csv\n",
      "SNL_18650_NMC_25C_0-100_0.5-3C_d_timeseries.csv\n",
      "SNL_18650_NMC_25C_20-80_0.5-0.5C_a_timeseries.csv\n",
      "SNL_18650_NMC_25C_20-80_0.5-0.5C_b_timeseries.csv\n",
      "SNL_18650_NMC_25C_20-80_0.5-0.5C_c_timeseries.csv\n",
      "SNL_18650_NMC_25C_20-80_0.5-0.5C_d_timeseries.csv\n",
      "SNL_18650_NMC_25C_20-80_0.5-3C_a_timeseries.csv\n",
      "SNL_18650_NMC_25C_20-80_0.5-3C_b_timeseries.csv\n",
      "SNL_18650_NMC_25C_40-60_0.5-3C_a_timeseries.csv\n",
      "SNL_18650_NMC_25C_40-60_0.5-3C_b_timeseries.csv\n",
      "SNL_18650_NMC_35C_0-100_0.5-1C_a_timeseries.csv\n",
      "SNL_18650_NMC_35C_0-100_0.5-1C_b_timeseries.csv\n",
      "SNL_18650_NMC_35C_0-100_0.5-1C_c_timeseries.csv\n",
      "SNL_18650_NMC_35C_0-100_0.5-1C_d_timeseries.csv\n",
      "SNL_18650_NMC_35C_0-100_0.5-2C_a_timeseries.csv\n",
      "SNL_18650_NMC_35C_0-100_0.5-2C_b_timeseries.csv\n",
      "OX_1-1_pouch_LCO_40C_0-100_2-1.84C_a_timeseries.csv\n",
      "OX_1-2_pouch_LCO_40C_0-100_2-1.84C_b_timeseries.csv\n",
      "OX_1-3_pouch_LCO_40C_0-100_2-1.84C_c_timeseries.csv\n",
      "OX_1-4_pouch_LCO_40C_0-100_2-1.84C_d_timeseries.csv\n",
      "OX_1-5_pouch_LCO_40C_0-100_2-1.84C_e_timeseries.csv\n",
      "OX_1-6_pouch_LCO_40C_0-100_2-1.84C_f_timeseries.csv\n",
      "OX_1-7_pouch_LCO_40C_0-100_2-1.84C_g_timeseries.csv\n",
      "OX_1-8_pouch_LCO_40C_0-100_2-1.84C_h_timeseries.csv\n",
      "UL-PUR_N10-EX9_18650_NCA_23C_0-100_0.5-0.5C_i_timeseries.csv\n",
      "UL-PUR_N10-NA7_18650_NCA_23C_0-100_0.5-0.5C_g_timeseries.csv\n",
      "UL-PUR_N10-OV8_18650_NCA_23C_0-100_0.5-0.5C_h_timeseries.csv\n",
      "UL-PUR_N15-EX4_18650_NCA_23C_0-100_0.5-0.5C_d_timeseries.csv\n",
      "UL-PUR_N15-NA10_18650_NCA_23C_0-100_0.5-0.5C_j_timeseries.csv\n",
      "UL-PUR_N15-OV3_18650_NCA_23C_0-100_0.5-0.5C_c_timeseries.csv\n",
      "UL-PUR_N20-EX2_18650_NCA_23C_0-100_0.5-0.5C_b_timeseries.csv\n",
      "UL-PUR_N20-NA5_18650_NCA_23C_0-100_0.5-0.5C_e_timeseries.csv\n",
      "UL-PUR_N20-NA6_18650_NCA_23C_0-100_0.5-0.5C_f_timeseries.csv\n",
      "UL-PUR_N20-OV1_18650_NCA_23C_0-100_0.5-0.5C_a_timeseries.csv\n",
      "UL-PUR_R10-EX6_18650_NCA_23C_2.5-96.5_0.5-0.5C_f_timeseries.csv\n",
      "UL-PUR_R10-NA11_18650_NCA_23C_2.5-96.5_0.5-0.5C_k_timeseries.csv\n",
      "UL-PUR_R10-OV5_18650_NCA_23C_2.5-96.5_0.5-0.5C_e_timeseries.csv\n",
      "UL-PUR_R15-EX4_18650_NCA_23C_2.5-96.5_0.5-0.5C_d_timeseries.csv\n",
      "UL-PUR_R15-NA10_18650_NCA_23C_2.5-96.5_0.5-0.5C_j_timeseries.csv\n",
      "UL-PUR_R15-OV3_18650_NCA_23C_2.5-96.5_0.5-0.5C_c_timeseries.csv\n",
      "UL-PUR_R20-EX2_18650_NCA_23C_2.5-96.5_0.5-0.5C_b_timeseries.csv\n",
      "UL-PUR_R20-NA7_18650_NCA_23C_2.5-96.5_0.5-0.5C_g_timeseries.csv\n",
      "UL-PUR_R20-NA8_18650_NCA_23C_2.5-96.5_0.5-0.5C_h_timeseries.csv\n",
      "UL-PUR_R20-NA9_18650_NCA_23C_2.5-96.5_0.5-0.5C_i_timeseries.csv\n",
      "UL-PUR_R20-OV1_18650_NCA_23C_2.5-96.5_0.5-0.5C_a_timeseries.csv\n",
      "HNEI_18650_NMC_LCO_25C_0-100_0.5-1.5C_a_timeseries.csv\n",
      "HNEI_18650_NMC_LCO_25C_0-100_0.5-1.5C_b_timeseries.csv\n",
      "HNEI_18650_NMC_LCO_25C_0-100_0.5-1.5C_c_timeseries.csv\n",
      "HNEI_18650_NMC_LCO_25C_0-100_0.5-1.5C_d_timeseries.csv\n",
      "HNEI_18650_NMC_LCO_25C_0-100_0.5-1.5C_e_timeseries.csv\n",
      "HNEI_18650_NMC_LCO_25C_0-100_0.5-1.5C_f_timeseries.csv\n",
      "HNEI_18650_NMC_LCO_25C_0-100_0.5-1.5C_g_timeseries.csv\n",
      "HNEI_18650_NMC_LCO_25C_0-100_0.5-1.5C_j_timeseries.csv\n",
      "HNEI_18650_NMC_LCO_25C_0-100_0.5-1.5C_l_timeseries.csv\n",
      "HNEI_18650_NMC_LCO_25C_0-100_0.5-1.5C_n_timeseries.csv\n",
      "HNEI_18650_NMC_LCO_25C_0-100_0.5-1.5C_o_timeseries.csv\n",
      "HNEI_18650_NMC_LCO_25C_0-100_0.5-1.5C_p_timeseries.csv\n",
      "HNEI_18650_NMC_LCO_25C_0-100_0.5-1.5C_s_timeseries.csv\n",
      "HNEI_18650_NMC_LCO_25C_0-100_0.5-1.5C_t_timeseries.csv\n",
      "CALCE_CX2-16_prism_LCO_25C_0-100_0.5-0.5C_a_timeseries.csv\n",
      "CALCE_CX2-25_prism_LCO_25C_0-100_0.5-0.5C_b_timeseries.csv\n",
      "CALCE_CX2-33_prism_LCO_25C_0-100_0.5-0.5C_d_timeseries.csv\n",
      "CALCE_CX2-34_prism_LCO_25C_0-100_0.5-0.5C_e_timeseries.csv\n",
      "CALCE_CX2-36_prism_LCO_25C_0-100_0.5-0.5C_f_timeseries.csv\n",
      "CALCE_CX2-37_prism_LCO_25C_0-100_0.5-0.5C_g_timeseries.csv\n",
      "CALCE_CX2-38_prism_LCO_25C_0-100_0.5-0.5C_h_timeseries.csv\n"
     ]
    }
   ],
   "source": [
    "# add dt column to dataframes\n",
    "paths = [snl_path, oxford_path, ulpur_path, hnei_path, calce_path]\n",
    "\n",
    "# for path in paths\n",
    "for path in paths:\n",
    "    files=os.listdir(path)\n",
    "    # for file in files\n",
    "    for file in files:\n",
    "        print(file)\n",
    "        \n",
    "        dt=[0]\n",
    "        cell_df=pd.read_csv(path+'\\\\'+file)\n",
    "        cell_df['dt']=dt+list(np.diff(cell_df['Test_Time (s)'].to_numpy()))\n",
    "        \n",
    "        cell_df.to_csv(path+'\\\\'+file, index=False)"
   ]
  },
  {
   "cell_type": "markdown",
   "metadata": {},
   "source": [
    "### Feature Extraction"
   ]
  },
  {
   "cell_type": "code",
   "execution_count": 4,
   "metadata": {},
   "outputs": [],
   "source": [
    "def gaussian(x, amp1,cen1,sigma1):\n",
    "    return amp1*(1/(sigma1*(np.sqrt(2*np.pi))))*(np.exp((-1.0/2.0)*(((x-cen1)/sigma1)**2)))"
   ]
  },
  {
   "cell_type": "code",
   "execution_count": 5,
   "metadata": {},
   "outputs": [
    {
     "name": "stdout",
     "output_type": "stream",
     "text": [
      "a123_b1c0.csv\n"
     ]
    },
    {
     "name": "stderr",
     "output_type": "stream",
     "text": [
      "C:\\Users\\dmmkm\\AppData\\Local\\Temp\\ipykernel_27488\\1804582149.py:112: RuntimeWarning: divide by zero encountered in divide\n",
      "  dq_dv_start=dq/dv\n",
      "C:\\Users\\dmmkm\\AppData\\Local\\Temp\\ipykernel_27488\\1804582149.py:112: RuntimeWarning: invalid value encountered in divide\n",
      "  dq_dv_start=dq/dv\n",
      "C:\\Users\\dmmkm\\AppData\\Local\\Temp\\ipykernel_27488\\1804582149.py:122: RuntimeWarning: invalid value encountered in divide\n",
      "  dq_dv_end=dq/dv\n",
      "C:\\Users\\dmmkm\\AppData\\Local\\Temp\\ipykernel_27488\\1804582149.py:123: FutureWarning: The behavior of `series[i:j]` with an integer-dtype index is deprecated. In a future version, this will be treated as *label-based* indexing, consistent with e.g. `series[i]` lookups. To retain the old behavior, use `series.iloc[i:j]`. To get the future behavior, use `series.loc[i:j]`.\n",
      "  x=cycle_end_df['Voltage (V)'][1:]\n",
      "C:\\Users\\dmmkm\\AppData\\Local\\Temp\\ipykernel_27488\\1804582149.py:145: FutureWarning: The behavior of `series[i:j]` with an integer-dtype index is deprecated. In a future version, this will be treated as *label-based* indexing, consistent with e.g. `series[i]` lookups. To retain the old behavior, use `series.iloc[i:j]`. To get the future behavior, use `series.loc[i:j]`.\n",
      "  dcap_end=cycle_end_df['Discharge_Capacity (Ah)'][1:]\n",
      "C:\\Users\\dmmkm\\AppData\\Local\\Temp\\ipykernel_27488\\1804582149.py:146: FutureWarning: The behavior of `series[i:j]` with an integer-dtype index is deprecated. In a future version, this will be treated as *label-based* indexing, consistent with e.g. `series[i]` lookups. To retain the old behavior, use `series.iloc[i:j]`. To get the future behavior, use `series.loc[i:j]`.\n",
      "  v_end=cycle_end_df['Voltage (V)'][1:]\n"
     ]
    },
    {
     "name": "stdout",
     "output_type": "stream",
     "text": [
      "a123_b1c1.csv\n"
     ]
    },
    {
     "name": "stderr",
     "output_type": "stream",
     "text": [
      "C:\\Users\\dmmkm\\AppData\\Local\\Temp\\ipykernel_27488\\1804582149.py:112: RuntimeWarning: invalid value encountered in divide\n",
      "  dq_dv_start=dq/dv\n",
      "C:\\Users\\dmmkm\\AppData\\Local\\Temp\\ipykernel_27488\\1804582149.py:122: RuntimeWarning: invalid value encountered in divide\n",
      "  dq_dv_end=dq/dv\n",
      "C:\\Users\\dmmkm\\AppData\\Local\\Temp\\ipykernel_27488\\1804582149.py:123: FutureWarning: The behavior of `series[i:j]` with an integer-dtype index is deprecated. In a future version, this will be treated as *label-based* indexing, consistent with e.g. `series[i]` lookups. To retain the old behavior, use `series.iloc[i:j]`. To get the future behavior, use `series.loc[i:j]`.\n",
      "  x=cycle_end_df['Voltage (V)'][1:]\n",
      "C:\\Users\\dmmkm\\AppData\\Local\\Temp\\ipykernel_27488\\1804582149.py:145: FutureWarning: The behavior of `series[i:j]` with an integer-dtype index is deprecated. In a future version, this will be treated as *label-based* indexing, consistent with e.g. `series[i]` lookups. To retain the old behavior, use `series.iloc[i:j]`. To get the future behavior, use `series.loc[i:j]`.\n",
      "  dcap_end=cycle_end_df['Discharge_Capacity (Ah)'][1:]\n",
      "C:\\Users\\dmmkm\\AppData\\Local\\Temp\\ipykernel_27488\\1804582149.py:146: FutureWarning: The behavior of `series[i:j]` with an integer-dtype index is deprecated. In a future version, this will be treated as *label-based* indexing, consistent with e.g. `series[i]` lookups. To retain the old behavior, use `series.iloc[i:j]`. To get the future behavior, use `series.loc[i:j]`.\n",
      "  v_end=cycle_end_df['Voltage (V)'][1:]\n"
     ]
    },
    {
     "name": "stdout",
     "output_type": "stream",
     "text": [
      "a123_b1c11.csv\n"
     ]
    },
    {
     "name": "stderr",
     "output_type": "stream",
     "text": [
      "C:\\Users\\dmmkm\\AppData\\Local\\Temp\\ipykernel_27488\\1804582149.py:112: RuntimeWarning: invalid value encountered in divide\n",
      "  dq_dv_start=dq/dv\n",
      "C:\\Users\\dmmkm\\AppData\\Local\\Temp\\ipykernel_27488\\1804582149.py:122: RuntimeWarning: invalid value encountered in divide\n",
      "  dq_dv_end=dq/dv\n",
      "C:\\Users\\dmmkm\\AppData\\Local\\Temp\\ipykernel_27488\\1804582149.py:123: FutureWarning: The behavior of `series[i:j]` with an integer-dtype index is deprecated. In a future version, this will be treated as *label-based* indexing, consistent with e.g. `series[i]` lookups. To retain the old behavior, use `series.iloc[i:j]`. To get the future behavior, use `series.loc[i:j]`.\n",
      "  x=cycle_end_df['Voltage (V)'][1:]\n",
      "C:\\Users\\dmmkm\\AppData\\Local\\Temp\\ipykernel_27488\\1804582149.py:145: FutureWarning: The behavior of `series[i:j]` with an integer-dtype index is deprecated. In a future version, this will be treated as *label-based* indexing, consistent with e.g. `series[i]` lookups. To retain the old behavior, use `series.iloc[i:j]`. To get the future behavior, use `series.loc[i:j]`.\n",
      "  dcap_end=cycle_end_df['Discharge_Capacity (Ah)'][1:]\n",
      "C:\\Users\\dmmkm\\AppData\\Local\\Temp\\ipykernel_27488\\1804582149.py:146: FutureWarning: The behavior of `series[i:j]` with an integer-dtype index is deprecated. In a future version, this will be treated as *label-based* indexing, consistent with e.g. `series[i]` lookups. To retain the old behavior, use `series.iloc[i:j]`. To get the future behavior, use `series.loc[i:j]`.\n",
      "  v_end=cycle_end_df['Voltage (V)'][1:]\n"
     ]
    },
    {
     "name": "stdout",
     "output_type": "stream",
     "text": [
      "a123_b1c14.csv\n"
     ]
    },
    {
     "name": "stderr",
     "output_type": "stream",
     "text": [
      "C:\\Users\\dmmkm\\AppData\\Local\\Temp\\ipykernel_27488\\1804582149.py:112: RuntimeWarning: invalid value encountered in divide\n",
      "  dq_dv_start=dq/dv\n",
      "C:\\Users\\dmmkm\\AppData\\Local\\Temp\\ipykernel_27488\\1804582149.py:122: RuntimeWarning: invalid value encountered in divide\n",
      "  dq_dv_end=dq/dv\n",
      "C:\\Users\\dmmkm\\AppData\\Local\\Temp\\ipykernel_27488\\1804582149.py:123: FutureWarning: The behavior of `series[i:j]` with an integer-dtype index is deprecated. In a future version, this will be treated as *label-based* indexing, consistent with e.g. `series[i]` lookups. To retain the old behavior, use `series.iloc[i:j]`. To get the future behavior, use `series.loc[i:j]`.\n",
      "  x=cycle_end_df['Voltage (V)'][1:]\n",
      "C:\\Users\\dmmkm\\AppData\\Local\\Temp\\ipykernel_27488\\1804582149.py:145: FutureWarning: The behavior of `series[i:j]` with an integer-dtype index is deprecated. In a future version, this will be treated as *label-based* indexing, consistent with e.g. `series[i]` lookups. To retain the old behavior, use `series.iloc[i:j]`. To get the future behavior, use `series.loc[i:j]`.\n",
      "  dcap_end=cycle_end_df['Discharge_Capacity (Ah)'][1:]\n",
      "C:\\Users\\dmmkm\\AppData\\Local\\Temp\\ipykernel_27488\\1804582149.py:146: FutureWarning: The behavior of `series[i:j]` with an integer-dtype index is deprecated. In a future version, this will be treated as *label-based* indexing, consistent with e.g. `series[i]` lookups. To retain the old behavior, use `series.iloc[i:j]`. To get the future behavior, use `series.loc[i:j]`.\n",
      "  v_end=cycle_end_df['Voltage (V)'][1:]\n"
     ]
    },
    {
     "name": "stdout",
     "output_type": "stream",
     "text": [
      "a123_b1c15.csv\n"
     ]
    },
    {
     "name": "stderr",
     "output_type": "stream",
     "text": [
      "C:\\Users\\dmmkm\\AppData\\Local\\Temp\\ipykernel_27488\\1804582149.py:112: RuntimeWarning: invalid value encountered in divide\n",
      "  dq_dv_start=dq/dv\n",
      "C:\\Users\\dmmkm\\AppData\\Local\\Temp\\ipykernel_27488\\1804582149.py:122: RuntimeWarning: invalid value encountered in divide\n",
      "  dq_dv_end=dq/dv\n",
      "C:\\Users\\dmmkm\\AppData\\Local\\Temp\\ipykernel_27488\\1804582149.py:123: FutureWarning: The behavior of `series[i:j]` with an integer-dtype index is deprecated. In a future version, this will be treated as *label-based* indexing, consistent with e.g. `series[i]` lookups. To retain the old behavior, use `series.iloc[i:j]`. To get the future behavior, use `series.loc[i:j]`.\n",
      "  x=cycle_end_df['Voltage (V)'][1:]\n",
      "C:\\Users\\dmmkm\\AppData\\Local\\Temp\\ipykernel_27488\\1804582149.py:145: FutureWarning: The behavior of `series[i:j]` with an integer-dtype index is deprecated. In a future version, this will be treated as *label-based* indexing, consistent with e.g. `series[i]` lookups. To retain the old behavior, use `series.iloc[i:j]`. To get the future behavior, use `series.loc[i:j]`.\n",
      "  dcap_end=cycle_end_df['Discharge_Capacity (Ah)'][1:]\n",
      "C:\\Users\\dmmkm\\AppData\\Local\\Temp\\ipykernel_27488\\1804582149.py:146: FutureWarning: The behavior of `series[i:j]` with an integer-dtype index is deprecated. In a future version, this will be treated as *label-based* indexing, consistent with e.g. `series[i]` lookups. To retain the old behavior, use `series.iloc[i:j]`. To get the future behavior, use `series.loc[i:j]`.\n",
      "  v_end=cycle_end_df['Voltage (V)'][1:]\n"
     ]
    },
    {
     "name": "stdout",
     "output_type": "stream",
     "text": [
      "a123_b1c16.csv\n"
     ]
    },
    {
     "name": "stderr",
     "output_type": "stream",
     "text": [
      "C:\\Users\\dmmkm\\AppData\\Local\\Temp\\ipykernel_27488\\1804582149.py:112: RuntimeWarning: divide by zero encountered in divide\n",
      "  dq_dv_start=dq/dv\n",
      "C:\\Users\\dmmkm\\AppData\\Local\\Temp\\ipykernel_27488\\1804582149.py:112: RuntimeWarning: invalid value encountered in divide\n",
      "  dq_dv_start=dq/dv\n",
      "C:\\Users\\dmmkm\\AppData\\Local\\Temp\\ipykernel_27488\\1804582149.py:122: RuntimeWarning: invalid value encountered in divide\n",
      "  dq_dv_end=dq/dv\n",
      "C:\\Users\\dmmkm\\AppData\\Local\\Temp\\ipykernel_27488\\1804582149.py:123: FutureWarning: The behavior of `series[i:j]` with an integer-dtype index is deprecated. In a future version, this will be treated as *label-based* indexing, consistent with e.g. `series[i]` lookups. To retain the old behavior, use `series.iloc[i:j]`. To get the future behavior, use `series.loc[i:j]`.\n",
      "  x=cycle_end_df['Voltage (V)'][1:]\n",
      "C:\\Users\\dmmkm\\AppData\\Local\\Temp\\ipykernel_27488\\1804582149.py:145: FutureWarning: The behavior of `series[i:j]` with an integer-dtype index is deprecated. In a future version, this will be treated as *label-based* indexing, consistent with e.g. `series[i]` lookups. To retain the old behavior, use `series.iloc[i:j]`. To get the future behavior, use `series.loc[i:j]`.\n",
      "  dcap_end=cycle_end_df['Discharge_Capacity (Ah)'][1:]\n",
      "C:\\Users\\dmmkm\\AppData\\Local\\Temp\\ipykernel_27488\\1804582149.py:146: FutureWarning: The behavior of `series[i:j]` with an integer-dtype index is deprecated. In a future version, this will be treated as *label-based* indexing, consistent with e.g. `series[i]` lookups. To retain the old behavior, use `series.iloc[i:j]`. To get the future behavior, use `series.loc[i:j]`.\n",
      "  v_end=cycle_end_df['Voltage (V)'][1:]\n"
     ]
    },
    {
     "name": "stdout",
     "output_type": "stream",
     "text": [
      "a123_b1c17.csv\n"
     ]
    },
    {
     "name": "stderr",
     "output_type": "stream",
     "text": [
      "C:\\Users\\dmmkm\\AppData\\Local\\Temp\\ipykernel_27488\\1804582149.py:112: RuntimeWarning: invalid value encountered in divide\n",
      "  dq_dv_start=dq/dv\n",
      "C:\\Users\\dmmkm\\AppData\\Local\\Temp\\ipykernel_27488\\1804582149.py:122: RuntimeWarning: invalid value encountered in divide\n",
      "  dq_dv_end=dq/dv\n",
      "C:\\Users\\dmmkm\\AppData\\Local\\Temp\\ipykernel_27488\\1804582149.py:123: FutureWarning: The behavior of `series[i:j]` with an integer-dtype index is deprecated. In a future version, this will be treated as *label-based* indexing, consistent with e.g. `series[i]` lookups. To retain the old behavior, use `series.iloc[i:j]`. To get the future behavior, use `series.loc[i:j]`.\n",
      "  x=cycle_end_df['Voltage (V)'][1:]\n",
      "C:\\Users\\dmmkm\\AppData\\Local\\Temp\\ipykernel_27488\\1804582149.py:145: FutureWarning: The behavior of `series[i:j]` with an integer-dtype index is deprecated. In a future version, this will be treated as *label-based* indexing, consistent with e.g. `series[i]` lookups. To retain the old behavior, use `series.iloc[i:j]`. To get the future behavior, use `series.loc[i:j]`.\n",
      "  dcap_end=cycle_end_df['Discharge_Capacity (Ah)'][1:]\n",
      "C:\\Users\\dmmkm\\AppData\\Local\\Temp\\ipykernel_27488\\1804582149.py:146: FutureWarning: The behavior of `series[i:j]` with an integer-dtype index is deprecated. In a future version, this will be treated as *label-based* indexing, consistent with e.g. `series[i]` lookups. To retain the old behavior, use `series.iloc[i:j]`. To get the future behavior, use `series.loc[i:j]`.\n",
      "  v_end=cycle_end_df['Voltage (V)'][1:]\n"
     ]
    },
    {
     "name": "stdout",
     "output_type": "stream",
     "text": [
      "a123_b1c18.csv\n"
     ]
    },
    {
     "name": "stderr",
     "output_type": "stream",
     "text": [
      "C:\\Users\\dmmkm\\AppData\\Local\\Temp\\ipykernel_27488\\1804582149.py:112: RuntimeWarning: invalid value encountered in divide\n",
      "  dq_dv_start=dq/dv\n",
      "C:\\Users\\dmmkm\\AppData\\Local\\Temp\\ipykernel_27488\\1804582149.py:113: FutureWarning: The behavior of `series[i:j]` with an integer-dtype index is deprecated. In a future version, this will be treated as *label-based* indexing, consistent with e.g. `series[i]` lookups. To retain the old behavior, use `series.iloc[i:j]`. To get the future behavior, use `series.loc[i:j]`.\n",
      "  x=cycle_start_df['Voltage (V)'][1:]\n",
      "C:\\Users\\dmmkm\\AppData\\Local\\Temp\\ipykernel_27488\\1804582149.py:122: RuntimeWarning: invalid value encountered in divide\n",
      "  dq_dv_end=dq/dv\n",
      "C:\\Users\\dmmkm\\AppData\\Local\\Temp\\ipykernel_27488\\1804582149.py:123: FutureWarning: The behavior of `series[i:j]` with an integer-dtype index is deprecated. In a future version, this will be treated as *label-based* indexing, consistent with e.g. `series[i]` lookups. To retain the old behavior, use `series.iloc[i:j]`. To get the future behavior, use `series.loc[i:j]`.\n",
      "  x=cycle_end_df['Voltage (V)'][1:]\n",
      "C:\\Users\\dmmkm\\AppData\\Local\\Temp\\ipykernel_27488\\1804582149.py:134: FutureWarning: The behavior of `series[i:j]` with an integer-dtype index is deprecated. In a future version, this will be treated as *label-based* indexing, consistent with e.g. `series[i]` lookups. To retain the old behavior, use `series.iloc[i:j]`. To get the future behavior, use `series.loc[i:j]`.\n",
      "  dcap_start=cycle_start_df['Discharge_Capacity (Ah)'][1:]\n",
      "C:\\Users\\dmmkm\\AppData\\Local\\Temp\\ipykernel_27488\\1804582149.py:135: FutureWarning: The behavior of `series[i:j]` with an integer-dtype index is deprecated. In a future version, this will be treated as *label-based* indexing, consistent with e.g. `series[i]` lookups. To retain the old behavior, use `series.iloc[i:j]`. To get the future behavior, use `series.loc[i:j]`.\n",
      "  v_start=cycle_start_df['Voltage (V)'][1:]\n",
      "C:\\Users\\dmmkm\\AppData\\Local\\Temp\\ipykernel_27488\\1804582149.py:145: FutureWarning: The behavior of `series[i:j]` with an integer-dtype index is deprecated. In a future version, this will be treated as *label-based* indexing, consistent with e.g. `series[i]` lookups. To retain the old behavior, use `series.iloc[i:j]`. To get the future behavior, use `series.loc[i:j]`.\n",
      "  dcap_end=cycle_end_df['Discharge_Capacity (Ah)'][1:]\n",
      "C:\\Users\\dmmkm\\AppData\\Local\\Temp\\ipykernel_27488\\1804582149.py:146: FutureWarning: The behavior of `series[i:j]` with an integer-dtype index is deprecated. In a future version, this will be treated as *label-based* indexing, consistent with e.g. `series[i]` lookups. To retain the old behavior, use `series.iloc[i:j]`. To get the future behavior, use `series.loc[i:j]`.\n",
      "  v_end=cycle_end_df['Voltage (V)'][1:]\n"
     ]
    },
    {
     "name": "stdout",
     "output_type": "stream",
     "text": [
      "a123_b1c19.csv\n"
     ]
    },
    {
     "name": "stderr",
     "output_type": "stream",
     "text": [
      "C:\\Users\\dmmkm\\AppData\\Local\\Temp\\ipykernel_27488\\1804582149.py:112: RuntimeWarning: invalid value encountered in divide\n",
      "  dq_dv_start=dq/dv\n",
      "C:\\Users\\dmmkm\\AppData\\Local\\Temp\\ipykernel_27488\\1804582149.py:122: RuntimeWarning: invalid value encountered in divide\n",
      "  dq_dv_end=dq/dv\n",
      "C:\\Users\\dmmkm\\AppData\\Local\\Temp\\ipykernel_27488\\1804582149.py:123: FutureWarning: The behavior of `series[i:j]` with an integer-dtype index is deprecated. In a future version, this will be treated as *label-based* indexing, consistent with e.g. `series[i]` lookups. To retain the old behavior, use `series.iloc[i:j]`. To get the future behavior, use `series.loc[i:j]`.\n",
      "  x=cycle_end_df['Voltage (V)'][1:]\n",
      "C:\\Users\\dmmkm\\AppData\\Local\\Temp\\ipykernel_27488\\1804582149.py:145: FutureWarning: The behavior of `series[i:j]` with an integer-dtype index is deprecated. In a future version, this will be treated as *label-based* indexing, consistent with e.g. `series[i]` lookups. To retain the old behavior, use `series.iloc[i:j]`. To get the future behavior, use `series.loc[i:j]`.\n",
      "  dcap_end=cycle_end_df['Discharge_Capacity (Ah)'][1:]\n",
      "C:\\Users\\dmmkm\\AppData\\Local\\Temp\\ipykernel_27488\\1804582149.py:146: FutureWarning: The behavior of `series[i:j]` with an integer-dtype index is deprecated. In a future version, this will be treated as *label-based* indexing, consistent with e.g. `series[i]` lookups. To retain the old behavior, use `series.iloc[i:j]`. To get the future behavior, use `series.loc[i:j]`.\n",
      "  v_end=cycle_end_df['Voltage (V)'][1:]\n"
     ]
    },
    {
     "name": "stdout",
     "output_type": "stream",
     "text": [
      "a123_b1c2.csv\n"
     ]
    },
    {
     "name": "stderr",
     "output_type": "stream",
     "text": [
      "C:\\Users\\dmmkm\\AppData\\Local\\Temp\\ipykernel_27488\\1804582149.py:112: RuntimeWarning: invalid value encountered in divide\n",
      "  dq_dv_start=dq/dv\n",
      "C:\\Users\\dmmkm\\AppData\\Local\\Temp\\ipykernel_27488\\1804582149.py:122: RuntimeWarning: invalid value encountered in divide\n",
      "  dq_dv_end=dq/dv\n",
      "C:\\Users\\dmmkm\\AppData\\Local\\Temp\\ipykernel_27488\\1804582149.py:123: FutureWarning: The behavior of `series[i:j]` with an integer-dtype index is deprecated. In a future version, this will be treated as *label-based* indexing, consistent with e.g. `series[i]` lookups. To retain the old behavior, use `series.iloc[i:j]`. To get the future behavior, use `series.loc[i:j]`.\n",
      "  x=cycle_end_df['Voltage (V)'][1:]\n",
      "C:\\Users\\dmmkm\\AppData\\Local\\Temp\\ipykernel_27488\\1804582149.py:145: FutureWarning: The behavior of `series[i:j]` with an integer-dtype index is deprecated. In a future version, this will be treated as *label-based* indexing, consistent with e.g. `series[i]` lookups. To retain the old behavior, use `series.iloc[i:j]`. To get the future behavior, use `series.loc[i:j]`.\n",
      "  dcap_end=cycle_end_df['Discharge_Capacity (Ah)'][1:]\n",
      "C:\\Users\\dmmkm\\AppData\\Local\\Temp\\ipykernel_27488\\1804582149.py:146: FutureWarning: The behavior of `series[i:j]` with an integer-dtype index is deprecated. In a future version, this will be treated as *label-based* indexing, consistent with e.g. `series[i]` lookups. To retain the old behavior, use `series.iloc[i:j]`. To get the future behavior, use `series.loc[i:j]`.\n",
      "  v_end=cycle_end_df['Voltage (V)'][1:]\n"
     ]
    },
    {
     "name": "stdout",
     "output_type": "stream",
     "text": [
      "a123_b1c20.csv\n"
     ]
    },
    {
     "name": "stderr",
     "output_type": "stream",
     "text": [
      "C:\\Users\\dmmkm\\AppData\\Local\\Temp\\ipykernel_27488\\1804582149.py:112: RuntimeWarning: invalid value encountered in divide\n",
      "  dq_dv_start=dq/dv\n",
      "C:\\Users\\dmmkm\\AppData\\Local\\Temp\\ipykernel_27488\\1804582149.py:122: RuntimeWarning: invalid value encountered in divide\n",
      "  dq_dv_end=dq/dv\n",
      "C:\\Users\\dmmkm\\AppData\\Local\\Temp\\ipykernel_27488\\1804582149.py:123: FutureWarning: The behavior of `series[i:j]` with an integer-dtype index is deprecated. In a future version, this will be treated as *label-based* indexing, consistent with e.g. `series[i]` lookups. To retain the old behavior, use `series.iloc[i:j]`. To get the future behavior, use `series.loc[i:j]`.\n",
      "  x=cycle_end_df['Voltage (V)'][1:]\n",
      "C:\\Users\\dmmkm\\AppData\\Local\\Temp\\ipykernel_27488\\1804582149.py:145: FutureWarning: The behavior of `series[i:j]` with an integer-dtype index is deprecated. In a future version, this will be treated as *label-based* indexing, consistent with e.g. `series[i]` lookups. To retain the old behavior, use `series.iloc[i:j]`. To get the future behavior, use `series.loc[i:j]`.\n",
      "  dcap_end=cycle_end_df['Discharge_Capacity (Ah)'][1:]\n",
      "C:\\Users\\dmmkm\\AppData\\Local\\Temp\\ipykernel_27488\\1804582149.py:146: FutureWarning: The behavior of `series[i:j]` with an integer-dtype index is deprecated. In a future version, this will be treated as *label-based* indexing, consistent with e.g. `series[i]` lookups. To retain the old behavior, use `series.iloc[i:j]`. To get the future behavior, use `series.loc[i:j]`.\n",
      "  v_end=cycle_end_df['Voltage (V)'][1:]\n"
     ]
    },
    {
     "name": "stdout",
     "output_type": "stream",
     "text": [
      "a123_b1c21.csv\n"
     ]
    },
    {
     "name": "stderr",
     "output_type": "stream",
     "text": [
      "C:\\Users\\dmmkm\\AppData\\Local\\Temp\\ipykernel_27488\\1804582149.py:112: RuntimeWarning: invalid value encountered in divide\n",
      "  dq_dv_start=dq/dv\n",
      "C:\\Users\\dmmkm\\AppData\\Local\\Temp\\ipykernel_27488\\1804582149.py:122: RuntimeWarning: invalid value encountered in divide\n",
      "  dq_dv_end=dq/dv\n",
      "C:\\Users\\dmmkm\\AppData\\Local\\Temp\\ipykernel_27488\\1804582149.py:123: FutureWarning: The behavior of `series[i:j]` with an integer-dtype index is deprecated. In a future version, this will be treated as *label-based* indexing, consistent with e.g. `series[i]` lookups. To retain the old behavior, use `series.iloc[i:j]`. To get the future behavior, use `series.loc[i:j]`.\n",
      "  x=cycle_end_df['Voltage (V)'][1:]\n",
      "C:\\Users\\dmmkm\\AppData\\Local\\Temp\\ipykernel_27488\\1804582149.py:145: FutureWarning: The behavior of `series[i:j]` with an integer-dtype index is deprecated. In a future version, this will be treated as *label-based* indexing, consistent with e.g. `series[i]` lookups. To retain the old behavior, use `series.iloc[i:j]`. To get the future behavior, use `series.loc[i:j]`.\n",
      "  dcap_end=cycle_end_df['Discharge_Capacity (Ah)'][1:]\n",
      "C:\\Users\\dmmkm\\AppData\\Local\\Temp\\ipykernel_27488\\1804582149.py:146: FutureWarning: The behavior of `series[i:j]` with an integer-dtype index is deprecated. In a future version, this will be treated as *label-based* indexing, consistent with e.g. `series[i]` lookups. To retain the old behavior, use `series.iloc[i:j]`. To get the future behavior, use `series.loc[i:j]`.\n",
      "  v_end=cycle_end_df['Voltage (V)'][1:]\n"
     ]
    },
    {
     "name": "stdout",
     "output_type": "stream",
     "text": [
      "a123_b1c23.csv\n"
     ]
    },
    {
     "name": "stderr",
     "output_type": "stream",
     "text": [
      "C:\\Users\\dmmkm\\AppData\\Local\\Temp\\ipykernel_27488\\1804582149.py:112: RuntimeWarning: invalid value encountered in divide\n",
      "  dq_dv_start=dq/dv\n",
      "C:\\Users\\dmmkm\\AppData\\Local\\Temp\\ipykernel_27488\\1804582149.py:122: RuntimeWarning: invalid value encountered in divide\n",
      "  dq_dv_end=dq/dv\n",
      "C:\\Users\\dmmkm\\AppData\\Local\\Temp\\ipykernel_27488\\1804582149.py:123: FutureWarning: The behavior of `series[i:j]` with an integer-dtype index is deprecated. In a future version, this will be treated as *label-based* indexing, consistent with e.g. `series[i]` lookups. To retain the old behavior, use `series.iloc[i:j]`. To get the future behavior, use `series.loc[i:j]`.\n",
      "  x=cycle_end_df['Voltage (V)'][1:]\n",
      "C:\\Users\\dmmkm\\AppData\\Local\\Temp\\ipykernel_27488\\1804582149.py:145: FutureWarning: The behavior of `series[i:j]` with an integer-dtype index is deprecated. In a future version, this will be treated as *label-based* indexing, consistent with e.g. `series[i]` lookups. To retain the old behavior, use `series.iloc[i:j]`. To get the future behavior, use `series.loc[i:j]`.\n",
      "  dcap_end=cycle_end_df['Discharge_Capacity (Ah)'][1:]\n",
      "C:\\Users\\dmmkm\\AppData\\Local\\Temp\\ipykernel_27488\\1804582149.py:146: FutureWarning: The behavior of `series[i:j]` with an integer-dtype index is deprecated. In a future version, this will be treated as *label-based* indexing, consistent with e.g. `series[i]` lookups. To retain the old behavior, use `series.iloc[i:j]`. To get the future behavior, use `series.loc[i:j]`.\n",
      "  v_end=cycle_end_df['Voltage (V)'][1:]\n"
     ]
    },
    {
     "name": "stdout",
     "output_type": "stream",
     "text": [
      "a123_b1c24.csv\n"
     ]
    },
    {
     "name": "stderr",
     "output_type": "stream",
     "text": [
      "C:\\Users\\dmmkm\\AppData\\Local\\Temp\\ipykernel_27488\\1804582149.py:112: RuntimeWarning: invalid value encountered in divide\n",
      "  dq_dv_start=dq/dv\n",
      "C:\\Users\\dmmkm\\AppData\\Local\\Temp\\ipykernel_27488\\1804582149.py:122: RuntimeWarning: invalid value encountered in divide\n",
      "  dq_dv_end=dq/dv\n",
      "C:\\Users\\dmmkm\\AppData\\Local\\Temp\\ipykernel_27488\\1804582149.py:123: FutureWarning: The behavior of `series[i:j]` with an integer-dtype index is deprecated. In a future version, this will be treated as *label-based* indexing, consistent with e.g. `series[i]` lookups. To retain the old behavior, use `series.iloc[i:j]`. To get the future behavior, use `series.loc[i:j]`.\n",
      "  x=cycle_end_df['Voltage (V)'][1:]\n",
      "C:\\Users\\dmmkm\\AppData\\Local\\Temp\\ipykernel_27488\\1804582149.py:145: FutureWarning: The behavior of `series[i:j]` with an integer-dtype index is deprecated. In a future version, this will be treated as *label-based* indexing, consistent with e.g. `series[i]` lookups. To retain the old behavior, use `series.iloc[i:j]`. To get the future behavior, use `series.loc[i:j]`.\n",
      "  dcap_end=cycle_end_df['Discharge_Capacity (Ah)'][1:]\n",
      "C:\\Users\\dmmkm\\AppData\\Local\\Temp\\ipykernel_27488\\1804582149.py:146: FutureWarning: The behavior of `series[i:j]` with an integer-dtype index is deprecated. In a future version, this will be treated as *label-based* indexing, consistent with e.g. `series[i]` lookups. To retain the old behavior, use `series.iloc[i:j]`. To get the future behavior, use `series.loc[i:j]`.\n",
      "  v_end=cycle_end_df['Voltage (V)'][1:]\n"
     ]
    },
    {
     "name": "stdout",
     "output_type": "stream",
     "text": [
      "a123_b1c25.csv\n"
     ]
    },
    {
     "name": "stderr",
     "output_type": "stream",
     "text": [
      "C:\\Users\\dmmkm\\AppData\\Local\\Temp\\ipykernel_27488\\1804582149.py:112: RuntimeWarning: invalid value encountered in divide\n",
      "  dq_dv_start=dq/dv\n",
      "C:\\Users\\dmmkm\\AppData\\Local\\Temp\\ipykernel_27488\\1804582149.py:122: RuntimeWarning: invalid value encountered in divide\n",
      "  dq_dv_end=dq/dv\n",
      "C:\\Users\\dmmkm\\AppData\\Local\\Temp\\ipykernel_27488\\1804582149.py:123: FutureWarning: The behavior of `series[i:j]` with an integer-dtype index is deprecated. In a future version, this will be treated as *label-based* indexing, consistent with e.g. `series[i]` lookups. To retain the old behavior, use `series.iloc[i:j]`. To get the future behavior, use `series.loc[i:j]`.\n",
      "  x=cycle_end_df['Voltage (V)'][1:]\n",
      "C:\\Users\\dmmkm\\AppData\\Local\\Temp\\ipykernel_27488\\1804582149.py:145: FutureWarning: The behavior of `series[i:j]` with an integer-dtype index is deprecated. In a future version, this will be treated as *label-based* indexing, consistent with e.g. `series[i]` lookups. To retain the old behavior, use `series.iloc[i:j]`. To get the future behavior, use `series.loc[i:j]`.\n",
      "  dcap_end=cycle_end_df['Discharge_Capacity (Ah)'][1:]\n",
      "C:\\Users\\dmmkm\\AppData\\Local\\Temp\\ipykernel_27488\\1804582149.py:146: FutureWarning: The behavior of `series[i:j]` with an integer-dtype index is deprecated. In a future version, this will be treated as *label-based* indexing, consistent with e.g. `series[i]` lookups. To retain the old behavior, use `series.iloc[i:j]`. To get the future behavior, use `series.loc[i:j]`.\n",
      "  v_end=cycle_end_df['Voltage (V)'][1:]\n"
     ]
    },
    {
     "name": "stdout",
     "output_type": "stream",
     "text": [
      "a123_b1c26.csv\n"
     ]
    },
    {
     "name": "stderr",
     "output_type": "stream",
     "text": [
      "C:\\Users\\dmmkm\\AppData\\Local\\Temp\\ipykernel_27488\\1804582149.py:112: RuntimeWarning: invalid value encountered in divide\n",
      "  dq_dv_start=dq/dv\n",
      "C:\\Users\\dmmkm\\AppData\\Local\\Temp\\ipykernel_27488\\1804582149.py:122: RuntimeWarning: invalid value encountered in divide\n",
      "  dq_dv_end=dq/dv\n",
      "C:\\Users\\dmmkm\\AppData\\Local\\Temp\\ipykernel_27488\\1804582149.py:123: FutureWarning: The behavior of `series[i:j]` with an integer-dtype index is deprecated. In a future version, this will be treated as *label-based* indexing, consistent with e.g. `series[i]` lookups. To retain the old behavior, use `series.iloc[i:j]`. To get the future behavior, use `series.loc[i:j]`.\n",
      "  x=cycle_end_df['Voltage (V)'][1:]\n",
      "C:\\Users\\dmmkm\\AppData\\Local\\Temp\\ipykernel_27488\\1804582149.py:145: FutureWarning: The behavior of `series[i:j]` with an integer-dtype index is deprecated. In a future version, this will be treated as *label-based* indexing, consistent with e.g. `series[i]` lookups. To retain the old behavior, use `series.iloc[i:j]`. To get the future behavior, use `series.loc[i:j]`.\n",
      "  dcap_end=cycle_end_df['Discharge_Capacity (Ah)'][1:]\n",
      "C:\\Users\\dmmkm\\AppData\\Local\\Temp\\ipykernel_27488\\1804582149.py:146: FutureWarning: The behavior of `series[i:j]` with an integer-dtype index is deprecated. In a future version, this will be treated as *label-based* indexing, consistent with e.g. `series[i]` lookups. To retain the old behavior, use `series.iloc[i:j]`. To get the future behavior, use `series.loc[i:j]`.\n",
      "  v_end=cycle_end_df['Voltage (V)'][1:]\n"
     ]
    },
    {
     "name": "stdout",
     "output_type": "stream",
     "text": [
      "a123_b1c27.csv\n"
     ]
    },
    {
     "name": "stderr",
     "output_type": "stream",
     "text": [
      "C:\\Users\\dmmkm\\AppData\\Local\\Temp\\ipykernel_27488\\1804582149.py:112: RuntimeWarning: invalid value encountered in divide\n",
      "  dq_dv_start=dq/dv\n",
      "C:\\Users\\dmmkm\\AppData\\Local\\Temp\\ipykernel_27488\\1804582149.py:122: RuntimeWarning: invalid value encountered in divide\n",
      "  dq_dv_end=dq/dv\n",
      "C:\\Users\\dmmkm\\AppData\\Local\\Temp\\ipykernel_27488\\1804582149.py:123: FutureWarning: The behavior of `series[i:j]` with an integer-dtype index is deprecated. In a future version, this will be treated as *label-based* indexing, consistent with e.g. `series[i]` lookups. To retain the old behavior, use `series.iloc[i:j]`. To get the future behavior, use `series.loc[i:j]`.\n",
      "  x=cycle_end_df['Voltage (V)'][1:]\n",
      "C:\\Users\\dmmkm\\AppData\\Local\\Temp\\ipykernel_27488\\1804582149.py:145: FutureWarning: The behavior of `series[i:j]` with an integer-dtype index is deprecated. In a future version, this will be treated as *label-based* indexing, consistent with e.g. `series[i]` lookups. To retain the old behavior, use `series.iloc[i:j]`. To get the future behavior, use `series.loc[i:j]`.\n",
      "  dcap_end=cycle_end_df['Discharge_Capacity (Ah)'][1:]\n",
      "C:\\Users\\dmmkm\\AppData\\Local\\Temp\\ipykernel_27488\\1804582149.py:146: FutureWarning: The behavior of `series[i:j]` with an integer-dtype index is deprecated. In a future version, this will be treated as *label-based* indexing, consistent with e.g. `series[i]` lookups. To retain the old behavior, use `series.iloc[i:j]`. To get the future behavior, use `series.loc[i:j]`.\n",
      "  v_end=cycle_end_df['Voltage (V)'][1:]\n"
     ]
    },
    {
     "name": "stdout",
     "output_type": "stream",
     "text": [
      "a123_b1c28.csv\n"
     ]
    },
    {
     "name": "stderr",
     "output_type": "stream",
     "text": [
      "C:\\Users\\dmmkm\\AppData\\Local\\Temp\\ipykernel_27488\\1804582149.py:112: RuntimeWarning: invalid value encountered in divide\n",
      "  dq_dv_start=dq/dv\n",
      "C:\\Users\\dmmkm\\AppData\\Local\\Temp\\ipykernel_27488\\1804582149.py:122: RuntimeWarning: invalid value encountered in divide\n",
      "  dq_dv_end=dq/dv\n",
      "C:\\Users\\dmmkm\\AppData\\Local\\Temp\\ipykernel_27488\\1804582149.py:123: FutureWarning: The behavior of `series[i:j]` with an integer-dtype index is deprecated. In a future version, this will be treated as *label-based* indexing, consistent with e.g. `series[i]` lookups. To retain the old behavior, use `series.iloc[i:j]`. To get the future behavior, use `series.loc[i:j]`.\n",
      "  x=cycle_end_df['Voltage (V)'][1:]\n",
      "C:\\Users\\dmmkm\\AppData\\Local\\Temp\\ipykernel_27488\\1804582149.py:145: FutureWarning: The behavior of `series[i:j]` with an integer-dtype index is deprecated. In a future version, this will be treated as *label-based* indexing, consistent with e.g. `series[i]` lookups. To retain the old behavior, use `series.iloc[i:j]`. To get the future behavior, use `series.loc[i:j]`.\n",
      "  dcap_end=cycle_end_df['Discharge_Capacity (Ah)'][1:]\n",
      "C:\\Users\\dmmkm\\AppData\\Local\\Temp\\ipykernel_27488\\1804582149.py:146: FutureWarning: The behavior of `series[i:j]` with an integer-dtype index is deprecated. In a future version, this will be treated as *label-based* indexing, consistent with e.g. `series[i]` lookups. To retain the old behavior, use `series.iloc[i:j]`. To get the future behavior, use `series.loc[i:j]`.\n",
      "  v_end=cycle_end_df['Voltage (V)'][1:]\n"
     ]
    },
    {
     "name": "stdout",
     "output_type": "stream",
     "text": [
      "a123_b1c29.csv\n"
     ]
    },
    {
     "name": "stderr",
     "output_type": "stream",
     "text": [
      "C:\\Users\\dmmkm\\AppData\\Local\\Temp\\ipykernel_27488\\1804582149.py:112: RuntimeWarning: invalid value encountered in divide\n",
      "  dq_dv_start=dq/dv\n",
      "C:\\Users\\dmmkm\\AppData\\Local\\Temp\\ipykernel_27488\\1804582149.py:122: RuntimeWarning: divide by zero encountered in divide\n",
      "  dq_dv_end=dq/dv\n",
      "C:\\Users\\dmmkm\\AppData\\Local\\Temp\\ipykernel_27488\\1804582149.py:122: RuntimeWarning: invalid value encountered in divide\n",
      "  dq_dv_end=dq/dv\n",
      "C:\\Users\\dmmkm\\AppData\\Local\\Temp\\ipykernel_27488\\1804582149.py:123: FutureWarning: The behavior of `series[i:j]` with an integer-dtype index is deprecated. In a future version, this will be treated as *label-based* indexing, consistent with e.g. `series[i]` lookups. To retain the old behavior, use `series.iloc[i:j]`. To get the future behavior, use `series.loc[i:j]`.\n",
      "  x=cycle_end_df['Voltage (V)'][1:]\n",
      "C:\\Users\\dmmkm\\AppData\\Local\\Temp\\ipykernel_27488\\1804582149.py:145: FutureWarning: The behavior of `series[i:j]` with an integer-dtype index is deprecated. In a future version, this will be treated as *label-based* indexing, consistent with e.g. `series[i]` lookups. To retain the old behavior, use `series.iloc[i:j]`. To get the future behavior, use `series.loc[i:j]`.\n",
      "  dcap_end=cycle_end_df['Discharge_Capacity (Ah)'][1:]\n",
      "C:\\Users\\dmmkm\\AppData\\Local\\Temp\\ipykernel_27488\\1804582149.py:146: FutureWarning: The behavior of `series[i:j]` with an integer-dtype index is deprecated. In a future version, this will be treated as *label-based* indexing, consistent with e.g. `series[i]` lookups. To retain the old behavior, use `series.iloc[i:j]`. To get the future behavior, use `series.loc[i:j]`.\n",
      "  v_end=cycle_end_df['Voltage (V)'][1:]\n"
     ]
    },
    {
     "name": "stdout",
     "output_type": "stream",
     "text": [
      "a123_b1c3.csv\n"
     ]
    },
    {
     "name": "stderr",
     "output_type": "stream",
     "text": [
      "C:\\Users\\dmmkm\\AppData\\Local\\Temp\\ipykernel_27488\\1804582149.py:112: RuntimeWarning: invalid value encountered in divide\n",
      "  dq_dv_start=dq/dv\n",
      "C:\\Users\\dmmkm\\AppData\\Local\\Temp\\ipykernel_27488\\1804582149.py:122: RuntimeWarning: invalid value encountered in divide\n",
      "  dq_dv_end=dq/dv\n",
      "C:\\Users\\dmmkm\\AppData\\Local\\Temp\\ipykernel_27488\\1804582149.py:123: FutureWarning: The behavior of `series[i:j]` with an integer-dtype index is deprecated. In a future version, this will be treated as *label-based* indexing, consistent with e.g. `series[i]` lookups. To retain the old behavior, use `series.iloc[i:j]`. To get the future behavior, use `series.loc[i:j]`.\n",
      "  x=cycle_end_df['Voltage (V)'][1:]\n",
      "C:\\Users\\dmmkm\\AppData\\Local\\Temp\\ipykernel_27488\\1804582149.py:145: FutureWarning: The behavior of `series[i:j]` with an integer-dtype index is deprecated. In a future version, this will be treated as *label-based* indexing, consistent with e.g. `series[i]` lookups. To retain the old behavior, use `series.iloc[i:j]`. To get the future behavior, use `series.loc[i:j]`.\n",
      "  dcap_end=cycle_end_df['Discharge_Capacity (Ah)'][1:]\n",
      "C:\\Users\\dmmkm\\AppData\\Local\\Temp\\ipykernel_27488\\1804582149.py:146: FutureWarning: The behavior of `series[i:j]` with an integer-dtype index is deprecated. In a future version, this will be treated as *label-based* indexing, consistent with e.g. `series[i]` lookups. To retain the old behavior, use `series.iloc[i:j]`. To get the future behavior, use `series.loc[i:j]`.\n",
      "  v_end=cycle_end_df['Voltage (V)'][1:]\n"
     ]
    },
    {
     "name": "stdout",
     "output_type": "stream",
     "text": [
      "a123_b1c30.csv\n"
     ]
    },
    {
     "name": "stderr",
     "output_type": "stream",
     "text": [
      "C:\\Users\\dmmkm\\AppData\\Local\\Temp\\ipykernel_27488\\1804582149.py:112: RuntimeWarning: invalid value encountered in divide\n",
      "  dq_dv_start=dq/dv\n",
      "C:\\Users\\dmmkm\\AppData\\Local\\Temp\\ipykernel_27488\\1804582149.py:122: RuntimeWarning: divide by zero encountered in divide\n",
      "  dq_dv_end=dq/dv\n",
      "C:\\Users\\dmmkm\\AppData\\Local\\Temp\\ipykernel_27488\\1804582149.py:122: RuntimeWarning: invalid value encountered in divide\n",
      "  dq_dv_end=dq/dv\n",
      "C:\\Users\\dmmkm\\AppData\\Local\\Temp\\ipykernel_27488\\1804582149.py:123: FutureWarning: The behavior of `series[i:j]` with an integer-dtype index is deprecated. In a future version, this will be treated as *label-based* indexing, consistent with e.g. `series[i]` lookups. To retain the old behavior, use `series.iloc[i:j]`. To get the future behavior, use `series.loc[i:j]`.\n",
      "  x=cycle_end_df['Voltage (V)'][1:]\n",
      "C:\\Users\\dmmkm\\AppData\\Local\\Temp\\ipykernel_27488\\1804582149.py:145: FutureWarning: The behavior of `series[i:j]` with an integer-dtype index is deprecated. In a future version, this will be treated as *label-based* indexing, consistent with e.g. `series[i]` lookups. To retain the old behavior, use `series.iloc[i:j]`. To get the future behavior, use `series.loc[i:j]`.\n",
      "  dcap_end=cycle_end_df['Discharge_Capacity (Ah)'][1:]\n",
      "C:\\Users\\dmmkm\\AppData\\Local\\Temp\\ipykernel_27488\\1804582149.py:146: FutureWarning: The behavior of `series[i:j]` with an integer-dtype index is deprecated. In a future version, this will be treated as *label-based* indexing, consistent with e.g. `series[i]` lookups. To retain the old behavior, use `series.iloc[i:j]`. To get the future behavior, use `series.loc[i:j]`.\n",
      "  v_end=cycle_end_df['Voltage (V)'][1:]\n"
     ]
    },
    {
     "name": "stdout",
     "output_type": "stream",
     "text": [
      "a123_b1c31.csv\n"
     ]
    },
    {
     "name": "stderr",
     "output_type": "stream",
     "text": [
      "C:\\Users\\dmmkm\\AppData\\Local\\Temp\\ipykernel_27488\\1804582149.py:112: RuntimeWarning: invalid value encountered in divide\n",
      "  dq_dv_start=dq/dv\n",
      "C:\\Users\\dmmkm\\AppData\\Local\\Temp\\ipykernel_27488\\1804582149.py:122: RuntimeWarning: invalid value encountered in divide\n",
      "  dq_dv_end=dq/dv\n",
      "C:\\Users\\dmmkm\\AppData\\Local\\Temp\\ipykernel_27488\\1804582149.py:123: FutureWarning: The behavior of `series[i:j]` with an integer-dtype index is deprecated. In a future version, this will be treated as *label-based* indexing, consistent with e.g. `series[i]` lookups. To retain the old behavior, use `series.iloc[i:j]`. To get the future behavior, use `series.loc[i:j]`.\n",
      "  x=cycle_end_df['Voltage (V)'][1:]\n",
      "C:\\Users\\dmmkm\\AppData\\Local\\Temp\\ipykernel_27488\\1804582149.py:145: FutureWarning: The behavior of `series[i:j]` with an integer-dtype index is deprecated. In a future version, this will be treated as *label-based* indexing, consistent with e.g. `series[i]` lookups. To retain the old behavior, use `series.iloc[i:j]`. To get the future behavior, use `series.loc[i:j]`.\n",
      "  dcap_end=cycle_end_df['Discharge_Capacity (Ah)'][1:]\n",
      "C:\\Users\\dmmkm\\AppData\\Local\\Temp\\ipykernel_27488\\1804582149.py:146: FutureWarning: The behavior of `series[i:j]` with an integer-dtype index is deprecated. In a future version, this will be treated as *label-based* indexing, consistent with e.g. `series[i]` lookups. To retain the old behavior, use `series.iloc[i:j]`. To get the future behavior, use `series.loc[i:j]`.\n",
      "  v_end=cycle_end_df['Voltage (V)'][1:]\n"
     ]
    },
    {
     "name": "stdout",
     "output_type": "stream",
     "text": [
      "a123_b1c32.csv\n"
     ]
    },
    {
     "name": "stderr",
     "output_type": "stream",
     "text": [
      "C:\\Users\\dmmkm\\AppData\\Local\\Temp\\ipykernel_27488\\1804582149.py:112: RuntimeWarning: invalid value encountered in divide\n",
      "  dq_dv_start=dq/dv\n",
      "C:\\Users\\dmmkm\\AppData\\Local\\Temp\\ipykernel_27488\\1804582149.py:122: RuntimeWarning: divide by zero encountered in divide\n",
      "  dq_dv_end=dq/dv\n",
      "C:\\Users\\dmmkm\\AppData\\Local\\Temp\\ipykernel_27488\\1804582149.py:122: RuntimeWarning: invalid value encountered in divide\n",
      "  dq_dv_end=dq/dv\n",
      "C:\\Users\\dmmkm\\AppData\\Local\\Temp\\ipykernel_27488\\1804582149.py:123: FutureWarning: The behavior of `series[i:j]` with an integer-dtype index is deprecated. In a future version, this will be treated as *label-based* indexing, consistent with e.g. `series[i]` lookups. To retain the old behavior, use `series.iloc[i:j]`. To get the future behavior, use `series.loc[i:j]`.\n",
      "  x=cycle_end_df['Voltage (V)'][1:]\n",
      "C:\\Users\\dmmkm\\AppData\\Local\\Temp\\ipykernel_27488\\1804582149.py:145: FutureWarning: The behavior of `series[i:j]` with an integer-dtype index is deprecated. In a future version, this will be treated as *label-based* indexing, consistent with e.g. `series[i]` lookups. To retain the old behavior, use `series.iloc[i:j]`. To get the future behavior, use `series.loc[i:j]`.\n",
      "  dcap_end=cycle_end_df['Discharge_Capacity (Ah)'][1:]\n",
      "C:\\Users\\dmmkm\\AppData\\Local\\Temp\\ipykernel_27488\\1804582149.py:146: FutureWarning: The behavior of `series[i:j]` with an integer-dtype index is deprecated. In a future version, this will be treated as *label-based* indexing, consistent with e.g. `series[i]` lookups. To retain the old behavior, use `series.iloc[i:j]`. To get the future behavior, use `series.loc[i:j]`.\n",
      "  v_end=cycle_end_df['Voltage (V)'][1:]\n"
     ]
    },
    {
     "name": "stdout",
     "output_type": "stream",
     "text": [
      "a123_b1c33.csv\n"
     ]
    },
    {
     "name": "stderr",
     "output_type": "stream",
     "text": [
      "C:\\Users\\dmmkm\\AppData\\Local\\Temp\\ipykernel_27488\\1804582149.py:112: RuntimeWarning: invalid value encountered in divide\n",
      "  dq_dv_start=dq/dv\n",
      "C:\\Users\\dmmkm\\AppData\\Local\\Temp\\ipykernel_27488\\1804582149.py:122: RuntimeWarning: invalid value encountered in divide\n",
      "  dq_dv_end=dq/dv\n",
      "C:\\Users\\dmmkm\\AppData\\Local\\Temp\\ipykernel_27488\\1804582149.py:123: FutureWarning: The behavior of `series[i:j]` with an integer-dtype index is deprecated. In a future version, this will be treated as *label-based* indexing, consistent with e.g. `series[i]` lookups. To retain the old behavior, use `series.iloc[i:j]`. To get the future behavior, use `series.loc[i:j]`.\n",
      "  x=cycle_end_df['Voltage (V)'][1:]\n",
      "C:\\Users\\dmmkm\\AppData\\Local\\Temp\\ipykernel_27488\\1804582149.py:145: FutureWarning: The behavior of `series[i:j]` with an integer-dtype index is deprecated. In a future version, this will be treated as *label-based* indexing, consistent with e.g. `series[i]` lookups. To retain the old behavior, use `series.iloc[i:j]`. To get the future behavior, use `series.loc[i:j]`.\n",
      "  dcap_end=cycle_end_df['Discharge_Capacity (Ah)'][1:]\n",
      "C:\\Users\\dmmkm\\AppData\\Local\\Temp\\ipykernel_27488\\1804582149.py:146: FutureWarning: The behavior of `series[i:j]` with an integer-dtype index is deprecated. In a future version, this will be treated as *label-based* indexing, consistent with e.g. `series[i]` lookups. To retain the old behavior, use `series.iloc[i:j]`. To get the future behavior, use `series.loc[i:j]`.\n",
      "  v_end=cycle_end_df['Voltage (V)'][1:]\n"
     ]
    },
    {
     "name": "stdout",
     "output_type": "stream",
     "text": [
      "a123_b1c34.csv\n"
     ]
    },
    {
     "name": "stderr",
     "output_type": "stream",
     "text": [
      "C:\\Users\\dmmkm\\AppData\\Local\\Temp\\ipykernel_27488\\1804582149.py:112: RuntimeWarning: invalid value encountered in divide\n",
      "  dq_dv_start=dq/dv\n",
      "C:\\Users\\dmmkm\\AppData\\Local\\Temp\\ipykernel_27488\\1804582149.py:122: RuntimeWarning: invalid value encountered in divide\n",
      "  dq_dv_end=dq/dv\n",
      "C:\\Users\\dmmkm\\AppData\\Local\\Temp\\ipykernel_27488\\1804582149.py:123: FutureWarning: The behavior of `series[i:j]` with an integer-dtype index is deprecated. In a future version, this will be treated as *label-based* indexing, consistent with e.g. `series[i]` lookups. To retain the old behavior, use `series.iloc[i:j]`. To get the future behavior, use `series.loc[i:j]`.\n",
      "  x=cycle_end_df['Voltage (V)'][1:]\n",
      "C:\\Users\\dmmkm\\AppData\\Local\\Temp\\ipykernel_27488\\1804582149.py:145: FutureWarning: The behavior of `series[i:j]` with an integer-dtype index is deprecated. In a future version, this will be treated as *label-based* indexing, consistent with e.g. `series[i]` lookups. To retain the old behavior, use `series.iloc[i:j]`. To get the future behavior, use `series.loc[i:j]`.\n",
      "  dcap_end=cycle_end_df['Discharge_Capacity (Ah)'][1:]\n",
      "C:\\Users\\dmmkm\\AppData\\Local\\Temp\\ipykernel_27488\\1804582149.py:146: FutureWarning: The behavior of `series[i:j]` with an integer-dtype index is deprecated. In a future version, this will be treated as *label-based* indexing, consistent with e.g. `series[i]` lookups. To retain the old behavior, use `series.iloc[i:j]`. To get the future behavior, use `series.loc[i:j]`.\n",
      "  v_end=cycle_end_df['Voltage (V)'][1:]\n"
     ]
    },
    {
     "name": "stdout",
     "output_type": "stream",
     "text": [
      "a123_b1c35.csv\n"
     ]
    },
    {
     "name": "stderr",
     "output_type": "stream",
     "text": [
      "C:\\Users\\dmmkm\\AppData\\Local\\Temp\\ipykernel_27488\\1804582149.py:112: RuntimeWarning: invalid value encountered in divide\n",
      "  dq_dv_start=dq/dv\n",
      "C:\\Users\\dmmkm\\AppData\\Local\\Temp\\ipykernel_27488\\1804582149.py:122: RuntimeWarning: invalid value encountered in divide\n",
      "  dq_dv_end=dq/dv\n",
      "C:\\Users\\dmmkm\\AppData\\Local\\Temp\\ipykernel_27488\\1804582149.py:123: FutureWarning: The behavior of `series[i:j]` with an integer-dtype index is deprecated. In a future version, this will be treated as *label-based* indexing, consistent with e.g. `series[i]` lookups. To retain the old behavior, use `series.iloc[i:j]`. To get the future behavior, use `series.loc[i:j]`.\n",
      "  x=cycle_end_df['Voltage (V)'][1:]\n",
      "C:\\Users\\dmmkm\\AppData\\Local\\Temp\\ipykernel_27488\\1804582149.py:145: FutureWarning: The behavior of `series[i:j]` with an integer-dtype index is deprecated. In a future version, this will be treated as *label-based* indexing, consistent with e.g. `series[i]` lookups. To retain the old behavior, use `series.iloc[i:j]`. To get the future behavior, use `series.loc[i:j]`.\n",
      "  dcap_end=cycle_end_df['Discharge_Capacity (Ah)'][1:]\n",
      "C:\\Users\\dmmkm\\AppData\\Local\\Temp\\ipykernel_27488\\1804582149.py:146: FutureWarning: The behavior of `series[i:j]` with an integer-dtype index is deprecated. In a future version, this will be treated as *label-based* indexing, consistent with e.g. `series[i]` lookups. To retain the old behavior, use `series.iloc[i:j]`. To get the future behavior, use `series.loc[i:j]`.\n",
      "  v_end=cycle_end_df['Voltage (V)'][1:]\n"
     ]
    },
    {
     "name": "stdout",
     "output_type": "stream",
     "text": [
      "a123_b1c36.csv\n"
     ]
    },
    {
     "name": "stderr",
     "output_type": "stream",
     "text": [
      "C:\\Users\\dmmkm\\AppData\\Local\\Temp\\ipykernel_27488\\1804582149.py:112: RuntimeWarning: invalid value encountered in divide\n",
      "  dq_dv_start=dq/dv\n",
      "C:\\Users\\dmmkm\\AppData\\Local\\Temp\\ipykernel_27488\\1804582149.py:122: RuntimeWarning: invalid value encountered in divide\n",
      "  dq_dv_end=dq/dv\n",
      "C:\\Users\\dmmkm\\AppData\\Local\\Temp\\ipykernel_27488\\1804582149.py:123: FutureWarning: The behavior of `series[i:j]` with an integer-dtype index is deprecated. In a future version, this will be treated as *label-based* indexing, consistent with e.g. `series[i]` lookups. To retain the old behavior, use `series.iloc[i:j]`. To get the future behavior, use `series.loc[i:j]`.\n",
      "  x=cycle_end_df['Voltage (V)'][1:]\n",
      "C:\\Users\\dmmkm\\AppData\\Local\\Temp\\ipykernel_27488\\1804582149.py:145: FutureWarning: The behavior of `series[i:j]` with an integer-dtype index is deprecated. In a future version, this will be treated as *label-based* indexing, consistent with e.g. `series[i]` lookups. To retain the old behavior, use `series.iloc[i:j]`. To get the future behavior, use `series.loc[i:j]`.\n",
      "  dcap_end=cycle_end_df['Discharge_Capacity (Ah)'][1:]\n",
      "C:\\Users\\dmmkm\\AppData\\Local\\Temp\\ipykernel_27488\\1804582149.py:146: FutureWarning: The behavior of `series[i:j]` with an integer-dtype index is deprecated. In a future version, this will be treated as *label-based* indexing, consistent with e.g. `series[i]` lookups. To retain the old behavior, use `series.iloc[i:j]`. To get the future behavior, use `series.loc[i:j]`.\n",
      "  v_end=cycle_end_df['Voltage (V)'][1:]\n"
     ]
    },
    {
     "name": "stdout",
     "output_type": "stream",
     "text": [
      "a123_b1c37.csv\n"
     ]
    },
    {
     "name": "stderr",
     "output_type": "stream",
     "text": [
      "C:\\Users\\dmmkm\\AppData\\Local\\Temp\\ipykernel_27488\\1804582149.py:112: RuntimeWarning: invalid value encountered in divide\n",
      "  dq_dv_start=dq/dv\n",
      "C:\\Users\\dmmkm\\AppData\\Local\\Temp\\ipykernel_27488\\1804582149.py:122: RuntimeWarning: invalid value encountered in divide\n",
      "  dq_dv_end=dq/dv\n",
      "C:\\Users\\dmmkm\\AppData\\Local\\Temp\\ipykernel_27488\\1804582149.py:123: FutureWarning: The behavior of `series[i:j]` with an integer-dtype index is deprecated. In a future version, this will be treated as *label-based* indexing, consistent with e.g. `series[i]` lookups. To retain the old behavior, use `series.iloc[i:j]`. To get the future behavior, use `series.loc[i:j]`.\n",
      "  x=cycle_end_df['Voltage (V)'][1:]\n",
      "C:\\Users\\dmmkm\\AppData\\Local\\Temp\\ipykernel_27488\\1804582149.py:145: FutureWarning: The behavior of `series[i:j]` with an integer-dtype index is deprecated. In a future version, this will be treated as *label-based* indexing, consistent with e.g. `series[i]` lookups. To retain the old behavior, use `series.iloc[i:j]`. To get the future behavior, use `series.loc[i:j]`.\n",
      "  dcap_end=cycle_end_df['Discharge_Capacity (Ah)'][1:]\n",
      "C:\\Users\\dmmkm\\AppData\\Local\\Temp\\ipykernel_27488\\1804582149.py:146: FutureWarning: The behavior of `series[i:j]` with an integer-dtype index is deprecated. In a future version, this will be treated as *label-based* indexing, consistent with e.g. `series[i]` lookups. To retain the old behavior, use `series.iloc[i:j]`. To get the future behavior, use `series.loc[i:j]`.\n",
      "  v_end=cycle_end_df['Voltage (V)'][1:]\n"
     ]
    },
    {
     "name": "stdout",
     "output_type": "stream",
     "text": [
      "a123_b1c38.csv\n"
     ]
    },
    {
     "name": "stderr",
     "output_type": "stream",
     "text": [
      "C:\\Users\\dmmkm\\AppData\\Local\\Temp\\ipykernel_27488\\1804582149.py:112: RuntimeWarning: invalid value encountered in divide\n",
      "  dq_dv_start=dq/dv\n",
      "C:\\Users\\dmmkm\\AppData\\Local\\Temp\\ipykernel_27488\\1804582149.py:122: RuntimeWarning: divide by zero encountered in divide\n",
      "  dq_dv_end=dq/dv\n",
      "C:\\Users\\dmmkm\\AppData\\Local\\Temp\\ipykernel_27488\\1804582149.py:122: RuntimeWarning: invalid value encountered in divide\n",
      "  dq_dv_end=dq/dv\n",
      "C:\\Users\\dmmkm\\AppData\\Local\\Temp\\ipykernel_27488\\1804582149.py:123: FutureWarning: The behavior of `series[i:j]` with an integer-dtype index is deprecated. In a future version, this will be treated as *label-based* indexing, consistent with e.g. `series[i]` lookups. To retain the old behavior, use `series.iloc[i:j]`. To get the future behavior, use `series.loc[i:j]`.\n",
      "  x=cycle_end_df['Voltage (V)'][1:]\n",
      "C:\\Users\\dmmkm\\AppData\\Local\\Temp\\ipykernel_27488\\1804582149.py:145: FutureWarning: The behavior of `series[i:j]` with an integer-dtype index is deprecated. In a future version, this will be treated as *label-based* indexing, consistent with e.g. `series[i]` lookups. To retain the old behavior, use `series.iloc[i:j]`. To get the future behavior, use `series.loc[i:j]`.\n",
      "  dcap_end=cycle_end_df['Discharge_Capacity (Ah)'][1:]\n",
      "C:\\Users\\dmmkm\\AppData\\Local\\Temp\\ipykernel_27488\\1804582149.py:146: FutureWarning: The behavior of `series[i:j]` with an integer-dtype index is deprecated. In a future version, this will be treated as *label-based* indexing, consistent with e.g. `series[i]` lookups. To retain the old behavior, use `series.iloc[i:j]`. To get the future behavior, use `series.loc[i:j]`.\n",
      "  v_end=cycle_end_df['Voltage (V)'][1:]\n"
     ]
    },
    {
     "name": "stdout",
     "output_type": "stream",
     "text": [
      "a123_b1c39.csv\n"
     ]
    },
    {
     "name": "stderr",
     "output_type": "stream",
     "text": [
      "C:\\Users\\dmmkm\\AppData\\Local\\Temp\\ipykernel_27488\\1804582149.py:112: RuntimeWarning: invalid value encountered in divide\n",
      "  dq_dv_start=dq/dv\n",
      "C:\\Users\\dmmkm\\AppData\\Local\\Temp\\ipykernel_27488\\1804582149.py:122: RuntimeWarning: divide by zero encountered in divide\n",
      "  dq_dv_end=dq/dv\n",
      "C:\\Users\\dmmkm\\AppData\\Local\\Temp\\ipykernel_27488\\1804582149.py:122: RuntimeWarning: invalid value encountered in divide\n",
      "  dq_dv_end=dq/dv\n",
      "C:\\Users\\dmmkm\\AppData\\Local\\Temp\\ipykernel_27488\\1804582149.py:123: FutureWarning: The behavior of `series[i:j]` with an integer-dtype index is deprecated. In a future version, this will be treated as *label-based* indexing, consistent with e.g. `series[i]` lookups. To retain the old behavior, use `series.iloc[i:j]`. To get the future behavior, use `series.loc[i:j]`.\n",
      "  x=cycle_end_df['Voltage (V)'][1:]\n",
      "C:\\Users\\dmmkm\\AppData\\Local\\Temp\\ipykernel_27488\\1804582149.py:145: FutureWarning: The behavior of `series[i:j]` with an integer-dtype index is deprecated. In a future version, this will be treated as *label-based* indexing, consistent with e.g. `series[i]` lookups. To retain the old behavior, use `series.iloc[i:j]`. To get the future behavior, use `series.loc[i:j]`.\n",
      "  dcap_end=cycle_end_df['Discharge_Capacity (Ah)'][1:]\n",
      "C:\\Users\\dmmkm\\AppData\\Local\\Temp\\ipykernel_27488\\1804582149.py:146: FutureWarning: The behavior of `series[i:j]` with an integer-dtype index is deprecated. In a future version, this will be treated as *label-based* indexing, consistent with e.g. `series[i]` lookups. To retain the old behavior, use `series.iloc[i:j]`. To get the future behavior, use `series.loc[i:j]`.\n",
      "  v_end=cycle_end_df['Voltage (V)'][1:]\n"
     ]
    },
    {
     "name": "stdout",
     "output_type": "stream",
     "text": [
      "a123_b1c4.csv\n"
     ]
    },
    {
     "name": "stderr",
     "output_type": "stream",
     "text": [
      "C:\\Users\\dmmkm\\AppData\\Local\\Temp\\ipykernel_27488\\1804582149.py:112: RuntimeWarning: invalid value encountered in divide\n",
      "  dq_dv_start=dq/dv\n",
      "C:\\Users\\dmmkm\\AppData\\Local\\Temp\\ipykernel_27488\\1804582149.py:122: RuntimeWarning: invalid value encountered in divide\n",
      "  dq_dv_end=dq/dv\n",
      "C:\\Users\\dmmkm\\AppData\\Local\\Temp\\ipykernel_27488\\1804582149.py:123: FutureWarning: The behavior of `series[i:j]` with an integer-dtype index is deprecated. In a future version, this will be treated as *label-based* indexing, consistent with e.g. `series[i]` lookups. To retain the old behavior, use `series.iloc[i:j]`. To get the future behavior, use `series.loc[i:j]`.\n",
      "  x=cycle_end_df['Voltage (V)'][1:]\n",
      "C:\\Users\\dmmkm\\AppData\\Local\\Temp\\ipykernel_27488\\1804582149.py:145: FutureWarning: The behavior of `series[i:j]` with an integer-dtype index is deprecated. In a future version, this will be treated as *label-based* indexing, consistent with e.g. `series[i]` lookups. To retain the old behavior, use `series.iloc[i:j]`. To get the future behavior, use `series.loc[i:j]`.\n",
      "  dcap_end=cycle_end_df['Discharge_Capacity (Ah)'][1:]\n",
      "C:\\Users\\dmmkm\\AppData\\Local\\Temp\\ipykernel_27488\\1804582149.py:146: FutureWarning: The behavior of `series[i:j]` with an integer-dtype index is deprecated. In a future version, this will be treated as *label-based* indexing, consistent with e.g. `series[i]` lookups. To retain the old behavior, use `series.iloc[i:j]`. To get the future behavior, use `series.loc[i:j]`.\n",
      "  v_end=cycle_end_df['Voltage (V)'][1:]\n"
     ]
    },
    {
     "name": "stdout",
     "output_type": "stream",
     "text": [
      "a123_b1c40.csv\n"
     ]
    },
    {
     "name": "stderr",
     "output_type": "stream",
     "text": [
      "C:\\Users\\dmmkm\\AppData\\Local\\Temp\\ipykernel_27488\\1804582149.py:112: RuntimeWarning: invalid value encountered in divide\n",
      "  dq_dv_start=dq/dv\n",
      "C:\\Users\\dmmkm\\AppData\\Local\\Temp\\ipykernel_27488\\1804582149.py:122: RuntimeWarning: invalid value encountered in divide\n",
      "  dq_dv_end=dq/dv\n",
      "C:\\Users\\dmmkm\\AppData\\Local\\Temp\\ipykernel_27488\\1804582149.py:123: FutureWarning: The behavior of `series[i:j]` with an integer-dtype index is deprecated. In a future version, this will be treated as *label-based* indexing, consistent with e.g. `series[i]` lookups. To retain the old behavior, use `series.iloc[i:j]`. To get the future behavior, use `series.loc[i:j]`.\n",
      "  x=cycle_end_df['Voltage (V)'][1:]\n",
      "C:\\Users\\dmmkm\\AppData\\Local\\Temp\\ipykernel_27488\\1804582149.py:145: FutureWarning: The behavior of `series[i:j]` with an integer-dtype index is deprecated. In a future version, this will be treated as *label-based* indexing, consistent with e.g. `series[i]` lookups. To retain the old behavior, use `series.iloc[i:j]`. To get the future behavior, use `series.loc[i:j]`.\n",
      "  dcap_end=cycle_end_df['Discharge_Capacity (Ah)'][1:]\n",
      "C:\\Users\\dmmkm\\AppData\\Local\\Temp\\ipykernel_27488\\1804582149.py:146: FutureWarning: The behavior of `series[i:j]` with an integer-dtype index is deprecated. In a future version, this will be treated as *label-based* indexing, consistent with e.g. `series[i]` lookups. To retain the old behavior, use `series.iloc[i:j]`. To get the future behavior, use `series.loc[i:j]`.\n",
      "  v_end=cycle_end_df['Voltage (V)'][1:]\n"
     ]
    },
    {
     "name": "stdout",
     "output_type": "stream",
     "text": [
      "a123_b1c41.csv\n"
     ]
    },
    {
     "name": "stderr",
     "output_type": "stream",
     "text": [
      "C:\\Users\\dmmkm\\AppData\\Local\\Temp\\ipykernel_27488\\1804582149.py:112: RuntimeWarning: invalid value encountered in divide\n",
      "  dq_dv_start=dq/dv\n",
      "C:\\Users\\dmmkm\\AppData\\Local\\Temp\\ipykernel_27488\\1804582149.py:122: RuntimeWarning: invalid value encountered in divide\n",
      "  dq_dv_end=dq/dv\n",
      "C:\\Users\\dmmkm\\AppData\\Local\\Temp\\ipykernel_27488\\1804582149.py:123: FutureWarning: The behavior of `series[i:j]` with an integer-dtype index is deprecated. In a future version, this will be treated as *label-based* indexing, consistent with e.g. `series[i]` lookups. To retain the old behavior, use `series.iloc[i:j]`. To get the future behavior, use `series.loc[i:j]`.\n",
      "  x=cycle_end_df['Voltage (V)'][1:]\n",
      "C:\\Users\\dmmkm\\AppData\\Local\\Temp\\ipykernel_27488\\1804582149.py:145: FutureWarning: The behavior of `series[i:j]` with an integer-dtype index is deprecated. In a future version, this will be treated as *label-based* indexing, consistent with e.g. `series[i]` lookups. To retain the old behavior, use `series.iloc[i:j]`. To get the future behavior, use `series.loc[i:j]`.\n",
      "  dcap_end=cycle_end_df['Discharge_Capacity (Ah)'][1:]\n",
      "C:\\Users\\dmmkm\\AppData\\Local\\Temp\\ipykernel_27488\\1804582149.py:146: FutureWarning: The behavior of `series[i:j]` with an integer-dtype index is deprecated. In a future version, this will be treated as *label-based* indexing, consistent with e.g. `series[i]` lookups. To retain the old behavior, use `series.iloc[i:j]`. To get the future behavior, use `series.loc[i:j]`.\n",
      "  v_end=cycle_end_df['Voltage (V)'][1:]\n"
     ]
    },
    {
     "name": "stdout",
     "output_type": "stream",
     "text": [
      "a123_b1c42.csv\n"
     ]
    },
    {
     "name": "stderr",
     "output_type": "stream",
     "text": [
      "C:\\Users\\dmmkm\\AppData\\Local\\Temp\\ipykernel_27488\\1804582149.py:112: RuntimeWarning: invalid value encountered in divide\n",
      "  dq_dv_start=dq/dv\n",
      "C:\\Users\\dmmkm\\AppData\\Local\\Temp\\ipykernel_27488\\1804582149.py:122: RuntimeWarning: invalid value encountered in divide\n",
      "  dq_dv_end=dq/dv\n",
      "C:\\Users\\dmmkm\\AppData\\Local\\Temp\\ipykernel_27488\\1804582149.py:123: FutureWarning: The behavior of `series[i:j]` with an integer-dtype index is deprecated. In a future version, this will be treated as *label-based* indexing, consistent with e.g. `series[i]` lookups. To retain the old behavior, use `series.iloc[i:j]`. To get the future behavior, use `series.loc[i:j]`.\n",
      "  x=cycle_end_df['Voltage (V)'][1:]\n",
      "C:\\Users\\dmmkm\\AppData\\Local\\Temp\\ipykernel_27488\\1804582149.py:145: FutureWarning: The behavior of `series[i:j]` with an integer-dtype index is deprecated. In a future version, this will be treated as *label-based* indexing, consistent with e.g. `series[i]` lookups. To retain the old behavior, use `series.iloc[i:j]`. To get the future behavior, use `series.loc[i:j]`.\n",
      "  dcap_end=cycle_end_df['Discharge_Capacity (Ah)'][1:]\n",
      "C:\\Users\\dmmkm\\AppData\\Local\\Temp\\ipykernel_27488\\1804582149.py:146: FutureWarning: The behavior of `series[i:j]` with an integer-dtype index is deprecated. In a future version, this will be treated as *label-based* indexing, consistent with e.g. `series[i]` lookups. To retain the old behavior, use `series.iloc[i:j]`. To get the future behavior, use `series.loc[i:j]`.\n",
      "  v_end=cycle_end_df['Voltage (V)'][1:]\n"
     ]
    },
    {
     "name": "stdout",
     "output_type": "stream",
     "text": [
      "a123_b1c43.csv\n"
     ]
    },
    {
     "name": "stderr",
     "output_type": "stream",
     "text": [
      "C:\\Users\\dmmkm\\AppData\\Local\\Temp\\ipykernel_27488\\1804582149.py:112: RuntimeWarning: invalid value encountered in divide\n",
      "  dq_dv_start=dq/dv\n",
      "C:\\Users\\dmmkm\\AppData\\Local\\Temp\\ipykernel_27488\\1804582149.py:122: RuntimeWarning: invalid value encountered in divide\n",
      "  dq_dv_end=dq/dv\n",
      "C:\\Users\\dmmkm\\AppData\\Local\\Temp\\ipykernel_27488\\1804582149.py:123: FutureWarning: The behavior of `series[i:j]` with an integer-dtype index is deprecated. In a future version, this will be treated as *label-based* indexing, consistent with e.g. `series[i]` lookups. To retain the old behavior, use `series.iloc[i:j]`. To get the future behavior, use `series.loc[i:j]`.\n",
      "  x=cycle_end_df['Voltage (V)'][1:]\n",
      "C:\\Users\\dmmkm\\AppData\\Local\\Temp\\ipykernel_27488\\1804582149.py:145: FutureWarning: The behavior of `series[i:j]` with an integer-dtype index is deprecated. In a future version, this will be treated as *label-based* indexing, consistent with e.g. `series[i]` lookups. To retain the old behavior, use `series.iloc[i:j]`. To get the future behavior, use `series.loc[i:j]`.\n",
      "  dcap_end=cycle_end_df['Discharge_Capacity (Ah)'][1:]\n",
      "C:\\Users\\dmmkm\\AppData\\Local\\Temp\\ipykernel_27488\\1804582149.py:146: FutureWarning: The behavior of `series[i:j]` with an integer-dtype index is deprecated. In a future version, this will be treated as *label-based* indexing, consistent with e.g. `series[i]` lookups. To retain the old behavior, use `series.iloc[i:j]`. To get the future behavior, use `series.loc[i:j]`.\n",
      "  v_end=cycle_end_df['Voltage (V)'][1:]\n"
     ]
    },
    {
     "name": "stdout",
     "output_type": "stream",
     "text": [
      "a123_b1c44.csv\n"
     ]
    },
    {
     "name": "stderr",
     "output_type": "stream",
     "text": [
      "C:\\Users\\dmmkm\\AppData\\Local\\Temp\\ipykernel_27488\\1804582149.py:112: RuntimeWarning: invalid value encountered in divide\n",
      "  dq_dv_start=dq/dv\n",
      "C:\\Users\\dmmkm\\AppData\\Local\\Temp\\ipykernel_27488\\1804582149.py:122: RuntimeWarning: invalid value encountered in divide\n",
      "  dq_dv_end=dq/dv\n",
      "C:\\Users\\dmmkm\\AppData\\Local\\Temp\\ipykernel_27488\\1804582149.py:123: FutureWarning: The behavior of `series[i:j]` with an integer-dtype index is deprecated. In a future version, this will be treated as *label-based* indexing, consistent with e.g. `series[i]` lookups. To retain the old behavior, use `series.iloc[i:j]`. To get the future behavior, use `series.loc[i:j]`.\n",
      "  x=cycle_end_df['Voltage (V)'][1:]\n",
      "C:\\Users\\dmmkm\\AppData\\Local\\Temp\\ipykernel_27488\\1804582149.py:145: FutureWarning: The behavior of `series[i:j]` with an integer-dtype index is deprecated. In a future version, this will be treated as *label-based* indexing, consistent with e.g. `series[i]` lookups. To retain the old behavior, use `series.iloc[i:j]`. To get the future behavior, use `series.loc[i:j]`.\n",
      "  dcap_end=cycle_end_df['Discharge_Capacity (Ah)'][1:]\n",
      "C:\\Users\\dmmkm\\AppData\\Local\\Temp\\ipykernel_27488\\1804582149.py:146: FutureWarning: The behavior of `series[i:j]` with an integer-dtype index is deprecated. In a future version, this will be treated as *label-based* indexing, consistent with e.g. `series[i]` lookups. To retain the old behavior, use `series.iloc[i:j]`. To get the future behavior, use `series.loc[i:j]`.\n",
      "  v_end=cycle_end_df['Voltage (V)'][1:]\n"
     ]
    },
    {
     "name": "stdout",
     "output_type": "stream",
     "text": [
      "a123_b1c45.csv\n"
     ]
    },
    {
     "name": "stderr",
     "output_type": "stream",
     "text": [
      "C:\\Users\\dmmkm\\AppData\\Local\\Temp\\ipykernel_27488\\1804582149.py:112: RuntimeWarning: invalid value encountered in divide\n",
      "  dq_dv_start=dq/dv\n",
      "C:\\Users\\dmmkm\\AppData\\Local\\Temp\\ipykernel_27488\\1804582149.py:122: RuntimeWarning: invalid value encountered in divide\n",
      "  dq_dv_end=dq/dv\n",
      "C:\\Users\\dmmkm\\AppData\\Local\\Temp\\ipykernel_27488\\1804582149.py:123: FutureWarning: The behavior of `series[i:j]` with an integer-dtype index is deprecated. In a future version, this will be treated as *label-based* indexing, consistent with e.g. `series[i]` lookups. To retain the old behavior, use `series.iloc[i:j]`. To get the future behavior, use `series.loc[i:j]`.\n",
      "  x=cycle_end_df['Voltage (V)'][1:]\n",
      "C:\\Users\\dmmkm\\AppData\\Local\\Temp\\ipykernel_27488\\1804582149.py:145: FutureWarning: The behavior of `series[i:j]` with an integer-dtype index is deprecated. In a future version, this will be treated as *label-based* indexing, consistent with e.g. `series[i]` lookups. To retain the old behavior, use `series.iloc[i:j]`. To get the future behavior, use `series.loc[i:j]`.\n",
      "  dcap_end=cycle_end_df['Discharge_Capacity (Ah)'][1:]\n",
      "C:\\Users\\dmmkm\\AppData\\Local\\Temp\\ipykernel_27488\\1804582149.py:146: FutureWarning: The behavior of `series[i:j]` with an integer-dtype index is deprecated. In a future version, this will be treated as *label-based* indexing, consistent with e.g. `series[i]` lookups. To retain the old behavior, use `series.iloc[i:j]`. To get the future behavior, use `series.loc[i:j]`.\n",
      "  v_end=cycle_end_df['Voltage (V)'][1:]\n"
     ]
    },
    {
     "name": "stdout",
     "output_type": "stream",
     "text": [
      "a123_b1c5.csv\n"
     ]
    },
    {
     "name": "stderr",
     "output_type": "stream",
     "text": [
      "C:\\Users\\dmmkm\\AppData\\Local\\Temp\\ipykernel_27488\\1804582149.py:112: RuntimeWarning: invalid value encountered in divide\n",
      "  dq_dv_start=dq/dv\n",
      "C:\\Users\\dmmkm\\AppData\\Local\\Temp\\ipykernel_27488\\1804582149.py:122: RuntimeWarning: invalid value encountered in divide\n",
      "  dq_dv_end=dq/dv\n",
      "C:\\Users\\dmmkm\\AppData\\Local\\Temp\\ipykernel_27488\\1804582149.py:123: FutureWarning: The behavior of `series[i:j]` with an integer-dtype index is deprecated. In a future version, this will be treated as *label-based* indexing, consistent with e.g. `series[i]` lookups. To retain the old behavior, use `series.iloc[i:j]`. To get the future behavior, use `series.loc[i:j]`.\n",
      "  x=cycle_end_df['Voltage (V)'][1:]\n",
      "C:\\Users\\dmmkm\\AppData\\Local\\Temp\\ipykernel_27488\\1804582149.py:145: FutureWarning: The behavior of `series[i:j]` with an integer-dtype index is deprecated. In a future version, this will be treated as *label-based* indexing, consistent with e.g. `series[i]` lookups. To retain the old behavior, use `series.iloc[i:j]`. To get the future behavior, use `series.loc[i:j]`.\n",
      "  dcap_end=cycle_end_df['Discharge_Capacity (Ah)'][1:]\n",
      "C:\\Users\\dmmkm\\AppData\\Local\\Temp\\ipykernel_27488\\1804582149.py:146: FutureWarning: The behavior of `series[i:j]` with an integer-dtype index is deprecated. In a future version, this will be treated as *label-based* indexing, consistent with e.g. `series[i]` lookups. To retain the old behavior, use `series.iloc[i:j]`. To get the future behavior, use `series.loc[i:j]`.\n",
      "  v_end=cycle_end_df['Voltage (V)'][1:]\n"
     ]
    },
    {
     "name": "stdout",
     "output_type": "stream",
     "text": [
      "a123_b1c6.csv\n"
     ]
    },
    {
     "name": "stderr",
     "output_type": "stream",
     "text": [
      "C:\\Users\\dmmkm\\AppData\\Local\\Temp\\ipykernel_27488\\1804582149.py:112: RuntimeWarning: divide by zero encountered in divide\n",
      "  dq_dv_start=dq/dv\n",
      "C:\\Users\\dmmkm\\AppData\\Local\\Temp\\ipykernel_27488\\1804582149.py:112: RuntimeWarning: invalid value encountered in divide\n",
      "  dq_dv_start=dq/dv\n",
      "C:\\Users\\dmmkm\\AppData\\Local\\Temp\\ipykernel_27488\\1804582149.py:122: RuntimeWarning: invalid value encountered in divide\n",
      "  dq_dv_end=dq/dv\n",
      "C:\\Users\\dmmkm\\AppData\\Local\\Temp\\ipykernel_27488\\1804582149.py:123: FutureWarning: The behavior of `series[i:j]` with an integer-dtype index is deprecated. In a future version, this will be treated as *label-based* indexing, consistent with e.g. `series[i]` lookups. To retain the old behavior, use `series.iloc[i:j]`. To get the future behavior, use `series.loc[i:j]`.\n",
      "  x=cycle_end_df['Voltage (V)'][1:]\n",
      "C:\\Users\\dmmkm\\AppData\\Local\\Temp\\ipykernel_27488\\1804582149.py:145: FutureWarning: The behavior of `series[i:j]` with an integer-dtype index is deprecated. In a future version, this will be treated as *label-based* indexing, consistent with e.g. `series[i]` lookups. To retain the old behavior, use `series.iloc[i:j]`. To get the future behavior, use `series.loc[i:j]`.\n",
      "  dcap_end=cycle_end_df['Discharge_Capacity (Ah)'][1:]\n",
      "C:\\Users\\dmmkm\\AppData\\Local\\Temp\\ipykernel_27488\\1804582149.py:146: FutureWarning: The behavior of `series[i:j]` with an integer-dtype index is deprecated. In a future version, this will be treated as *label-based* indexing, consistent with e.g. `series[i]` lookups. To retain the old behavior, use `series.iloc[i:j]`. To get the future behavior, use `series.loc[i:j]`.\n",
      "  v_end=cycle_end_df['Voltage (V)'][1:]\n"
     ]
    },
    {
     "name": "stdout",
     "output_type": "stream",
     "text": [
      "a123_b1c7.csv\n"
     ]
    },
    {
     "name": "stderr",
     "output_type": "stream",
     "text": [
      "C:\\Users\\dmmkm\\AppData\\Local\\Temp\\ipykernel_27488\\1804582149.py:112: RuntimeWarning: invalid value encountered in divide\n",
      "  dq_dv_start=dq/dv\n",
      "C:\\Users\\dmmkm\\AppData\\Local\\Temp\\ipykernel_27488\\1804582149.py:122: RuntimeWarning: invalid value encountered in divide\n",
      "  dq_dv_end=dq/dv\n",
      "C:\\Users\\dmmkm\\AppData\\Local\\Temp\\ipykernel_27488\\1804582149.py:123: FutureWarning: The behavior of `series[i:j]` with an integer-dtype index is deprecated. In a future version, this will be treated as *label-based* indexing, consistent with e.g. `series[i]` lookups. To retain the old behavior, use `series.iloc[i:j]`. To get the future behavior, use `series.loc[i:j]`.\n",
      "  x=cycle_end_df['Voltage (V)'][1:]\n",
      "C:\\Users\\dmmkm\\AppData\\Local\\Temp\\ipykernel_27488\\1804582149.py:145: FutureWarning: The behavior of `series[i:j]` with an integer-dtype index is deprecated. In a future version, this will be treated as *label-based* indexing, consistent with e.g. `series[i]` lookups. To retain the old behavior, use `series.iloc[i:j]`. To get the future behavior, use `series.loc[i:j]`.\n",
      "  dcap_end=cycle_end_df['Discharge_Capacity (Ah)'][1:]\n",
      "C:\\Users\\dmmkm\\AppData\\Local\\Temp\\ipykernel_27488\\1804582149.py:146: FutureWarning: The behavior of `series[i:j]` with an integer-dtype index is deprecated. In a future version, this will be treated as *label-based* indexing, consistent with e.g. `series[i]` lookups. To retain the old behavior, use `series.iloc[i:j]`. To get the future behavior, use `series.loc[i:j]`.\n",
      "  v_end=cycle_end_df['Voltage (V)'][1:]\n"
     ]
    },
    {
     "name": "stdout",
     "output_type": "stream",
     "text": [
      "a123_b1c9.csv\n"
     ]
    },
    {
     "name": "stderr",
     "output_type": "stream",
     "text": [
      "C:\\Users\\dmmkm\\AppData\\Local\\Temp\\ipykernel_27488\\1804582149.py:112: RuntimeWarning: invalid value encountered in divide\n",
      "  dq_dv_start=dq/dv\n",
      "C:\\Users\\dmmkm\\AppData\\Local\\Temp\\ipykernel_27488\\1804582149.py:122: RuntimeWarning: invalid value encountered in divide\n",
      "  dq_dv_end=dq/dv\n",
      "C:\\Users\\dmmkm\\AppData\\Local\\Temp\\ipykernel_27488\\1804582149.py:123: FutureWarning: The behavior of `series[i:j]` with an integer-dtype index is deprecated. In a future version, this will be treated as *label-based* indexing, consistent with e.g. `series[i]` lookups. To retain the old behavior, use `series.iloc[i:j]`. To get the future behavior, use `series.loc[i:j]`.\n",
      "  x=cycle_end_df['Voltage (V)'][1:]\n",
      "C:\\Users\\dmmkm\\AppData\\Local\\Temp\\ipykernel_27488\\1804582149.py:145: FutureWarning: The behavior of `series[i:j]` with an integer-dtype index is deprecated. In a future version, this will be treated as *label-based* indexing, consistent with e.g. `series[i]` lookups. To retain the old behavior, use `series.iloc[i:j]`. To get the future behavior, use `series.loc[i:j]`.\n",
      "  dcap_end=cycle_end_df['Discharge_Capacity (Ah)'][1:]\n",
      "C:\\Users\\dmmkm\\AppData\\Local\\Temp\\ipykernel_27488\\1804582149.py:146: FutureWarning: The behavior of `series[i:j]` with an integer-dtype index is deprecated. In a future version, this will be treated as *label-based* indexing, consistent with e.g. `series[i]` lookups. To retain the old behavior, use `series.iloc[i:j]`. To get the future behavior, use `series.loc[i:j]`.\n",
      "  v_end=cycle_end_df['Voltage (V)'][1:]\n"
     ]
    },
    {
     "name": "stdout",
     "output_type": "stream",
     "text": [
      "a123_b2c0.csv\n"
     ]
    },
    {
     "name": "stderr",
     "output_type": "stream",
     "text": [
      "C:\\Users\\dmmkm\\AppData\\Local\\Temp\\ipykernel_27488\\1804582149.py:112: RuntimeWarning: invalid value encountered in divide\n",
      "  dq_dv_start=dq/dv\n",
      "C:\\Users\\dmmkm\\AppData\\Local\\Temp\\ipykernel_27488\\1804582149.py:122: RuntimeWarning: invalid value encountered in divide\n",
      "  dq_dv_end=dq/dv\n",
      "C:\\Users\\dmmkm\\AppData\\Local\\Temp\\ipykernel_27488\\1804582149.py:123: FutureWarning: The behavior of `series[i:j]` with an integer-dtype index is deprecated. In a future version, this will be treated as *label-based* indexing, consistent with e.g. `series[i]` lookups. To retain the old behavior, use `series.iloc[i:j]`. To get the future behavior, use `series.loc[i:j]`.\n",
      "  x=cycle_end_df['Voltage (V)'][1:]\n",
      "C:\\Users\\dmmkm\\AppData\\Local\\Temp\\ipykernel_27488\\1804582149.py:145: FutureWarning: The behavior of `series[i:j]` with an integer-dtype index is deprecated. In a future version, this will be treated as *label-based* indexing, consistent with e.g. `series[i]` lookups. To retain the old behavior, use `series.iloc[i:j]`. To get the future behavior, use `series.loc[i:j]`.\n",
      "  dcap_end=cycle_end_df['Discharge_Capacity (Ah)'][1:]\n",
      "C:\\Users\\dmmkm\\AppData\\Local\\Temp\\ipykernel_27488\\1804582149.py:146: FutureWarning: The behavior of `series[i:j]` with an integer-dtype index is deprecated. In a future version, this will be treated as *label-based* indexing, consistent with e.g. `series[i]` lookups. To retain the old behavior, use `series.iloc[i:j]`. To get the future behavior, use `series.loc[i:j]`.\n",
      "  v_end=cycle_end_df['Voltage (V)'][1:]\n"
     ]
    },
    {
     "name": "stdout",
     "output_type": "stream",
     "text": [
      "a123_b2c1.csv\n"
     ]
    },
    {
     "name": "stderr",
     "output_type": "stream",
     "text": [
      "C:\\Users\\dmmkm\\AppData\\Local\\Temp\\ipykernel_27488\\1804582149.py:112: RuntimeWarning: invalid value encountered in divide\n",
      "  dq_dv_start=dq/dv\n",
      "C:\\Users\\dmmkm\\AppData\\Local\\Temp\\ipykernel_27488\\1804582149.py:122: RuntimeWarning: invalid value encountered in divide\n",
      "  dq_dv_end=dq/dv\n",
      "C:\\Users\\dmmkm\\AppData\\Local\\Temp\\ipykernel_27488\\1804582149.py:123: FutureWarning: The behavior of `series[i:j]` with an integer-dtype index is deprecated. In a future version, this will be treated as *label-based* indexing, consistent with e.g. `series[i]` lookups. To retain the old behavior, use `series.iloc[i:j]`. To get the future behavior, use `series.loc[i:j]`.\n",
      "  x=cycle_end_df['Voltage (V)'][1:]\n",
      "C:\\Users\\dmmkm\\AppData\\Local\\Temp\\ipykernel_27488\\1804582149.py:145: FutureWarning: The behavior of `series[i:j]` with an integer-dtype index is deprecated. In a future version, this will be treated as *label-based* indexing, consistent with e.g. `series[i]` lookups. To retain the old behavior, use `series.iloc[i:j]`. To get the future behavior, use `series.loc[i:j]`.\n",
      "  dcap_end=cycle_end_df['Discharge_Capacity (Ah)'][1:]\n",
      "C:\\Users\\dmmkm\\AppData\\Local\\Temp\\ipykernel_27488\\1804582149.py:146: FutureWarning: The behavior of `series[i:j]` with an integer-dtype index is deprecated. In a future version, this will be treated as *label-based* indexing, consistent with e.g. `series[i]` lookups. To retain the old behavior, use `series.iloc[i:j]`. To get the future behavior, use `series.loc[i:j]`.\n",
      "  v_end=cycle_end_df['Voltage (V)'][1:]\n"
     ]
    },
    {
     "name": "stdout",
     "output_type": "stream",
     "text": [
      "a123_b2c10.csv\n"
     ]
    },
    {
     "name": "stderr",
     "output_type": "stream",
     "text": [
      "C:\\Users\\dmmkm\\AppData\\Local\\Temp\\ipykernel_27488\\1804582149.py:112: RuntimeWarning: invalid value encountered in divide\n",
      "  dq_dv_start=dq/dv\n",
      "C:\\Users\\dmmkm\\AppData\\Local\\Temp\\ipykernel_27488\\1804582149.py:122: RuntimeWarning: invalid value encountered in divide\n",
      "  dq_dv_end=dq/dv\n",
      "C:\\Users\\dmmkm\\AppData\\Local\\Temp\\ipykernel_27488\\1804582149.py:123: FutureWarning: The behavior of `series[i:j]` with an integer-dtype index is deprecated. In a future version, this will be treated as *label-based* indexing, consistent with e.g. `series[i]` lookups. To retain the old behavior, use `series.iloc[i:j]`. To get the future behavior, use `series.loc[i:j]`.\n",
      "  x=cycle_end_df['Voltage (V)'][1:]\n",
      "C:\\Users\\dmmkm\\AppData\\Local\\Temp\\ipykernel_27488\\1804582149.py:145: FutureWarning: The behavior of `series[i:j]` with an integer-dtype index is deprecated. In a future version, this will be treated as *label-based* indexing, consistent with e.g. `series[i]` lookups. To retain the old behavior, use `series.iloc[i:j]`. To get the future behavior, use `series.loc[i:j]`.\n",
      "  dcap_end=cycle_end_df['Discharge_Capacity (Ah)'][1:]\n",
      "C:\\Users\\dmmkm\\AppData\\Local\\Temp\\ipykernel_27488\\1804582149.py:146: FutureWarning: The behavior of `series[i:j]` with an integer-dtype index is deprecated. In a future version, this will be treated as *label-based* indexing, consistent with e.g. `series[i]` lookups. To retain the old behavior, use `series.iloc[i:j]`. To get the future behavior, use `series.loc[i:j]`.\n",
      "  v_end=cycle_end_df['Voltage (V)'][1:]\n"
     ]
    },
    {
     "name": "stdout",
     "output_type": "stream",
     "text": [
      "a123_b2c11.csv\n"
     ]
    },
    {
     "name": "stderr",
     "output_type": "stream",
     "text": [
      "C:\\Users\\dmmkm\\AppData\\Local\\Temp\\ipykernel_27488\\1804582149.py:112: RuntimeWarning: invalid value encountered in divide\n",
      "  dq_dv_start=dq/dv\n",
      "C:\\Users\\dmmkm\\AppData\\Local\\Temp\\ipykernel_27488\\1804582149.py:122: RuntimeWarning: invalid value encountered in divide\n",
      "  dq_dv_end=dq/dv\n",
      "C:\\Users\\dmmkm\\AppData\\Local\\Temp\\ipykernel_27488\\1804582149.py:123: FutureWarning: The behavior of `series[i:j]` with an integer-dtype index is deprecated. In a future version, this will be treated as *label-based* indexing, consistent with e.g. `series[i]` lookups. To retain the old behavior, use `series.iloc[i:j]`. To get the future behavior, use `series.loc[i:j]`.\n",
      "  x=cycle_end_df['Voltage (V)'][1:]\n",
      "C:\\Users\\dmmkm\\AppData\\Local\\Temp\\ipykernel_27488\\1804582149.py:145: FutureWarning: The behavior of `series[i:j]` with an integer-dtype index is deprecated. In a future version, this will be treated as *label-based* indexing, consistent with e.g. `series[i]` lookups. To retain the old behavior, use `series.iloc[i:j]`. To get the future behavior, use `series.loc[i:j]`.\n",
      "  dcap_end=cycle_end_df['Discharge_Capacity (Ah)'][1:]\n",
      "C:\\Users\\dmmkm\\AppData\\Local\\Temp\\ipykernel_27488\\1804582149.py:146: FutureWarning: The behavior of `series[i:j]` with an integer-dtype index is deprecated. In a future version, this will be treated as *label-based* indexing, consistent with e.g. `series[i]` lookups. To retain the old behavior, use `series.iloc[i:j]`. To get the future behavior, use `series.loc[i:j]`.\n",
      "  v_end=cycle_end_df['Voltage (V)'][1:]\n"
     ]
    },
    {
     "name": "stdout",
     "output_type": "stream",
     "text": [
      "a123_b2c12.csv\n"
     ]
    },
    {
     "name": "stderr",
     "output_type": "stream",
     "text": [
      "C:\\Users\\dmmkm\\AppData\\Local\\Temp\\ipykernel_27488\\1804582149.py:112: RuntimeWarning: invalid value encountered in divide\n",
      "  dq_dv_start=dq/dv\n",
      "C:\\Users\\dmmkm\\AppData\\Local\\Temp\\ipykernel_27488\\1804582149.py:122: RuntimeWarning: invalid value encountered in divide\n",
      "  dq_dv_end=dq/dv\n",
      "C:\\Users\\dmmkm\\AppData\\Local\\Temp\\ipykernel_27488\\1804582149.py:123: FutureWarning: The behavior of `series[i:j]` with an integer-dtype index is deprecated. In a future version, this will be treated as *label-based* indexing, consistent with e.g. `series[i]` lookups. To retain the old behavior, use `series.iloc[i:j]`. To get the future behavior, use `series.loc[i:j]`.\n",
      "  x=cycle_end_df['Voltage (V)'][1:]\n",
      "C:\\Users\\dmmkm\\AppData\\Local\\Temp\\ipykernel_27488\\1804582149.py:145: FutureWarning: The behavior of `series[i:j]` with an integer-dtype index is deprecated. In a future version, this will be treated as *label-based* indexing, consistent with e.g. `series[i]` lookups. To retain the old behavior, use `series.iloc[i:j]`. To get the future behavior, use `series.loc[i:j]`.\n",
      "  dcap_end=cycle_end_df['Discharge_Capacity (Ah)'][1:]\n",
      "C:\\Users\\dmmkm\\AppData\\Local\\Temp\\ipykernel_27488\\1804582149.py:146: FutureWarning: The behavior of `series[i:j]` with an integer-dtype index is deprecated. In a future version, this will be treated as *label-based* indexing, consistent with e.g. `series[i]` lookups. To retain the old behavior, use `series.iloc[i:j]`. To get the future behavior, use `series.loc[i:j]`.\n",
      "  v_end=cycle_end_df['Voltage (V)'][1:]\n"
     ]
    },
    {
     "name": "stdout",
     "output_type": "stream",
     "text": [
      "a123_b2c13.csv\n"
     ]
    },
    {
     "name": "stderr",
     "output_type": "stream",
     "text": [
      "C:\\Users\\dmmkm\\AppData\\Local\\Temp\\ipykernel_27488\\1804582149.py:112: RuntimeWarning: invalid value encountered in divide\n",
      "  dq_dv_start=dq/dv\n",
      "C:\\Users\\dmmkm\\AppData\\Local\\Temp\\ipykernel_27488\\1804582149.py:122: RuntimeWarning: invalid value encountered in divide\n",
      "  dq_dv_end=dq/dv\n",
      "C:\\Users\\dmmkm\\AppData\\Local\\Temp\\ipykernel_27488\\1804582149.py:123: FutureWarning: The behavior of `series[i:j]` with an integer-dtype index is deprecated. In a future version, this will be treated as *label-based* indexing, consistent with e.g. `series[i]` lookups. To retain the old behavior, use `series.iloc[i:j]`. To get the future behavior, use `series.loc[i:j]`.\n",
      "  x=cycle_end_df['Voltage (V)'][1:]\n",
      "C:\\Users\\dmmkm\\AppData\\Local\\Temp\\ipykernel_27488\\1804582149.py:145: FutureWarning: The behavior of `series[i:j]` with an integer-dtype index is deprecated. In a future version, this will be treated as *label-based* indexing, consistent with e.g. `series[i]` lookups. To retain the old behavior, use `series.iloc[i:j]`. To get the future behavior, use `series.loc[i:j]`.\n",
      "  dcap_end=cycle_end_df['Discharge_Capacity (Ah)'][1:]\n",
      "C:\\Users\\dmmkm\\AppData\\Local\\Temp\\ipykernel_27488\\1804582149.py:146: FutureWarning: The behavior of `series[i:j]` with an integer-dtype index is deprecated. In a future version, this will be treated as *label-based* indexing, consistent with e.g. `series[i]` lookups. To retain the old behavior, use `series.iloc[i:j]`. To get the future behavior, use `series.loc[i:j]`.\n",
      "  v_end=cycle_end_df['Voltage (V)'][1:]\n"
     ]
    },
    {
     "name": "stdout",
     "output_type": "stream",
     "text": [
      "a123_b2c14.csv\n"
     ]
    },
    {
     "name": "stderr",
     "output_type": "stream",
     "text": [
      "C:\\Users\\dmmkm\\AppData\\Local\\Temp\\ipykernel_27488\\1804582149.py:112: RuntimeWarning: invalid value encountered in divide\n",
      "  dq_dv_start=dq/dv\n",
      "C:\\Users\\dmmkm\\AppData\\Local\\Temp\\ipykernel_27488\\1804582149.py:122: RuntimeWarning: invalid value encountered in divide\n",
      "  dq_dv_end=dq/dv\n",
      "C:\\Users\\dmmkm\\AppData\\Local\\Temp\\ipykernel_27488\\1804582149.py:123: FutureWarning: The behavior of `series[i:j]` with an integer-dtype index is deprecated. In a future version, this will be treated as *label-based* indexing, consistent with e.g. `series[i]` lookups. To retain the old behavior, use `series.iloc[i:j]`. To get the future behavior, use `series.loc[i:j]`.\n",
      "  x=cycle_end_df['Voltage (V)'][1:]\n",
      "C:\\Users\\dmmkm\\AppData\\Local\\Temp\\ipykernel_27488\\1804582149.py:145: FutureWarning: The behavior of `series[i:j]` with an integer-dtype index is deprecated. In a future version, this will be treated as *label-based* indexing, consistent with e.g. `series[i]` lookups. To retain the old behavior, use `series.iloc[i:j]`. To get the future behavior, use `series.loc[i:j]`.\n",
      "  dcap_end=cycle_end_df['Discharge_Capacity (Ah)'][1:]\n",
      "C:\\Users\\dmmkm\\AppData\\Local\\Temp\\ipykernel_27488\\1804582149.py:146: FutureWarning: The behavior of `series[i:j]` with an integer-dtype index is deprecated. In a future version, this will be treated as *label-based* indexing, consistent with e.g. `series[i]` lookups. To retain the old behavior, use `series.iloc[i:j]`. To get the future behavior, use `series.loc[i:j]`.\n",
      "  v_end=cycle_end_df['Voltage (V)'][1:]\n"
     ]
    },
    {
     "name": "stdout",
     "output_type": "stream",
     "text": [
      "a123_b2c17.csv\n"
     ]
    },
    {
     "name": "stderr",
     "output_type": "stream",
     "text": [
      "C:\\Users\\dmmkm\\AppData\\Local\\Temp\\ipykernel_27488\\1804582149.py:112: RuntimeWarning: invalid value encountered in divide\n",
      "  dq_dv_start=dq/dv\n",
      "C:\\Users\\dmmkm\\AppData\\Local\\Temp\\ipykernel_27488\\1804582149.py:122: RuntimeWarning: divide by zero encountered in divide\n",
      "  dq_dv_end=dq/dv\n",
      "C:\\Users\\dmmkm\\AppData\\Local\\Temp\\ipykernel_27488\\1804582149.py:122: RuntimeWarning: invalid value encountered in divide\n",
      "  dq_dv_end=dq/dv\n",
      "C:\\Users\\dmmkm\\AppData\\Local\\Temp\\ipykernel_27488\\1804582149.py:123: FutureWarning: The behavior of `series[i:j]` with an integer-dtype index is deprecated. In a future version, this will be treated as *label-based* indexing, consistent with e.g. `series[i]` lookups. To retain the old behavior, use `series.iloc[i:j]`. To get the future behavior, use `series.loc[i:j]`.\n",
      "  x=cycle_end_df['Voltage (V)'][1:]\n",
      "C:\\Users\\dmmkm\\AppData\\Local\\Temp\\ipykernel_27488\\1804582149.py:145: FutureWarning: The behavior of `series[i:j]` with an integer-dtype index is deprecated. In a future version, this will be treated as *label-based* indexing, consistent with e.g. `series[i]` lookups. To retain the old behavior, use `series.iloc[i:j]`. To get the future behavior, use `series.loc[i:j]`.\n",
      "  dcap_end=cycle_end_df['Discharge_Capacity (Ah)'][1:]\n",
      "C:\\Users\\dmmkm\\AppData\\Local\\Temp\\ipykernel_27488\\1804582149.py:146: FutureWarning: The behavior of `series[i:j]` with an integer-dtype index is deprecated. In a future version, this will be treated as *label-based* indexing, consistent with e.g. `series[i]` lookups. To retain the old behavior, use `series.iloc[i:j]`. To get the future behavior, use `series.loc[i:j]`.\n",
      "  v_end=cycle_end_df['Voltage (V)'][1:]\n"
     ]
    },
    {
     "name": "stdout",
     "output_type": "stream",
     "text": [
      "a123_b2c18.csv\n"
     ]
    },
    {
     "name": "stderr",
     "output_type": "stream",
     "text": [
      "C:\\Users\\dmmkm\\AppData\\Local\\Temp\\ipykernel_27488\\1804582149.py:112: RuntimeWarning: invalid value encountered in divide\n",
      "  dq_dv_start=dq/dv\n",
      "C:\\Users\\dmmkm\\AppData\\Local\\Temp\\ipykernel_27488\\1804582149.py:122: RuntimeWarning: invalid value encountered in divide\n",
      "  dq_dv_end=dq/dv\n",
      "C:\\Users\\dmmkm\\AppData\\Local\\Temp\\ipykernel_27488\\1804582149.py:123: FutureWarning: The behavior of `series[i:j]` with an integer-dtype index is deprecated. In a future version, this will be treated as *label-based* indexing, consistent with e.g. `series[i]` lookups. To retain the old behavior, use `series.iloc[i:j]`. To get the future behavior, use `series.loc[i:j]`.\n",
      "  x=cycle_end_df['Voltage (V)'][1:]\n",
      "C:\\Users\\dmmkm\\AppData\\Local\\Temp\\ipykernel_27488\\1804582149.py:145: FutureWarning: The behavior of `series[i:j]` with an integer-dtype index is deprecated. In a future version, this will be treated as *label-based* indexing, consistent with e.g. `series[i]` lookups. To retain the old behavior, use `series.iloc[i:j]`. To get the future behavior, use `series.loc[i:j]`.\n",
      "  dcap_end=cycle_end_df['Discharge_Capacity (Ah)'][1:]\n",
      "C:\\Users\\dmmkm\\AppData\\Local\\Temp\\ipykernel_27488\\1804582149.py:146: FutureWarning: The behavior of `series[i:j]` with an integer-dtype index is deprecated. In a future version, this will be treated as *label-based* indexing, consistent with e.g. `series[i]` lookups. To retain the old behavior, use `series.iloc[i:j]`. To get the future behavior, use `series.loc[i:j]`.\n",
      "  v_end=cycle_end_df['Voltage (V)'][1:]\n"
     ]
    },
    {
     "name": "stdout",
     "output_type": "stream",
     "text": [
      "a123_b2c19.csv\n"
     ]
    },
    {
     "name": "stderr",
     "output_type": "stream",
     "text": [
      "C:\\Users\\dmmkm\\AppData\\Local\\Temp\\ipykernel_27488\\1804582149.py:112: RuntimeWarning: invalid value encountered in divide\n",
      "  dq_dv_start=dq/dv\n",
      "C:\\Users\\dmmkm\\AppData\\Local\\Temp\\ipykernel_27488\\1804582149.py:122: RuntimeWarning: invalid value encountered in divide\n",
      "  dq_dv_end=dq/dv\n",
      "C:\\Users\\dmmkm\\AppData\\Local\\Temp\\ipykernel_27488\\1804582149.py:123: FutureWarning: The behavior of `series[i:j]` with an integer-dtype index is deprecated. In a future version, this will be treated as *label-based* indexing, consistent with e.g. `series[i]` lookups. To retain the old behavior, use `series.iloc[i:j]`. To get the future behavior, use `series.loc[i:j]`.\n",
      "  x=cycle_end_df['Voltage (V)'][1:]\n",
      "C:\\Users\\dmmkm\\AppData\\Local\\Temp\\ipykernel_27488\\1804582149.py:145: FutureWarning: The behavior of `series[i:j]` with an integer-dtype index is deprecated. In a future version, this will be treated as *label-based* indexing, consistent with e.g. `series[i]` lookups. To retain the old behavior, use `series.iloc[i:j]`. To get the future behavior, use `series.loc[i:j]`.\n",
      "  dcap_end=cycle_end_df['Discharge_Capacity (Ah)'][1:]\n",
      "C:\\Users\\dmmkm\\AppData\\Local\\Temp\\ipykernel_27488\\1804582149.py:146: FutureWarning: The behavior of `series[i:j]` with an integer-dtype index is deprecated. In a future version, this will be treated as *label-based* indexing, consistent with e.g. `series[i]` lookups. To retain the old behavior, use `series.iloc[i:j]`. To get the future behavior, use `series.loc[i:j]`.\n",
      "  v_end=cycle_end_df['Voltage (V)'][1:]\n"
     ]
    },
    {
     "name": "stdout",
     "output_type": "stream",
     "text": [
      "a123_b2c2.csv\n"
     ]
    },
    {
     "name": "stderr",
     "output_type": "stream",
     "text": [
      "C:\\Users\\dmmkm\\AppData\\Local\\Temp\\ipykernel_27488\\1804582149.py:112: RuntimeWarning: invalid value encountered in divide\n",
      "  dq_dv_start=dq/dv\n",
      "C:\\Users\\dmmkm\\AppData\\Local\\Temp\\ipykernel_27488\\1804582149.py:122: RuntimeWarning: divide by zero encountered in divide\n",
      "  dq_dv_end=dq/dv\n",
      "C:\\Users\\dmmkm\\AppData\\Local\\Temp\\ipykernel_27488\\1804582149.py:122: RuntimeWarning: invalid value encountered in divide\n",
      "  dq_dv_end=dq/dv\n",
      "C:\\Users\\dmmkm\\AppData\\Local\\Temp\\ipykernel_27488\\1804582149.py:123: FutureWarning: The behavior of `series[i:j]` with an integer-dtype index is deprecated. In a future version, this will be treated as *label-based* indexing, consistent with e.g. `series[i]` lookups. To retain the old behavior, use `series.iloc[i:j]`. To get the future behavior, use `series.loc[i:j]`.\n",
      "  x=cycle_end_df['Voltage (V)'][1:]\n",
      "C:\\Users\\dmmkm\\AppData\\Local\\Temp\\ipykernel_27488\\1804582149.py:145: FutureWarning: The behavior of `series[i:j]` with an integer-dtype index is deprecated. In a future version, this will be treated as *label-based* indexing, consistent with e.g. `series[i]` lookups. To retain the old behavior, use `series.iloc[i:j]`. To get the future behavior, use `series.loc[i:j]`.\n",
      "  dcap_end=cycle_end_df['Discharge_Capacity (Ah)'][1:]\n",
      "C:\\Users\\dmmkm\\AppData\\Local\\Temp\\ipykernel_27488\\1804582149.py:146: FutureWarning: The behavior of `series[i:j]` with an integer-dtype index is deprecated. In a future version, this will be treated as *label-based* indexing, consistent with e.g. `series[i]` lookups. To retain the old behavior, use `series.iloc[i:j]`. To get the future behavior, use `series.loc[i:j]`.\n",
      "  v_end=cycle_end_df['Voltage (V)'][1:]\n"
     ]
    },
    {
     "name": "stdout",
     "output_type": "stream",
     "text": [
      "a123_b2c20.csv\n"
     ]
    },
    {
     "name": "stderr",
     "output_type": "stream",
     "text": [
      "C:\\Users\\dmmkm\\AppData\\Local\\Temp\\ipykernel_27488\\1804582149.py:112: RuntimeWarning: divide by zero encountered in divide\n",
      "  dq_dv_start=dq/dv\n",
      "C:\\Users\\dmmkm\\AppData\\Local\\Temp\\ipykernel_27488\\1804582149.py:112: RuntimeWarning: invalid value encountered in divide\n",
      "  dq_dv_start=dq/dv\n",
      "C:\\Users\\dmmkm\\AppData\\Local\\Temp\\ipykernel_27488\\1804582149.py:122: RuntimeWarning: invalid value encountered in divide\n",
      "  dq_dv_end=dq/dv\n",
      "C:\\Users\\dmmkm\\AppData\\Local\\Temp\\ipykernel_27488\\1804582149.py:123: FutureWarning: The behavior of `series[i:j]` with an integer-dtype index is deprecated. In a future version, this will be treated as *label-based* indexing, consistent with e.g. `series[i]` lookups. To retain the old behavior, use `series.iloc[i:j]`. To get the future behavior, use `series.loc[i:j]`.\n",
      "  x=cycle_end_df['Voltage (V)'][1:]\n",
      "C:\\Users\\dmmkm\\AppData\\Local\\Temp\\ipykernel_27488\\1804582149.py:145: FutureWarning: The behavior of `series[i:j]` with an integer-dtype index is deprecated. In a future version, this will be treated as *label-based* indexing, consistent with e.g. `series[i]` lookups. To retain the old behavior, use `series.iloc[i:j]`. To get the future behavior, use `series.loc[i:j]`.\n",
      "  dcap_end=cycle_end_df['Discharge_Capacity (Ah)'][1:]\n",
      "C:\\Users\\dmmkm\\AppData\\Local\\Temp\\ipykernel_27488\\1804582149.py:146: FutureWarning: The behavior of `series[i:j]` with an integer-dtype index is deprecated. In a future version, this will be treated as *label-based* indexing, consistent with e.g. `series[i]` lookups. To retain the old behavior, use `series.iloc[i:j]`. To get the future behavior, use `series.loc[i:j]`.\n",
      "  v_end=cycle_end_df['Voltage (V)'][1:]\n"
     ]
    },
    {
     "name": "stdout",
     "output_type": "stream",
     "text": [
      "a123_b2c21.csv\n"
     ]
    },
    {
     "name": "stderr",
     "output_type": "stream",
     "text": [
      "C:\\Users\\dmmkm\\AppData\\Local\\Temp\\ipykernel_27488\\1804582149.py:112: RuntimeWarning: invalid value encountered in divide\n",
      "  dq_dv_start=dq/dv\n",
      "C:\\Users\\dmmkm\\AppData\\Local\\Temp\\ipykernel_27488\\1804582149.py:122: RuntimeWarning: invalid value encountered in divide\n",
      "  dq_dv_end=dq/dv\n",
      "C:\\Users\\dmmkm\\AppData\\Local\\Temp\\ipykernel_27488\\1804582149.py:123: FutureWarning: The behavior of `series[i:j]` with an integer-dtype index is deprecated. In a future version, this will be treated as *label-based* indexing, consistent with e.g. `series[i]` lookups. To retain the old behavior, use `series.iloc[i:j]`. To get the future behavior, use `series.loc[i:j]`.\n",
      "  x=cycle_end_df['Voltage (V)'][1:]\n",
      "C:\\Users\\dmmkm\\AppData\\Local\\Temp\\ipykernel_27488\\1804582149.py:145: FutureWarning: The behavior of `series[i:j]` with an integer-dtype index is deprecated. In a future version, this will be treated as *label-based* indexing, consistent with e.g. `series[i]` lookups. To retain the old behavior, use `series.iloc[i:j]`. To get the future behavior, use `series.loc[i:j]`.\n",
      "  dcap_end=cycle_end_df['Discharge_Capacity (Ah)'][1:]\n",
      "C:\\Users\\dmmkm\\AppData\\Local\\Temp\\ipykernel_27488\\1804582149.py:146: FutureWarning: The behavior of `series[i:j]` with an integer-dtype index is deprecated. In a future version, this will be treated as *label-based* indexing, consistent with e.g. `series[i]` lookups. To retain the old behavior, use `series.iloc[i:j]`. To get the future behavior, use `series.loc[i:j]`.\n",
      "  v_end=cycle_end_df['Voltage (V)'][1:]\n"
     ]
    },
    {
     "name": "stdout",
     "output_type": "stream",
     "text": [
      "a123_b2c22.csv\n"
     ]
    },
    {
     "name": "stderr",
     "output_type": "stream",
     "text": [
      "C:\\Users\\dmmkm\\AppData\\Local\\Temp\\ipykernel_27488\\1804582149.py:112: RuntimeWarning: invalid value encountered in divide\n",
      "  dq_dv_start=dq/dv\n",
      "C:\\Users\\dmmkm\\AppData\\Local\\Temp\\ipykernel_27488\\1804582149.py:122: RuntimeWarning: divide by zero encountered in divide\n",
      "  dq_dv_end=dq/dv\n",
      "C:\\Users\\dmmkm\\AppData\\Local\\Temp\\ipykernel_27488\\1804582149.py:122: RuntimeWarning: invalid value encountered in divide\n",
      "  dq_dv_end=dq/dv\n",
      "C:\\Users\\dmmkm\\AppData\\Local\\Temp\\ipykernel_27488\\1804582149.py:123: FutureWarning: The behavior of `series[i:j]` with an integer-dtype index is deprecated. In a future version, this will be treated as *label-based* indexing, consistent with e.g. `series[i]` lookups. To retain the old behavior, use `series.iloc[i:j]`. To get the future behavior, use `series.loc[i:j]`.\n",
      "  x=cycle_end_df['Voltage (V)'][1:]\n",
      "C:\\Users\\dmmkm\\AppData\\Local\\Temp\\ipykernel_27488\\1804582149.py:145: FutureWarning: The behavior of `series[i:j]` with an integer-dtype index is deprecated. In a future version, this will be treated as *label-based* indexing, consistent with e.g. `series[i]` lookups. To retain the old behavior, use `series.iloc[i:j]`. To get the future behavior, use `series.loc[i:j]`.\n",
      "  dcap_end=cycle_end_df['Discharge_Capacity (Ah)'][1:]\n",
      "C:\\Users\\dmmkm\\AppData\\Local\\Temp\\ipykernel_27488\\1804582149.py:146: FutureWarning: The behavior of `series[i:j]` with an integer-dtype index is deprecated. In a future version, this will be treated as *label-based* indexing, consistent with e.g. `series[i]` lookups. To retain the old behavior, use `series.iloc[i:j]`. To get the future behavior, use `series.loc[i:j]`.\n",
      "  v_end=cycle_end_df['Voltage (V)'][1:]\n"
     ]
    },
    {
     "name": "stdout",
     "output_type": "stream",
     "text": [
      "a123_b2c23.csv\n"
     ]
    },
    {
     "name": "stderr",
     "output_type": "stream",
     "text": [
      "C:\\Users\\dmmkm\\AppData\\Local\\Temp\\ipykernel_27488\\1804582149.py:112: RuntimeWarning: invalid value encountered in divide\n",
      "  dq_dv_start=dq/dv\n",
      "C:\\Users\\dmmkm\\AppData\\Local\\Temp\\ipykernel_27488\\1804582149.py:122: RuntimeWarning: invalid value encountered in divide\n",
      "  dq_dv_end=dq/dv\n",
      "C:\\Users\\dmmkm\\AppData\\Local\\Temp\\ipykernel_27488\\1804582149.py:123: FutureWarning: The behavior of `series[i:j]` with an integer-dtype index is deprecated. In a future version, this will be treated as *label-based* indexing, consistent with e.g. `series[i]` lookups. To retain the old behavior, use `series.iloc[i:j]`. To get the future behavior, use `series.loc[i:j]`.\n",
      "  x=cycle_end_df['Voltage (V)'][1:]\n",
      "C:\\Users\\dmmkm\\AppData\\Local\\Temp\\ipykernel_27488\\1804582149.py:145: FutureWarning: The behavior of `series[i:j]` with an integer-dtype index is deprecated. In a future version, this will be treated as *label-based* indexing, consistent with e.g. `series[i]` lookups. To retain the old behavior, use `series.iloc[i:j]`. To get the future behavior, use `series.loc[i:j]`.\n",
      "  dcap_end=cycle_end_df['Discharge_Capacity (Ah)'][1:]\n",
      "C:\\Users\\dmmkm\\AppData\\Local\\Temp\\ipykernel_27488\\1804582149.py:146: FutureWarning: The behavior of `series[i:j]` with an integer-dtype index is deprecated. In a future version, this will be treated as *label-based* indexing, consistent with e.g. `series[i]` lookups. To retain the old behavior, use `series.iloc[i:j]`. To get the future behavior, use `series.loc[i:j]`.\n",
      "  v_end=cycle_end_df['Voltage (V)'][1:]\n"
     ]
    },
    {
     "name": "stdout",
     "output_type": "stream",
     "text": [
      "a123_b2c24.csv\n"
     ]
    },
    {
     "name": "stderr",
     "output_type": "stream",
     "text": [
      "C:\\Users\\dmmkm\\AppData\\Local\\Temp\\ipykernel_27488\\1804582149.py:112: RuntimeWarning: invalid value encountered in divide\n",
      "  dq_dv_start=dq/dv\n",
      "C:\\Users\\dmmkm\\AppData\\Local\\Temp\\ipykernel_27488\\1804582149.py:122: RuntimeWarning: invalid value encountered in divide\n",
      "  dq_dv_end=dq/dv\n",
      "C:\\Users\\dmmkm\\AppData\\Local\\Temp\\ipykernel_27488\\1804582149.py:123: FutureWarning: The behavior of `series[i:j]` with an integer-dtype index is deprecated. In a future version, this will be treated as *label-based* indexing, consistent with e.g. `series[i]` lookups. To retain the old behavior, use `series.iloc[i:j]`. To get the future behavior, use `series.loc[i:j]`.\n",
      "  x=cycle_end_df['Voltage (V)'][1:]\n",
      "C:\\Users\\dmmkm\\AppData\\Local\\Temp\\ipykernel_27488\\1804582149.py:145: FutureWarning: The behavior of `series[i:j]` with an integer-dtype index is deprecated. In a future version, this will be treated as *label-based* indexing, consistent with e.g. `series[i]` lookups. To retain the old behavior, use `series.iloc[i:j]`. To get the future behavior, use `series.loc[i:j]`.\n",
      "  dcap_end=cycle_end_df['Discharge_Capacity (Ah)'][1:]\n",
      "C:\\Users\\dmmkm\\AppData\\Local\\Temp\\ipykernel_27488\\1804582149.py:146: FutureWarning: The behavior of `series[i:j]` with an integer-dtype index is deprecated. In a future version, this will be treated as *label-based* indexing, consistent with e.g. `series[i]` lookups. To retain the old behavior, use `series.iloc[i:j]`. To get the future behavior, use `series.loc[i:j]`.\n",
      "  v_end=cycle_end_df['Voltage (V)'][1:]\n"
     ]
    },
    {
     "name": "stdout",
     "output_type": "stream",
     "text": [
      "a123_b2c25.csv\n"
     ]
    },
    {
     "name": "stderr",
     "output_type": "stream",
     "text": [
      "C:\\Users\\dmmkm\\AppData\\Local\\Temp\\ipykernel_27488\\1804582149.py:112: RuntimeWarning: invalid value encountered in divide\n",
      "  dq_dv_start=dq/dv\n",
      "C:\\Users\\dmmkm\\AppData\\Local\\Temp\\ipykernel_27488\\1804582149.py:122: RuntimeWarning: invalid value encountered in divide\n",
      "  dq_dv_end=dq/dv\n",
      "C:\\Users\\dmmkm\\AppData\\Local\\Temp\\ipykernel_27488\\1804582149.py:123: FutureWarning: The behavior of `series[i:j]` with an integer-dtype index is deprecated. In a future version, this will be treated as *label-based* indexing, consistent with e.g. `series[i]` lookups. To retain the old behavior, use `series.iloc[i:j]`. To get the future behavior, use `series.loc[i:j]`.\n",
      "  x=cycle_end_df['Voltage (V)'][1:]\n",
      "C:\\Users\\dmmkm\\AppData\\Local\\Temp\\ipykernel_27488\\1804582149.py:145: FutureWarning: The behavior of `series[i:j]` with an integer-dtype index is deprecated. In a future version, this will be treated as *label-based* indexing, consistent with e.g. `series[i]` lookups. To retain the old behavior, use `series.iloc[i:j]`. To get the future behavior, use `series.loc[i:j]`.\n",
      "  dcap_end=cycle_end_df['Discharge_Capacity (Ah)'][1:]\n",
      "C:\\Users\\dmmkm\\AppData\\Local\\Temp\\ipykernel_27488\\1804582149.py:146: FutureWarning: The behavior of `series[i:j]` with an integer-dtype index is deprecated. In a future version, this will be treated as *label-based* indexing, consistent with e.g. `series[i]` lookups. To retain the old behavior, use `series.iloc[i:j]`. To get the future behavior, use `series.loc[i:j]`.\n",
      "  v_end=cycle_end_df['Voltage (V)'][1:]\n"
     ]
    },
    {
     "name": "stdout",
     "output_type": "stream",
     "text": [
      "a123_b2c26.csv\n"
     ]
    },
    {
     "name": "stderr",
     "output_type": "stream",
     "text": [
      "C:\\Users\\dmmkm\\AppData\\Local\\Temp\\ipykernel_27488\\1804582149.py:112: RuntimeWarning: invalid value encountered in divide\n",
      "  dq_dv_start=dq/dv\n",
      "C:\\Users\\dmmkm\\AppData\\Local\\Temp\\ipykernel_27488\\1804582149.py:122: RuntimeWarning: invalid value encountered in divide\n",
      "  dq_dv_end=dq/dv\n",
      "C:\\Users\\dmmkm\\AppData\\Local\\Temp\\ipykernel_27488\\1804582149.py:123: FutureWarning: The behavior of `series[i:j]` with an integer-dtype index is deprecated. In a future version, this will be treated as *label-based* indexing, consistent with e.g. `series[i]` lookups. To retain the old behavior, use `series.iloc[i:j]`. To get the future behavior, use `series.loc[i:j]`.\n",
      "  x=cycle_end_df['Voltage (V)'][1:]\n",
      "C:\\Users\\dmmkm\\AppData\\Local\\Temp\\ipykernel_27488\\1804582149.py:145: FutureWarning: The behavior of `series[i:j]` with an integer-dtype index is deprecated. In a future version, this will be treated as *label-based* indexing, consistent with e.g. `series[i]` lookups. To retain the old behavior, use `series.iloc[i:j]`. To get the future behavior, use `series.loc[i:j]`.\n",
      "  dcap_end=cycle_end_df['Discharge_Capacity (Ah)'][1:]\n",
      "C:\\Users\\dmmkm\\AppData\\Local\\Temp\\ipykernel_27488\\1804582149.py:146: FutureWarning: The behavior of `series[i:j]` with an integer-dtype index is deprecated. In a future version, this will be treated as *label-based* indexing, consistent with e.g. `series[i]` lookups. To retain the old behavior, use `series.iloc[i:j]`. To get the future behavior, use `series.loc[i:j]`.\n",
      "  v_end=cycle_end_df['Voltage (V)'][1:]\n"
     ]
    },
    {
     "name": "stdout",
     "output_type": "stream",
     "text": [
      "a123_b2c27.csv\n"
     ]
    },
    {
     "name": "stderr",
     "output_type": "stream",
     "text": [
      "C:\\Users\\dmmkm\\AppData\\Local\\Temp\\ipykernel_27488\\1804582149.py:112: RuntimeWarning: invalid value encountered in divide\n",
      "  dq_dv_start=dq/dv\n",
      "C:\\Users\\dmmkm\\AppData\\Local\\Temp\\ipykernel_27488\\1804582149.py:122: RuntimeWarning: invalid value encountered in divide\n",
      "  dq_dv_end=dq/dv\n",
      "C:\\Users\\dmmkm\\AppData\\Local\\Temp\\ipykernel_27488\\1804582149.py:123: FutureWarning: The behavior of `series[i:j]` with an integer-dtype index is deprecated. In a future version, this will be treated as *label-based* indexing, consistent with e.g. `series[i]` lookups. To retain the old behavior, use `series.iloc[i:j]`. To get the future behavior, use `series.loc[i:j]`.\n",
      "  x=cycle_end_df['Voltage (V)'][1:]\n",
      "C:\\Users\\dmmkm\\AppData\\Local\\Temp\\ipykernel_27488\\1804582149.py:145: FutureWarning: The behavior of `series[i:j]` with an integer-dtype index is deprecated. In a future version, this will be treated as *label-based* indexing, consistent with e.g. `series[i]` lookups. To retain the old behavior, use `series.iloc[i:j]`. To get the future behavior, use `series.loc[i:j]`.\n",
      "  dcap_end=cycle_end_df['Discharge_Capacity (Ah)'][1:]\n",
      "C:\\Users\\dmmkm\\AppData\\Local\\Temp\\ipykernel_27488\\1804582149.py:146: FutureWarning: The behavior of `series[i:j]` with an integer-dtype index is deprecated. In a future version, this will be treated as *label-based* indexing, consistent with e.g. `series[i]` lookups. To retain the old behavior, use `series.iloc[i:j]`. To get the future behavior, use `series.loc[i:j]`.\n",
      "  v_end=cycle_end_df['Voltage (V)'][1:]\n"
     ]
    },
    {
     "name": "stdout",
     "output_type": "stream",
     "text": [
      "a123_b2c28.csv\n"
     ]
    },
    {
     "name": "stderr",
     "output_type": "stream",
     "text": [
      "C:\\Users\\dmmkm\\AppData\\Local\\Temp\\ipykernel_27488\\1804582149.py:112: RuntimeWarning: invalid value encountered in divide\n",
      "  dq_dv_start=dq/dv\n",
      "C:\\Users\\dmmkm\\AppData\\Local\\Temp\\ipykernel_27488\\1804582149.py:122: RuntimeWarning: invalid value encountered in divide\n",
      "  dq_dv_end=dq/dv\n",
      "C:\\Users\\dmmkm\\AppData\\Local\\Temp\\ipykernel_27488\\1804582149.py:123: FutureWarning: The behavior of `series[i:j]` with an integer-dtype index is deprecated. In a future version, this will be treated as *label-based* indexing, consistent with e.g. `series[i]` lookups. To retain the old behavior, use `series.iloc[i:j]`. To get the future behavior, use `series.loc[i:j]`.\n",
      "  x=cycle_end_df['Voltage (V)'][1:]\n",
      "C:\\Users\\dmmkm\\AppData\\Local\\Temp\\ipykernel_27488\\1804582149.py:145: FutureWarning: The behavior of `series[i:j]` with an integer-dtype index is deprecated. In a future version, this will be treated as *label-based* indexing, consistent with e.g. `series[i]` lookups. To retain the old behavior, use `series.iloc[i:j]`. To get the future behavior, use `series.loc[i:j]`.\n",
      "  dcap_end=cycle_end_df['Discharge_Capacity (Ah)'][1:]\n",
      "C:\\Users\\dmmkm\\AppData\\Local\\Temp\\ipykernel_27488\\1804582149.py:146: FutureWarning: The behavior of `series[i:j]` with an integer-dtype index is deprecated. In a future version, this will be treated as *label-based* indexing, consistent with e.g. `series[i]` lookups. To retain the old behavior, use `series.iloc[i:j]`. To get the future behavior, use `series.loc[i:j]`.\n",
      "  v_end=cycle_end_df['Voltage (V)'][1:]\n"
     ]
    },
    {
     "name": "stdout",
     "output_type": "stream",
     "text": [
      "a123_b2c29.csv\n"
     ]
    },
    {
     "name": "stderr",
     "output_type": "stream",
     "text": [
      "C:\\Users\\dmmkm\\AppData\\Local\\Temp\\ipykernel_27488\\1804582149.py:112: RuntimeWarning: invalid value encountered in divide\n",
      "  dq_dv_start=dq/dv\n",
      "C:\\Users\\dmmkm\\AppData\\Local\\Temp\\ipykernel_27488\\1804582149.py:122: RuntimeWarning: invalid value encountered in divide\n",
      "  dq_dv_end=dq/dv\n",
      "C:\\Users\\dmmkm\\AppData\\Local\\Temp\\ipykernel_27488\\1804582149.py:123: FutureWarning: The behavior of `series[i:j]` with an integer-dtype index is deprecated. In a future version, this will be treated as *label-based* indexing, consistent with e.g. `series[i]` lookups. To retain the old behavior, use `series.iloc[i:j]`. To get the future behavior, use `series.loc[i:j]`.\n",
      "  x=cycle_end_df['Voltage (V)'][1:]\n",
      "C:\\Users\\dmmkm\\AppData\\Local\\Temp\\ipykernel_27488\\1804582149.py:145: FutureWarning: The behavior of `series[i:j]` with an integer-dtype index is deprecated. In a future version, this will be treated as *label-based* indexing, consistent with e.g. `series[i]` lookups. To retain the old behavior, use `series.iloc[i:j]`. To get the future behavior, use `series.loc[i:j]`.\n",
      "  dcap_end=cycle_end_df['Discharge_Capacity (Ah)'][1:]\n",
      "C:\\Users\\dmmkm\\AppData\\Local\\Temp\\ipykernel_27488\\1804582149.py:146: FutureWarning: The behavior of `series[i:j]` with an integer-dtype index is deprecated. In a future version, this will be treated as *label-based* indexing, consistent with e.g. `series[i]` lookups. To retain the old behavior, use `series.iloc[i:j]`. To get the future behavior, use `series.loc[i:j]`.\n",
      "  v_end=cycle_end_df['Voltage (V)'][1:]\n"
     ]
    },
    {
     "name": "stdout",
     "output_type": "stream",
     "text": [
      "a123_b2c3.csv\n"
     ]
    },
    {
     "name": "stderr",
     "output_type": "stream",
     "text": [
      "C:\\Users\\dmmkm\\AppData\\Local\\Temp\\ipykernel_27488\\1804582149.py:112: RuntimeWarning: invalid value encountered in divide\n",
      "  dq_dv_start=dq/dv\n",
      "C:\\Users\\dmmkm\\AppData\\Local\\Temp\\ipykernel_27488\\1804582149.py:122: RuntimeWarning: invalid value encountered in divide\n",
      "  dq_dv_end=dq/dv\n",
      "C:\\Users\\dmmkm\\AppData\\Local\\Temp\\ipykernel_27488\\1804582149.py:123: FutureWarning: The behavior of `series[i:j]` with an integer-dtype index is deprecated. In a future version, this will be treated as *label-based* indexing, consistent with e.g. `series[i]` lookups. To retain the old behavior, use `series.iloc[i:j]`. To get the future behavior, use `series.loc[i:j]`.\n",
      "  x=cycle_end_df['Voltage (V)'][1:]\n",
      "C:\\Users\\dmmkm\\AppData\\Local\\Temp\\ipykernel_27488\\1804582149.py:145: FutureWarning: The behavior of `series[i:j]` with an integer-dtype index is deprecated. In a future version, this will be treated as *label-based* indexing, consistent with e.g. `series[i]` lookups. To retain the old behavior, use `series.iloc[i:j]`. To get the future behavior, use `series.loc[i:j]`.\n",
      "  dcap_end=cycle_end_df['Discharge_Capacity (Ah)'][1:]\n",
      "C:\\Users\\dmmkm\\AppData\\Local\\Temp\\ipykernel_27488\\1804582149.py:146: FutureWarning: The behavior of `series[i:j]` with an integer-dtype index is deprecated. In a future version, this will be treated as *label-based* indexing, consistent with e.g. `series[i]` lookups. To retain the old behavior, use `series.iloc[i:j]`. To get the future behavior, use `series.loc[i:j]`.\n",
      "  v_end=cycle_end_df['Voltage (V)'][1:]\n"
     ]
    },
    {
     "name": "stdout",
     "output_type": "stream",
     "text": [
      "a123_b2c30.csv\n"
     ]
    },
    {
     "name": "stderr",
     "output_type": "stream",
     "text": [
      "C:\\Users\\dmmkm\\AppData\\Local\\Temp\\ipykernel_27488\\1804582149.py:112: RuntimeWarning: invalid value encountered in divide\n",
      "  dq_dv_start=dq/dv\n",
      "C:\\Users\\dmmkm\\AppData\\Local\\Temp\\ipykernel_27488\\1804582149.py:122: RuntimeWarning: invalid value encountered in divide\n",
      "  dq_dv_end=dq/dv\n",
      "C:\\Users\\dmmkm\\AppData\\Local\\Temp\\ipykernel_27488\\1804582149.py:123: FutureWarning: The behavior of `series[i:j]` with an integer-dtype index is deprecated. In a future version, this will be treated as *label-based* indexing, consistent with e.g. `series[i]` lookups. To retain the old behavior, use `series.iloc[i:j]`. To get the future behavior, use `series.loc[i:j]`.\n",
      "  x=cycle_end_df['Voltage (V)'][1:]\n",
      "C:\\Users\\dmmkm\\AppData\\Local\\Temp\\ipykernel_27488\\1804582149.py:145: FutureWarning: The behavior of `series[i:j]` with an integer-dtype index is deprecated. In a future version, this will be treated as *label-based* indexing, consistent with e.g. `series[i]` lookups. To retain the old behavior, use `series.iloc[i:j]`. To get the future behavior, use `series.loc[i:j]`.\n",
      "  dcap_end=cycle_end_df['Discharge_Capacity (Ah)'][1:]\n",
      "C:\\Users\\dmmkm\\AppData\\Local\\Temp\\ipykernel_27488\\1804582149.py:146: FutureWarning: The behavior of `series[i:j]` with an integer-dtype index is deprecated. In a future version, this will be treated as *label-based* indexing, consistent with e.g. `series[i]` lookups. To retain the old behavior, use `series.iloc[i:j]`. To get the future behavior, use `series.loc[i:j]`.\n",
      "  v_end=cycle_end_df['Voltage (V)'][1:]\n"
     ]
    },
    {
     "name": "stdout",
     "output_type": "stream",
     "text": [
      "a123_b2c31.csv\n"
     ]
    },
    {
     "name": "stderr",
     "output_type": "stream",
     "text": [
      "C:\\Users\\dmmkm\\AppData\\Local\\Temp\\ipykernel_27488\\1804582149.py:112: RuntimeWarning: invalid value encountered in divide\n",
      "  dq_dv_start=dq/dv\n",
      "C:\\Users\\dmmkm\\AppData\\Local\\Temp\\ipykernel_27488\\1804582149.py:122: RuntimeWarning: invalid value encountered in divide\n",
      "  dq_dv_end=dq/dv\n",
      "C:\\Users\\dmmkm\\AppData\\Local\\Temp\\ipykernel_27488\\1804582149.py:123: FutureWarning: The behavior of `series[i:j]` with an integer-dtype index is deprecated. In a future version, this will be treated as *label-based* indexing, consistent with e.g. `series[i]` lookups. To retain the old behavior, use `series.iloc[i:j]`. To get the future behavior, use `series.loc[i:j]`.\n",
      "  x=cycle_end_df['Voltage (V)'][1:]\n",
      "C:\\Users\\dmmkm\\AppData\\Local\\Temp\\ipykernel_27488\\1804582149.py:145: FutureWarning: The behavior of `series[i:j]` with an integer-dtype index is deprecated. In a future version, this will be treated as *label-based* indexing, consistent with e.g. `series[i]` lookups. To retain the old behavior, use `series.iloc[i:j]`. To get the future behavior, use `series.loc[i:j]`.\n",
      "  dcap_end=cycle_end_df['Discharge_Capacity (Ah)'][1:]\n",
      "C:\\Users\\dmmkm\\AppData\\Local\\Temp\\ipykernel_27488\\1804582149.py:146: FutureWarning: The behavior of `series[i:j]` with an integer-dtype index is deprecated. In a future version, this will be treated as *label-based* indexing, consistent with e.g. `series[i]` lookups. To retain the old behavior, use `series.iloc[i:j]`. To get the future behavior, use `series.loc[i:j]`.\n",
      "  v_end=cycle_end_df['Voltage (V)'][1:]\n"
     ]
    },
    {
     "name": "stdout",
     "output_type": "stream",
     "text": [
      "a123_b2c32.csv\n"
     ]
    },
    {
     "name": "stderr",
     "output_type": "stream",
     "text": [
      "C:\\Users\\dmmkm\\AppData\\Local\\Temp\\ipykernel_27488\\1804582149.py:112: RuntimeWarning: invalid value encountered in divide\n",
      "  dq_dv_start=dq/dv\n",
      "C:\\Users\\dmmkm\\AppData\\Local\\Temp\\ipykernel_27488\\1804582149.py:122: RuntimeWarning: invalid value encountered in divide\n",
      "  dq_dv_end=dq/dv\n",
      "C:\\Users\\dmmkm\\AppData\\Local\\Temp\\ipykernel_27488\\1804582149.py:123: FutureWarning: The behavior of `series[i:j]` with an integer-dtype index is deprecated. In a future version, this will be treated as *label-based* indexing, consistent with e.g. `series[i]` lookups. To retain the old behavior, use `series.iloc[i:j]`. To get the future behavior, use `series.loc[i:j]`.\n",
      "  x=cycle_end_df['Voltage (V)'][1:]\n",
      "C:\\Users\\dmmkm\\AppData\\Local\\Temp\\ipykernel_27488\\1804582149.py:145: FutureWarning: The behavior of `series[i:j]` with an integer-dtype index is deprecated. In a future version, this will be treated as *label-based* indexing, consistent with e.g. `series[i]` lookups. To retain the old behavior, use `series.iloc[i:j]`. To get the future behavior, use `series.loc[i:j]`.\n",
      "  dcap_end=cycle_end_df['Discharge_Capacity (Ah)'][1:]\n",
      "C:\\Users\\dmmkm\\AppData\\Local\\Temp\\ipykernel_27488\\1804582149.py:146: FutureWarning: The behavior of `series[i:j]` with an integer-dtype index is deprecated. In a future version, this will be treated as *label-based* indexing, consistent with e.g. `series[i]` lookups. To retain the old behavior, use `series.iloc[i:j]`. To get the future behavior, use `series.loc[i:j]`.\n",
      "  v_end=cycle_end_df['Voltage (V)'][1:]\n"
     ]
    },
    {
     "name": "stdout",
     "output_type": "stream",
     "text": [
      "a123_b2c33.csv\n"
     ]
    },
    {
     "name": "stderr",
     "output_type": "stream",
     "text": [
      "C:\\Users\\dmmkm\\AppData\\Local\\Temp\\ipykernel_27488\\1804582149.py:112: RuntimeWarning: invalid value encountered in divide\n",
      "  dq_dv_start=dq/dv\n",
      "C:\\Users\\dmmkm\\AppData\\Local\\Temp\\ipykernel_27488\\1804582149.py:122: RuntimeWarning: invalid value encountered in divide\n",
      "  dq_dv_end=dq/dv\n",
      "C:\\Users\\dmmkm\\AppData\\Local\\Temp\\ipykernel_27488\\1804582149.py:123: FutureWarning: The behavior of `series[i:j]` with an integer-dtype index is deprecated. In a future version, this will be treated as *label-based* indexing, consistent with e.g. `series[i]` lookups. To retain the old behavior, use `series.iloc[i:j]`. To get the future behavior, use `series.loc[i:j]`.\n",
      "  x=cycle_end_df['Voltage (V)'][1:]\n",
      "C:\\Users\\dmmkm\\AppData\\Local\\Temp\\ipykernel_27488\\1804582149.py:145: FutureWarning: The behavior of `series[i:j]` with an integer-dtype index is deprecated. In a future version, this will be treated as *label-based* indexing, consistent with e.g. `series[i]` lookups. To retain the old behavior, use `series.iloc[i:j]`. To get the future behavior, use `series.loc[i:j]`.\n",
      "  dcap_end=cycle_end_df['Discharge_Capacity (Ah)'][1:]\n",
      "C:\\Users\\dmmkm\\AppData\\Local\\Temp\\ipykernel_27488\\1804582149.py:146: FutureWarning: The behavior of `series[i:j]` with an integer-dtype index is deprecated. In a future version, this will be treated as *label-based* indexing, consistent with e.g. `series[i]` lookups. To retain the old behavior, use `series.iloc[i:j]`. To get the future behavior, use `series.loc[i:j]`.\n",
      "  v_end=cycle_end_df['Voltage (V)'][1:]\n"
     ]
    },
    {
     "name": "stdout",
     "output_type": "stream",
     "text": [
      "a123_b2c34.csv\n"
     ]
    },
    {
     "name": "stderr",
     "output_type": "stream",
     "text": [
      "C:\\Users\\dmmkm\\AppData\\Local\\Temp\\ipykernel_27488\\1804582149.py:112: RuntimeWarning: invalid value encountered in divide\n",
      "  dq_dv_start=dq/dv\n",
      "C:\\Users\\dmmkm\\AppData\\Local\\Temp\\ipykernel_27488\\1804582149.py:122: RuntimeWarning: invalid value encountered in divide\n",
      "  dq_dv_end=dq/dv\n",
      "C:\\Users\\dmmkm\\AppData\\Local\\Temp\\ipykernel_27488\\1804582149.py:123: FutureWarning: The behavior of `series[i:j]` with an integer-dtype index is deprecated. In a future version, this will be treated as *label-based* indexing, consistent with e.g. `series[i]` lookups. To retain the old behavior, use `series.iloc[i:j]`. To get the future behavior, use `series.loc[i:j]`.\n",
      "  x=cycle_end_df['Voltage (V)'][1:]\n",
      "C:\\Users\\dmmkm\\AppData\\Local\\Temp\\ipykernel_27488\\1804582149.py:145: FutureWarning: The behavior of `series[i:j]` with an integer-dtype index is deprecated. In a future version, this will be treated as *label-based* indexing, consistent with e.g. `series[i]` lookups. To retain the old behavior, use `series.iloc[i:j]`. To get the future behavior, use `series.loc[i:j]`.\n",
      "  dcap_end=cycle_end_df['Discharge_Capacity (Ah)'][1:]\n",
      "C:\\Users\\dmmkm\\AppData\\Local\\Temp\\ipykernel_27488\\1804582149.py:146: FutureWarning: The behavior of `series[i:j]` with an integer-dtype index is deprecated. In a future version, this will be treated as *label-based* indexing, consistent with e.g. `series[i]` lookups. To retain the old behavior, use `series.iloc[i:j]`. To get the future behavior, use `series.loc[i:j]`.\n",
      "  v_end=cycle_end_df['Voltage (V)'][1:]\n"
     ]
    },
    {
     "name": "stdout",
     "output_type": "stream",
     "text": [
      "a123_b2c35.csv\n"
     ]
    },
    {
     "name": "stderr",
     "output_type": "stream",
     "text": [
      "C:\\Users\\dmmkm\\AppData\\Local\\Temp\\ipykernel_27488\\1804582149.py:112: RuntimeWarning: invalid value encountered in divide\n",
      "  dq_dv_start=dq/dv\n",
      "C:\\Users\\dmmkm\\AppData\\Local\\Temp\\ipykernel_27488\\1804582149.py:122: RuntimeWarning: invalid value encountered in divide\n",
      "  dq_dv_end=dq/dv\n",
      "C:\\Users\\dmmkm\\AppData\\Local\\Temp\\ipykernel_27488\\1804582149.py:123: FutureWarning: The behavior of `series[i:j]` with an integer-dtype index is deprecated. In a future version, this will be treated as *label-based* indexing, consistent with e.g. `series[i]` lookups. To retain the old behavior, use `series.iloc[i:j]`. To get the future behavior, use `series.loc[i:j]`.\n",
      "  x=cycle_end_df['Voltage (V)'][1:]\n",
      "C:\\Users\\dmmkm\\AppData\\Local\\Temp\\ipykernel_27488\\1804582149.py:145: FutureWarning: The behavior of `series[i:j]` with an integer-dtype index is deprecated. In a future version, this will be treated as *label-based* indexing, consistent with e.g. `series[i]` lookups. To retain the old behavior, use `series.iloc[i:j]`. To get the future behavior, use `series.loc[i:j]`.\n",
      "  dcap_end=cycle_end_df['Discharge_Capacity (Ah)'][1:]\n",
      "C:\\Users\\dmmkm\\AppData\\Local\\Temp\\ipykernel_27488\\1804582149.py:146: FutureWarning: The behavior of `series[i:j]` with an integer-dtype index is deprecated. In a future version, this will be treated as *label-based* indexing, consistent with e.g. `series[i]` lookups. To retain the old behavior, use `series.iloc[i:j]`. To get the future behavior, use `series.loc[i:j]`.\n",
      "  v_end=cycle_end_df['Voltage (V)'][1:]\n"
     ]
    },
    {
     "name": "stdout",
     "output_type": "stream",
     "text": [
      "a123_b2c36.csv\n"
     ]
    },
    {
     "name": "stderr",
     "output_type": "stream",
     "text": [
      "C:\\Users\\dmmkm\\AppData\\Local\\Temp\\ipykernel_27488\\1804582149.py:112: RuntimeWarning: invalid value encountered in divide\n",
      "  dq_dv_start=dq/dv\n",
      "C:\\Users\\dmmkm\\AppData\\Local\\Temp\\ipykernel_27488\\1804582149.py:122: RuntimeWarning: invalid value encountered in divide\n",
      "  dq_dv_end=dq/dv\n",
      "C:\\Users\\dmmkm\\AppData\\Local\\Temp\\ipykernel_27488\\1804582149.py:123: FutureWarning: The behavior of `series[i:j]` with an integer-dtype index is deprecated. In a future version, this will be treated as *label-based* indexing, consistent with e.g. `series[i]` lookups. To retain the old behavior, use `series.iloc[i:j]`. To get the future behavior, use `series.loc[i:j]`.\n",
      "  x=cycle_end_df['Voltage (V)'][1:]\n",
      "C:\\Users\\dmmkm\\AppData\\Local\\Temp\\ipykernel_27488\\1804582149.py:145: FutureWarning: The behavior of `series[i:j]` with an integer-dtype index is deprecated. In a future version, this will be treated as *label-based* indexing, consistent with e.g. `series[i]` lookups. To retain the old behavior, use `series.iloc[i:j]`. To get the future behavior, use `series.loc[i:j]`.\n",
      "  dcap_end=cycle_end_df['Discharge_Capacity (Ah)'][1:]\n",
      "C:\\Users\\dmmkm\\AppData\\Local\\Temp\\ipykernel_27488\\1804582149.py:146: FutureWarning: The behavior of `series[i:j]` with an integer-dtype index is deprecated. In a future version, this will be treated as *label-based* indexing, consistent with e.g. `series[i]` lookups. To retain the old behavior, use `series.iloc[i:j]`. To get the future behavior, use `series.loc[i:j]`.\n",
      "  v_end=cycle_end_df['Voltage (V)'][1:]\n"
     ]
    },
    {
     "name": "stdout",
     "output_type": "stream",
     "text": [
      "a123_b2c37.csv\n"
     ]
    },
    {
     "name": "stderr",
     "output_type": "stream",
     "text": [
      "C:\\Users\\dmmkm\\AppData\\Local\\Temp\\ipykernel_27488\\1804582149.py:112: RuntimeWarning: invalid value encountered in divide\n",
      "  dq_dv_start=dq/dv\n",
      "C:\\Users\\dmmkm\\AppData\\Local\\Temp\\ipykernel_27488\\1804582149.py:122: RuntimeWarning: invalid value encountered in divide\n",
      "  dq_dv_end=dq/dv\n",
      "C:\\Users\\dmmkm\\AppData\\Local\\Temp\\ipykernel_27488\\1804582149.py:123: FutureWarning: The behavior of `series[i:j]` with an integer-dtype index is deprecated. In a future version, this will be treated as *label-based* indexing, consistent with e.g. `series[i]` lookups. To retain the old behavior, use `series.iloc[i:j]`. To get the future behavior, use `series.loc[i:j]`.\n",
      "  x=cycle_end_df['Voltage (V)'][1:]\n",
      "C:\\Users\\dmmkm\\AppData\\Local\\Temp\\ipykernel_27488\\1804582149.py:145: FutureWarning: The behavior of `series[i:j]` with an integer-dtype index is deprecated. In a future version, this will be treated as *label-based* indexing, consistent with e.g. `series[i]` lookups. To retain the old behavior, use `series.iloc[i:j]`. To get the future behavior, use `series.loc[i:j]`.\n",
      "  dcap_end=cycle_end_df['Discharge_Capacity (Ah)'][1:]\n",
      "C:\\Users\\dmmkm\\AppData\\Local\\Temp\\ipykernel_27488\\1804582149.py:146: FutureWarning: The behavior of `series[i:j]` with an integer-dtype index is deprecated. In a future version, this will be treated as *label-based* indexing, consistent with e.g. `series[i]` lookups. To retain the old behavior, use `series.iloc[i:j]`. To get the future behavior, use `series.loc[i:j]`.\n",
      "  v_end=cycle_end_df['Voltage (V)'][1:]\n"
     ]
    },
    {
     "name": "stdout",
     "output_type": "stream",
     "text": [
      "a123_b2c38.csv\n"
     ]
    },
    {
     "name": "stderr",
     "output_type": "stream",
     "text": [
      "C:\\Users\\dmmkm\\AppData\\Local\\Temp\\ipykernel_27488\\1804582149.py:112: RuntimeWarning: invalid value encountered in divide\n",
      "  dq_dv_start=dq/dv\n",
      "C:\\Users\\dmmkm\\AppData\\Local\\Temp\\ipykernel_27488\\1804582149.py:122: RuntimeWarning: invalid value encountered in divide\n",
      "  dq_dv_end=dq/dv\n",
      "C:\\Users\\dmmkm\\AppData\\Local\\Temp\\ipykernel_27488\\1804582149.py:123: FutureWarning: The behavior of `series[i:j]` with an integer-dtype index is deprecated. In a future version, this will be treated as *label-based* indexing, consistent with e.g. `series[i]` lookups. To retain the old behavior, use `series.iloc[i:j]`. To get the future behavior, use `series.loc[i:j]`.\n",
      "  x=cycle_end_df['Voltage (V)'][1:]\n",
      "C:\\Users\\dmmkm\\AppData\\Local\\Temp\\ipykernel_27488\\1804582149.py:145: FutureWarning: The behavior of `series[i:j]` with an integer-dtype index is deprecated. In a future version, this will be treated as *label-based* indexing, consistent with e.g. `series[i]` lookups. To retain the old behavior, use `series.iloc[i:j]`. To get the future behavior, use `series.loc[i:j]`.\n",
      "  dcap_end=cycle_end_df['Discharge_Capacity (Ah)'][1:]\n",
      "C:\\Users\\dmmkm\\AppData\\Local\\Temp\\ipykernel_27488\\1804582149.py:146: FutureWarning: The behavior of `series[i:j]` with an integer-dtype index is deprecated. In a future version, this will be treated as *label-based* indexing, consistent with e.g. `series[i]` lookups. To retain the old behavior, use `series.iloc[i:j]`. To get the future behavior, use `series.loc[i:j]`.\n",
      "  v_end=cycle_end_df['Voltage (V)'][1:]\n"
     ]
    },
    {
     "name": "stdout",
     "output_type": "stream",
     "text": [
      "a123_b2c39.csv\n"
     ]
    },
    {
     "name": "stderr",
     "output_type": "stream",
     "text": [
      "C:\\Users\\dmmkm\\AppData\\Local\\Temp\\ipykernel_27488\\1804582149.py:112: RuntimeWarning: invalid value encountered in divide\n",
      "  dq_dv_start=dq/dv\n",
      "C:\\Users\\dmmkm\\AppData\\Local\\Temp\\ipykernel_27488\\1804582149.py:122: RuntimeWarning: invalid value encountered in divide\n",
      "  dq_dv_end=dq/dv\n",
      "C:\\Users\\dmmkm\\AppData\\Local\\Temp\\ipykernel_27488\\1804582149.py:123: FutureWarning: The behavior of `series[i:j]` with an integer-dtype index is deprecated. In a future version, this will be treated as *label-based* indexing, consistent with e.g. `series[i]` lookups. To retain the old behavior, use `series.iloc[i:j]`. To get the future behavior, use `series.loc[i:j]`.\n",
      "  x=cycle_end_df['Voltage (V)'][1:]\n",
      "C:\\Users\\dmmkm\\AppData\\Local\\Temp\\ipykernel_27488\\1804582149.py:145: FutureWarning: The behavior of `series[i:j]` with an integer-dtype index is deprecated. In a future version, this will be treated as *label-based* indexing, consistent with e.g. `series[i]` lookups. To retain the old behavior, use `series.iloc[i:j]`. To get the future behavior, use `series.loc[i:j]`.\n",
      "  dcap_end=cycle_end_df['Discharge_Capacity (Ah)'][1:]\n",
      "C:\\Users\\dmmkm\\AppData\\Local\\Temp\\ipykernel_27488\\1804582149.py:146: FutureWarning: The behavior of `series[i:j]` with an integer-dtype index is deprecated. In a future version, this will be treated as *label-based* indexing, consistent with e.g. `series[i]` lookups. To retain the old behavior, use `series.iloc[i:j]`. To get the future behavior, use `series.loc[i:j]`.\n",
      "  v_end=cycle_end_df['Voltage (V)'][1:]\n"
     ]
    },
    {
     "name": "stdout",
     "output_type": "stream",
     "text": [
      "a123_b2c4.csv\n"
     ]
    },
    {
     "name": "stderr",
     "output_type": "stream",
     "text": [
      "C:\\Users\\dmmkm\\AppData\\Local\\Temp\\ipykernel_27488\\1804582149.py:112: RuntimeWarning: invalid value encountered in divide\n",
      "  dq_dv_start=dq/dv\n",
      "C:\\Users\\dmmkm\\AppData\\Local\\Temp\\ipykernel_27488\\1804582149.py:122: RuntimeWarning: invalid value encountered in divide\n",
      "  dq_dv_end=dq/dv\n",
      "C:\\Users\\dmmkm\\AppData\\Local\\Temp\\ipykernel_27488\\1804582149.py:123: FutureWarning: The behavior of `series[i:j]` with an integer-dtype index is deprecated. In a future version, this will be treated as *label-based* indexing, consistent with e.g. `series[i]` lookups. To retain the old behavior, use `series.iloc[i:j]`. To get the future behavior, use `series.loc[i:j]`.\n",
      "  x=cycle_end_df['Voltage (V)'][1:]\n",
      "C:\\Users\\dmmkm\\AppData\\Local\\Temp\\ipykernel_27488\\1804582149.py:145: FutureWarning: The behavior of `series[i:j]` with an integer-dtype index is deprecated. In a future version, this will be treated as *label-based* indexing, consistent with e.g. `series[i]` lookups. To retain the old behavior, use `series.iloc[i:j]`. To get the future behavior, use `series.loc[i:j]`.\n",
      "  dcap_end=cycle_end_df['Discharge_Capacity (Ah)'][1:]\n",
      "C:\\Users\\dmmkm\\AppData\\Local\\Temp\\ipykernel_27488\\1804582149.py:146: FutureWarning: The behavior of `series[i:j]` with an integer-dtype index is deprecated. In a future version, this will be treated as *label-based* indexing, consistent with e.g. `series[i]` lookups. To retain the old behavior, use `series.iloc[i:j]`. To get the future behavior, use `series.loc[i:j]`.\n",
      "  v_end=cycle_end_df['Voltage (V)'][1:]\n"
     ]
    },
    {
     "name": "stdout",
     "output_type": "stream",
     "text": [
      "a123_b2c40.csv\n"
     ]
    },
    {
     "name": "stderr",
     "output_type": "stream",
     "text": [
      "C:\\Users\\dmmkm\\AppData\\Local\\Temp\\ipykernel_27488\\1804582149.py:112: RuntimeWarning: divide by zero encountered in divide\n",
      "  dq_dv_start=dq/dv\n",
      "C:\\Users\\dmmkm\\AppData\\Local\\Temp\\ipykernel_27488\\1804582149.py:112: RuntimeWarning: invalid value encountered in divide\n",
      "  dq_dv_start=dq/dv\n",
      "C:\\Users\\dmmkm\\AppData\\Local\\Temp\\ipykernel_27488\\1804582149.py:122: RuntimeWarning: invalid value encountered in divide\n",
      "  dq_dv_end=dq/dv\n",
      "C:\\Users\\dmmkm\\AppData\\Local\\Temp\\ipykernel_27488\\1804582149.py:123: FutureWarning: The behavior of `series[i:j]` with an integer-dtype index is deprecated. In a future version, this will be treated as *label-based* indexing, consistent with e.g. `series[i]` lookups. To retain the old behavior, use `series.iloc[i:j]`. To get the future behavior, use `series.loc[i:j]`.\n",
      "  x=cycle_end_df['Voltage (V)'][1:]\n",
      "C:\\Users\\dmmkm\\AppData\\Local\\Temp\\ipykernel_27488\\1804582149.py:145: FutureWarning: The behavior of `series[i:j]` with an integer-dtype index is deprecated. In a future version, this will be treated as *label-based* indexing, consistent with e.g. `series[i]` lookups. To retain the old behavior, use `series.iloc[i:j]`. To get the future behavior, use `series.loc[i:j]`.\n",
      "  dcap_end=cycle_end_df['Discharge_Capacity (Ah)'][1:]\n",
      "C:\\Users\\dmmkm\\AppData\\Local\\Temp\\ipykernel_27488\\1804582149.py:146: FutureWarning: The behavior of `series[i:j]` with an integer-dtype index is deprecated. In a future version, this will be treated as *label-based* indexing, consistent with e.g. `series[i]` lookups. To retain the old behavior, use `series.iloc[i:j]`. To get the future behavior, use `series.loc[i:j]`.\n",
      "  v_end=cycle_end_df['Voltage (V)'][1:]\n"
     ]
    },
    {
     "name": "stdout",
     "output_type": "stream",
     "text": [
      "a123_b2c41.csv\n"
     ]
    },
    {
     "name": "stderr",
     "output_type": "stream",
     "text": [
      "C:\\Users\\dmmkm\\AppData\\Local\\Temp\\ipykernel_27488\\1804582149.py:112: RuntimeWarning: invalid value encountered in divide\n",
      "  dq_dv_start=dq/dv\n",
      "C:\\Users\\dmmkm\\AppData\\Local\\Temp\\ipykernel_27488\\1804582149.py:122: RuntimeWarning: invalid value encountered in divide\n",
      "  dq_dv_end=dq/dv\n",
      "C:\\Users\\dmmkm\\AppData\\Local\\Temp\\ipykernel_27488\\1804582149.py:123: FutureWarning: The behavior of `series[i:j]` with an integer-dtype index is deprecated. In a future version, this will be treated as *label-based* indexing, consistent with e.g. `series[i]` lookups. To retain the old behavior, use `series.iloc[i:j]`. To get the future behavior, use `series.loc[i:j]`.\n",
      "  x=cycle_end_df['Voltage (V)'][1:]\n",
      "C:\\Users\\dmmkm\\AppData\\Local\\Temp\\ipykernel_27488\\1804582149.py:145: FutureWarning: The behavior of `series[i:j]` with an integer-dtype index is deprecated. In a future version, this will be treated as *label-based* indexing, consistent with e.g. `series[i]` lookups. To retain the old behavior, use `series.iloc[i:j]`. To get the future behavior, use `series.loc[i:j]`.\n",
      "  dcap_end=cycle_end_df['Discharge_Capacity (Ah)'][1:]\n",
      "C:\\Users\\dmmkm\\AppData\\Local\\Temp\\ipykernel_27488\\1804582149.py:146: FutureWarning: The behavior of `series[i:j]` with an integer-dtype index is deprecated. In a future version, this will be treated as *label-based* indexing, consistent with e.g. `series[i]` lookups. To retain the old behavior, use `series.iloc[i:j]`. To get the future behavior, use `series.loc[i:j]`.\n",
      "  v_end=cycle_end_df['Voltage (V)'][1:]\n"
     ]
    },
    {
     "name": "stdout",
     "output_type": "stream",
     "text": [
      "a123_b2c42.csv\n"
     ]
    },
    {
     "name": "stderr",
     "output_type": "stream",
     "text": [
      "C:\\Users\\dmmkm\\AppData\\Local\\Temp\\ipykernel_27488\\1804582149.py:112: RuntimeWarning: invalid value encountered in divide\n",
      "  dq_dv_start=dq/dv\n",
      "C:\\Users\\dmmkm\\AppData\\Local\\Temp\\ipykernel_27488\\1804582149.py:122: RuntimeWarning: invalid value encountered in divide\n",
      "  dq_dv_end=dq/dv\n",
      "C:\\Users\\dmmkm\\AppData\\Local\\Temp\\ipykernel_27488\\1804582149.py:123: FutureWarning: The behavior of `series[i:j]` with an integer-dtype index is deprecated. In a future version, this will be treated as *label-based* indexing, consistent with e.g. `series[i]` lookups. To retain the old behavior, use `series.iloc[i:j]`. To get the future behavior, use `series.loc[i:j]`.\n",
      "  x=cycle_end_df['Voltage (V)'][1:]\n",
      "C:\\Users\\dmmkm\\AppData\\Local\\Temp\\ipykernel_27488\\1804582149.py:145: FutureWarning: The behavior of `series[i:j]` with an integer-dtype index is deprecated. In a future version, this will be treated as *label-based* indexing, consistent with e.g. `series[i]` lookups. To retain the old behavior, use `series.iloc[i:j]`. To get the future behavior, use `series.loc[i:j]`.\n",
      "  dcap_end=cycle_end_df['Discharge_Capacity (Ah)'][1:]\n",
      "C:\\Users\\dmmkm\\AppData\\Local\\Temp\\ipykernel_27488\\1804582149.py:146: FutureWarning: The behavior of `series[i:j]` with an integer-dtype index is deprecated. In a future version, this will be treated as *label-based* indexing, consistent with e.g. `series[i]` lookups. To retain the old behavior, use `series.iloc[i:j]`. To get the future behavior, use `series.loc[i:j]`.\n",
      "  v_end=cycle_end_df['Voltage (V)'][1:]\n"
     ]
    },
    {
     "name": "stdout",
     "output_type": "stream",
     "text": [
      "a123_b2c43.csv\n"
     ]
    },
    {
     "name": "stderr",
     "output_type": "stream",
     "text": [
      "C:\\Users\\dmmkm\\AppData\\Local\\Temp\\ipykernel_27488\\1804582149.py:112: RuntimeWarning: invalid value encountered in divide\n",
      "  dq_dv_start=dq/dv\n",
      "C:\\Users\\dmmkm\\AppData\\Local\\Temp\\ipykernel_27488\\1804582149.py:122: RuntimeWarning: invalid value encountered in divide\n",
      "  dq_dv_end=dq/dv\n",
      "C:\\Users\\dmmkm\\AppData\\Local\\Temp\\ipykernel_27488\\1804582149.py:123: FutureWarning: The behavior of `series[i:j]` with an integer-dtype index is deprecated. In a future version, this will be treated as *label-based* indexing, consistent with e.g. `series[i]` lookups. To retain the old behavior, use `series.iloc[i:j]`. To get the future behavior, use `series.loc[i:j]`.\n",
      "  x=cycle_end_df['Voltage (V)'][1:]\n",
      "C:\\Users\\dmmkm\\AppData\\Local\\Temp\\ipykernel_27488\\1804582149.py:145: FutureWarning: The behavior of `series[i:j]` with an integer-dtype index is deprecated. In a future version, this will be treated as *label-based* indexing, consistent with e.g. `series[i]` lookups. To retain the old behavior, use `series.iloc[i:j]`. To get the future behavior, use `series.loc[i:j]`.\n",
      "  dcap_end=cycle_end_df['Discharge_Capacity (Ah)'][1:]\n",
      "C:\\Users\\dmmkm\\AppData\\Local\\Temp\\ipykernel_27488\\1804582149.py:146: FutureWarning: The behavior of `series[i:j]` with an integer-dtype index is deprecated. In a future version, this will be treated as *label-based* indexing, consistent with e.g. `series[i]` lookups. To retain the old behavior, use `series.iloc[i:j]`. To get the future behavior, use `series.loc[i:j]`.\n",
      "  v_end=cycle_end_df['Voltage (V)'][1:]\n"
     ]
    },
    {
     "name": "stdout",
     "output_type": "stream",
     "text": [
      "a123_b2c44.csv\n"
     ]
    },
    {
     "name": "stderr",
     "output_type": "stream",
     "text": [
      "C:\\Users\\dmmkm\\AppData\\Local\\Temp\\ipykernel_27488\\1804582149.py:112: RuntimeWarning: invalid value encountered in divide\n",
      "  dq_dv_start=dq/dv\n",
      "C:\\Users\\dmmkm\\AppData\\Local\\Temp\\ipykernel_27488\\1804582149.py:122: RuntimeWarning: invalid value encountered in divide\n",
      "  dq_dv_end=dq/dv\n",
      "C:\\Users\\dmmkm\\AppData\\Local\\Temp\\ipykernel_27488\\1804582149.py:123: FutureWarning: The behavior of `series[i:j]` with an integer-dtype index is deprecated. In a future version, this will be treated as *label-based* indexing, consistent with e.g. `series[i]` lookups. To retain the old behavior, use `series.iloc[i:j]`. To get the future behavior, use `series.loc[i:j]`.\n",
      "  x=cycle_end_df['Voltage (V)'][1:]\n",
      "C:\\Users\\dmmkm\\AppData\\Local\\Temp\\ipykernel_27488\\1804582149.py:145: FutureWarning: The behavior of `series[i:j]` with an integer-dtype index is deprecated. In a future version, this will be treated as *label-based* indexing, consistent with e.g. `series[i]` lookups. To retain the old behavior, use `series.iloc[i:j]`. To get the future behavior, use `series.loc[i:j]`.\n",
      "  dcap_end=cycle_end_df['Discharge_Capacity (Ah)'][1:]\n",
      "C:\\Users\\dmmkm\\AppData\\Local\\Temp\\ipykernel_27488\\1804582149.py:146: FutureWarning: The behavior of `series[i:j]` with an integer-dtype index is deprecated. In a future version, this will be treated as *label-based* indexing, consistent with e.g. `series[i]` lookups. To retain the old behavior, use `series.iloc[i:j]`. To get the future behavior, use `series.loc[i:j]`.\n",
      "  v_end=cycle_end_df['Voltage (V)'][1:]\n"
     ]
    },
    {
     "name": "stdout",
     "output_type": "stream",
     "text": [
      "a123_b2c45.csv\n"
     ]
    },
    {
     "name": "stderr",
     "output_type": "stream",
     "text": [
      "C:\\Users\\dmmkm\\AppData\\Local\\Temp\\ipykernel_27488\\1804582149.py:112: RuntimeWarning: invalid value encountered in divide\n",
      "  dq_dv_start=dq/dv\n",
      "C:\\Users\\dmmkm\\AppData\\Local\\Temp\\ipykernel_27488\\1804582149.py:122: RuntimeWarning: invalid value encountered in divide\n",
      "  dq_dv_end=dq/dv\n",
      "C:\\Users\\dmmkm\\AppData\\Local\\Temp\\ipykernel_27488\\1804582149.py:123: FutureWarning: The behavior of `series[i:j]` with an integer-dtype index is deprecated. In a future version, this will be treated as *label-based* indexing, consistent with e.g. `series[i]` lookups. To retain the old behavior, use `series.iloc[i:j]`. To get the future behavior, use `series.loc[i:j]`.\n",
      "  x=cycle_end_df['Voltage (V)'][1:]\n",
      "C:\\Users\\dmmkm\\AppData\\Local\\Temp\\ipykernel_27488\\1804582149.py:145: FutureWarning: The behavior of `series[i:j]` with an integer-dtype index is deprecated. In a future version, this will be treated as *label-based* indexing, consistent with e.g. `series[i]` lookups. To retain the old behavior, use `series.iloc[i:j]`. To get the future behavior, use `series.loc[i:j]`.\n",
      "  dcap_end=cycle_end_df['Discharge_Capacity (Ah)'][1:]\n",
      "C:\\Users\\dmmkm\\AppData\\Local\\Temp\\ipykernel_27488\\1804582149.py:146: FutureWarning: The behavior of `series[i:j]` with an integer-dtype index is deprecated. In a future version, this will be treated as *label-based* indexing, consistent with e.g. `series[i]` lookups. To retain the old behavior, use `series.iloc[i:j]`. To get the future behavior, use `series.loc[i:j]`.\n",
      "  v_end=cycle_end_df['Voltage (V)'][1:]\n"
     ]
    },
    {
     "name": "stdout",
     "output_type": "stream",
     "text": [
      "a123_b2c46.csv\n"
     ]
    },
    {
     "name": "stderr",
     "output_type": "stream",
     "text": [
      "C:\\Users\\dmmkm\\AppData\\Local\\Temp\\ipykernel_27488\\1804582149.py:112: RuntimeWarning: invalid value encountered in divide\n",
      "  dq_dv_start=dq/dv\n",
      "C:\\Users\\dmmkm\\AppData\\Local\\Temp\\ipykernel_27488\\1804582149.py:122: RuntimeWarning: invalid value encountered in divide\n",
      "  dq_dv_end=dq/dv\n",
      "C:\\Users\\dmmkm\\AppData\\Local\\Temp\\ipykernel_27488\\1804582149.py:123: FutureWarning: The behavior of `series[i:j]` with an integer-dtype index is deprecated. In a future version, this will be treated as *label-based* indexing, consistent with e.g. `series[i]` lookups. To retain the old behavior, use `series.iloc[i:j]`. To get the future behavior, use `series.loc[i:j]`.\n",
      "  x=cycle_end_df['Voltage (V)'][1:]\n",
      "C:\\Users\\dmmkm\\AppData\\Local\\Temp\\ipykernel_27488\\1804582149.py:145: FutureWarning: The behavior of `series[i:j]` with an integer-dtype index is deprecated. In a future version, this will be treated as *label-based* indexing, consistent with e.g. `series[i]` lookups. To retain the old behavior, use `series.iloc[i:j]`. To get the future behavior, use `series.loc[i:j]`.\n",
      "  dcap_end=cycle_end_df['Discharge_Capacity (Ah)'][1:]\n",
      "C:\\Users\\dmmkm\\AppData\\Local\\Temp\\ipykernel_27488\\1804582149.py:146: FutureWarning: The behavior of `series[i:j]` with an integer-dtype index is deprecated. In a future version, this will be treated as *label-based* indexing, consistent with e.g. `series[i]` lookups. To retain the old behavior, use `series.iloc[i:j]`. To get the future behavior, use `series.loc[i:j]`.\n",
      "  v_end=cycle_end_df['Voltage (V)'][1:]\n"
     ]
    },
    {
     "name": "stdout",
     "output_type": "stream",
     "text": [
      "a123_b2c47.csv\n"
     ]
    },
    {
     "name": "stderr",
     "output_type": "stream",
     "text": [
      "C:\\Users\\dmmkm\\AppData\\Local\\Temp\\ipykernel_27488\\1804582149.py:112: RuntimeWarning: invalid value encountered in divide\n",
      "  dq_dv_start=dq/dv\n",
      "C:\\Users\\dmmkm\\AppData\\Local\\Temp\\ipykernel_27488\\1804582149.py:122: RuntimeWarning: invalid value encountered in divide\n",
      "  dq_dv_end=dq/dv\n",
      "C:\\Users\\dmmkm\\AppData\\Local\\Temp\\ipykernel_27488\\1804582149.py:123: FutureWarning: The behavior of `series[i:j]` with an integer-dtype index is deprecated. In a future version, this will be treated as *label-based* indexing, consistent with e.g. `series[i]` lookups. To retain the old behavior, use `series.iloc[i:j]`. To get the future behavior, use `series.loc[i:j]`.\n",
      "  x=cycle_end_df['Voltage (V)'][1:]\n",
      "C:\\Users\\dmmkm\\AppData\\Local\\Temp\\ipykernel_27488\\1804582149.py:145: FutureWarning: The behavior of `series[i:j]` with an integer-dtype index is deprecated. In a future version, this will be treated as *label-based* indexing, consistent with e.g. `series[i]` lookups. To retain the old behavior, use `series.iloc[i:j]`. To get the future behavior, use `series.loc[i:j]`.\n",
      "  dcap_end=cycle_end_df['Discharge_Capacity (Ah)'][1:]\n",
      "C:\\Users\\dmmkm\\AppData\\Local\\Temp\\ipykernel_27488\\1804582149.py:146: FutureWarning: The behavior of `series[i:j]` with an integer-dtype index is deprecated. In a future version, this will be treated as *label-based* indexing, consistent with e.g. `series[i]` lookups. To retain the old behavior, use `series.iloc[i:j]`. To get the future behavior, use `series.loc[i:j]`.\n",
      "  v_end=cycle_end_df['Voltage (V)'][1:]\n"
     ]
    },
    {
     "name": "stdout",
     "output_type": "stream",
     "text": [
      "a123_b2c5.csv\n"
     ]
    },
    {
     "name": "stderr",
     "output_type": "stream",
     "text": [
      "C:\\Users\\dmmkm\\AppData\\Local\\Temp\\ipykernel_27488\\1804582149.py:112: RuntimeWarning: divide by zero encountered in divide\n",
      "  dq_dv_start=dq/dv\n",
      "C:\\Users\\dmmkm\\AppData\\Local\\Temp\\ipykernel_27488\\1804582149.py:112: RuntimeWarning: invalid value encountered in divide\n",
      "  dq_dv_start=dq/dv\n",
      "C:\\Users\\dmmkm\\AppData\\Local\\Temp\\ipykernel_27488\\1804582149.py:122: RuntimeWarning: invalid value encountered in divide\n",
      "  dq_dv_end=dq/dv\n",
      "C:\\Users\\dmmkm\\AppData\\Local\\Temp\\ipykernel_27488\\1804582149.py:123: FutureWarning: The behavior of `series[i:j]` with an integer-dtype index is deprecated. In a future version, this will be treated as *label-based* indexing, consistent with e.g. `series[i]` lookups. To retain the old behavior, use `series.iloc[i:j]`. To get the future behavior, use `series.loc[i:j]`.\n",
      "  x=cycle_end_df['Voltage (V)'][1:]\n",
      "C:\\Users\\dmmkm\\AppData\\Local\\Temp\\ipykernel_27488\\1804582149.py:145: FutureWarning: The behavior of `series[i:j]` with an integer-dtype index is deprecated. In a future version, this will be treated as *label-based* indexing, consistent with e.g. `series[i]` lookups. To retain the old behavior, use `series.iloc[i:j]`. To get the future behavior, use `series.loc[i:j]`.\n",
      "  dcap_end=cycle_end_df['Discharge_Capacity (Ah)'][1:]\n",
      "C:\\Users\\dmmkm\\AppData\\Local\\Temp\\ipykernel_27488\\1804582149.py:146: FutureWarning: The behavior of `series[i:j]` with an integer-dtype index is deprecated. In a future version, this will be treated as *label-based* indexing, consistent with e.g. `series[i]` lookups. To retain the old behavior, use `series.iloc[i:j]`. To get the future behavior, use `series.loc[i:j]`.\n",
      "  v_end=cycle_end_df['Voltage (V)'][1:]\n"
     ]
    },
    {
     "name": "stdout",
     "output_type": "stream",
     "text": [
      "a123_b2c6.csv\n"
     ]
    },
    {
     "name": "stderr",
     "output_type": "stream",
     "text": [
      "C:\\Users\\dmmkm\\AppData\\Local\\Temp\\ipykernel_27488\\1804582149.py:112: RuntimeWarning: invalid value encountered in divide\n",
      "  dq_dv_start=dq/dv\n",
      "C:\\Users\\dmmkm\\AppData\\Local\\Temp\\ipykernel_27488\\1804582149.py:122: RuntimeWarning: invalid value encountered in divide\n",
      "  dq_dv_end=dq/dv\n",
      "C:\\Users\\dmmkm\\AppData\\Local\\Temp\\ipykernel_27488\\1804582149.py:123: FutureWarning: The behavior of `series[i:j]` with an integer-dtype index is deprecated. In a future version, this will be treated as *label-based* indexing, consistent with e.g. `series[i]` lookups. To retain the old behavior, use `series.iloc[i:j]`. To get the future behavior, use `series.loc[i:j]`.\n",
      "  x=cycle_end_df['Voltage (V)'][1:]\n",
      "C:\\Users\\dmmkm\\AppData\\Local\\Temp\\ipykernel_27488\\1804582149.py:145: FutureWarning: The behavior of `series[i:j]` with an integer-dtype index is deprecated. In a future version, this will be treated as *label-based* indexing, consistent with e.g. `series[i]` lookups. To retain the old behavior, use `series.iloc[i:j]`. To get the future behavior, use `series.loc[i:j]`.\n",
      "  dcap_end=cycle_end_df['Discharge_Capacity (Ah)'][1:]\n",
      "C:\\Users\\dmmkm\\AppData\\Local\\Temp\\ipykernel_27488\\1804582149.py:146: FutureWarning: The behavior of `series[i:j]` with an integer-dtype index is deprecated. In a future version, this will be treated as *label-based* indexing, consistent with e.g. `series[i]` lookups. To retain the old behavior, use `series.iloc[i:j]`. To get the future behavior, use `series.loc[i:j]`.\n",
      "  v_end=cycle_end_df['Voltage (V)'][1:]\n"
     ]
    },
    {
     "name": "stdout",
     "output_type": "stream",
     "text": [
      "a123_b3c0.csv\n"
     ]
    },
    {
     "name": "stderr",
     "output_type": "stream",
     "text": [
      "C:\\Users\\dmmkm\\AppData\\Local\\Temp\\ipykernel_27488\\1804582149.py:122: RuntimeWarning: divide by zero encountered in divide\n",
      "  dq_dv_end=dq/dv\n",
      "C:\\Users\\dmmkm\\AppData\\Local\\Temp\\ipykernel_27488\\1804582149.py:123: FutureWarning: The behavior of `series[i:j]` with an integer-dtype index is deprecated. In a future version, this will be treated as *label-based* indexing, consistent with e.g. `series[i]` lookups. To retain the old behavior, use `series.iloc[i:j]`. To get the future behavior, use `series.loc[i:j]`.\n",
      "  x=cycle_end_df['Voltage (V)'][1:]\n",
      "C:\\Users\\dmmkm\\AppData\\Local\\Temp\\ipykernel_27488\\1804582149.py:145: FutureWarning: The behavior of `series[i:j]` with an integer-dtype index is deprecated. In a future version, this will be treated as *label-based* indexing, consistent with e.g. `series[i]` lookups. To retain the old behavior, use `series.iloc[i:j]`. To get the future behavior, use `series.loc[i:j]`.\n",
      "  dcap_end=cycle_end_df['Discharge_Capacity (Ah)'][1:]\n",
      "C:\\Users\\dmmkm\\AppData\\Local\\Temp\\ipykernel_27488\\1804582149.py:146: FutureWarning: The behavior of `series[i:j]` with an integer-dtype index is deprecated. In a future version, this will be treated as *label-based* indexing, consistent with e.g. `series[i]` lookups. To retain the old behavior, use `series.iloc[i:j]`. To get the future behavior, use `series.loc[i:j]`.\n",
      "  v_end=cycle_end_df['Voltage (V)'][1:]\n"
     ]
    },
    {
     "name": "stdout",
     "output_type": "stream",
     "text": [
      "a123_b3c1.csv\n"
     ]
    },
    {
     "name": "stderr",
     "output_type": "stream",
     "text": [
      "C:\\Users\\dmmkm\\AppData\\Local\\Temp\\ipykernel_27488\\1804582149.py:112: RuntimeWarning: invalid value encountered in divide\n",
      "  dq_dv_start=dq/dv\n",
      "C:\\Users\\dmmkm\\AppData\\Local\\Temp\\ipykernel_27488\\1804582149.py:122: RuntimeWarning: divide by zero encountered in divide\n",
      "  dq_dv_end=dq/dv\n",
      "C:\\Users\\dmmkm\\AppData\\Local\\Temp\\ipykernel_27488\\1804582149.py:122: RuntimeWarning: invalid value encountered in divide\n",
      "  dq_dv_end=dq/dv\n",
      "C:\\Users\\dmmkm\\AppData\\Local\\Temp\\ipykernel_27488\\1804582149.py:123: FutureWarning: The behavior of `series[i:j]` with an integer-dtype index is deprecated. In a future version, this will be treated as *label-based* indexing, consistent with e.g. `series[i]` lookups. To retain the old behavior, use `series.iloc[i:j]`. To get the future behavior, use `series.loc[i:j]`.\n",
      "  x=cycle_end_df['Voltage (V)'][1:]\n",
      "C:\\Users\\dmmkm\\AppData\\Local\\Temp\\ipykernel_27488\\1804582149.py:145: FutureWarning: The behavior of `series[i:j]` with an integer-dtype index is deprecated. In a future version, this will be treated as *label-based* indexing, consistent with e.g. `series[i]` lookups. To retain the old behavior, use `series.iloc[i:j]`. To get the future behavior, use `series.loc[i:j]`.\n",
      "  dcap_end=cycle_end_df['Discharge_Capacity (Ah)'][1:]\n",
      "C:\\Users\\dmmkm\\AppData\\Local\\Temp\\ipykernel_27488\\1804582149.py:146: FutureWarning: The behavior of `series[i:j]` with an integer-dtype index is deprecated. In a future version, this will be treated as *label-based* indexing, consistent with e.g. `series[i]` lookups. To retain the old behavior, use `series.iloc[i:j]`. To get the future behavior, use `series.loc[i:j]`.\n",
      "  v_end=cycle_end_df['Voltage (V)'][1:]\n"
     ]
    },
    {
     "name": "stdout",
     "output_type": "stream",
     "text": [
      "a123_b3c10.csv\n"
     ]
    },
    {
     "name": "stderr",
     "output_type": "stream",
     "text": [
      "C:\\Users\\dmmkm\\AppData\\Local\\Temp\\ipykernel_27488\\1804582149.py:112: RuntimeWarning: divide by zero encountered in divide\n",
      "  dq_dv_start=dq/dv\n",
      "C:\\Users\\dmmkm\\AppData\\Local\\Temp\\ipykernel_27488\\1804582149.py:112: RuntimeWarning: invalid value encountered in divide\n",
      "  dq_dv_start=dq/dv\n",
      "C:\\Users\\dmmkm\\AppData\\Local\\Temp\\ipykernel_27488\\1804582149.py:123: FutureWarning: The behavior of `series[i:j]` with an integer-dtype index is deprecated. In a future version, this will be treated as *label-based* indexing, consistent with e.g. `series[i]` lookups. To retain the old behavior, use `series.iloc[i:j]`. To get the future behavior, use `series.loc[i:j]`.\n",
      "  x=cycle_end_df['Voltage (V)'][1:]\n",
      "C:\\Users\\dmmkm\\AppData\\Local\\Temp\\ipykernel_27488\\1804582149.py:145: FutureWarning: The behavior of `series[i:j]` with an integer-dtype index is deprecated. In a future version, this will be treated as *label-based* indexing, consistent with e.g. `series[i]` lookups. To retain the old behavior, use `series.iloc[i:j]`. To get the future behavior, use `series.loc[i:j]`.\n",
      "  dcap_end=cycle_end_df['Discharge_Capacity (Ah)'][1:]\n",
      "C:\\Users\\dmmkm\\AppData\\Local\\Temp\\ipykernel_27488\\1804582149.py:146: FutureWarning: The behavior of `series[i:j]` with an integer-dtype index is deprecated. In a future version, this will be treated as *label-based* indexing, consistent with e.g. `series[i]` lookups. To retain the old behavior, use `series.iloc[i:j]`. To get the future behavior, use `series.loc[i:j]`.\n",
      "  v_end=cycle_end_df['Voltage (V)'][1:]\n"
     ]
    },
    {
     "name": "stdout",
     "output_type": "stream",
     "text": [
      "a123_b3c11.csv\n"
     ]
    },
    {
     "name": "stderr",
     "output_type": "stream",
     "text": [
      "C:\\Users\\dmmkm\\AppData\\Local\\Temp\\ipykernel_27488\\1804582149.py:112: RuntimeWarning: invalid value encountered in divide\n",
      "  dq_dv_start=dq/dv\n",
      "C:\\Users\\dmmkm\\AppData\\Local\\Temp\\ipykernel_27488\\1804582149.py:122: RuntimeWarning: divide by zero encountered in divide\n",
      "  dq_dv_end=dq/dv\n",
      "C:\\Users\\dmmkm\\AppData\\Local\\Temp\\ipykernel_27488\\1804582149.py:122: RuntimeWarning: invalid value encountered in divide\n",
      "  dq_dv_end=dq/dv\n",
      "C:\\Users\\dmmkm\\AppData\\Local\\Temp\\ipykernel_27488\\1804582149.py:123: FutureWarning: The behavior of `series[i:j]` with an integer-dtype index is deprecated. In a future version, this will be treated as *label-based* indexing, consistent with e.g. `series[i]` lookups. To retain the old behavior, use `series.iloc[i:j]`. To get the future behavior, use `series.loc[i:j]`.\n",
      "  x=cycle_end_df['Voltage (V)'][1:]\n",
      "C:\\Users\\dmmkm\\AppData\\Local\\Temp\\ipykernel_27488\\1804582149.py:145: FutureWarning: The behavior of `series[i:j]` with an integer-dtype index is deprecated. In a future version, this will be treated as *label-based* indexing, consistent with e.g. `series[i]` lookups. To retain the old behavior, use `series.iloc[i:j]`. To get the future behavior, use `series.loc[i:j]`.\n",
      "  dcap_end=cycle_end_df['Discharge_Capacity (Ah)'][1:]\n",
      "C:\\Users\\dmmkm\\AppData\\Local\\Temp\\ipykernel_27488\\1804582149.py:146: FutureWarning: The behavior of `series[i:j]` with an integer-dtype index is deprecated. In a future version, this will be treated as *label-based* indexing, consistent with e.g. `series[i]` lookups. To retain the old behavior, use `series.iloc[i:j]`. To get the future behavior, use `series.loc[i:j]`.\n",
      "  v_end=cycle_end_df['Voltage (V)'][1:]\n"
     ]
    },
    {
     "name": "stdout",
     "output_type": "stream",
     "text": [
      "a123_b3c12.csv\n"
     ]
    },
    {
     "name": "stderr",
     "output_type": "stream",
     "text": [
      "C:\\Users\\dmmkm\\AppData\\Local\\Temp\\ipykernel_27488\\1804582149.py:112: RuntimeWarning: divide by zero encountered in divide\n",
      "  dq_dv_start=dq/dv\n",
      "C:\\Users\\dmmkm\\AppData\\Local\\Temp\\ipykernel_27488\\1804582149.py:112: RuntimeWarning: invalid value encountered in divide\n",
      "  dq_dv_start=dq/dv\n",
      "C:\\Users\\dmmkm\\AppData\\Local\\Temp\\ipykernel_27488\\1804582149.py:122: RuntimeWarning: invalid value encountered in divide\n",
      "  dq_dv_end=dq/dv\n",
      "C:\\Users\\dmmkm\\AppData\\Local\\Temp\\ipykernel_27488\\1804582149.py:123: FutureWarning: The behavior of `series[i:j]` with an integer-dtype index is deprecated. In a future version, this will be treated as *label-based* indexing, consistent with e.g. `series[i]` lookups. To retain the old behavior, use `series.iloc[i:j]`. To get the future behavior, use `series.loc[i:j]`.\n",
      "  x=cycle_end_df['Voltage (V)'][1:]\n",
      "C:\\Users\\dmmkm\\AppData\\Local\\Temp\\ipykernel_27488\\1804582149.py:145: FutureWarning: The behavior of `series[i:j]` with an integer-dtype index is deprecated. In a future version, this will be treated as *label-based* indexing, consistent with e.g. `series[i]` lookups. To retain the old behavior, use `series.iloc[i:j]`. To get the future behavior, use `series.loc[i:j]`.\n",
      "  dcap_end=cycle_end_df['Discharge_Capacity (Ah)'][1:]\n",
      "C:\\Users\\dmmkm\\AppData\\Local\\Temp\\ipykernel_27488\\1804582149.py:146: FutureWarning: The behavior of `series[i:j]` with an integer-dtype index is deprecated. In a future version, this will be treated as *label-based* indexing, consistent with e.g. `series[i]` lookups. To retain the old behavior, use `series.iloc[i:j]`. To get the future behavior, use `series.loc[i:j]`.\n",
      "  v_end=cycle_end_df['Voltage (V)'][1:]\n"
     ]
    },
    {
     "name": "stdout",
     "output_type": "stream",
     "text": [
      "a123_b3c13.csv\n"
     ]
    },
    {
     "name": "stderr",
     "output_type": "stream",
     "text": [
      "C:\\Users\\dmmkm\\AppData\\Local\\Temp\\ipykernel_27488\\1804582149.py:112: RuntimeWarning: invalid value encountered in divide\n",
      "  dq_dv_start=dq/dv\n",
      "C:\\Users\\dmmkm\\AppData\\Local\\Temp\\ipykernel_27488\\1804582149.py:122: RuntimeWarning: divide by zero encountered in divide\n",
      "  dq_dv_end=dq/dv\n",
      "C:\\Users\\dmmkm\\AppData\\Local\\Temp\\ipykernel_27488\\1804582149.py:122: RuntimeWarning: invalid value encountered in divide\n",
      "  dq_dv_end=dq/dv\n",
      "C:\\Users\\dmmkm\\AppData\\Local\\Temp\\ipykernel_27488\\1804582149.py:123: FutureWarning: The behavior of `series[i:j]` with an integer-dtype index is deprecated. In a future version, this will be treated as *label-based* indexing, consistent with e.g. `series[i]` lookups. To retain the old behavior, use `series.iloc[i:j]`. To get the future behavior, use `series.loc[i:j]`.\n",
      "  x=cycle_end_df['Voltage (V)'][1:]\n",
      "C:\\Users\\dmmkm\\AppData\\Local\\Temp\\ipykernel_27488\\1804582149.py:145: FutureWarning: The behavior of `series[i:j]` with an integer-dtype index is deprecated. In a future version, this will be treated as *label-based* indexing, consistent with e.g. `series[i]` lookups. To retain the old behavior, use `series.iloc[i:j]`. To get the future behavior, use `series.loc[i:j]`.\n",
      "  dcap_end=cycle_end_df['Discharge_Capacity (Ah)'][1:]\n",
      "C:\\Users\\dmmkm\\AppData\\Local\\Temp\\ipykernel_27488\\1804582149.py:146: FutureWarning: The behavior of `series[i:j]` with an integer-dtype index is deprecated. In a future version, this will be treated as *label-based* indexing, consistent with e.g. `series[i]` lookups. To retain the old behavior, use `series.iloc[i:j]`. To get the future behavior, use `series.loc[i:j]`.\n",
      "  v_end=cycle_end_df['Voltage (V)'][1:]\n"
     ]
    },
    {
     "name": "stdout",
     "output_type": "stream",
     "text": [
      "a123_b3c14.csv\n"
     ]
    },
    {
     "name": "stderr",
     "output_type": "stream",
     "text": [
      "C:\\Users\\dmmkm\\AppData\\Local\\Temp\\ipykernel_27488\\1804582149.py:112: RuntimeWarning: invalid value encountered in divide\n",
      "  dq_dv_start=dq/dv\n",
      "C:\\Users\\dmmkm\\AppData\\Local\\Temp\\ipykernel_27488\\1804582149.py:122: RuntimeWarning: invalid value encountered in divide\n",
      "  dq_dv_end=dq/dv\n",
      "C:\\Users\\dmmkm\\AppData\\Local\\Temp\\ipykernel_27488\\1804582149.py:123: FutureWarning: The behavior of `series[i:j]` with an integer-dtype index is deprecated. In a future version, this will be treated as *label-based* indexing, consistent with e.g. `series[i]` lookups. To retain the old behavior, use `series.iloc[i:j]`. To get the future behavior, use `series.loc[i:j]`.\n",
      "  x=cycle_end_df['Voltage (V)'][1:]\n",
      "C:\\Users\\dmmkm\\AppData\\Local\\Temp\\ipykernel_27488\\1804582149.py:145: FutureWarning: The behavior of `series[i:j]` with an integer-dtype index is deprecated. In a future version, this will be treated as *label-based* indexing, consistent with e.g. `series[i]` lookups. To retain the old behavior, use `series.iloc[i:j]`. To get the future behavior, use `series.loc[i:j]`.\n",
      "  dcap_end=cycle_end_df['Discharge_Capacity (Ah)'][1:]\n",
      "C:\\Users\\dmmkm\\AppData\\Local\\Temp\\ipykernel_27488\\1804582149.py:146: FutureWarning: The behavior of `series[i:j]` with an integer-dtype index is deprecated. In a future version, this will be treated as *label-based* indexing, consistent with e.g. `series[i]` lookups. To retain the old behavior, use `series.iloc[i:j]`. To get the future behavior, use `series.loc[i:j]`.\n",
      "  v_end=cycle_end_df['Voltage (V)'][1:]\n"
     ]
    },
    {
     "name": "stdout",
     "output_type": "stream",
     "text": [
      "a123_b3c15.csv\n"
     ]
    },
    {
     "name": "stderr",
     "output_type": "stream",
     "text": [
      "C:\\Users\\dmmkm\\AppData\\Local\\Temp\\ipykernel_27488\\1804582149.py:112: RuntimeWarning: divide by zero encountered in divide\n",
      "  dq_dv_start=dq/dv\n",
      "C:\\Users\\dmmkm\\AppData\\Local\\Temp\\ipykernel_27488\\1804582149.py:122: RuntimeWarning: divide by zero encountered in divide\n",
      "  dq_dv_end=dq/dv\n",
      "C:\\Users\\dmmkm\\AppData\\Local\\Temp\\ipykernel_27488\\1804582149.py:122: RuntimeWarning: invalid value encountered in divide\n",
      "  dq_dv_end=dq/dv\n",
      "C:\\Users\\dmmkm\\AppData\\Local\\Temp\\ipykernel_27488\\1804582149.py:123: FutureWarning: The behavior of `series[i:j]` with an integer-dtype index is deprecated. In a future version, this will be treated as *label-based* indexing, consistent with e.g. `series[i]` lookups. To retain the old behavior, use `series.iloc[i:j]`. To get the future behavior, use `series.loc[i:j]`.\n",
      "  x=cycle_end_df['Voltage (V)'][1:]\n",
      "C:\\Users\\dmmkm\\AppData\\Local\\Temp\\ipykernel_27488\\1804582149.py:145: FutureWarning: The behavior of `series[i:j]` with an integer-dtype index is deprecated. In a future version, this will be treated as *label-based* indexing, consistent with e.g. `series[i]` lookups. To retain the old behavior, use `series.iloc[i:j]`. To get the future behavior, use `series.loc[i:j]`.\n",
      "  dcap_end=cycle_end_df['Discharge_Capacity (Ah)'][1:]\n",
      "C:\\Users\\dmmkm\\AppData\\Local\\Temp\\ipykernel_27488\\1804582149.py:146: FutureWarning: The behavior of `series[i:j]` with an integer-dtype index is deprecated. In a future version, this will be treated as *label-based* indexing, consistent with e.g. `series[i]` lookups. To retain the old behavior, use `series.iloc[i:j]`. To get the future behavior, use `series.loc[i:j]`.\n",
      "  v_end=cycle_end_df['Voltage (V)'][1:]\n"
     ]
    },
    {
     "name": "stdout",
     "output_type": "stream",
     "text": [
      "a123_b3c16.csv\n"
     ]
    },
    {
     "name": "stderr",
     "output_type": "stream",
     "text": [
      "C:\\Users\\dmmkm\\AppData\\Local\\Temp\\ipykernel_27488\\1804582149.py:112: RuntimeWarning: invalid value encountered in divide\n",
      "  dq_dv_start=dq/dv\n",
      "C:\\Users\\dmmkm\\AppData\\Local\\Temp\\ipykernel_27488\\1804582149.py:123: FutureWarning: The behavior of `series[i:j]` with an integer-dtype index is deprecated. In a future version, this will be treated as *label-based* indexing, consistent with e.g. `series[i]` lookups. To retain the old behavior, use `series.iloc[i:j]`. To get the future behavior, use `series.loc[i:j]`.\n",
      "  x=cycle_end_df['Voltage (V)'][1:]\n",
      "C:\\Users\\dmmkm\\AppData\\Local\\Temp\\ipykernel_27488\\1804582149.py:145: FutureWarning: The behavior of `series[i:j]` with an integer-dtype index is deprecated. In a future version, this will be treated as *label-based* indexing, consistent with e.g. `series[i]` lookups. To retain the old behavior, use `series.iloc[i:j]`. To get the future behavior, use `series.loc[i:j]`.\n",
      "  dcap_end=cycle_end_df['Discharge_Capacity (Ah)'][1:]\n",
      "C:\\Users\\dmmkm\\AppData\\Local\\Temp\\ipykernel_27488\\1804582149.py:146: FutureWarning: The behavior of `series[i:j]` with an integer-dtype index is deprecated. In a future version, this will be treated as *label-based* indexing, consistent with e.g. `series[i]` lookups. To retain the old behavior, use `series.iloc[i:j]`. To get the future behavior, use `series.loc[i:j]`.\n",
      "  v_end=cycle_end_df['Voltage (V)'][1:]\n"
     ]
    },
    {
     "name": "stdout",
     "output_type": "stream",
     "text": [
      "a123_b3c17.csv\n"
     ]
    },
    {
     "name": "stderr",
     "output_type": "stream",
     "text": [
      "C:\\Users\\dmmkm\\AppData\\Local\\Temp\\ipykernel_27488\\1804582149.py:112: RuntimeWarning: invalid value encountered in divide\n",
      "  dq_dv_start=dq/dv\n",
      "C:\\Users\\dmmkm\\AppData\\Local\\Temp\\ipykernel_27488\\1804582149.py:122: RuntimeWarning: invalid value encountered in divide\n",
      "  dq_dv_end=dq/dv\n",
      "C:\\Users\\dmmkm\\AppData\\Local\\Temp\\ipykernel_27488\\1804582149.py:123: FutureWarning: The behavior of `series[i:j]` with an integer-dtype index is deprecated. In a future version, this will be treated as *label-based* indexing, consistent with e.g. `series[i]` lookups. To retain the old behavior, use `series.iloc[i:j]`. To get the future behavior, use `series.loc[i:j]`.\n",
      "  x=cycle_end_df['Voltage (V)'][1:]\n",
      "C:\\Users\\dmmkm\\AppData\\Local\\Temp\\ipykernel_27488\\1804582149.py:145: FutureWarning: The behavior of `series[i:j]` with an integer-dtype index is deprecated. In a future version, this will be treated as *label-based* indexing, consistent with e.g. `series[i]` lookups. To retain the old behavior, use `series.iloc[i:j]`. To get the future behavior, use `series.loc[i:j]`.\n",
      "  dcap_end=cycle_end_df['Discharge_Capacity (Ah)'][1:]\n",
      "C:\\Users\\dmmkm\\AppData\\Local\\Temp\\ipykernel_27488\\1804582149.py:146: FutureWarning: The behavior of `series[i:j]` with an integer-dtype index is deprecated. In a future version, this will be treated as *label-based* indexing, consistent with e.g. `series[i]` lookups. To retain the old behavior, use `series.iloc[i:j]`. To get the future behavior, use `series.loc[i:j]`.\n",
      "  v_end=cycle_end_df['Voltage (V)'][1:]\n"
     ]
    },
    {
     "name": "stdout",
     "output_type": "stream",
     "text": [
      "a123_b3c18.csv\n"
     ]
    },
    {
     "name": "stderr",
     "output_type": "stream",
     "text": [
      "C:\\Users\\dmmkm\\AppData\\Local\\Temp\\ipykernel_27488\\1804582149.py:112: RuntimeWarning: invalid value encountered in divide\n",
      "  dq_dv_start=dq/dv\n",
      "C:\\Users\\dmmkm\\AppData\\Local\\Temp\\ipykernel_27488\\1804582149.py:123: FutureWarning: The behavior of `series[i:j]` with an integer-dtype index is deprecated. In a future version, this will be treated as *label-based* indexing, consistent with e.g. `series[i]` lookups. To retain the old behavior, use `series.iloc[i:j]`. To get the future behavior, use `series.loc[i:j]`.\n",
      "  x=cycle_end_df['Voltage (V)'][1:]\n",
      "C:\\Users\\dmmkm\\AppData\\Local\\Temp\\ipykernel_27488\\1804582149.py:145: FutureWarning: The behavior of `series[i:j]` with an integer-dtype index is deprecated. In a future version, this will be treated as *label-based* indexing, consistent with e.g. `series[i]` lookups. To retain the old behavior, use `series.iloc[i:j]`. To get the future behavior, use `series.loc[i:j]`.\n",
      "  dcap_end=cycle_end_df['Discharge_Capacity (Ah)'][1:]\n",
      "C:\\Users\\dmmkm\\AppData\\Local\\Temp\\ipykernel_27488\\1804582149.py:146: FutureWarning: The behavior of `series[i:j]` with an integer-dtype index is deprecated. In a future version, this will be treated as *label-based* indexing, consistent with e.g. `series[i]` lookups. To retain the old behavior, use `series.iloc[i:j]`. To get the future behavior, use `series.loc[i:j]`.\n",
      "  v_end=cycle_end_df['Voltage (V)'][1:]\n"
     ]
    },
    {
     "name": "stdout",
     "output_type": "stream",
     "text": [
      "a123_b3c19.csv\n"
     ]
    },
    {
     "name": "stderr",
     "output_type": "stream",
     "text": [
      "C:\\Users\\dmmkm\\AppData\\Local\\Temp\\ipykernel_27488\\1804582149.py:112: RuntimeWarning: divide by zero encountered in divide\n",
      "  dq_dv_start=dq/dv\n",
      "C:\\Users\\dmmkm\\AppData\\Local\\Temp\\ipykernel_27488\\1804582149.py:112: RuntimeWarning: invalid value encountered in divide\n",
      "  dq_dv_start=dq/dv\n",
      "C:\\Users\\dmmkm\\AppData\\Local\\Temp\\ipykernel_27488\\1804582149.py:123: FutureWarning: The behavior of `series[i:j]` with an integer-dtype index is deprecated. In a future version, this will be treated as *label-based* indexing, consistent with e.g. `series[i]` lookups. To retain the old behavior, use `series.iloc[i:j]`. To get the future behavior, use `series.loc[i:j]`.\n",
      "  x=cycle_end_df['Voltage (V)'][1:]\n",
      "C:\\Users\\dmmkm\\AppData\\Local\\Temp\\ipykernel_27488\\1804582149.py:145: FutureWarning: The behavior of `series[i:j]` with an integer-dtype index is deprecated. In a future version, this will be treated as *label-based* indexing, consistent with e.g. `series[i]` lookups. To retain the old behavior, use `series.iloc[i:j]`. To get the future behavior, use `series.loc[i:j]`.\n",
      "  dcap_end=cycle_end_df['Discharge_Capacity (Ah)'][1:]\n",
      "C:\\Users\\dmmkm\\AppData\\Local\\Temp\\ipykernel_27488\\1804582149.py:146: FutureWarning: The behavior of `series[i:j]` with an integer-dtype index is deprecated. In a future version, this will be treated as *label-based* indexing, consistent with e.g. `series[i]` lookups. To retain the old behavior, use `series.iloc[i:j]`. To get the future behavior, use `series.loc[i:j]`.\n",
      "  v_end=cycle_end_df['Voltage (V)'][1:]\n"
     ]
    },
    {
     "name": "stdout",
     "output_type": "stream",
     "text": [
      "a123_b3c20.csv\n"
     ]
    },
    {
     "name": "stderr",
     "output_type": "stream",
     "text": [
      "C:\\Users\\dmmkm\\AppData\\Local\\Temp\\ipykernel_27488\\1804582149.py:112: RuntimeWarning: invalid value encountered in divide\n",
      "  dq_dv_start=dq/dv\n",
      "C:\\Users\\dmmkm\\AppData\\Local\\Temp\\ipykernel_27488\\1804582149.py:122: RuntimeWarning: divide by zero encountered in divide\n",
      "  dq_dv_end=dq/dv\n",
      "C:\\Users\\dmmkm\\AppData\\Local\\Temp\\ipykernel_27488\\1804582149.py:122: RuntimeWarning: invalid value encountered in divide\n",
      "  dq_dv_end=dq/dv\n",
      "C:\\Users\\dmmkm\\AppData\\Local\\Temp\\ipykernel_27488\\1804582149.py:123: FutureWarning: The behavior of `series[i:j]` with an integer-dtype index is deprecated. In a future version, this will be treated as *label-based* indexing, consistent with e.g. `series[i]` lookups. To retain the old behavior, use `series.iloc[i:j]`. To get the future behavior, use `series.loc[i:j]`.\n",
      "  x=cycle_end_df['Voltage (V)'][1:]\n",
      "C:\\Users\\dmmkm\\AppData\\Local\\Temp\\ipykernel_27488\\1804582149.py:145: FutureWarning: The behavior of `series[i:j]` with an integer-dtype index is deprecated. In a future version, this will be treated as *label-based* indexing, consistent with e.g. `series[i]` lookups. To retain the old behavior, use `series.iloc[i:j]`. To get the future behavior, use `series.loc[i:j]`.\n",
      "  dcap_end=cycle_end_df['Discharge_Capacity (Ah)'][1:]\n",
      "C:\\Users\\dmmkm\\AppData\\Local\\Temp\\ipykernel_27488\\1804582149.py:146: FutureWarning: The behavior of `series[i:j]` with an integer-dtype index is deprecated. In a future version, this will be treated as *label-based* indexing, consistent with e.g. `series[i]` lookups. To retain the old behavior, use `series.iloc[i:j]`. To get the future behavior, use `series.loc[i:j]`.\n",
      "  v_end=cycle_end_df['Voltage (V)'][1:]\n"
     ]
    },
    {
     "name": "stdout",
     "output_type": "stream",
     "text": [
      "a123_b3c21.csv\n"
     ]
    },
    {
     "name": "stderr",
     "output_type": "stream",
     "text": [
      "C:\\Users\\dmmkm\\AppData\\Local\\Temp\\ipykernel_27488\\1804582149.py:112: RuntimeWarning: invalid value encountered in divide\n",
      "  dq_dv_start=dq/dv\n",
      "C:\\Users\\dmmkm\\AppData\\Local\\Temp\\ipykernel_27488\\1804582149.py:122: RuntimeWarning: invalid value encountered in divide\n",
      "  dq_dv_end=dq/dv\n",
      "C:\\Users\\dmmkm\\AppData\\Local\\Temp\\ipykernel_27488\\1804582149.py:123: FutureWarning: The behavior of `series[i:j]` with an integer-dtype index is deprecated. In a future version, this will be treated as *label-based* indexing, consistent with e.g. `series[i]` lookups. To retain the old behavior, use `series.iloc[i:j]`. To get the future behavior, use `series.loc[i:j]`.\n",
      "  x=cycle_end_df['Voltage (V)'][1:]\n",
      "C:\\Users\\dmmkm\\AppData\\Local\\Temp\\ipykernel_27488\\1804582149.py:145: FutureWarning: The behavior of `series[i:j]` with an integer-dtype index is deprecated. In a future version, this will be treated as *label-based* indexing, consistent with e.g. `series[i]` lookups. To retain the old behavior, use `series.iloc[i:j]`. To get the future behavior, use `series.loc[i:j]`.\n",
      "  dcap_end=cycle_end_df['Discharge_Capacity (Ah)'][1:]\n",
      "C:\\Users\\dmmkm\\AppData\\Local\\Temp\\ipykernel_27488\\1804582149.py:146: FutureWarning: The behavior of `series[i:j]` with an integer-dtype index is deprecated. In a future version, this will be treated as *label-based* indexing, consistent with e.g. `series[i]` lookups. To retain the old behavior, use `series.iloc[i:j]`. To get the future behavior, use `series.loc[i:j]`.\n",
      "  v_end=cycle_end_df['Voltage (V)'][1:]\n"
     ]
    },
    {
     "name": "stdout",
     "output_type": "stream",
     "text": [
      "a123_b3c22.csv\n"
     ]
    },
    {
     "name": "stderr",
     "output_type": "stream",
     "text": [
      "C:\\Users\\dmmkm\\AppData\\Local\\Temp\\ipykernel_27488\\1804582149.py:112: RuntimeWarning: divide by zero encountered in divide\n",
      "  dq_dv_start=dq/dv\n",
      "C:\\Users\\dmmkm\\AppData\\Local\\Temp\\ipykernel_27488\\1804582149.py:123: FutureWarning: The behavior of `series[i:j]` with an integer-dtype index is deprecated. In a future version, this will be treated as *label-based* indexing, consistent with e.g. `series[i]` lookups. To retain the old behavior, use `series.iloc[i:j]`. To get the future behavior, use `series.loc[i:j]`.\n",
      "  x=cycle_end_df['Voltage (V)'][1:]\n",
      "C:\\Users\\dmmkm\\AppData\\Local\\Temp\\ipykernel_27488\\1804582149.py:145: FutureWarning: The behavior of `series[i:j]` with an integer-dtype index is deprecated. In a future version, this will be treated as *label-based* indexing, consistent with e.g. `series[i]` lookups. To retain the old behavior, use `series.iloc[i:j]`. To get the future behavior, use `series.loc[i:j]`.\n",
      "  dcap_end=cycle_end_df['Discharge_Capacity (Ah)'][1:]\n",
      "C:\\Users\\dmmkm\\AppData\\Local\\Temp\\ipykernel_27488\\1804582149.py:146: FutureWarning: The behavior of `series[i:j]` with an integer-dtype index is deprecated. In a future version, this will be treated as *label-based* indexing, consistent with e.g. `series[i]` lookups. To retain the old behavior, use `series.iloc[i:j]`. To get the future behavior, use `series.loc[i:j]`.\n",
      "  v_end=cycle_end_df['Voltage (V)'][1:]\n"
     ]
    },
    {
     "name": "stdout",
     "output_type": "stream",
     "text": [
      "a123_b3c24.csv\n"
     ]
    },
    {
     "name": "stderr",
     "output_type": "stream",
     "text": [
      "C:\\Users\\dmmkm\\AppData\\Local\\Temp\\ipykernel_27488\\1804582149.py:112: RuntimeWarning: invalid value encountered in divide\n",
      "  dq_dv_start=dq/dv\n",
      "C:\\Users\\dmmkm\\AppData\\Local\\Temp\\ipykernel_27488\\1804582149.py:122: RuntimeWarning: invalid value encountered in divide\n",
      "  dq_dv_end=dq/dv\n",
      "C:\\Users\\dmmkm\\AppData\\Local\\Temp\\ipykernel_27488\\1804582149.py:123: FutureWarning: The behavior of `series[i:j]` with an integer-dtype index is deprecated. In a future version, this will be treated as *label-based* indexing, consistent with e.g. `series[i]` lookups. To retain the old behavior, use `series.iloc[i:j]`. To get the future behavior, use `series.loc[i:j]`.\n",
      "  x=cycle_end_df['Voltage (V)'][1:]\n",
      "C:\\Users\\dmmkm\\AppData\\Local\\Temp\\ipykernel_27488\\1804582149.py:145: FutureWarning: The behavior of `series[i:j]` with an integer-dtype index is deprecated. In a future version, this will be treated as *label-based* indexing, consistent with e.g. `series[i]` lookups. To retain the old behavior, use `series.iloc[i:j]`. To get the future behavior, use `series.loc[i:j]`.\n",
      "  dcap_end=cycle_end_df['Discharge_Capacity (Ah)'][1:]\n",
      "C:\\Users\\dmmkm\\AppData\\Local\\Temp\\ipykernel_27488\\1804582149.py:146: FutureWarning: The behavior of `series[i:j]` with an integer-dtype index is deprecated. In a future version, this will be treated as *label-based* indexing, consistent with e.g. `series[i]` lookups. To retain the old behavior, use `series.iloc[i:j]`. To get the future behavior, use `series.loc[i:j]`.\n",
      "  v_end=cycle_end_df['Voltage (V)'][1:]\n"
     ]
    },
    {
     "name": "stdout",
     "output_type": "stream",
     "text": [
      "a123_b3c25.csv\n"
     ]
    },
    {
     "name": "stderr",
     "output_type": "stream",
     "text": [
      "C:\\Users\\dmmkm\\AppData\\Local\\Temp\\ipykernel_27488\\1804582149.py:112: RuntimeWarning: divide by zero encountered in divide\n",
      "  dq_dv_start=dq/dv\n",
      "C:\\Users\\dmmkm\\AppData\\Local\\Temp\\ipykernel_27488\\1804582149.py:112: RuntimeWarning: invalid value encountered in divide\n",
      "  dq_dv_start=dq/dv\n",
      "C:\\Users\\dmmkm\\AppData\\Local\\Temp\\ipykernel_27488\\1804582149.py:122: RuntimeWarning: invalid value encountered in divide\n",
      "  dq_dv_end=dq/dv\n",
      "C:\\Users\\dmmkm\\AppData\\Local\\Temp\\ipykernel_27488\\1804582149.py:123: FutureWarning: The behavior of `series[i:j]` with an integer-dtype index is deprecated. In a future version, this will be treated as *label-based* indexing, consistent with e.g. `series[i]` lookups. To retain the old behavior, use `series.iloc[i:j]`. To get the future behavior, use `series.loc[i:j]`.\n",
      "  x=cycle_end_df['Voltage (V)'][1:]\n",
      "C:\\Users\\dmmkm\\AppData\\Local\\Temp\\ipykernel_27488\\1804582149.py:145: FutureWarning: The behavior of `series[i:j]` with an integer-dtype index is deprecated. In a future version, this will be treated as *label-based* indexing, consistent with e.g. `series[i]` lookups. To retain the old behavior, use `series.iloc[i:j]`. To get the future behavior, use `series.loc[i:j]`.\n",
      "  dcap_end=cycle_end_df['Discharge_Capacity (Ah)'][1:]\n",
      "C:\\Users\\dmmkm\\AppData\\Local\\Temp\\ipykernel_27488\\1804582149.py:146: FutureWarning: The behavior of `series[i:j]` with an integer-dtype index is deprecated. In a future version, this will be treated as *label-based* indexing, consistent with e.g. `series[i]` lookups. To retain the old behavior, use `series.iloc[i:j]`. To get the future behavior, use `series.loc[i:j]`.\n",
      "  v_end=cycle_end_df['Voltage (V)'][1:]\n"
     ]
    },
    {
     "name": "stdout",
     "output_type": "stream",
     "text": [
      "a123_b3c26.csv\n"
     ]
    },
    {
     "name": "stderr",
     "output_type": "stream",
     "text": [
      "C:\\Users\\dmmkm\\AppData\\Local\\Temp\\ipykernel_27488\\1804582149.py:112: RuntimeWarning: invalid value encountered in divide\n",
      "  dq_dv_start=dq/dv\n",
      "C:\\Users\\dmmkm\\AppData\\Local\\Temp\\ipykernel_27488\\1804582149.py:123: FutureWarning: The behavior of `series[i:j]` with an integer-dtype index is deprecated. In a future version, this will be treated as *label-based* indexing, consistent with e.g. `series[i]` lookups. To retain the old behavior, use `series.iloc[i:j]`. To get the future behavior, use `series.loc[i:j]`.\n",
      "  x=cycle_end_df['Voltage (V)'][1:]\n",
      "C:\\Users\\dmmkm\\AppData\\Local\\Temp\\ipykernel_27488\\1804582149.py:145: FutureWarning: The behavior of `series[i:j]` with an integer-dtype index is deprecated. In a future version, this will be treated as *label-based* indexing, consistent with e.g. `series[i]` lookups. To retain the old behavior, use `series.iloc[i:j]`. To get the future behavior, use `series.loc[i:j]`.\n",
      "  dcap_end=cycle_end_df['Discharge_Capacity (Ah)'][1:]\n",
      "C:\\Users\\dmmkm\\AppData\\Local\\Temp\\ipykernel_27488\\1804582149.py:146: FutureWarning: The behavior of `series[i:j]` with an integer-dtype index is deprecated. In a future version, this will be treated as *label-based* indexing, consistent with e.g. `series[i]` lookups. To retain the old behavior, use `series.iloc[i:j]`. To get the future behavior, use `series.loc[i:j]`.\n",
      "  v_end=cycle_end_df['Voltage (V)'][1:]\n"
     ]
    },
    {
     "name": "stdout",
     "output_type": "stream",
     "text": [
      "a123_b3c27.csv\n"
     ]
    },
    {
     "name": "stderr",
     "output_type": "stream",
     "text": [
      "C:\\Users\\dmmkm\\AppData\\Local\\Temp\\ipykernel_27488\\1804582149.py:112: RuntimeWarning: invalid value encountered in divide\n",
      "  dq_dv_start=dq/dv\n",
      "C:\\Users\\dmmkm\\AppData\\Local\\Temp\\ipykernel_27488\\1804582149.py:122: RuntimeWarning: divide by zero encountered in divide\n",
      "  dq_dv_end=dq/dv\n",
      "C:\\Users\\dmmkm\\AppData\\Local\\Temp\\ipykernel_27488\\1804582149.py:122: RuntimeWarning: invalid value encountered in divide\n",
      "  dq_dv_end=dq/dv\n",
      "C:\\Users\\dmmkm\\AppData\\Local\\Temp\\ipykernel_27488\\1804582149.py:123: FutureWarning: The behavior of `series[i:j]` with an integer-dtype index is deprecated. In a future version, this will be treated as *label-based* indexing, consistent with e.g. `series[i]` lookups. To retain the old behavior, use `series.iloc[i:j]`. To get the future behavior, use `series.loc[i:j]`.\n",
      "  x=cycle_end_df['Voltage (V)'][1:]\n",
      "C:\\Users\\dmmkm\\AppData\\Local\\Temp\\ipykernel_27488\\1804582149.py:145: FutureWarning: The behavior of `series[i:j]` with an integer-dtype index is deprecated. In a future version, this will be treated as *label-based* indexing, consistent with e.g. `series[i]` lookups. To retain the old behavior, use `series.iloc[i:j]`. To get the future behavior, use `series.loc[i:j]`.\n",
      "  dcap_end=cycle_end_df['Discharge_Capacity (Ah)'][1:]\n",
      "C:\\Users\\dmmkm\\AppData\\Local\\Temp\\ipykernel_27488\\1804582149.py:146: FutureWarning: The behavior of `series[i:j]` with an integer-dtype index is deprecated. In a future version, this will be treated as *label-based* indexing, consistent with e.g. `series[i]` lookups. To retain the old behavior, use `series.iloc[i:j]`. To get the future behavior, use `series.loc[i:j]`.\n",
      "  v_end=cycle_end_df['Voltage (V)'][1:]\n"
     ]
    },
    {
     "name": "stdout",
     "output_type": "stream",
     "text": [
      "a123_b3c28.csv\n"
     ]
    },
    {
     "name": "stderr",
     "output_type": "stream",
     "text": [
      "C:\\Users\\dmmkm\\AppData\\Local\\Temp\\ipykernel_27488\\1804582149.py:112: RuntimeWarning: invalid value encountered in divide\n",
      "  dq_dv_start=dq/dv\n",
      "C:\\Users\\dmmkm\\AppData\\Local\\Temp\\ipykernel_27488\\1804582149.py:122: RuntimeWarning: invalid value encountered in divide\n",
      "  dq_dv_end=dq/dv\n",
      "C:\\Users\\dmmkm\\AppData\\Local\\Temp\\ipykernel_27488\\1804582149.py:123: FutureWarning: The behavior of `series[i:j]` with an integer-dtype index is deprecated. In a future version, this will be treated as *label-based* indexing, consistent with e.g. `series[i]` lookups. To retain the old behavior, use `series.iloc[i:j]`. To get the future behavior, use `series.loc[i:j]`.\n",
      "  x=cycle_end_df['Voltage (V)'][1:]\n",
      "C:\\Users\\dmmkm\\AppData\\Local\\Temp\\ipykernel_27488\\1804582149.py:145: FutureWarning: The behavior of `series[i:j]` with an integer-dtype index is deprecated. In a future version, this will be treated as *label-based* indexing, consistent with e.g. `series[i]` lookups. To retain the old behavior, use `series.iloc[i:j]`. To get the future behavior, use `series.loc[i:j]`.\n",
      "  dcap_end=cycle_end_df['Discharge_Capacity (Ah)'][1:]\n",
      "C:\\Users\\dmmkm\\AppData\\Local\\Temp\\ipykernel_27488\\1804582149.py:146: FutureWarning: The behavior of `series[i:j]` with an integer-dtype index is deprecated. In a future version, this will be treated as *label-based* indexing, consistent with e.g. `series[i]` lookups. To retain the old behavior, use `series.iloc[i:j]`. To get the future behavior, use `series.loc[i:j]`.\n",
      "  v_end=cycle_end_df['Voltage (V)'][1:]\n"
     ]
    },
    {
     "name": "stdout",
     "output_type": "stream",
     "text": [
      "a123_b3c29.csv\n"
     ]
    },
    {
     "name": "stderr",
     "output_type": "stream",
     "text": [
      "C:\\Users\\dmmkm\\AppData\\Local\\Temp\\ipykernel_27488\\1804582149.py:112: RuntimeWarning: divide by zero encountered in divide\n",
      "  dq_dv_start=dq/dv\n",
      "C:\\Users\\dmmkm\\AppData\\Local\\Temp\\ipykernel_27488\\1804582149.py:112: RuntimeWarning: invalid value encountered in divide\n",
      "  dq_dv_start=dq/dv\n",
      "C:\\Users\\dmmkm\\AppData\\Local\\Temp\\ipykernel_27488\\1804582149.py:122: RuntimeWarning: invalid value encountered in divide\n",
      "  dq_dv_end=dq/dv\n",
      "C:\\Users\\dmmkm\\AppData\\Local\\Temp\\ipykernel_27488\\1804582149.py:123: FutureWarning: The behavior of `series[i:j]` with an integer-dtype index is deprecated. In a future version, this will be treated as *label-based* indexing, consistent with e.g. `series[i]` lookups. To retain the old behavior, use `series.iloc[i:j]`. To get the future behavior, use `series.loc[i:j]`.\n",
      "  x=cycle_end_df['Voltage (V)'][1:]\n",
      "C:\\Users\\dmmkm\\AppData\\Local\\Temp\\ipykernel_27488\\1804582149.py:145: FutureWarning: The behavior of `series[i:j]` with an integer-dtype index is deprecated. In a future version, this will be treated as *label-based* indexing, consistent with e.g. `series[i]` lookups. To retain the old behavior, use `series.iloc[i:j]`. To get the future behavior, use `series.loc[i:j]`.\n",
      "  dcap_end=cycle_end_df['Discharge_Capacity (Ah)'][1:]\n",
      "C:\\Users\\dmmkm\\AppData\\Local\\Temp\\ipykernel_27488\\1804582149.py:146: FutureWarning: The behavior of `series[i:j]` with an integer-dtype index is deprecated. In a future version, this will be treated as *label-based* indexing, consistent with e.g. `series[i]` lookups. To retain the old behavior, use `series.iloc[i:j]`. To get the future behavior, use `series.loc[i:j]`.\n",
      "  v_end=cycle_end_df['Voltage (V)'][1:]\n"
     ]
    },
    {
     "name": "stdout",
     "output_type": "stream",
     "text": [
      "a123_b3c3.csv\n"
     ]
    },
    {
     "name": "stderr",
     "output_type": "stream",
     "text": [
      "C:\\Users\\dmmkm\\AppData\\Local\\Temp\\ipykernel_27488\\1804582149.py:123: FutureWarning: The behavior of `series[i:j]` with an integer-dtype index is deprecated. In a future version, this will be treated as *label-based* indexing, consistent with e.g. `series[i]` lookups. To retain the old behavior, use `series.iloc[i:j]`. To get the future behavior, use `series.loc[i:j]`.\n",
      "  x=cycle_end_df['Voltage (V)'][1:]\n",
      "C:\\Users\\dmmkm\\AppData\\Local\\Temp\\ipykernel_27488\\1804582149.py:145: FutureWarning: The behavior of `series[i:j]` with an integer-dtype index is deprecated. In a future version, this will be treated as *label-based* indexing, consistent with e.g. `series[i]` lookups. To retain the old behavior, use `series.iloc[i:j]`. To get the future behavior, use `series.loc[i:j]`.\n",
      "  dcap_end=cycle_end_df['Discharge_Capacity (Ah)'][1:]\n",
      "C:\\Users\\dmmkm\\AppData\\Local\\Temp\\ipykernel_27488\\1804582149.py:146: FutureWarning: The behavior of `series[i:j]` with an integer-dtype index is deprecated. In a future version, this will be treated as *label-based* indexing, consistent with e.g. `series[i]` lookups. To retain the old behavior, use `series.iloc[i:j]`. To get the future behavior, use `series.loc[i:j]`.\n",
      "  v_end=cycle_end_df['Voltage (V)'][1:]\n"
     ]
    },
    {
     "name": "stdout",
     "output_type": "stream",
     "text": [
      "a123_b3c30.csv\n"
     ]
    },
    {
     "name": "stderr",
     "output_type": "stream",
     "text": [
      "C:\\Users\\dmmkm\\AppData\\Local\\Temp\\ipykernel_27488\\1804582149.py:112: RuntimeWarning: invalid value encountered in divide\n",
      "  dq_dv_start=dq/dv\n",
      "C:\\Users\\dmmkm\\AppData\\Local\\Temp\\ipykernel_27488\\1804582149.py:122: RuntimeWarning: divide by zero encountered in divide\n",
      "  dq_dv_end=dq/dv\n",
      "C:\\Users\\dmmkm\\AppData\\Local\\Temp\\ipykernel_27488\\1804582149.py:122: RuntimeWarning: invalid value encountered in divide\n",
      "  dq_dv_end=dq/dv\n",
      "C:\\Users\\dmmkm\\AppData\\Local\\Temp\\ipykernel_27488\\1804582149.py:123: FutureWarning: The behavior of `series[i:j]` with an integer-dtype index is deprecated. In a future version, this will be treated as *label-based* indexing, consistent with e.g. `series[i]` lookups. To retain the old behavior, use `series.iloc[i:j]`. To get the future behavior, use `series.loc[i:j]`.\n",
      "  x=cycle_end_df['Voltage (V)'][1:]\n",
      "C:\\Users\\dmmkm\\AppData\\Local\\Temp\\ipykernel_27488\\1804582149.py:145: FutureWarning: The behavior of `series[i:j]` with an integer-dtype index is deprecated. In a future version, this will be treated as *label-based* indexing, consistent with e.g. `series[i]` lookups. To retain the old behavior, use `series.iloc[i:j]`. To get the future behavior, use `series.loc[i:j]`.\n",
      "  dcap_end=cycle_end_df['Discharge_Capacity (Ah)'][1:]\n",
      "C:\\Users\\dmmkm\\AppData\\Local\\Temp\\ipykernel_27488\\1804582149.py:146: FutureWarning: The behavior of `series[i:j]` with an integer-dtype index is deprecated. In a future version, this will be treated as *label-based* indexing, consistent with e.g. `series[i]` lookups. To retain the old behavior, use `series.iloc[i:j]`. To get the future behavior, use `series.loc[i:j]`.\n",
      "  v_end=cycle_end_df['Voltage (V)'][1:]\n"
     ]
    },
    {
     "name": "stdout",
     "output_type": "stream",
     "text": [
      "a123_b3c31.csv\n"
     ]
    },
    {
     "name": "stderr",
     "output_type": "stream",
     "text": [
      "C:\\Users\\dmmkm\\AppData\\Local\\Temp\\ipykernel_27488\\1804582149.py:122: RuntimeWarning: invalid value encountered in divide\n",
      "  dq_dv_end=dq/dv\n",
      "C:\\Users\\dmmkm\\AppData\\Local\\Temp\\ipykernel_27488\\1804582149.py:123: FutureWarning: The behavior of `series[i:j]` with an integer-dtype index is deprecated. In a future version, this will be treated as *label-based* indexing, consistent with e.g. `series[i]` lookups. To retain the old behavior, use `series.iloc[i:j]`. To get the future behavior, use `series.loc[i:j]`.\n",
      "  x=cycle_end_df['Voltage (V)'][1:]\n",
      "C:\\Users\\dmmkm\\AppData\\Local\\Temp\\ipykernel_27488\\1804582149.py:145: FutureWarning: The behavior of `series[i:j]` with an integer-dtype index is deprecated. In a future version, this will be treated as *label-based* indexing, consistent with e.g. `series[i]` lookups. To retain the old behavior, use `series.iloc[i:j]`. To get the future behavior, use `series.loc[i:j]`.\n",
      "  dcap_end=cycle_end_df['Discharge_Capacity (Ah)'][1:]\n",
      "C:\\Users\\dmmkm\\AppData\\Local\\Temp\\ipykernel_27488\\1804582149.py:146: FutureWarning: The behavior of `series[i:j]` with an integer-dtype index is deprecated. In a future version, this will be treated as *label-based* indexing, consistent with e.g. `series[i]` lookups. To retain the old behavior, use `series.iloc[i:j]`. To get the future behavior, use `series.loc[i:j]`.\n",
      "  v_end=cycle_end_df['Voltage (V)'][1:]\n"
     ]
    },
    {
     "name": "stdout",
     "output_type": "stream",
     "text": [
      "a123_b3c33.csv\n"
     ]
    },
    {
     "name": "stderr",
     "output_type": "stream",
     "text": [
      "C:\\Users\\dmmkm\\AppData\\Local\\Temp\\ipykernel_27488\\1804582149.py:112: RuntimeWarning: invalid value encountered in divide\n",
      "  dq_dv_start=dq/dv\n",
      "C:\\Users\\dmmkm\\AppData\\Local\\Temp\\ipykernel_27488\\1804582149.py:123: FutureWarning: The behavior of `series[i:j]` with an integer-dtype index is deprecated. In a future version, this will be treated as *label-based* indexing, consistent with e.g. `series[i]` lookups. To retain the old behavior, use `series.iloc[i:j]`. To get the future behavior, use `series.loc[i:j]`.\n",
      "  x=cycle_end_df['Voltage (V)'][1:]\n",
      "C:\\Users\\dmmkm\\AppData\\Local\\Temp\\ipykernel_27488\\1804582149.py:145: FutureWarning: The behavior of `series[i:j]` with an integer-dtype index is deprecated. In a future version, this will be treated as *label-based* indexing, consistent with e.g. `series[i]` lookups. To retain the old behavior, use `series.iloc[i:j]`. To get the future behavior, use `series.loc[i:j]`.\n",
      "  dcap_end=cycle_end_df['Discharge_Capacity (Ah)'][1:]\n",
      "C:\\Users\\dmmkm\\AppData\\Local\\Temp\\ipykernel_27488\\1804582149.py:146: FutureWarning: The behavior of `series[i:j]` with an integer-dtype index is deprecated. In a future version, this will be treated as *label-based* indexing, consistent with e.g. `series[i]` lookups. To retain the old behavior, use `series.iloc[i:j]`. To get the future behavior, use `series.loc[i:j]`.\n",
      "  v_end=cycle_end_df['Voltage (V)'][1:]\n"
     ]
    },
    {
     "name": "stdout",
     "output_type": "stream",
     "text": [
      "a123_b3c34.csv\n"
     ]
    },
    {
     "name": "stderr",
     "output_type": "stream",
     "text": [
      "C:\\Users\\dmmkm\\AppData\\Local\\Temp\\ipykernel_27488\\1804582149.py:123: FutureWarning: The behavior of `series[i:j]` with an integer-dtype index is deprecated. In a future version, this will be treated as *label-based* indexing, consistent with e.g. `series[i]` lookups. To retain the old behavior, use `series.iloc[i:j]`. To get the future behavior, use `series.loc[i:j]`.\n",
      "  x=cycle_end_df['Voltage (V)'][1:]\n",
      "C:\\Users\\dmmkm\\AppData\\Local\\Temp\\ipykernel_27488\\1804582149.py:145: FutureWarning: The behavior of `series[i:j]` with an integer-dtype index is deprecated. In a future version, this will be treated as *label-based* indexing, consistent with e.g. `series[i]` lookups. To retain the old behavior, use `series.iloc[i:j]`. To get the future behavior, use `series.loc[i:j]`.\n",
      "  dcap_end=cycle_end_df['Discharge_Capacity (Ah)'][1:]\n",
      "C:\\Users\\dmmkm\\AppData\\Local\\Temp\\ipykernel_27488\\1804582149.py:146: FutureWarning: The behavior of `series[i:j]` with an integer-dtype index is deprecated. In a future version, this will be treated as *label-based* indexing, consistent with e.g. `series[i]` lookups. To retain the old behavior, use `series.iloc[i:j]`. To get the future behavior, use `series.loc[i:j]`.\n",
      "  v_end=cycle_end_df['Voltage (V)'][1:]\n"
     ]
    },
    {
     "name": "stdout",
     "output_type": "stream",
     "text": [
      "a123_b3c35.csv\n"
     ]
    },
    {
     "name": "stderr",
     "output_type": "stream",
     "text": [
      "C:\\Users\\dmmkm\\AppData\\Local\\Temp\\ipykernel_27488\\1804582149.py:123: FutureWarning: The behavior of `series[i:j]` with an integer-dtype index is deprecated. In a future version, this will be treated as *label-based* indexing, consistent with e.g. `series[i]` lookups. To retain the old behavior, use `series.iloc[i:j]`. To get the future behavior, use `series.loc[i:j]`.\n",
      "  x=cycle_end_df['Voltage (V)'][1:]\n",
      "C:\\Users\\dmmkm\\AppData\\Local\\Temp\\ipykernel_27488\\1804582149.py:145: FutureWarning: The behavior of `series[i:j]` with an integer-dtype index is deprecated. In a future version, this will be treated as *label-based* indexing, consistent with e.g. `series[i]` lookups. To retain the old behavior, use `series.iloc[i:j]`. To get the future behavior, use `series.loc[i:j]`.\n",
      "  dcap_end=cycle_end_df['Discharge_Capacity (Ah)'][1:]\n",
      "C:\\Users\\dmmkm\\AppData\\Local\\Temp\\ipykernel_27488\\1804582149.py:146: FutureWarning: The behavior of `series[i:j]` with an integer-dtype index is deprecated. In a future version, this will be treated as *label-based* indexing, consistent with e.g. `series[i]` lookups. To retain the old behavior, use `series.iloc[i:j]`. To get the future behavior, use `series.loc[i:j]`.\n",
      "  v_end=cycle_end_df['Voltage (V)'][1:]\n"
     ]
    },
    {
     "name": "stdout",
     "output_type": "stream",
     "text": [
      "a123_b3c36.csv\n"
     ]
    },
    {
     "name": "stderr",
     "output_type": "stream",
     "text": [
      "C:\\Users\\dmmkm\\AppData\\Local\\Temp\\ipykernel_27488\\1804582149.py:112: RuntimeWarning: invalid value encountered in divide\n",
      "  dq_dv_start=dq/dv\n",
      "C:\\Users\\dmmkm\\AppData\\Local\\Temp\\ipykernel_27488\\1804582149.py:123: FutureWarning: The behavior of `series[i:j]` with an integer-dtype index is deprecated. In a future version, this will be treated as *label-based* indexing, consistent with e.g. `series[i]` lookups. To retain the old behavior, use `series.iloc[i:j]`. To get the future behavior, use `series.loc[i:j]`.\n",
      "  x=cycle_end_df['Voltage (V)'][1:]\n",
      "C:\\Users\\dmmkm\\AppData\\Local\\Temp\\ipykernel_27488\\1804582149.py:145: FutureWarning: The behavior of `series[i:j]` with an integer-dtype index is deprecated. In a future version, this will be treated as *label-based* indexing, consistent with e.g. `series[i]` lookups. To retain the old behavior, use `series.iloc[i:j]`. To get the future behavior, use `series.loc[i:j]`.\n",
      "  dcap_end=cycle_end_df['Discharge_Capacity (Ah)'][1:]\n",
      "C:\\Users\\dmmkm\\AppData\\Local\\Temp\\ipykernel_27488\\1804582149.py:146: FutureWarning: The behavior of `series[i:j]` with an integer-dtype index is deprecated. In a future version, this will be treated as *label-based* indexing, consistent with e.g. `series[i]` lookups. To retain the old behavior, use `series.iloc[i:j]`. To get the future behavior, use `series.loc[i:j]`.\n",
      "  v_end=cycle_end_df['Voltage (V)'][1:]\n"
     ]
    },
    {
     "name": "stdout",
     "output_type": "stream",
     "text": [
      "a123_b3c38.csv\n"
     ]
    },
    {
     "name": "stderr",
     "output_type": "stream",
     "text": [
      "C:\\Users\\dmmkm\\AppData\\Local\\Temp\\ipykernel_27488\\1804582149.py:123: FutureWarning: The behavior of `series[i:j]` with an integer-dtype index is deprecated. In a future version, this will be treated as *label-based* indexing, consistent with e.g. `series[i]` lookups. To retain the old behavior, use `series.iloc[i:j]`. To get the future behavior, use `series.loc[i:j]`.\n",
      "  x=cycle_end_df['Voltage (V)'][1:]\n",
      "C:\\Users\\dmmkm\\AppData\\Local\\Temp\\ipykernel_27488\\1804582149.py:145: FutureWarning: The behavior of `series[i:j]` with an integer-dtype index is deprecated. In a future version, this will be treated as *label-based* indexing, consistent with e.g. `series[i]` lookups. To retain the old behavior, use `series.iloc[i:j]`. To get the future behavior, use `series.loc[i:j]`.\n",
      "  dcap_end=cycle_end_df['Discharge_Capacity (Ah)'][1:]\n",
      "C:\\Users\\dmmkm\\AppData\\Local\\Temp\\ipykernel_27488\\1804582149.py:146: FutureWarning: The behavior of `series[i:j]` with an integer-dtype index is deprecated. In a future version, this will be treated as *label-based* indexing, consistent with e.g. `series[i]` lookups. To retain the old behavior, use `series.iloc[i:j]`. To get the future behavior, use `series.loc[i:j]`.\n",
      "  v_end=cycle_end_df['Voltage (V)'][1:]\n"
     ]
    },
    {
     "name": "stdout",
     "output_type": "stream",
     "text": [
      "a123_b3c39.csv\n"
     ]
    },
    {
     "name": "stderr",
     "output_type": "stream",
     "text": [
      "C:\\Users\\dmmkm\\AppData\\Local\\Temp\\ipykernel_27488\\1804582149.py:123: FutureWarning: The behavior of `series[i:j]` with an integer-dtype index is deprecated. In a future version, this will be treated as *label-based* indexing, consistent with e.g. `series[i]` lookups. To retain the old behavior, use `series.iloc[i:j]`. To get the future behavior, use `series.loc[i:j]`.\n",
      "  x=cycle_end_df['Voltage (V)'][1:]\n",
      "C:\\Users\\dmmkm\\AppData\\Local\\Temp\\ipykernel_27488\\1804582149.py:145: FutureWarning: The behavior of `series[i:j]` with an integer-dtype index is deprecated. In a future version, this will be treated as *label-based* indexing, consistent with e.g. `series[i]` lookups. To retain the old behavior, use `series.iloc[i:j]`. To get the future behavior, use `series.loc[i:j]`.\n",
      "  dcap_end=cycle_end_df['Discharge_Capacity (Ah)'][1:]\n",
      "C:\\Users\\dmmkm\\AppData\\Local\\Temp\\ipykernel_27488\\1804582149.py:146: FutureWarning: The behavior of `series[i:j]` with an integer-dtype index is deprecated. In a future version, this will be treated as *label-based* indexing, consistent with e.g. `series[i]` lookups. To retain the old behavior, use `series.iloc[i:j]`. To get the future behavior, use `series.loc[i:j]`.\n",
      "  v_end=cycle_end_df['Voltage (V)'][1:]\n"
     ]
    },
    {
     "name": "stdout",
     "output_type": "stream",
     "text": [
      "a123_b3c4.csv\n"
     ]
    },
    {
     "name": "stderr",
     "output_type": "stream",
     "text": [
      "C:\\Users\\dmmkm\\AppData\\Local\\Temp\\ipykernel_27488\\1804582149.py:112: RuntimeWarning: divide by zero encountered in divide\n",
      "  dq_dv_start=dq/dv\n",
      "C:\\Users\\dmmkm\\AppData\\Local\\Temp\\ipykernel_27488\\1804582149.py:112: RuntimeWarning: invalid value encountered in divide\n",
      "  dq_dv_start=dq/dv\n",
      "C:\\Users\\dmmkm\\AppData\\Local\\Temp\\ipykernel_27488\\1804582149.py:122: RuntimeWarning: divide by zero encountered in divide\n",
      "  dq_dv_end=dq/dv\n",
      "C:\\Users\\dmmkm\\AppData\\Local\\Temp\\ipykernel_27488\\1804582149.py:123: FutureWarning: The behavior of `series[i:j]` with an integer-dtype index is deprecated. In a future version, this will be treated as *label-based* indexing, consistent with e.g. `series[i]` lookups. To retain the old behavior, use `series.iloc[i:j]`. To get the future behavior, use `series.loc[i:j]`.\n",
      "  x=cycle_end_df['Voltage (V)'][1:]\n",
      "C:\\Users\\dmmkm\\AppData\\Local\\Temp\\ipykernel_27488\\1804582149.py:145: FutureWarning: The behavior of `series[i:j]` with an integer-dtype index is deprecated. In a future version, this will be treated as *label-based* indexing, consistent with e.g. `series[i]` lookups. To retain the old behavior, use `series.iloc[i:j]`. To get the future behavior, use `series.loc[i:j]`.\n",
      "  dcap_end=cycle_end_df['Discharge_Capacity (Ah)'][1:]\n",
      "C:\\Users\\dmmkm\\AppData\\Local\\Temp\\ipykernel_27488\\1804582149.py:146: FutureWarning: The behavior of `series[i:j]` with an integer-dtype index is deprecated. In a future version, this will be treated as *label-based* indexing, consistent with e.g. `series[i]` lookups. To retain the old behavior, use `series.iloc[i:j]`. To get the future behavior, use `series.loc[i:j]`.\n",
      "  v_end=cycle_end_df['Voltage (V)'][1:]\n"
     ]
    },
    {
     "name": "stdout",
     "output_type": "stream",
     "text": [
      "a123_b3c40.csv\n"
     ]
    },
    {
     "name": "stderr",
     "output_type": "stream",
     "text": [
      "C:\\Users\\dmmkm\\AppData\\Local\\Temp\\ipykernel_27488\\1804582149.py:112: RuntimeWarning: divide by zero encountered in divide\n",
      "  dq_dv_start=dq/dv\n",
      "C:\\Users\\dmmkm\\AppData\\Local\\Temp\\ipykernel_27488\\1804582149.py:123: FutureWarning: The behavior of `series[i:j]` with an integer-dtype index is deprecated. In a future version, this will be treated as *label-based* indexing, consistent with e.g. `series[i]` lookups. To retain the old behavior, use `series.iloc[i:j]`. To get the future behavior, use `series.loc[i:j]`.\n",
      "  x=cycle_end_df['Voltage (V)'][1:]\n",
      "C:\\Users\\dmmkm\\AppData\\Local\\Temp\\ipykernel_27488\\1804582149.py:145: FutureWarning: The behavior of `series[i:j]` with an integer-dtype index is deprecated. In a future version, this will be treated as *label-based* indexing, consistent with e.g. `series[i]` lookups. To retain the old behavior, use `series.iloc[i:j]`. To get the future behavior, use `series.loc[i:j]`.\n",
      "  dcap_end=cycle_end_df['Discharge_Capacity (Ah)'][1:]\n",
      "C:\\Users\\dmmkm\\AppData\\Local\\Temp\\ipykernel_27488\\1804582149.py:146: FutureWarning: The behavior of `series[i:j]` with an integer-dtype index is deprecated. In a future version, this will be treated as *label-based* indexing, consistent with e.g. `series[i]` lookups. To retain the old behavior, use `series.iloc[i:j]`. To get the future behavior, use `series.loc[i:j]`.\n",
      "  v_end=cycle_end_df['Voltage (V)'][1:]\n"
     ]
    },
    {
     "name": "stdout",
     "output_type": "stream",
     "text": [
      "a123_b3c41.csv\n"
     ]
    },
    {
     "name": "stderr",
     "output_type": "stream",
     "text": [
      "C:\\Users\\dmmkm\\AppData\\Local\\Temp\\ipykernel_27488\\1804582149.py:112: RuntimeWarning: divide by zero encountered in divide\n",
      "  dq_dv_start=dq/dv\n",
      "C:\\Users\\dmmkm\\AppData\\Local\\Temp\\ipykernel_27488\\1804582149.py:112: RuntimeWarning: invalid value encountered in divide\n",
      "  dq_dv_start=dq/dv\n",
      "C:\\Users\\dmmkm\\AppData\\Local\\Temp\\ipykernel_27488\\1804582149.py:122: RuntimeWarning: invalid value encountered in divide\n",
      "  dq_dv_end=dq/dv\n",
      "C:\\Users\\dmmkm\\AppData\\Local\\Temp\\ipykernel_27488\\1804582149.py:123: FutureWarning: The behavior of `series[i:j]` with an integer-dtype index is deprecated. In a future version, this will be treated as *label-based* indexing, consistent with e.g. `series[i]` lookups. To retain the old behavior, use `series.iloc[i:j]`. To get the future behavior, use `series.loc[i:j]`.\n",
      "  x=cycle_end_df['Voltage (V)'][1:]\n",
      "C:\\Users\\dmmkm\\AppData\\Local\\Temp\\ipykernel_27488\\1804582149.py:145: FutureWarning: The behavior of `series[i:j]` with an integer-dtype index is deprecated. In a future version, this will be treated as *label-based* indexing, consistent with e.g. `series[i]` lookups. To retain the old behavior, use `series.iloc[i:j]`. To get the future behavior, use `series.loc[i:j]`.\n",
      "  dcap_end=cycle_end_df['Discharge_Capacity (Ah)'][1:]\n",
      "C:\\Users\\dmmkm\\AppData\\Local\\Temp\\ipykernel_27488\\1804582149.py:146: FutureWarning: The behavior of `series[i:j]` with an integer-dtype index is deprecated. In a future version, this will be treated as *label-based* indexing, consistent with e.g. `series[i]` lookups. To retain the old behavior, use `series.iloc[i:j]`. To get the future behavior, use `series.loc[i:j]`.\n",
      "  v_end=cycle_end_df['Voltage (V)'][1:]\n"
     ]
    },
    {
     "name": "stdout",
     "output_type": "stream",
     "text": [
      "a123_b3c44.csv\n"
     ]
    },
    {
     "name": "stderr",
     "output_type": "stream",
     "text": [
      "C:\\Users\\dmmkm\\AppData\\Local\\Temp\\ipykernel_27488\\1804582149.py:112: RuntimeWarning: divide by zero encountered in divide\n",
      "  dq_dv_start=dq/dv\n",
      "C:\\Users\\dmmkm\\AppData\\Local\\Temp\\ipykernel_27488\\1804582149.py:112: RuntimeWarning: invalid value encountered in divide\n",
      "  dq_dv_start=dq/dv\n",
      "C:\\Users\\dmmkm\\AppData\\Local\\Temp\\ipykernel_27488\\1804582149.py:122: RuntimeWarning: invalid value encountered in divide\n",
      "  dq_dv_end=dq/dv\n",
      "C:\\Users\\dmmkm\\AppData\\Local\\Temp\\ipykernel_27488\\1804582149.py:123: FutureWarning: The behavior of `series[i:j]` with an integer-dtype index is deprecated. In a future version, this will be treated as *label-based* indexing, consistent with e.g. `series[i]` lookups. To retain the old behavior, use `series.iloc[i:j]`. To get the future behavior, use `series.loc[i:j]`.\n",
      "  x=cycle_end_df['Voltage (V)'][1:]\n",
      "C:\\Users\\dmmkm\\AppData\\Local\\Temp\\ipykernel_27488\\1804582149.py:145: FutureWarning: The behavior of `series[i:j]` with an integer-dtype index is deprecated. In a future version, this will be treated as *label-based* indexing, consistent with e.g. `series[i]` lookups. To retain the old behavior, use `series.iloc[i:j]`. To get the future behavior, use `series.loc[i:j]`.\n",
      "  dcap_end=cycle_end_df['Discharge_Capacity (Ah)'][1:]\n",
      "C:\\Users\\dmmkm\\AppData\\Local\\Temp\\ipykernel_27488\\1804582149.py:146: FutureWarning: The behavior of `series[i:j]` with an integer-dtype index is deprecated. In a future version, this will be treated as *label-based* indexing, consistent with e.g. `series[i]` lookups. To retain the old behavior, use `series.iloc[i:j]`. To get the future behavior, use `series.loc[i:j]`.\n",
      "  v_end=cycle_end_df['Voltage (V)'][1:]\n"
     ]
    },
    {
     "name": "stdout",
     "output_type": "stream",
     "text": [
      "a123_b3c45.csv\n"
     ]
    },
    {
     "name": "stderr",
     "output_type": "stream",
     "text": [
      "C:\\Users\\dmmkm\\AppData\\Local\\Temp\\ipykernel_27488\\1804582149.py:112: RuntimeWarning: invalid value encountered in divide\n",
      "  dq_dv_start=dq/dv\n",
      "C:\\Users\\dmmkm\\AppData\\Local\\Temp\\ipykernel_27488\\1804582149.py:122: RuntimeWarning: invalid value encountered in divide\n",
      "  dq_dv_end=dq/dv\n",
      "C:\\Users\\dmmkm\\AppData\\Local\\Temp\\ipykernel_27488\\1804582149.py:123: FutureWarning: The behavior of `series[i:j]` with an integer-dtype index is deprecated. In a future version, this will be treated as *label-based* indexing, consistent with e.g. `series[i]` lookups. To retain the old behavior, use `series.iloc[i:j]`. To get the future behavior, use `series.loc[i:j]`.\n",
      "  x=cycle_end_df['Voltage (V)'][1:]\n",
      "C:\\Users\\dmmkm\\AppData\\Local\\Temp\\ipykernel_27488\\1804582149.py:145: FutureWarning: The behavior of `series[i:j]` with an integer-dtype index is deprecated. In a future version, this will be treated as *label-based* indexing, consistent with e.g. `series[i]` lookups. To retain the old behavior, use `series.iloc[i:j]`. To get the future behavior, use `series.loc[i:j]`.\n",
      "  dcap_end=cycle_end_df['Discharge_Capacity (Ah)'][1:]\n",
      "C:\\Users\\dmmkm\\AppData\\Local\\Temp\\ipykernel_27488\\1804582149.py:146: FutureWarning: The behavior of `series[i:j]` with an integer-dtype index is deprecated. In a future version, this will be treated as *label-based* indexing, consistent with e.g. `series[i]` lookups. To retain the old behavior, use `series.iloc[i:j]`. To get the future behavior, use `series.loc[i:j]`.\n",
      "  v_end=cycle_end_df['Voltage (V)'][1:]\n"
     ]
    },
    {
     "name": "stdout",
     "output_type": "stream",
     "text": [
      "a123_b3c5.csv\n"
     ]
    },
    {
     "name": "stderr",
     "output_type": "stream",
     "text": [
      "C:\\Users\\dmmkm\\AppData\\Local\\Temp\\ipykernel_27488\\1804582149.py:122: RuntimeWarning: invalid value encountered in divide\n",
      "  dq_dv_end=dq/dv\n",
      "C:\\Users\\dmmkm\\AppData\\Local\\Temp\\ipykernel_27488\\1804582149.py:123: FutureWarning: The behavior of `series[i:j]` with an integer-dtype index is deprecated. In a future version, this will be treated as *label-based* indexing, consistent with e.g. `series[i]` lookups. To retain the old behavior, use `series.iloc[i:j]`. To get the future behavior, use `series.loc[i:j]`.\n",
      "  x=cycle_end_df['Voltage (V)'][1:]\n",
      "C:\\Users\\dmmkm\\AppData\\Local\\Temp\\ipykernel_27488\\1804582149.py:145: FutureWarning: The behavior of `series[i:j]` with an integer-dtype index is deprecated. In a future version, this will be treated as *label-based* indexing, consistent with e.g. `series[i]` lookups. To retain the old behavior, use `series.iloc[i:j]`. To get the future behavior, use `series.loc[i:j]`.\n",
      "  dcap_end=cycle_end_df['Discharge_Capacity (Ah)'][1:]\n",
      "C:\\Users\\dmmkm\\AppData\\Local\\Temp\\ipykernel_27488\\1804582149.py:146: FutureWarning: The behavior of `series[i:j]` with an integer-dtype index is deprecated. In a future version, this will be treated as *label-based* indexing, consistent with e.g. `series[i]` lookups. To retain the old behavior, use `series.iloc[i:j]`. To get the future behavior, use `series.loc[i:j]`.\n",
      "  v_end=cycle_end_df['Voltage (V)'][1:]\n"
     ]
    },
    {
     "name": "stdout",
     "output_type": "stream",
     "text": [
      "a123_b3c6.csv\n"
     ]
    },
    {
     "name": "stderr",
     "output_type": "stream",
     "text": [
      "C:\\Users\\dmmkm\\AppData\\Local\\Temp\\ipykernel_27488\\1804582149.py:112: RuntimeWarning: invalid value encountered in divide\n",
      "  dq_dv_start=dq/dv\n",
      "C:\\Users\\dmmkm\\AppData\\Local\\Temp\\ipykernel_27488\\1804582149.py:122: RuntimeWarning: divide by zero encountered in divide\n",
      "  dq_dv_end=dq/dv\n",
      "C:\\Users\\dmmkm\\AppData\\Local\\Temp\\ipykernel_27488\\1804582149.py:122: RuntimeWarning: invalid value encountered in divide\n",
      "  dq_dv_end=dq/dv\n",
      "C:\\Users\\dmmkm\\AppData\\Local\\Temp\\ipykernel_27488\\1804582149.py:123: FutureWarning: The behavior of `series[i:j]` with an integer-dtype index is deprecated. In a future version, this will be treated as *label-based* indexing, consistent with e.g. `series[i]` lookups. To retain the old behavior, use `series.iloc[i:j]`. To get the future behavior, use `series.loc[i:j]`.\n",
      "  x=cycle_end_df['Voltage (V)'][1:]\n",
      "C:\\Users\\dmmkm\\AppData\\Local\\Temp\\ipykernel_27488\\1804582149.py:145: FutureWarning: The behavior of `series[i:j]` with an integer-dtype index is deprecated. In a future version, this will be treated as *label-based* indexing, consistent with e.g. `series[i]` lookups. To retain the old behavior, use `series.iloc[i:j]`. To get the future behavior, use `series.loc[i:j]`.\n",
      "  dcap_end=cycle_end_df['Discharge_Capacity (Ah)'][1:]\n",
      "C:\\Users\\dmmkm\\AppData\\Local\\Temp\\ipykernel_27488\\1804582149.py:146: FutureWarning: The behavior of `series[i:j]` with an integer-dtype index is deprecated. In a future version, this will be treated as *label-based* indexing, consistent with e.g. `series[i]` lookups. To retain the old behavior, use `series.iloc[i:j]`. To get the future behavior, use `series.loc[i:j]`.\n",
      "  v_end=cycle_end_df['Voltage (V)'][1:]\n"
     ]
    },
    {
     "name": "stdout",
     "output_type": "stream",
     "text": [
      "a123_b3c7.csv\n"
     ]
    },
    {
     "name": "stderr",
     "output_type": "stream",
     "text": [
      "C:\\Users\\dmmkm\\AppData\\Local\\Temp\\ipykernel_27488\\1804582149.py:112: RuntimeWarning: divide by zero encountered in divide\n",
      "  dq_dv_start=dq/dv\n",
      "C:\\Users\\dmmkm\\AppData\\Local\\Temp\\ipykernel_27488\\1804582149.py:112: RuntimeWarning: invalid value encountered in divide\n",
      "  dq_dv_start=dq/dv\n",
      "C:\\Users\\dmmkm\\AppData\\Local\\Temp\\ipykernel_27488\\1804582149.py:122: RuntimeWarning: invalid value encountered in divide\n",
      "  dq_dv_end=dq/dv\n",
      "C:\\Users\\dmmkm\\AppData\\Local\\Temp\\ipykernel_27488\\1804582149.py:123: FutureWarning: The behavior of `series[i:j]` with an integer-dtype index is deprecated. In a future version, this will be treated as *label-based* indexing, consistent with e.g. `series[i]` lookups. To retain the old behavior, use `series.iloc[i:j]`. To get the future behavior, use `series.loc[i:j]`.\n",
      "  x=cycle_end_df['Voltage (V)'][1:]\n",
      "C:\\Users\\dmmkm\\AppData\\Local\\Temp\\ipykernel_27488\\1804582149.py:145: FutureWarning: The behavior of `series[i:j]` with an integer-dtype index is deprecated. In a future version, this will be treated as *label-based* indexing, consistent with e.g. `series[i]` lookups. To retain the old behavior, use `series.iloc[i:j]`. To get the future behavior, use `series.loc[i:j]`.\n",
      "  dcap_end=cycle_end_df['Discharge_Capacity (Ah)'][1:]\n",
      "C:\\Users\\dmmkm\\AppData\\Local\\Temp\\ipykernel_27488\\1804582149.py:146: FutureWarning: The behavior of `series[i:j]` with an integer-dtype index is deprecated. In a future version, this will be treated as *label-based* indexing, consistent with e.g. `series[i]` lookups. To retain the old behavior, use `series.iloc[i:j]`. To get the future behavior, use `series.loc[i:j]`.\n",
      "  v_end=cycle_end_df['Voltage (V)'][1:]\n"
     ]
    },
    {
     "name": "stdout",
     "output_type": "stream",
     "text": [
      "a123_b3c8.csv\n"
     ]
    },
    {
     "name": "stderr",
     "output_type": "stream",
     "text": [
      "C:\\Users\\dmmkm\\AppData\\Local\\Temp\\ipykernel_27488\\1804582149.py:112: RuntimeWarning: divide by zero encountered in divide\n",
      "  dq_dv_start=dq/dv\n",
      "C:\\Users\\dmmkm\\AppData\\Local\\Temp\\ipykernel_27488\\1804582149.py:122: RuntimeWarning: divide by zero encountered in divide\n",
      "  dq_dv_end=dq/dv\n",
      "C:\\Users\\dmmkm\\AppData\\Local\\Temp\\ipykernel_27488\\1804582149.py:122: RuntimeWarning: invalid value encountered in divide\n",
      "  dq_dv_end=dq/dv\n",
      "C:\\Users\\dmmkm\\AppData\\Local\\Temp\\ipykernel_27488\\1804582149.py:123: FutureWarning: The behavior of `series[i:j]` with an integer-dtype index is deprecated. In a future version, this will be treated as *label-based* indexing, consistent with e.g. `series[i]` lookups. To retain the old behavior, use `series.iloc[i:j]`. To get the future behavior, use `series.loc[i:j]`.\n",
      "  x=cycle_end_df['Voltage (V)'][1:]\n",
      "C:\\Users\\dmmkm\\AppData\\Local\\Temp\\ipykernel_27488\\1804582149.py:145: FutureWarning: The behavior of `series[i:j]` with an integer-dtype index is deprecated. In a future version, this will be treated as *label-based* indexing, consistent with e.g. `series[i]` lookups. To retain the old behavior, use `series.iloc[i:j]`. To get the future behavior, use `series.loc[i:j]`.\n",
      "  dcap_end=cycle_end_df['Discharge_Capacity (Ah)'][1:]\n",
      "C:\\Users\\dmmkm\\AppData\\Local\\Temp\\ipykernel_27488\\1804582149.py:146: FutureWarning: The behavior of `series[i:j]` with an integer-dtype index is deprecated. In a future version, this will be treated as *label-based* indexing, consistent with e.g. `series[i]` lookups. To retain the old behavior, use `series.iloc[i:j]`. To get the future behavior, use `series.loc[i:j]`.\n",
      "  v_end=cycle_end_df['Voltage (V)'][1:]\n"
     ]
    },
    {
     "name": "stdout",
     "output_type": "stream",
     "text": [
      "a123_b3c9.csv\n"
     ]
    },
    {
     "name": "stderr",
     "output_type": "stream",
     "text": [
      "C:\\Users\\dmmkm\\AppData\\Local\\Temp\\ipykernel_27488\\1804582149.py:112: RuntimeWarning: divide by zero encountered in divide\n",
      "  dq_dv_start=dq/dv\n",
      "C:\\Users\\dmmkm\\AppData\\Local\\Temp\\ipykernel_27488\\1804582149.py:112: RuntimeWarning: invalid value encountered in divide\n",
      "  dq_dv_start=dq/dv\n",
      "C:\\Users\\dmmkm\\AppData\\Local\\Temp\\ipykernel_27488\\1804582149.py:123: FutureWarning: The behavior of `series[i:j]` with an integer-dtype index is deprecated. In a future version, this will be treated as *label-based* indexing, consistent with e.g. `series[i]` lookups. To retain the old behavior, use `series.iloc[i:j]`. To get the future behavior, use `series.loc[i:j]`.\n",
      "  x=cycle_end_df['Voltage (V)'][1:]\n",
      "C:\\Users\\dmmkm\\AppData\\Local\\Temp\\ipykernel_27488\\1804582149.py:145: FutureWarning: The behavior of `series[i:j]` with an integer-dtype index is deprecated. In a future version, this will be treated as *label-based* indexing, consistent with e.g. `series[i]` lookups. To retain the old behavior, use `series.iloc[i:j]`. To get the future behavior, use `series.loc[i:j]`.\n",
      "  dcap_end=cycle_end_df['Discharge_Capacity (Ah)'][1:]\n",
      "C:\\Users\\dmmkm\\AppData\\Local\\Temp\\ipykernel_27488\\1804582149.py:146: FutureWarning: The behavior of `series[i:j]` with an integer-dtype index is deprecated. In a future version, this will be treated as *label-based* indexing, consistent with e.g. `series[i]` lookups. To retain the old behavior, use `series.iloc[i:j]`. To get the future behavior, use `series.loc[i:j]`.\n",
      "  v_end=cycle_end_df['Voltage (V)'][1:]\n"
     ]
    },
    {
     "name": "stdout",
     "output_type": "stream",
     "text": [
      "SNL_18650_LFP_15C_0-100_0.5-1C_a_timeseries.csv\n"
     ]
    },
    {
     "name": "stderr",
     "output_type": "stream",
     "text": [
      "C:\\Users\\dmmkm\\AppData\\Local\\Temp\\ipykernel_27488\\1804582149.py:112: RuntimeWarning: divide by zero encountered in divide\n",
      "  dq_dv_start=dq/dv\n",
      "C:\\Users\\dmmkm\\AppData\\Local\\Temp\\ipykernel_27488\\1804582149.py:112: RuntimeWarning: invalid value encountered in divide\n",
      "  dq_dv_start=dq/dv\n",
      "C:\\Users\\dmmkm\\AppData\\Local\\Temp\\ipykernel_27488\\1804582149.py:122: RuntimeWarning: invalid value encountered in divide\n",
      "  dq_dv_end=dq/dv\n",
      "C:\\Users\\dmmkm\\AppData\\Local\\Temp\\ipykernel_27488\\1804582149.py:123: FutureWarning: The behavior of `series[i:j]` with an integer-dtype index is deprecated. In a future version, this will be treated as *label-based* indexing, consistent with e.g. `series[i]` lookups. To retain the old behavior, use `series.iloc[i:j]`. To get the future behavior, use `series.loc[i:j]`.\n",
      "  x=cycle_end_df['Voltage (V)'][1:]\n",
      "C:\\Users\\dmmkm\\AppData\\Local\\Temp\\ipykernel_27488\\1804582149.py:145: FutureWarning: The behavior of `series[i:j]` with an integer-dtype index is deprecated. In a future version, this will be treated as *label-based* indexing, consistent with e.g. `series[i]` lookups. To retain the old behavior, use `series.iloc[i:j]`. To get the future behavior, use `series.loc[i:j]`.\n",
      "  dcap_end=cycle_end_df['Discharge_Capacity (Ah)'][1:]\n",
      "C:\\Users\\dmmkm\\AppData\\Local\\Temp\\ipykernel_27488\\1804582149.py:146: FutureWarning: The behavior of `series[i:j]` with an integer-dtype index is deprecated. In a future version, this will be treated as *label-based* indexing, consistent with e.g. `series[i]` lookups. To retain the old behavior, use `series.iloc[i:j]`. To get the future behavior, use `series.loc[i:j]`.\n",
      "  v_end=cycle_end_df['Voltage (V)'][1:]\n"
     ]
    },
    {
     "name": "stdout",
     "output_type": "stream",
     "text": [
      "SNL_18650_LFP_15C_0-100_0.5-1C_b_timeseries.csv\n"
     ]
    },
    {
     "name": "stderr",
     "output_type": "stream",
     "text": [
      "C:\\Users\\dmmkm\\AppData\\Local\\Temp\\ipykernel_27488\\1804582149.py:112: RuntimeWarning: divide by zero encountered in divide\n",
      "  dq_dv_start=dq/dv\n",
      "C:\\Users\\dmmkm\\AppData\\Local\\Temp\\ipykernel_27488\\1804582149.py:112: RuntimeWarning: invalid value encountered in divide\n",
      "  dq_dv_start=dq/dv\n",
      "C:\\Users\\dmmkm\\AppData\\Local\\Temp\\ipykernel_27488\\1804582149.py:122: RuntimeWarning: invalid value encountered in divide\n",
      "  dq_dv_end=dq/dv\n",
      "C:\\Users\\dmmkm\\AppData\\Local\\Temp\\ipykernel_27488\\1804582149.py:123: FutureWarning: The behavior of `series[i:j]` with an integer-dtype index is deprecated. In a future version, this will be treated as *label-based* indexing, consistent with e.g. `series[i]` lookups. To retain the old behavior, use `series.iloc[i:j]`. To get the future behavior, use `series.loc[i:j]`.\n",
      "  x=cycle_end_df['Voltage (V)'][1:]\n",
      "C:\\Users\\dmmkm\\AppData\\Local\\Temp\\ipykernel_27488\\1804582149.py:145: FutureWarning: The behavior of `series[i:j]` with an integer-dtype index is deprecated. In a future version, this will be treated as *label-based* indexing, consistent with e.g. `series[i]` lookups. To retain the old behavior, use `series.iloc[i:j]`. To get the future behavior, use `series.loc[i:j]`.\n",
      "  dcap_end=cycle_end_df['Discharge_Capacity (Ah)'][1:]\n",
      "C:\\Users\\dmmkm\\AppData\\Local\\Temp\\ipykernel_27488\\1804582149.py:146: FutureWarning: The behavior of `series[i:j]` with an integer-dtype index is deprecated. In a future version, this will be treated as *label-based* indexing, consistent with e.g. `series[i]` lookups. To retain the old behavior, use `series.iloc[i:j]`. To get the future behavior, use `series.loc[i:j]`.\n",
      "  v_end=cycle_end_df['Voltage (V)'][1:]\n"
     ]
    },
    {
     "name": "stdout",
     "output_type": "stream",
     "text": [
      "SNL_18650_LFP_15C_0-100_0.5-2C_a_timeseries.csv\n"
     ]
    },
    {
     "name": "stderr",
     "output_type": "stream",
     "text": [
      "C:\\Users\\dmmkm\\AppData\\Local\\Temp\\ipykernel_27488\\1804582149.py:112: RuntimeWarning: divide by zero encountered in divide\n",
      "  dq_dv_start=dq/dv\n",
      "C:\\Users\\dmmkm\\AppData\\Local\\Temp\\ipykernel_27488\\1804582149.py:112: RuntimeWarning: invalid value encountered in divide\n",
      "  dq_dv_start=dq/dv\n",
      "C:\\Users\\dmmkm\\AppData\\Local\\Temp\\ipykernel_27488\\1804582149.py:122: RuntimeWarning: invalid value encountered in divide\n",
      "  dq_dv_end=dq/dv\n",
      "C:\\Users\\dmmkm\\AppData\\Local\\Temp\\ipykernel_27488\\1804582149.py:123: FutureWarning: The behavior of `series[i:j]` with an integer-dtype index is deprecated. In a future version, this will be treated as *label-based* indexing, consistent with e.g. `series[i]` lookups. To retain the old behavior, use `series.iloc[i:j]`. To get the future behavior, use `series.loc[i:j]`.\n",
      "  x=cycle_end_df['Voltage (V)'][1:]\n",
      "C:\\Users\\dmmkm\\AppData\\Local\\Temp\\ipykernel_27488\\1804582149.py:145: FutureWarning: The behavior of `series[i:j]` with an integer-dtype index is deprecated. In a future version, this will be treated as *label-based* indexing, consistent with e.g. `series[i]` lookups. To retain the old behavior, use `series.iloc[i:j]`. To get the future behavior, use `series.loc[i:j]`.\n",
      "  dcap_end=cycle_end_df['Discharge_Capacity (Ah)'][1:]\n",
      "C:\\Users\\dmmkm\\AppData\\Local\\Temp\\ipykernel_27488\\1804582149.py:146: FutureWarning: The behavior of `series[i:j]` with an integer-dtype index is deprecated. In a future version, this will be treated as *label-based* indexing, consistent with e.g. `series[i]` lookups. To retain the old behavior, use `series.iloc[i:j]`. To get the future behavior, use `series.loc[i:j]`.\n",
      "  v_end=cycle_end_df['Voltage (V)'][1:]\n"
     ]
    },
    {
     "name": "stdout",
     "output_type": "stream",
     "text": [
      "SNL_18650_LFP_15C_0-100_0.5-2C_b_timeseries.csv\n"
     ]
    },
    {
     "name": "stderr",
     "output_type": "stream",
     "text": [
      "C:\\Users\\dmmkm\\AppData\\Local\\Temp\\ipykernel_27488\\1804582149.py:112: RuntimeWarning: divide by zero encountered in divide\n",
      "  dq_dv_start=dq/dv\n",
      "C:\\Users\\dmmkm\\AppData\\Local\\Temp\\ipykernel_27488\\1804582149.py:112: RuntimeWarning: invalid value encountered in divide\n",
      "  dq_dv_start=dq/dv\n",
      "C:\\Users\\dmmkm\\AppData\\Local\\Temp\\ipykernel_27488\\1804582149.py:122: RuntimeWarning: invalid value encountered in divide\n",
      "  dq_dv_end=dq/dv\n",
      "C:\\Users\\dmmkm\\AppData\\Local\\Temp\\ipykernel_27488\\1804582149.py:123: FutureWarning: The behavior of `series[i:j]` with an integer-dtype index is deprecated. In a future version, this will be treated as *label-based* indexing, consistent with e.g. `series[i]` lookups. To retain the old behavior, use `series.iloc[i:j]`. To get the future behavior, use `series.loc[i:j]`.\n",
      "  x=cycle_end_df['Voltage (V)'][1:]\n",
      "C:\\Users\\dmmkm\\AppData\\Local\\Temp\\ipykernel_27488\\1804582149.py:145: FutureWarning: The behavior of `series[i:j]` with an integer-dtype index is deprecated. In a future version, this will be treated as *label-based* indexing, consistent with e.g. `series[i]` lookups. To retain the old behavior, use `series.iloc[i:j]`. To get the future behavior, use `series.loc[i:j]`.\n",
      "  dcap_end=cycle_end_df['Discharge_Capacity (Ah)'][1:]\n",
      "C:\\Users\\dmmkm\\AppData\\Local\\Temp\\ipykernel_27488\\1804582149.py:146: FutureWarning: The behavior of `series[i:j]` with an integer-dtype index is deprecated. In a future version, this will be treated as *label-based* indexing, consistent with e.g. `series[i]` lookups. To retain the old behavior, use `series.iloc[i:j]`. To get the future behavior, use `series.loc[i:j]`.\n",
      "  v_end=cycle_end_df['Voltage (V)'][1:]\n"
     ]
    },
    {
     "name": "stdout",
     "output_type": "stream",
     "text": [
      "SNL_18650_LFP_25C_0-100_0.5-0.5C_a_timeseries.csv\n"
     ]
    },
    {
     "name": "stderr",
     "output_type": "stream",
     "text": [
      "C:\\Users\\dmmkm\\AppData\\Local\\Temp\\ipykernel_27488\\1804582149.py:112: RuntimeWarning: divide by zero encountered in divide\n",
      "  dq_dv_start=dq/dv\n",
      "C:\\Users\\dmmkm\\AppData\\Local\\Temp\\ipykernel_27488\\1804582149.py:112: RuntimeWarning: invalid value encountered in divide\n",
      "  dq_dv_start=dq/dv\n",
      "C:\\Users\\dmmkm\\AppData\\Local\\Temp\\ipykernel_27488\\1804582149.py:122: RuntimeWarning: divide by zero encountered in divide\n",
      "  dq_dv_end=dq/dv\n",
      "C:\\Users\\dmmkm\\AppData\\Local\\Temp\\ipykernel_27488\\1804582149.py:122: RuntimeWarning: invalid value encountered in divide\n",
      "  dq_dv_end=dq/dv\n",
      "C:\\Users\\dmmkm\\AppData\\Local\\Temp\\ipykernel_27488\\1804582149.py:123: FutureWarning: The behavior of `series[i:j]` with an integer-dtype index is deprecated. In a future version, this will be treated as *label-based* indexing, consistent with e.g. `series[i]` lookups. To retain the old behavior, use `series.iloc[i:j]`. To get the future behavior, use `series.loc[i:j]`.\n",
      "  x=cycle_end_df['Voltage (V)'][1:]\n",
      "C:\\Users\\dmmkm\\AppData\\Local\\Temp\\ipykernel_27488\\1804582149.py:145: FutureWarning: The behavior of `series[i:j]` with an integer-dtype index is deprecated. In a future version, this will be treated as *label-based* indexing, consistent with e.g. `series[i]` lookups. To retain the old behavior, use `series.iloc[i:j]`. To get the future behavior, use `series.loc[i:j]`.\n",
      "  dcap_end=cycle_end_df['Discharge_Capacity (Ah)'][1:]\n",
      "C:\\Users\\dmmkm\\AppData\\Local\\Temp\\ipykernel_27488\\1804582149.py:146: FutureWarning: The behavior of `series[i:j]` with an integer-dtype index is deprecated. In a future version, this will be treated as *label-based* indexing, consistent with e.g. `series[i]` lookups. To retain the old behavior, use `series.iloc[i:j]`. To get the future behavior, use `series.loc[i:j]`.\n",
      "  v_end=cycle_end_df['Voltage (V)'][1:]\n"
     ]
    },
    {
     "name": "stdout",
     "output_type": "stream",
     "text": [
      "SNL_18650_LFP_25C_0-100_0.5-1C_a_timeseries.csv\n"
     ]
    },
    {
     "name": "stderr",
     "output_type": "stream",
     "text": [
      "C:\\Users\\dmmkm\\AppData\\Local\\Temp\\ipykernel_27488\\1804582149.py:112: RuntimeWarning: divide by zero encountered in divide\n",
      "  dq_dv_start=dq/dv\n",
      "C:\\Users\\dmmkm\\AppData\\Local\\Temp\\ipykernel_27488\\1804582149.py:112: RuntimeWarning: invalid value encountered in divide\n",
      "  dq_dv_start=dq/dv\n",
      "C:\\Users\\dmmkm\\AppData\\Local\\Temp\\ipykernel_27488\\1804582149.py:122: RuntimeWarning: invalid value encountered in divide\n",
      "  dq_dv_end=dq/dv\n",
      "C:\\Users\\dmmkm\\AppData\\Local\\Temp\\ipykernel_27488\\1804582149.py:123: FutureWarning: The behavior of `series[i:j]` with an integer-dtype index is deprecated. In a future version, this will be treated as *label-based* indexing, consistent with e.g. `series[i]` lookups. To retain the old behavior, use `series.iloc[i:j]`. To get the future behavior, use `series.loc[i:j]`.\n",
      "  x=cycle_end_df['Voltage (V)'][1:]\n",
      "C:\\Users\\dmmkm\\AppData\\Local\\Temp\\ipykernel_27488\\1804582149.py:145: FutureWarning: The behavior of `series[i:j]` with an integer-dtype index is deprecated. In a future version, this will be treated as *label-based* indexing, consistent with e.g. `series[i]` lookups. To retain the old behavior, use `series.iloc[i:j]`. To get the future behavior, use `series.loc[i:j]`.\n",
      "  dcap_end=cycle_end_df['Discharge_Capacity (Ah)'][1:]\n",
      "C:\\Users\\dmmkm\\AppData\\Local\\Temp\\ipykernel_27488\\1804582149.py:146: FutureWarning: The behavior of `series[i:j]` with an integer-dtype index is deprecated. In a future version, this will be treated as *label-based* indexing, consistent with e.g. `series[i]` lookups. To retain the old behavior, use `series.iloc[i:j]`. To get the future behavior, use `series.loc[i:j]`.\n",
      "  v_end=cycle_end_df['Voltage (V)'][1:]\n"
     ]
    },
    {
     "name": "stdout",
     "output_type": "stream",
     "text": [
      "SNL_18650_LFP_25C_0-100_0.5-1C_b_timeseries.csv\n"
     ]
    },
    {
     "name": "stderr",
     "output_type": "stream",
     "text": [
      "C:\\Users\\dmmkm\\AppData\\Local\\Temp\\ipykernel_27488\\1804582149.py:112: RuntimeWarning: divide by zero encountered in divide\n",
      "  dq_dv_start=dq/dv\n",
      "C:\\Users\\dmmkm\\AppData\\Local\\Temp\\ipykernel_27488\\1804582149.py:112: RuntimeWarning: invalid value encountered in divide\n",
      "  dq_dv_start=dq/dv\n",
      "C:\\Users\\dmmkm\\AppData\\Local\\Temp\\ipykernel_27488\\1804582149.py:122: RuntimeWarning: invalid value encountered in divide\n",
      "  dq_dv_end=dq/dv\n",
      "C:\\Users\\dmmkm\\AppData\\Local\\Temp\\ipykernel_27488\\1804582149.py:123: FutureWarning: The behavior of `series[i:j]` with an integer-dtype index is deprecated. In a future version, this will be treated as *label-based* indexing, consistent with e.g. `series[i]` lookups. To retain the old behavior, use `series.iloc[i:j]`. To get the future behavior, use `series.loc[i:j]`.\n",
      "  x=cycle_end_df['Voltage (V)'][1:]\n",
      "C:\\Users\\dmmkm\\AppData\\Local\\Temp\\ipykernel_27488\\1804582149.py:145: FutureWarning: The behavior of `series[i:j]` with an integer-dtype index is deprecated. In a future version, this will be treated as *label-based* indexing, consistent with e.g. `series[i]` lookups. To retain the old behavior, use `series.iloc[i:j]`. To get the future behavior, use `series.loc[i:j]`.\n",
      "  dcap_end=cycle_end_df['Discharge_Capacity (Ah)'][1:]\n",
      "C:\\Users\\dmmkm\\AppData\\Local\\Temp\\ipykernel_27488\\1804582149.py:146: FutureWarning: The behavior of `series[i:j]` with an integer-dtype index is deprecated. In a future version, this will be treated as *label-based* indexing, consistent with e.g. `series[i]` lookups. To retain the old behavior, use `series.iloc[i:j]`. To get the future behavior, use `series.loc[i:j]`.\n",
      "  v_end=cycle_end_df['Voltage (V)'][1:]\n"
     ]
    },
    {
     "name": "stdout",
     "output_type": "stream",
     "text": [
      "SNL_18650_LFP_25C_0-100_0.5-1C_c_timeseries.csv\n"
     ]
    },
    {
     "name": "stderr",
     "output_type": "stream",
     "text": [
      "C:\\Users\\dmmkm\\AppData\\Local\\Temp\\ipykernel_27488\\1804582149.py:112: RuntimeWarning: divide by zero encountered in divide\n",
      "  dq_dv_start=dq/dv\n",
      "C:\\Users\\dmmkm\\AppData\\Local\\Temp\\ipykernel_27488\\1804582149.py:112: RuntimeWarning: invalid value encountered in divide\n",
      "  dq_dv_start=dq/dv\n",
      "C:\\Users\\dmmkm\\AppData\\Local\\Temp\\ipykernel_27488\\1804582149.py:122: RuntimeWarning: invalid value encountered in divide\n",
      "  dq_dv_end=dq/dv\n",
      "C:\\Users\\dmmkm\\AppData\\Local\\Temp\\ipykernel_27488\\1804582149.py:123: FutureWarning: The behavior of `series[i:j]` with an integer-dtype index is deprecated. In a future version, this will be treated as *label-based* indexing, consistent with e.g. `series[i]` lookups. To retain the old behavior, use `series.iloc[i:j]`. To get the future behavior, use `series.loc[i:j]`.\n",
      "  x=cycle_end_df['Voltage (V)'][1:]\n",
      "C:\\Users\\dmmkm\\AppData\\Local\\Temp\\ipykernel_27488\\1804582149.py:145: FutureWarning: The behavior of `series[i:j]` with an integer-dtype index is deprecated. In a future version, this will be treated as *label-based* indexing, consistent with e.g. `series[i]` lookups. To retain the old behavior, use `series.iloc[i:j]`. To get the future behavior, use `series.loc[i:j]`.\n",
      "  dcap_end=cycle_end_df['Discharge_Capacity (Ah)'][1:]\n",
      "C:\\Users\\dmmkm\\AppData\\Local\\Temp\\ipykernel_27488\\1804582149.py:146: FutureWarning: The behavior of `series[i:j]` with an integer-dtype index is deprecated. In a future version, this will be treated as *label-based* indexing, consistent with e.g. `series[i]` lookups. To retain the old behavior, use `series.iloc[i:j]`. To get the future behavior, use `series.loc[i:j]`.\n",
      "  v_end=cycle_end_df['Voltage (V)'][1:]\n"
     ]
    },
    {
     "name": "stdout",
     "output_type": "stream",
     "text": [
      "SNL_18650_LFP_25C_0-100_0.5-1C_d_timeseries.csv\n"
     ]
    },
    {
     "name": "stderr",
     "output_type": "stream",
     "text": [
      "C:\\Users\\dmmkm\\AppData\\Local\\Temp\\ipykernel_27488\\1804582149.py:112: RuntimeWarning: divide by zero encountered in divide\n",
      "  dq_dv_start=dq/dv\n",
      "C:\\Users\\dmmkm\\AppData\\Local\\Temp\\ipykernel_27488\\1804582149.py:112: RuntimeWarning: invalid value encountered in divide\n",
      "  dq_dv_start=dq/dv\n",
      "C:\\Users\\dmmkm\\AppData\\Local\\Temp\\ipykernel_27488\\1804582149.py:122: RuntimeWarning: invalid value encountered in divide\n",
      "  dq_dv_end=dq/dv\n",
      "C:\\Users\\dmmkm\\AppData\\Local\\Temp\\ipykernel_27488\\1804582149.py:123: FutureWarning: The behavior of `series[i:j]` with an integer-dtype index is deprecated. In a future version, this will be treated as *label-based* indexing, consistent with e.g. `series[i]` lookups. To retain the old behavior, use `series.iloc[i:j]`. To get the future behavior, use `series.loc[i:j]`.\n",
      "  x=cycle_end_df['Voltage (V)'][1:]\n",
      "C:\\Users\\dmmkm\\AppData\\Local\\Temp\\ipykernel_27488\\1804582149.py:145: FutureWarning: The behavior of `series[i:j]` with an integer-dtype index is deprecated. In a future version, this will be treated as *label-based* indexing, consistent with e.g. `series[i]` lookups. To retain the old behavior, use `series.iloc[i:j]`. To get the future behavior, use `series.loc[i:j]`.\n",
      "  dcap_end=cycle_end_df['Discharge_Capacity (Ah)'][1:]\n",
      "C:\\Users\\dmmkm\\AppData\\Local\\Temp\\ipykernel_27488\\1804582149.py:146: FutureWarning: The behavior of `series[i:j]` with an integer-dtype index is deprecated. In a future version, this will be treated as *label-based* indexing, consistent with e.g. `series[i]` lookups. To retain the old behavior, use `series.iloc[i:j]`. To get the future behavior, use `series.loc[i:j]`.\n",
      "  v_end=cycle_end_df['Voltage (V)'][1:]\n"
     ]
    },
    {
     "name": "stdout",
     "output_type": "stream",
     "text": [
      "SNL_18650_LFP_25C_0-100_0.5-2C_a_timeseries.csv\n"
     ]
    },
    {
     "name": "stderr",
     "output_type": "stream",
     "text": [
      "C:\\Users\\dmmkm\\AppData\\Local\\Temp\\ipykernel_27488\\1804582149.py:112: RuntimeWarning: divide by zero encountered in divide\n",
      "  dq_dv_start=dq/dv\n",
      "C:\\Users\\dmmkm\\AppData\\Local\\Temp\\ipykernel_27488\\1804582149.py:112: RuntimeWarning: invalid value encountered in divide\n",
      "  dq_dv_start=dq/dv\n",
      "C:\\Users\\dmmkm\\AppData\\Local\\Temp\\ipykernel_27488\\1804582149.py:122: RuntimeWarning: invalid value encountered in divide\n",
      "  dq_dv_end=dq/dv\n",
      "C:\\Users\\dmmkm\\AppData\\Local\\Temp\\ipykernel_27488\\1804582149.py:123: FutureWarning: The behavior of `series[i:j]` with an integer-dtype index is deprecated. In a future version, this will be treated as *label-based* indexing, consistent with e.g. `series[i]` lookups. To retain the old behavior, use `series.iloc[i:j]`. To get the future behavior, use `series.loc[i:j]`.\n",
      "  x=cycle_end_df['Voltage (V)'][1:]\n",
      "C:\\Users\\dmmkm\\AppData\\Local\\Temp\\ipykernel_27488\\1804582149.py:145: FutureWarning: The behavior of `series[i:j]` with an integer-dtype index is deprecated. In a future version, this will be treated as *label-based* indexing, consistent with e.g. `series[i]` lookups. To retain the old behavior, use `series.iloc[i:j]`. To get the future behavior, use `series.loc[i:j]`.\n",
      "  dcap_end=cycle_end_df['Discharge_Capacity (Ah)'][1:]\n",
      "C:\\Users\\dmmkm\\AppData\\Local\\Temp\\ipykernel_27488\\1804582149.py:146: FutureWarning: The behavior of `series[i:j]` with an integer-dtype index is deprecated. In a future version, this will be treated as *label-based* indexing, consistent with e.g. `series[i]` lookups. To retain the old behavior, use `series.iloc[i:j]`. To get the future behavior, use `series.loc[i:j]`.\n",
      "  v_end=cycle_end_df['Voltage (V)'][1:]\n"
     ]
    },
    {
     "name": "stdout",
     "output_type": "stream",
     "text": [
      "SNL_18650_LFP_25C_0-100_0.5-2C_b_timeseries.csv\n"
     ]
    },
    {
     "name": "stderr",
     "output_type": "stream",
     "text": [
      "C:\\Users\\dmmkm\\AppData\\Local\\Temp\\ipykernel_27488\\1804582149.py:112: RuntimeWarning: divide by zero encountered in divide\n",
      "  dq_dv_start=dq/dv\n",
      "C:\\Users\\dmmkm\\AppData\\Local\\Temp\\ipykernel_27488\\1804582149.py:112: RuntimeWarning: invalid value encountered in divide\n",
      "  dq_dv_start=dq/dv\n",
      "C:\\Users\\dmmkm\\AppData\\Local\\Temp\\ipykernel_27488\\1804582149.py:122: RuntimeWarning: invalid value encountered in divide\n",
      "  dq_dv_end=dq/dv\n",
      "C:\\Users\\dmmkm\\AppData\\Local\\Temp\\ipykernel_27488\\1804582149.py:123: FutureWarning: The behavior of `series[i:j]` with an integer-dtype index is deprecated. In a future version, this will be treated as *label-based* indexing, consistent with e.g. `series[i]` lookups. To retain the old behavior, use `series.iloc[i:j]`. To get the future behavior, use `series.loc[i:j]`.\n",
      "  x=cycle_end_df['Voltage (V)'][1:]\n",
      "C:\\Users\\dmmkm\\AppData\\Local\\Temp\\ipykernel_27488\\1804582149.py:145: FutureWarning: The behavior of `series[i:j]` with an integer-dtype index is deprecated. In a future version, this will be treated as *label-based* indexing, consistent with e.g. `series[i]` lookups. To retain the old behavior, use `series.iloc[i:j]`. To get the future behavior, use `series.loc[i:j]`.\n",
      "  dcap_end=cycle_end_df['Discharge_Capacity (Ah)'][1:]\n",
      "C:\\Users\\dmmkm\\AppData\\Local\\Temp\\ipykernel_27488\\1804582149.py:146: FutureWarning: The behavior of `series[i:j]` with an integer-dtype index is deprecated. In a future version, this will be treated as *label-based* indexing, consistent with e.g. `series[i]` lookups. To retain the old behavior, use `series.iloc[i:j]`. To get the future behavior, use `series.loc[i:j]`.\n",
      "  v_end=cycle_end_df['Voltage (V)'][1:]\n"
     ]
    },
    {
     "name": "stdout",
     "output_type": "stream",
     "text": [
      "SNL_18650_LFP_25C_0-100_0.5-3C_a_timeseries.csv\n"
     ]
    },
    {
     "name": "stderr",
     "output_type": "stream",
     "text": [
      "C:\\Users\\dmmkm\\AppData\\Local\\Temp\\ipykernel_27488\\1804582149.py:112: RuntimeWarning: divide by zero encountered in divide\n",
      "  dq_dv_start=dq/dv\n",
      "C:\\Users\\dmmkm\\AppData\\Local\\Temp\\ipykernel_27488\\1804582149.py:112: RuntimeWarning: invalid value encountered in divide\n",
      "  dq_dv_start=dq/dv\n",
      "C:\\Users\\dmmkm\\AppData\\Local\\Temp\\ipykernel_27488\\1804582149.py:122: RuntimeWarning: invalid value encountered in divide\n",
      "  dq_dv_end=dq/dv\n",
      "C:\\Users\\dmmkm\\AppData\\Local\\Temp\\ipykernel_27488\\1804582149.py:123: FutureWarning: The behavior of `series[i:j]` with an integer-dtype index is deprecated. In a future version, this will be treated as *label-based* indexing, consistent with e.g. `series[i]` lookups. To retain the old behavior, use `series.iloc[i:j]`. To get the future behavior, use `series.loc[i:j]`.\n",
      "  x=cycle_end_df['Voltage (V)'][1:]\n",
      "C:\\Users\\dmmkm\\AppData\\Local\\Temp\\ipykernel_27488\\1804582149.py:145: FutureWarning: The behavior of `series[i:j]` with an integer-dtype index is deprecated. In a future version, this will be treated as *label-based* indexing, consistent with e.g. `series[i]` lookups. To retain the old behavior, use `series.iloc[i:j]`. To get the future behavior, use `series.loc[i:j]`.\n",
      "  dcap_end=cycle_end_df['Discharge_Capacity (Ah)'][1:]\n",
      "C:\\Users\\dmmkm\\AppData\\Local\\Temp\\ipykernel_27488\\1804582149.py:146: FutureWarning: The behavior of `series[i:j]` with an integer-dtype index is deprecated. In a future version, this will be treated as *label-based* indexing, consistent with e.g. `series[i]` lookups. To retain the old behavior, use `series.iloc[i:j]`. To get the future behavior, use `series.loc[i:j]`.\n",
      "  v_end=cycle_end_df['Voltage (V)'][1:]\n"
     ]
    },
    {
     "name": "stdout",
     "output_type": "stream",
     "text": [
      "SNL_18650_LFP_25C_0-100_0.5-3C_b_timeseries.csv\n"
     ]
    },
    {
     "name": "stderr",
     "output_type": "stream",
     "text": [
      "C:\\Users\\dmmkm\\AppData\\Local\\Temp\\ipykernel_27488\\1804582149.py:112: RuntimeWarning: divide by zero encountered in divide\n",
      "  dq_dv_start=dq/dv\n",
      "C:\\Users\\dmmkm\\AppData\\Local\\Temp\\ipykernel_27488\\1804582149.py:112: RuntimeWarning: invalid value encountered in divide\n",
      "  dq_dv_start=dq/dv\n",
      "C:\\Users\\dmmkm\\AppData\\Local\\Temp\\ipykernel_27488\\1804582149.py:122: RuntimeWarning: invalid value encountered in divide\n",
      "  dq_dv_end=dq/dv\n",
      "C:\\Users\\dmmkm\\AppData\\Local\\Temp\\ipykernel_27488\\1804582149.py:123: FutureWarning: The behavior of `series[i:j]` with an integer-dtype index is deprecated. In a future version, this will be treated as *label-based* indexing, consistent with e.g. `series[i]` lookups. To retain the old behavior, use `series.iloc[i:j]`. To get the future behavior, use `series.loc[i:j]`.\n",
      "  x=cycle_end_df['Voltage (V)'][1:]\n",
      "C:\\Users\\dmmkm\\AppData\\Local\\Temp\\ipykernel_27488\\1804582149.py:145: FutureWarning: The behavior of `series[i:j]` with an integer-dtype index is deprecated. In a future version, this will be treated as *label-based* indexing, consistent with e.g. `series[i]` lookups. To retain the old behavior, use `series.iloc[i:j]`. To get the future behavior, use `series.loc[i:j]`.\n",
      "  dcap_end=cycle_end_df['Discharge_Capacity (Ah)'][1:]\n",
      "C:\\Users\\dmmkm\\AppData\\Local\\Temp\\ipykernel_27488\\1804582149.py:146: FutureWarning: The behavior of `series[i:j]` with an integer-dtype index is deprecated. In a future version, this will be treated as *label-based* indexing, consistent with e.g. `series[i]` lookups. To retain the old behavior, use `series.iloc[i:j]`. To get the future behavior, use `series.loc[i:j]`.\n",
      "  v_end=cycle_end_df['Voltage (V)'][1:]\n"
     ]
    },
    {
     "name": "stdout",
     "output_type": "stream",
     "text": [
      "SNL_18650_LFP_25C_0-100_0.5-3C_c_timeseries.csv\n"
     ]
    },
    {
     "name": "stderr",
     "output_type": "stream",
     "text": [
      "C:\\Users\\dmmkm\\AppData\\Local\\Temp\\ipykernel_27488\\1804582149.py:112: RuntimeWarning: divide by zero encountered in divide\n",
      "  dq_dv_start=dq/dv\n",
      "C:\\Users\\dmmkm\\AppData\\Local\\Temp\\ipykernel_27488\\1804582149.py:112: RuntimeWarning: invalid value encountered in divide\n",
      "  dq_dv_start=dq/dv\n",
      "C:\\Users\\dmmkm\\AppData\\Local\\Temp\\ipykernel_27488\\1804582149.py:122: RuntimeWarning: invalid value encountered in divide\n",
      "  dq_dv_end=dq/dv\n",
      "C:\\Users\\dmmkm\\AppData\\Local\\Temp\\ipykernel_27488\\1804582149.py:123: FutureWarning: The behavior of `series[i:j]` with an integer-dtype index is deprecated. In a future version, this will be treated as *label-based* indexing, consistent with e.g. `series[i]` lookups. To retain the old behavior, use `series.iloc[i:j]`. To get the future behavior, use `series.loc[i:j]`.\n",
      "  x=cycle_end_df['Voltage (V)'][1:]\n",
      "C:\\Users\\dmmkm\\AppData\\Local\\Temp\\ipykernel_27488\\1804582149.py:145: FutureWarning: The behavior of `series[i:j]` with an integer-dtype index is deprecated. In a future version, this will be treated as *label-based* indexing, consistent with e.g. `series[i]` lookups. To retain the old behavior, use `series.iloc[i:j]`. To get the future behavior, use `series.loc[i:j]`.\n",
      "  dcap_end=cycle_end_df['Discharge_Capacity (Ah)'][1:]\n",
      "C:\\Users\\dmmkm\\AppData\\Local\\Temp\\ipykernel_27488\\1804582149.py:146: FutureWarning: The behavior of `series[i:j]` with an integer-dtype index is deprecated. In a future version, this will be treated as *label-based* indexing, consistent with e.g. `series[i]` lookups. To retain the old behavior, use `series.iloc[i:j]`. To get the future behavior, use `series.loc[i:j]`.\n",
      "  v_end=cycle_end_df['Voltage (V)'][1:]\n"
     ]
    },
    {
     "name": "stdout",
     "output_type": "stream",
     "text": [
      "SNL_18650_LFP_25C_0-100_0.5-3C_d_timeseries.csv\n"
     ]
    },
    {
     "name": "stderr",
     "output_type": "stream",
     "text": [
      "C:\\Users\\dmmkm\\AppData\\Local\\Temp\\ipykernel_27488\\1804582149.py:112: RuntimeWarning: divide by zero encountered in divide\n",
      "  dq_dv_start=dq/dv\n",
      "C:\\Users\\dmmkm\\AppData\\Local\\Temp\\ipykernel_27488\\1804582149.py:112: RuntimeWarning: invalid value encountered in divide\n",
      "  dq_dv_start=dq/dv\n",
      "C:\\Users\\dmmkm\\AppData\\Local\\Temp\\ipykernel_27488\\1804582149.py:122: RuntimeWarning: invalid value encountered in divide\n",
      "  dq_dv_end=dq/dv\n",
      "C:\\Users\\dmmkm\\AppData\\Local\\Temp\\ipykernel_27488\\1804582149.py:123: FutureWarning: The behavior of `series[i:j]` with an integer-dtype index is deprecated. In a future version, this will be treated as *label-based* indexing, consistent with e.g. `series[i]` lookups. To retain the old behavior, use `series.iloc[i:j]`. To get the future behavior, use `series.loc[i:j]`.\n",
      "  x=cycle_end_df['Voltage (V)'][1:]\n",
      "C:\\Users\\dmmkm\\AppData\\Local\\Temp\\ipykernel_27488\\1804582149.py:145: FutureWarning: The behavior of `series[i:j]` with an integer-dtype index is deprecated. In a future version, this will be treated as *label-based* indexing, consistent with e.g. `series[i]` lookups. To retain the old behavior, use `series.iloc[i:j]`. To get the future behavior, use `series.loc[i:j]`.\n",
      "  dcap_end=cycle_end_df['Discharge_Capacity (Ah)'][1:]\n",
      "C:\\Users\\dmmkm\\AppData\\Local\\Temp\\ipykernel_27488\\1804582149.py:146: FutureWarning: The behavior of `series[i:j]` with an integer-dtype index is deprecated. In a future version, this will be treated as *label-based* indexing, consistent with e.g. `series[i]` lookups. To retain the old behavior, use `series.iloc[i:j]`. To get the future behavior, use `series.loc[i:j]`.\n",
      "  v_end=cycle_end_df['Voltage (V)'][1:]\n"
     ]
    },
    {
     "name": "stdout",
     "output_type": "stream",
     "text": [
      "SNL_18650_LFP_25C_20-80_0.5-0.5C_a_timeseries.csv\n"
     ]
    },
    {
     "name": "stderr",
     "output_type": "stream",
     "text": [
      "C:\\Users\\dmmkm\\AppData\\Local\\Temp\\ipykernel_27488\\1804582149.py:112: RuntimeWarning: divide by zero encountered in divide\n",
      "  dq_dv_start=dq/dv\n",
      "C:\\Users\\dmmkm\\AppData\\Local\\Temp\\ipykernel_27488\\1804582149.py:112: RuntimeWarning: invalid value encountered in divide\n",
      "  dq_dv_start=dq/dv\n",
      "C:\\Users\\dmmkm\\AppData\\Local\\Temp\\ipykernel_27488\\1804582149.py:123: FutureWarning: The behavior of `series[i:j]` with an integer-dtype index is deprecated. In a future version, this will be treated as *label-based* indexing, consistent with e.g. `series[i]` lookups. To retain the old behavior, use `series.iloc[i:j]`. To get the future behavior, use `series.loc[i:j]`.\n",
      "  x=cycle_end_df['Voltage (V)'][1:]\n",
      "C:\\Users\\dmmkm\\AppData\\Local\\Temp\\ipykernel_27488\\1804582149.py:145: FutureWarning: The behavior of `series[i:j]` with an integer-dtype index is deprecated. In a future version, this will be treated as *label-based* indexing, consistent with e.g. `series[i]` lookups. To retain the old behavior, use `series.iloc[i:j]`. To get the future behavior, use `series.loc[i:j]`.\n",
      "  dcap_end=cycle_end_df['Discharge_Capacity (Ah)'][1:]\n",
      "C:\\Users\\dmmkm\\AppData\\Local\\Temp\\ipykernel_27488\\1804582149.py:146: FutureWarning: The behavior of `series[i:j]` with an integer-dtype index is deprecated. In a future version, this will be treated as *label-based* indexing, consistent with e.g. `series[i]` lookups. To retain the old behavior, use `series.iloc[i:j]`. To get the future behavior, use `series.loc[i:j]`.\n",
      "  v_end=cycle_end_df['Voltage (V)'][1:]\n"
     ]
    },
    {
     "name": "stdout",
     "output_type": "stream",
     "text": [
      "SNL_18650_LFP_25C_20-80_0.5-0.5C_b_timeseries.csv\n"
     ]
    },
    {
     "name": "stderr",
     "output_type": "stream",
     "text": [
      "C:\\Users\\dmmkm\\AppData\\Local\\Temp\\ipykernel_27488\\1804582149.py:112: RuntimeWarning: divide by zero encountered in divide\n",
      "  dq_dv_start=dq/dv\n",
      "C:\\Users\\dmmkm\\AppData\\Local\\Temp\\ipykernel_27488\\1804582149.py:112: RuntimeWarning: invalid value encountered in divide\n",
      "  dq_dv_start=dq/dv\n",
      "C:\\Users\\dmmkm\\AppData\\Local\\Temp\\ipykernel_27488\\1804582149.py:122: RuntimeWarning: invalid value encountered in divide\n",
      "  dq_dv_end=dq/dv\n",
      "C:\\Users\\dmmkm\\AppData\\Local\\Temp\\ipykernel_27488\\1804582149.py:123: FutureWarning: The behavior of `series[i:j]` with an integer-dtype index is deprecated. In a future version, this will be treated as *label-based* indexing, consistent with e.g. `series[i]` lookups. To retain the old behavior, use `series.iloc[i:j]`. To get the future behavior, use `series.loc[i:j]`.\n",
      "  x=cycle_end_df['Voltage (V)'][1:]\n",
      "C:\\Users\\dmmkm\\AppData\\Local\\Temp\\ipykernel_27488\\1804582149.py:145: FutureWarning: The behavior of `series[i:j]` with an integer-dtype index is deprecated. In a future version, this will be treated as *label-based* indexing, consistent with e.g. `series[i]` lookups. To retain the old behavior, use `series.iloc[i:j]`. To get the future behavior, use `series.loc[i:j]`.\n",
      "  dcap_end=cycle_end_df['Discharge_Capacity (Ah)'][1:]\n",
      "C:\\Users\\dmmkm\\AppData\\Local\\Temp\\ipykernel_27488\\1804582149.py:146: FutureWarning: The behavior of `series[i:j]` with an integer-dtype index is deprecated. In a future version, this will be treated as *label-based* indexing, consistent with e.g. `series[i]` lookups. To retain the old behavior, use `series.iloc[i:j]`. To get the future behavior, use `series.loc[i:j]`.\n",
      "  v_end=cycle_end_df['Voltage (V)'][1:]\n"
     ]
    },
    {
     "name": "stdout",
     "output_type": "stream",
     "text": [
      "SNL_18650_LFP_25C_20-80_0.5-0.5C_c_timeseries.csv\n"
     ]
    },
    {
     "name": "stderr",
     "output_type": "stream",
     "text": [
      "C:\\Users\\dmmkm\\AppData\\Local\\Temp\\ipykernel_27488\\1804582149.py:112: RuntimeWarning: divide by zero encountered in divide\n",
      "  dq_dv_start=dq/dv\n",
      "C:\\Users\\dmmkm\\AppData\\Local\\Temp\\ipykernel_27488\\1804582149.py:112: RuntimeWarning: invalid value encountered in divide\n",
      "  dq_dv_start=dq/dv\n",
      "C:\\Users\\dmmkm\\AppData\\Local\\Temp\\ipykernel_27488\\1804582149.py:122: RuntimeWarning: invalid value encountered in divide\n",
      "  dq_dv_end=dq/dv\n",
      "C:\\Users\\dmmkm\\AppData\\Local\\Temp\\ipykernel_27488\\1804582149.py:123: FutureWarning: The behavior of `series[i:j]` with an integer-dtype index is deprecated. In a future version, this will be treated as *label-based* indexing, consistent with e.g. `series[i]` lookups. To retain the old behavior, use `series.iloc[i:j]`. To get the future behavior, use `series.loc[i:j]`.\n",
      "  x=cycle_end_df['Voltage (V)'][1:]\n",
      "C:\\Users\\dmmkm\\AppData\\Local\\Temp\\ipykernel_27488\\1804582149.py:145: FutureWarning: The behavior of `series[i:j]` with an integer-dtype index is deprecated. In a future version, this will be treated as *label-based* indexing, consistent with e.g. `series[i]` lookups. To retain the old behavior, use `series.iloc[i:j]`. To get the future behavior, use `series.loc[i:j]`.\n",
      "  dcap_end=cycle_end_df['Discharge_Capacity (Ah)'][1:]\n",
      "C:\\Users\\dmmkm\\AppData\\Local\\Temp\\ipykernel_27488\\1804582149.py:146: FutureWarning: The behavior of `series[i:j]` with an integer-dtype index is deprecated. In a future version, this will be treated as *label-based* indexing, consistent with e.g. `series[i]` lookups. To retain the old behavior, use `series.iloc[i:j]`. To get the future behavior, use `series.loc[i:j]`.\n",
      "  v_end=cycle_end_df['Voltage (V)'][1:]\n"
     ]
    },
    {
     "name": "stdout",
     "output_type": "stream",
     "text": [
      "SNL_18650_LFP_25C_20-80_0.5-0.5C_d_timeseries.csv\n"
     ]
    },
    {
     "name": "stderr",
     "output_type": "stream",
     "text": [
      "C:\\Users\\dmmkm\\AppData\\Local\\Temp\\ipykernel_27488\\1804582149.py:112: RuntimeWarning: divide by zero encountered in divide\n",
      "  dq_dv_start=dq/dv\n",
      "C:\\Users\\dmmkm\\AppData\\Local\\Temp\\ipykernel_27488\\1804582149.py:112: RuntimeWarning: invalid value encountered in divide\n",
      "  dq_dv_start=dq/dv\n",
      "C:\\Users\\dmmkm\\AppData\\Local\\Temp\\ipykernel_27488\\1804582149.py:122: RuntimeWarning: invalid value encountered in divide\n",
      "  dq_dv_end=dq/dv\n",
      "C:\\Users\\dmmkm\\AppData\\Local\\Temp\\ipykernel_27488\\1804582149.py:123: FutureWarning: The behavior of `series[i:j]` with an integer-dtype index is deprecated. In a future version, this will be treated as *label-based* indexing, consistent with e.g. `series[i]` lookups. To retain the old behavior, use `series.iloc[i:j]`. To get the future behavior, use `series.loc[i:j]`.\n",
      "  x=cycle_end_df['Voltage (V)'][1:]\n",
      "C:\\Users\\dmmkm\\AppData\\Local\\Temp\\ipykernel_27488\\1804582149.py:145: FutureWarning: The behavior of `series[i:j]` with an integer-dtype index is deprecated. In a future version, this will be treated as *label-based* indexing, consistent with e.g. `series[i]` lookups. To retain the old behavior, use `series.iloc[i:j]`. To get the future behavior, use `series.loc[i:j]`.\n",
      "  dcap_end=cycle_end_df['Discharge_Capacity (Ah)'][1:]\n",
      "C:\\Users\\dmmkm\\AppData\\Local\\Temp\\ipykernel_27488\\1804582149.py:146: FutureWarning: The behavior of `series[i:j]` with an integer-dtype index is deprecated. In a future version, this will be treated as *label-based* indexing, consistent with e.g. `series[i]` lookups. To retain the old behavior, use `series.iloc[i:j]`. To get the future behavior, use `series.loc[i:j]`.\n",
      "  v_end=cycle_end_df['Voltage (V)'][1:]\n"
     ]
    },
    {
     "name": "stdout",
     "output_type": "stream",
     "text": [
      "SNL_18650_LFP_25C_20-80_0.5-3C_a_timeseries.csv\n"
     ]
    },
    {
     "name": "stderr",
     "output_type": "stream",
     "text": [
      "C:\\Users\\dmmkm\\AppData\\Local\\Temp\\ipykernel_27488\\1804582149.py:112: RuntimeWarning: divide by zero encountered in divide\n",
      "  dq_dv_start=dq/dv\n",
      "C:\\Users\\dmmkm\\AppData\\Local\\Temp\\ipykernel_27488\\1804582149.py:112: RuntimeWarning: invalid value encountered in divide\n",
      "  dq_dv_start=dq/dv\n",
      "C:\\Users\\dmmkm\\AppData\\Local\\Temp\\ipykernel_27488\\1804582149.py:122: RuntimeWarning: invalid value encountered in divide\n",
      "  dq_dv_end=dq/dv\n",
      "C:\\Users\\dmmkm\\AppData\\Local\\Temp\\ipykernel_27488\\1804582149.py:123: FutureWarning: The behavior of `series[i:j]` with an integer-dtype index is deprecated. In a future version, this will be treated as *label-based* indexing, consistent with e.g. `series[i]` lookups. To retain the old behavior, use `series.iloc[i:j]`. To get the future behavior, use `series.loc[i:j]`.\n",
      "  x=cycle_end_df['Voltage (V)'][1:]\n",
      "C:\\Users\\dmmkm\\AppData\\Local\\Temp\\ipykernel_27488\\1804582149.py:145: FutureWarning: The behavior of `series[i:j]` with an integer-dtype index is deprecated. In a future version, this will be treated as *label-based* indexing, consistent with e.g. `series[i]` lookups. To retain the old behavior, use `series.iloc[i:j]`. To get the future behavior, use `series.loc[i:j]`.\n",
      "  dcap_end=cycle_end_df['Discharge_Capacity (Ah)'][1:]\n",
      "C:\\Users\\dmmkm\\AppData\\Local\\Temp\\ipykernel_27488\\1804582149.py:146: FutureWarning: The behavior of `series[i:j]` with an integer-dtype index is deprecated. In a future version, this will be treated as *label-based* indexing, consistent with e.g. `series[i]` lookups. To retain the old behavior, use `series.iloc[i:j]`. To get the future behavior, use `series.loc[i:j]`.\n",
      "  v_end=cycle_end_df['Voltage (V)'][1:]\n"
     ]
    },
    {
     "name": "stdout",
     "output_type": "stream",
     "text": [
      "SNL_18650_LFP_25C_40-60_0.5-0.5C_a_timeseries.csv\n"
     ]
    },
    {
     "name": "stderr",
     "output_type": "stream",
     "text": [
      "C:\\Users\\dmmkm\\AppData\\Local\\Temp\\ipykernel_27488\\1804582149.py:112: RuntimeWarning: divide by zero encountered in divide\n",
      "  dq_dv_start=dq/dv\n",
      "C:\\Users\\dmmkm\\AppData\\Local\\Temp\\ipykernel_27488\\1804582149.py:112: RuntimeWarning: invalid value encountered in divide\n",
      "  dq_dv_start=dq/dv\n",
      "C:\\Users\\dmmkm\\AppData\\Local\\Temp\\ipykernel_27488\\1804582149.py:122: RuntimeWarning: invalid value encountered in divide\n",
      "  dq_dv_end=dq/dv\n",
      "C:\\Users\\dmmkm\\AppData\\Local\\Temp\\ipykernel_27488\\1804582149.py:123: FutureWarning: The behavior of `series[i:j]` with an integer-dtype index is deprecated. In a future version, this will be treated as *label-based* indexing, consistent with e.g. `series[i]` lookups. To retain the old behavior, use `series.iloc[i:j]`. To get the future behavior, use `series.loc[i:j]`.\n",
      "  x=cycle_end_df['Voltage (V)'][1:]\n",
      "c:\\Users\\dmmkm\\anaconda3\\envs\\general\\lib\\site-packages\\scipy\\optimize\\_minpack_py.py:833: OptimizeWarning: Covariance of the parameters could not be estimated\n",
      "  warnings.warn('Covariance of the parameters could not be estimated',\n",
      "C:\\Users\\dmmkm\\AppData\\Local\\Temp\\ipykernel_27488\\1804582149.py:145: FutureWarning: The behavior of `series[i:j]` with an integer-dtype index is deprecated. In a future version, this will be treated as *label-based* indexing, consistent with e.g. `series[i]` lookups. To retain the old behavior, use `series.iloc[i:j]`. To get the future behavior, use `series.loc[i:j]`.\n",
      "  dcap_end=cycle_end_df['Discharge_Capacity (Ah)'][1:]\n",
      "C:\\Users\\dmmkm\\AppData\\Local\\Temp\\ipykernel_27488\\1804582149.py:146: FutureWarning: The behavior of `series[i:j]` with an integer-dtype index is deprecated. In a future version, this will be treated as *label-based* indexing, consistent with e.g. `series[i]` lookups. To retain the old behavior, use `series.iloc[i:j]`. To get the future behavior, use `series.loc[i:j]`.\n",
      "  v_end=cycle_end_df['Voltage (V)'][1:]\n"
     ]
    },
    {
     "name": "stdout",
     "output_type": "stream",
     "text": [
      "SNL_18650_LFP_25C_40-60_0.5-0.5C_b_timeseries.csv\n"
     ]
    },
    {
     "name": "stderr",
     "output_type": "stream",
     "text": [
      "C:\\Users\\dmmkm\\AppData\\Local\\Temp\\ipykernel_27488\\1804582149.py:112: RuntimeWarning: divide by zero encountered in divide\n",
      "  dq_dv_start=dq/dv\n",
      "C:\\Users\\dmmkm\\AppData\\Local\\Temp\\ipykernel_27488\\1804582149.py:112: RuntimeWarning: invalid value encountered in divide\n",
      "  dq_dv_start=dq/dv\n",
      "C:\\Users\\dmmkm\\AppData\\Local\\Temp\\ipykernel_27488\\1804582149.py:122: RuntimeWarning: invalid value encountered in divide\n",
      "  dq_dv_end=dq/dv\n",
      "C:\\Users\\dmmkm\\AppData\\Local\\Temp\\ipykernel_27488\\1804582149.py:123: FutureWarning: The behavior of `series[i:j]` with an integer-dtype index is deprecated. In a future version, this will be treated as *label-based* indexing, consistent with e.g. `series[i]` lookups. To retain the old behavior, use `series.iloc[i:j]`. To get the future behavior, use `series.loc[i:j]`.\n",
      "  x=cycle_end_df['Voltage (V)'][1:]\n",
      "C:\\Users\\dmmkm\\AppData\\Local\\Temp\\ipykernel_27488\\1804582149.py:145: FutureWarning: The behavior of `series[i:j]` with an integer-dtype index is deprecated. In a future version, this will be treated as *label-based* indexing, consistent with e.g. `series[i]` lookups. To retain the old behavior, use `series.iloc[i:j]`. To get the future behavior, use `series.loc[i:j]`.\n",
      "  dcap_end=cycle_end_df['Discharge_Capacity (Ah)'][1:]\n",
      "C:\\Users\\dmmkm\\AppData\\Local\\Temp\\ipykernel_27488\\1804582149.py:146: FutureWarning: The behavior of `series[i:j]` with an integer-dtype index is deprecated. In a future version, this will be treated as *label-based* indexing, consistent with e.g. `series[i]` lookups. To retain the old behavior, use `series.iloc[i:j]`. To get the future behavior, use `series.loc[i:j]`.\n",
      "  v_end=cycle_end_df['Voltage (V)'][1:]\n"
     ]
    },
    {
     "name": "stdout",
     "output_type": "stream",
     "text": [
      "SNL_18650_LFP_25C_40-60_0.5-3C_b_timeseries.csv\n"
     ]
    },
    {
     "name": "stderr",
     "output_type": "stream",
     "text": [
      "C:\\Users\\dmmkm\\AppData\\Local\\Temp\\ipykernel_27488\\1804582149.py:112: RuntimeWarning: divide by zero encountered in divide\n",
      "  dq_dv_start=dq/dv\n",
      "C:\\Users\\dmmkm\\AppData\\Local\\Temp\\ipykernel_27488\\1804582149.py:112: RuntimeWarning: invalid value encountered in divide\n",
      "  dq_dv_start=dq/dv\n",
      "C:\\Users\\dmmkm\\AppData\\Local\\Temp\\ipykernel_27488\\1804582149.py:122: RuntimeWarning: invalid value encountered in divide\n",
      "  dq_dv_end=dq/dv\n",
      "C:\\Users\\dmmkm\\AppData\\Local\\Temp\\ipykernel_27488\\1804582149.py:123: FutureWarning: The behavior of `series[i:j]` with an integer-dtype index is deprecated. In a future version, this will be treated as *label-based* indexing, consistent with e.g. `series[i]` lookups. To retain the old behavior, use `series.iloc[i:j]`. To get the future behavior, use `series.loc[i:j]`.\n",
      "  x=cycle_end_df['Voltage (V)'][1:]\n",
      "C:\\Users\\dmmkm\\AppData\\Local\\Temp\\ipykernel_27488\\1804582149.py:145: FutureWarning: The behavior of `series[i:j]` with an integer-dtype index is deprecated. In a future version, this will be treated as *label-based* indexing, consistent with e.g. `series[i]` lookups. To retain the old behavior, use `series.iloc[i:j]`. To get the future behavior, use `series.loc[i:j]`.\n",
      "  dcap_end=cycle_end_df['Discharge_Capacity (Ah)'][1:]\n",
      "C:\\Users\\dmmkm\\AppData\\Local\\Temp\\ipykernel_27488\\1804582149.py:146: FutureWarning: The behavior of `series[i:j]` with an integer-dtype index is deprecated. In a future version, this will be treated as *label-based* indexing, consistent with e.g. `series[i]` lookups. To retain the old behavior, use `series.iloc[i:j]`. To get the future behavior, use `series.loc[i:j]`.\n",
      "  v_end=cycle_end_df['Voltage (V)'][1:]\n"
     ]
    },
    {
     "name": "stdout",
     "output_type": "stream",
     "text": [
      "SNL_18650_LFP_35C_0-100_0.5-1C_a_timeseries.csv\n"
     ]
    },
    {
     "name": "stderr",
     "output_type": "stream",
     "text": [
      "C:\\Users\\dmmkm\\AppData\\Local\\Temp\\ipykernel_27488\\1804582149.py:112: RuntimeWarning: divide by zero encountered in divide\n",
      "  dq_dv_start=dq/dv\n",
      "C:\\Users\\dmmkm\\AppData\\Local\\Temp\\ipykernel_27488\\1804582149.py:112: RuntimeWarning: invalid value encountered in divide\n",
      "  dq_dv_start=dq/dv\n",
      "C:\\Users\\dmmkm\\AppData\\Local\\Temp\\ipykernel_27488\\1804582149.py:122: RuntimeWarning: invalid value encountered in divide\n",
      "  dq_dv_end=dq/dv\n",
      "C:\\Users\\dmmkm\\AppData\\Local\\Temp\\ipykernel_27488\\1804582149.py:123: FutureWarning: The behavior of `series[i:j]` with an integer-dtype index is deprecated. In a future version, this will be treated as *label-based* indexing, consistent with e.g. `series[i]` lookups. To retain the old behavior, use `series.iloc[i:j]`. To get the future behavior, use `series.loc[i:j]`.\n",
      "  x=cycle_end_df['Voltage (V)'][1:]\n",
      "C:\\Users\\dmmkm\\AppData\\Local\\Temp\\ipykernel_27488\\1804582149.py:145: FutureWarning: The behavior of `series[i:j]` with an integer-dtype index is deprecated. In a future version, this will be treated as *label-based* indexing, consistent with e.g. `series[i]` lookups. To retain the old behavior, use `series.iloc[i:j]`. To get the future behavior, use `series.loc[i:j]`.\n",
      "  dcap_end=cycle_end_df['Discharge_Capacity (Ah)'][1:]\n",
      "C:\\Users\\dmmkm\\AppData\\Local\\Temp\\ipykernel_27488\\1804582149.py:146: FutureWarning: The behavior of `series[i:j]` with an integer-dtype index is deprecated. In a future version, this will be treated as *label-based* indexing, consistent with e.g. `series[i]` lookups. To retain the old behavior, use `series.iloc[i:j]`. To get the future behavior, use `series.loc[i:j]`.\n",
      "  v_end=cycle_end_df['Voltage (V)'][1:]\n"
     ]
    },
    {
     "name": "stdout",
     "output_type": "stream",
     "text": [
      "SNL_18650_LFP_35C_0-100_0.5-1C_b_timeseries.csv\n"
     ]
    },
    {
     "name": "stderr",
     "output_type": "stream",
     "text": [
      "C:\\Users\\dmmkm\\AppData\\Local\\Temp\\ipykernel_27488\\1804582149.py:112: RuntimeWarning: divide by zero encountered in divide\n",
      "  dq_dv_start=dq/dv\n",
      "C:\\Users\\dmmkm\\AppData\\Local\\Temp\\ipykernel_27488\\1804582149.py:112: RuntimeWarning: invalid value encountered in divide\n",
      "  dq_dv_start=dq/dv\n",
      "C:\\Users\\dmmkm\\AppData\\Local\\Temp\\ipykernel_27488\\1804582149.py:122: RuntimeWarning: invalid value encountered in divide\n",
      "  dq_dv_end=dq/dv\n",
      "C:\\Users\\dmmkm\\AppData\\Local\\Temp\\ipykernel_27488\\1804582149.py:123: FutureWarning: The behavior of `series[i:j]` with an integer-dtype index is deprecated. In a future version, this will be treated as *label-based* indexing, consistent with e.g. `series[i]` lookups. To retain the old behavior, use `series.iloc[i:j]`. To get the future behavior, use `series.loc[i:j]`.\n",
      "  x=cycle_end_df['Voltage (V)'][1:]\n",
      "C:\\Users\\dmmkm\\AppData\\Local\\Temp\\ipykernel_27488\\1804582149.py:145: FutureWarning: The behavior of `series[i:j]` with an integer-dtype index is deprecated. In a future version, this will be treated as *label-based* indexing, consistent with e.g. `series[i]` lookups. To retain the old behavior, use `series.iloc[i:j]`. To get the future behavior, use `series.loc[i:j]`.\n",
      "  dcap_end=cycle_end_df['Discharge_Capacity (Ah)'][1:]\n",
      "C:\\Users\\dmmkm\\AppData\\Local\\Temp\\ipykernel_27488\\1804582149.py:146: FutureWarning: The behavior of `series[i:j]` with an integer-dtype index is deprecated. In a future version, this will be treated as *label-based* indexing, consistent with e.g. `series[i]` lookups. To retain the old behavior, use `series.iloc[i:j]`. To get the future behavior, use `series.loc[i:j]`.\n",
      "  v_end=cycle_end_df['Voltage (V)'][1:]\n"
     ]
    },
    {
     "name": "stdout",
     "output_type": "stream",
     "text": [
      "SNL_18650_LFP_35C_0-100_0.5-1C_c_timeseries.csv\n"
     ]
    },
    {
     "name": "stderr",
     "output_type": "stream",
     "text": [
      "C:\\Users\\dmmkm\\AppData\\Local\\Temp\\ipykernel_27488\\1804582149.py:112: RuntimeWarning: divide by zero encountered in divide\n",
      "  dq_dv_start=dq/dv\n",
      "C:\\Users\\dmmkm\\AppData\\Local\\Temp\\ipykernel_27488\\1804582149.py:112: RuntimeWarning: invalid value encountered in divide\n",
      "  dq_dv_start=dq/dv\n",
      "C:\\Users\\dmmkm\\AppData\\Local\\Temp\\ipykernel_27488\\1804582149.py:122: RuntimeWarning: invalid value encountered in divide\n",
      "  dq_dv_end=dq/dv\n",
      "C:\\Users\\dmmkm\\AppData\\Local\\Temp\\ipykernel_27488\\1804582149.py:123: FutureWarning: The behavior of `series[i:j]` with an integer-dtype index is deprecated. In a future version, this will be treated as *label-based* indexing, consistent with e.g. `series[i]` lookups. To retain the old behavior, use `series.iloc[i:j]`. To get the future behavior, use `series.loc[i:j]`.\n",
      "  x=cycle_end_df['Voltage (V)'][1:]\n",
      "C:\\Users\\dmmkm\\AppData\\Local\\Temp\\ipykernel_27488\\1804582149.py:145: FutureWarning: The behavior of `series[i:j]` with an integer-dtype index is deprecated. In a future version, this will be treated as *label-based* indexing, consistent with e.g. `series[i]` lookups. To retain the old behavior, use `series.iloc[i:j]`. To get the future behavior, use `series.loc[i:j]`.\n",
      "  dcap_end=cycle_end_df['Discharge_Capacity (Ah)'][1:]\n",
      "C:\\Users\\dmmkm\\AppData\\Local\\Temp\\ipykernel_27488\\1804582149.py:146: FutureWarning: The behavior of `series[i:j]` with an integer-dtype index is deprecated. In a future version, this will be treated as *label-based* indexing, consistent with e.g. `series[i]` lookups. To retain the old behavior, use `series.iloc[i:j]`. To get the future behavior, use `series.loc[i:j]`.\n",
      "  v_end=cycle_end_df['Voltage (V)'][1:]\n"
     ]
    },
    {
     "name": "stdout",
     "output_type": "stream",
     "text": [
      "SNL_18650_LFP_35C_0-100_0.5-1C_d_timeseries.csv\n"
     ]
    },
    {
     "name": "stderr",
     "output_type": "stream",
     "text": [
      "C:\\Users\\dmmkm\\AppData\\Local\\Temp\\ipykernel_27488\\1804582149.py:112: RuntimeWarning: divide by zero encountered in divide\n",
      "  dq_dv_start=dq/dv\n",
      "C:\\Users\\dmmkm\\AppData\\Local\\Temp\\ipykernel_27488\\1804582149.py:112: RuntimeWarning: invalid value encountered in divide\n",
      "  dq_dv_start=dq/dv\n",
      "C:\\Users\\dmmkm\\AppData\\Local\\Temp\\ipykernel_27488\\1804582149.py:122: RuntimeWarning: invalid value encountered in divide\n",
      "  dq_dv_end=dq/dv\n",
      "C:\\Users\\dmmkm\\AppData\\Local\\Temp\\ipykernel_27488\\1804582149.py:123: FutureWarning: The behavior of `series[i:j]` with an integer-dtype index is deprecated. In a future version, this will be treated as *label-based* indexing, consistent with e.g. `series[i]` lookups. To retain the old behavior, use `series.iloc[i:j]`. To get the future behavior, use `series.loc[i:j]`.\n",
      "  x=cycle_end_df['Voltage (V)'][1:]\n",
      "C:\\Users\\dmmkm\\AppData\\Local\\Temp\\ipykernel_27488\\1804582149.py:145: FutureWarning: The behavior of `series[i:j]` with an integer-dtype index is deprecated. In a future version, this will be treated as *label-based* indexing, consistent with e.g. `series[i]` lookups. To retain the old behavior, use `series.iloc[i:j]`. To get the future behavior, use `series.loc[i:j]`.\n",
      "  dcap_end=cycle_end_df['Discharge_Capacity (Ah)'][1:]\n",
      "C:\\Users\\dmmkm\\AppData\\Local\\Temp\\ipykernel_27488\\1804582149.py:146: FutureWarning: The behavior of `series[i:j]` with an integer-dtype index is deprecated. In a future version, this will be treated as *label-based* indexing, consistent with e.g. `series[i]` lookups. To retain the old behavior, use `series.iloc[i:j]`. To get the future behavior, use `series.loc[i:j]`.\n",
      "  v_end=cycle_end_df['Voltage (V)'][1:]\n"
     ]
    },
    {
     "name": "stdout",
     "output_type": "stream",
     "text": [
      "SNL_18650_LFP_35C_0-100_0.5-2C_a_timeseries.csv\n"
     ]
    },
    {
     "name": "stderr",
     "output_type": "stream",
     "text": [
      "C:\\Users\\dmmkm\\AppData\\Local\\Temp\\ipykernel_27488\\1804582149.py:112: RuntimeWarning: divide by zero encountered in divide\n",
      "  dq_dv_start=dq/dv\n",
      "C:\\Users\\dmmkm\\AppData\\Local\\Temp\\ipykernel_27488\\1804582149.py:112: RuntimeWarning: invalid value encountered in divide\n",
      "  dq_dv_start=dq/dv\n",
      "C:\\Users\\dmmkm\\AppData\\Local\\Temp\\ipykernel_27488\\1804582149.py:122: RuntimeWarning: invalid value encountered in divide\n",
      "  dq_dv_end=dq/dv\n",
      "C:\\Users\\dmmkm\\AppData\\Local\\Temp\\ipykernel_27488\\1804582149.py:123: FutureWarning: The behavior of `series[i:j]` with an integer-dtype index is deprecated. In a future version, this will be treated as *label-based* indexing, consistent with e.g. `series[i]` lookups. To retain the old behavior, use `series.iloc[i:j]`. To get the future behavior, use `series.loc[i:j]`.\n",
      "  x=cycle_end_df['Voltage (V)'][1:]\n",
      "C:\\Users\\dmmkm\\AppData\\Local\\Temp\\ipykernel_27488\\1804582149.py:145: FutureWarning: The behavior of `series[i:j]` with an integer-dtype index is deprecated. In a future version, this will be treated as *label-based* indexing, consistent with e.g. `series[i]` lookups. To retain the old behavior, use `series.iloc[i:j]`. To get the future behavior, use `series.loc[i:j]`.\n",
      "  dcap_end=cycle_end_df['Discharge_Capacity (Ah)'][1:]\n",
      "C:\\Users\\dmmkm\\AppData\\Local\\Temp\\ipykernel_27488\\1804582149.py:146: FutureWarning: The behavior of `series[i:j]` with an integer-dtype index is deprecated. In a future version, this will be treated as *label-based* indexing, consistent with e.g. `series[i]` lookups. To retain the old behavior, use `series.iloc[i:j]`. To get the future behavior, use `series.loc[i:j]`.\n",
      "  v_end=cycle_end_df['Voltage (V)'][1:]\n"
     ]
    },
    {
     "name": "stdout",
     "output_type": "stream",
     "text": [
      "SNL_18650_LFP_35C_0-100_0.5-2C_b_timeseries.csv\n"
     ]
    },
    {
     "name": "stderr",
     "output_type": "stream",
     "text": [
      "C:\\Users\\dmmkm\\AppData\\Local\\Temp\\ipykernel_27488\\1804582149.py:112: RuntimeWarning: divide by zero encountered in divide\n",
      "  dq_dv_start=dq/dv\n",
      "C:\\Users\\dmmkm\\AppData\\Local\\Temp\\ipykernel_27488\\1804582149.py:112: RuntimeWarning: invalid value encountered in divide\n",
      "  dq_dv_start=dq/dv\n",
      "C:\\Users\\dmmkm\\AppData\\Local\\Temp\\ipykernel_27488\\1804582149.py:122: RuntimeWarning: invalid value encountered in divide\n",
      "  dq_dv_end=dq/dv\n",
      "C:\\Users\\dmmkm\\AppData\\Local\\Temp\\ipykernel_27488\\1804582149.py:123: FutureWarning: The behavior of `series[i:j]` with an integer-dtype index is deprecated. In a future version, this will be treated as *label-based* indexing, consistent with e.g. `series[i]` lookups. To retain the old behavior, use `series.iloc[i:j]`. To get the future behavior, use `series.loc[i:j]`.\n",
      "  x=cycle_end_df['Voltage (V)'][1:]\n",
      "C:\\Users\\dmmkm\\AppData\\Local\\Temp\\ipykernel_27488\\1804582149.py:145: FutureWarning: The behavior of `series[i:j]` with an integer-dtype index is deprecated. In a future version, this will be treated as *label-based* indexing, consistent with e.g. `series[i]` lookups. To retain the old behavior, use `series.iloc[i:j]`. To get the future behavior, use `series.loc[i:j]`.\n",
      "  dcap_end=cycle_end_df['Discharge_Capacity (Ah)'][1:]\n",
      "C:\\Users\\dmmkm\\AppData\\Local\\Temp\\ipykernel_27488\\1804582149.py:146: FutureWarning: The behavior of `series[i:j]` with an integer-dtype index is deprecated. In a future version, this will be treated as *label-based* indexing, consistent with e.g. `series[i]` lookups. To retain the old behavior, use `series.iloc[i:j]`. To get the future behavior, use `series.loc[i:j]`.\n",
      "  v_end=cycle_end_df['Voltage (V)'][1:]\n"
     ]
    },
    {
     "name": "stdout",
     "output_type": "stream",
     "text": [
      "SNL_18650_NCA_15C_0-100_0.5-1C_a_timeseries.csv\n"
     ]
    },
    {
     "name": "stderr",
     "output_type": "stream",
     "text": [
      "C:\\Users\\dmmkm\\AppData\\Local\\Temp\\ipykernel_27488\\1804582149.py:112: RuntimeWarning: divide by zero encountered in divide\n",
      "  dq_dv_start=dq/dv\n",
      "C:\\Users\\dmmkm\\AppData\\Local\\Temp\\ipykernel_27488\\1804582149.py:112: RuntimeWarning: invalid value encountered in divide\n",
      "  dq_dv_start=dq/dv\n",
      "C:\\Users\\dmmkm\\AppData\\Local\\Temp\\ipykernel_27488\\1804582149.py:122: RuntimeWarning: invalid value encountered in divide\n",
      "  dq_dv_end=dq/dv\n",
      "C:\\Users\\dmmkm\\AppData\\Local\\Temp\\ipykernel_27488\\1804582149.py:123: FutureWarning: The behavior of `series[i:j]` with an integer-dtype index is deprecated. In a future version, this will be treated as *label-based* indexing, consistent with e.g. `series[i]` lookups. To retain the old behavior, use `series.iloc[i:j]`. To get the future behavior, use `series.loc[i:j]`.\n",
      "  x=cycle_end_df['Voltage (V)'][1:]\n",
      "C:\\Users\\dmmkm\\AppData\\Local\\Temp\\ipykernel_27488\\1804582149.py:145: FutureWarning: The behavior of `series[i:j]` with an integer-dtype index is deprecated. In a future version, this will be treated as *label-based* indexing, consistent with e.g. `series[i]` lookups. To retain the old behavior, use `series.iloc[i:j]`. To get the future behavior, use `series.loc[i:j]`.\n",
      "  dcap_end=cycle_end_df['Discharge_Capacity (Ah)'][1:]\n",
      "C:\\Users\\dmmkm\\AppData\\Local\\Temp\\ipykernel_27488\\1804582149.py:146: FutureWarning: The behavior of `series[i:j]` with an integer-dtype index is deprecated. In a future version, this will be treated as *label-based* indexing, consistent with e.g. `series[i]` lookups. To retain the old behavior, use `series.iloc[i:j]`. To get the future behavior, use `series.loc[i:j]`.\n",
      "  v_end=cycle_end_df['Voltage (V)'][1:]\n"
     ]
    },
    {
     "name": "stdout",
     "output_type": "stream",
     "text": [
      "SNL_18650_NCA_15C_0-100_0.5-1C_b_timeseries.csv\n"
     ]
    },
    {
     "name": "stderr",
     "output_type": "stream",
     "text": [
      "C:\\Users\\dmmkm\\AppData\\Local\\Temp\\ipykernel_27488\\1804582149.py:112: RuntimeWarning: divide by zero encountered in divide\n",
      "  dq_dv_start=dq/dv\n",
      "C:\\Users\\dmmkm\\AppData\\Local\\Temp\\ipykernel_27488\\1804582149.py:112: RuntimeWarning: invalid value encountered in divide\n",
      "  dq_dv_start=dq/dv\n",
      "C:\\Users\\dmmkm\\AppData\\Local\\Temp\\ipykernel_27488\\1804582149.py:122: RuntimeWarning: invalid value encountered in divide\n",
      "  dq_dv_end=dq/dv\n",
      "C:\\Users\\dmmkm\\AppData\\Local\\Temp\\ipykernel_27488\\1804582149.py:123: FutureWarning: The behavior of `series[i:j]` with an integer-dtype index is deprecated. In a future version, this will be treated as *label-based* indexing, consistent with e.g. `series[i]` lookups. To retain the old behavior, use `series.iloc[i:j]`. To get the future behavior, use `series.loc[i:j]`.\n",
      "  x=cycle_end_df['Voltage (V)'][1:]\n",
      "C:\\Users\\dmmkm\\AppData\\Local\\Temp\\ipykernel_27488\\1804582149.py:145: FutureWarning: The behavior of `series[i:j]` with an integer-dtype index is deprecated. In a future version, this will be treated as *label-based* indexing, consistent with e.g. `series[i]` lookups. To retain the old behavior, use `series.iloc[i:j]`. To get the future behavior, use `series.loc[i:j]`.\n",
      "  dcap_end=cycle_end_df['Discharge_Capacity (Ah)'][1:]\n",
      "C:\\Users\\dmmkm\\AppData\\Local\\Temp\\ipykernel_27488\\1804582149.py:146: FutureWarning: The behavior of `series[i:j]` with an integer-dtype index is deprecated. In a future version, this will be treated as *label-based* indexing, consistent with e.g. `series[i]` lookups. To retain the old behavior, use `series.iloc[i:j]`. To get the future behavior, use `series.loc[i:j]`.\n",
      "  v_end=cycle_end_df['Voltage (V)'][1:]\n"
     ]
    },
    {
     "name": "stdout",
     "output_type": "stream",
     "text": [
      "SNL_18650_NCA_15C_0-100_0.5-2C_a_timeseries.csv\n"
     ]
    },
    {
     "name": "stderr",
     "output_type": "stream",
     "text": [
      "C:\\Users\\dmmkm\\AppData\\Local\\Temp\\ipykernel_27488\\1804582149.py:112: RuntimeWarning: divide by zero encountered in divide\n",
      "  dq_dv_start=dq/dv\n",
      "C:\\Users\\dmmkm\\AppData\\Local\\Temp\\ipykernel_27488\\1804582149.py:112: RuntimeWarning: invalid value encountered in divide\n",
      "  dq_dv_start=dq/dv\n",
      "C:\\Users\\dmmkm\\AppData\\Local\\Temp\\ipykernel_27488\\1804582149.py:122: RuntimeWarning: invalid value encountered in divide\n",
      "  dq_dv_end=dq/dv\n",
      "C:\\Users\\dmmkm\\AppData\\Local\\Temp\\ipykernel_27488\\1804582149.py:123: FutureWarning: The behavior of `series[i:j]` with an integer-dtype index is deprecated. In a future version, this will be treated as *label-based* indexing, consistent with e.g. `series[i]` lookups. To retain the old behavior, use `series.iloc[i:j]`. To get the future behavior, use `series.loc[i:j]`.\n",
      "  x=cycle_end_df['Voltage (V)'][1:]\n",
      "C:\\Users\\dmmkm\\AppData\\Local\\Temp\\ipykernel_27488\\1804582149.py:145: FutureWarning: The behavior of `series[i:j]` with an integer-dtype index is deprecated. In a future version, this will be treated as *label-based* indexing, consistent with e.g. `series[i]` lookups. To retain the old behavior, use `series.iloc[i:j]`. To get the future behavior, use `series.loc[i:j]`.\n",
      "  dcap_end=cycle_end_df['Discharge_Capacity (Ah)'][1:]\n",
      "C:\\Users\\dmmkm\\AppData\\Local\\Temp\\ipykernel_27488\\1804582149.py:146: FutureWarning: The behavior of `series[i:j]` with an integer-dtype index is deprecated. In a future version, this will be treated as *label-based* indexing, consistent with e.g. `series[i]` lookups. To retain the old behavior, use `series.iloc[i:j]`. To get the future behavior, use `series.loc[i:j]`.\n",
      "  v_end=cycle_end_df['Voltage (V)'][1:]\n"
     ]
    },
    {
     "name": "stdout",
     "output_type": "stream",
     "text": [
      "SNL_18650_NCA_15C_0-100_0.5-2C_b_timeseries.csv\n"
     ]
    },
    {
     "name": "stderr",
     "output_type": "stream",
     "text": [
      "C:\\Users\\dmmkm\\AppData\\Local\\Temp\\ipykernel_27488\\1804582149.py:112: RuntimeWarning: divide by zero encountered in divide\n",
      "  dq_dv_start=dq/dv\n",
      "C:\\Users\\dmmkm\\AppData\\Local\\Temp\\ipykernel_27488\\1804582149.py:112: RuntimeWarning: invalid value encountered in divide\n",
      "  dq_dv_start=dq/dv\n",
      "C:\\Users\\dmmkm\\AppData\\Local\\Temp\\ipykernel_27488\\1804582149.py:122: RuntimeWarning: invalid value encountered in divide\n",
      "  dq_dv_end=dq/dv\n",
      "C:\\Users\\dmmkm\\AppData\\Local\\Temp\\ipykernel_27488\\1804582149.py:123: FutureWarning: The behavior of `series[i:j]` with an integer-dtype index is deprecated. In a future version, this will be treated as *label-based* indexing, consistent with e.g. `series[i]` lookups. To retain the old behavior, use `series.iloc[i:j]`. To get the future behavior, use `series.loc[i:j]`.\n",
      "  x=cycle_end_df['Voltage (V)'][1:]\n",
      "C:\\Users\\dmmkm\\AppData\\Local\\Temp\\ipykernel_27488\\1804582149.py:145: FutureWarning: The behavior of `series[i:j]` with an integer-dtype index is deprecated. In a future version, this will be treated as *label-based* indexing, consistent with e.g. `series[i]` lookups. To retain the old behavior, use `series.iloc[i:j]`. To get the future behavior, use `series.loc[i:j]`.\n",
      "  dcap_end=cycle_end_df['Discharge_Capacity (Ah)'][1:]\n",
      "C:\\Users\\dmmkm\\AppData\\Local\\Temp\\ipykernel_27488\\1804582149.py:146: FutureWarning: The behavior of `series[i:j]` with an integer-dtype index is deprecated. In a future version, this will be treated as *label-based* indexing, consistent with e.g. `series[i]` lookups. To retain the old behavior, use `series.iloc[i:j]`. To get the future behavior, use `series.loc[i:j]`.\n",
      "  v_end=cycle_end_df['Voltage (V)'][1:]\n"
     ]
    },
    {
     "name": "stdout",
     "output_type": "stream",
     "text": [
      "SNL_18650_NCA_25C_0-100_0.5-0.5C_b_timeseries.csv\n"
     ]
    },
    {
     "name": "stderr",
     "output_type": "stream",
     "text": [
      "C:\\Users\\dmmkm\\AppData\\Local\\Temp\\ipykernel_27488\\1804582149.py:112: RuntimeWarning: divide by zero encountered in divide\n",
      "  dq_dv_start=dq/dv\n",
      "C:\\Users\\dmmkm\\AppData\\Local\\Temp\\ipykernel_27488\\1804582149.py:112: RuntimeWarning: invalid value encountered in divide\n",
      "  dq_dv_start=dq/dv\n",
      "C:\\Users\\dmmkm\\AppData\\Local\\Temp\\ipykernel_27488\\1804582149.py:122: RuntimeWarning: divide by zero encountered in divide\n",
      "  dq_dv_end=dq/dv\n",
      "C:\\Users\\dmmkm\\AppData\\Local\\Temp\\ipykernel_27488\\1804582149.py:122: RuntimeWarning: invalid value encountered in divide\n",
      "  dq_dv_end=dq/dv\n",
      "C:\\Users\\dmmkm\\AppData\\Local\\Temp\\ipykernel_27488\\1804582149.py:123: FutureWarning: The behavior of `series[i:j]` with an integer-dtype index is deprecated. In a future version, this will be treated as *label-based* indexing, consistent with e.g. `series[i]` lookups. To retain the old behavior, use `series.iloc[i:j]`. To get the future behavior, use `series.loc[i:j]`.\n",
      "  x=cycle_end_df['Voltage (V)'][1:]\n",
      "C:\\Users\\dmmkm\\AppData\\Local\\Temp\\ipykernel_27488\\1804582149.py:145: FutureWarning: The behavior of `series[i:j]` with an integer-dtype index is deprecated. In a future version, this will be treated as *label-based* indexing, consistent with e.g. `series[i]` lookups. To retain the old behavior, use `series.iloc[i:j]`. To get the future behavior, use `series.loc[i:j]`.\n",
      "  dcap_end=cycle_end_df['Discharge_Capacity (Ah)'][1:]\n",
      "C:\\Users\\dmmkm\\AppData\\Local\\Temp\\ipykernel_27488\\1804582149.py:146: FutureWarning: The behavior of `series[i:j]` with an integer-dtype index is deprecated. In a future version, this will be treated as *label-based* indexing, consistent with e.g. `series[i]` lookups. To retain the old behavior, use `series.iloc[i:j]`. To get the future behavior, use `series.loc[i:j]`.\n",
      "  v_end=cycle_end_df['Voltage (V)'][1:]\n"
     ]
    },
    {
     "name": "stdout",
     "output_type": "stream",
     "text": [
      "SNL_18650_NCA_25C_0-100_0.5-1C_a_timeseries.csv\n"
     ]
    },
    {
     "name": "stderr",
     "output_type": "stream",
     "text": [
      "C:\\Users\\dmmkm\\AppData\\Local\\Temp\\ipykernel_27488\\1804582149.py:112: RuntimeWarning: divide by zero encountered in divide\n",
      "  dq_dv_start=dq/dv\n",
      "C:\\Users\\dmmkm\\AppData\\Local\\Temp\\ipykernel_27488\\1804582149.py:112: RuntimeWarning: invalid value encountered in divide\n",
      "  dq_dv_start=dq/dv\n",
      "C:\\Users\\dmmkm\\AppData\\Local\\Temp\\ipykernel_27488\\1804582149.py:122: RuntimeWarning: invalid value encountered in divide\n",
      "  dq_dv_end=dq/dv\n",
      "C:\\Users\\dmmkm\\AppData\\Local\\Temp\\ipykernel_27488\\1804582149.py:123: FutureWarning: The behavior of `series[i:j]` with an integer-dtype index is deprecated. In a future version, this will be treated as *label-based* indexing, consistent with e.g. `series[i]` lookups. To retain the old behavior, use `series.iloc[i:j]`. To get the future behavior, use `series.loc[i:j]`.\n",
      "  x=cycle_end_df['Voltage (V)'][1:]\n",
      "C:\\Users\\dmmkm\\AppData\\Local\\Temp\\ipykernel_27488\\1804582149.py:145: FutureWarning: The behavior of `series[i:j]` with an integer-dtype index is deprecated. In a future version, this will be treated as *label-based* indexing, consistent with e.g. `series[i]` lookups. To retain the old behavior, use `series.iloc[i:j]`. To get the future behavior, use `series.loc[i:j]`.\n",
      "  dcap_end=cycle_end_df['Discharge_Capacity (Ah)'][1:]\n",
      "C:\\Users\\dmmkm\\AppData\\Local\\Temp\\ipykernel_27488\\1804582149.py:146: FutureWarning: The behavior of `series[i:j]` with an integer-dtype index is deprecated. In a future version, this will be treated as *label-based* indexing, consistent with e.g. `series[i]` lookups. To retain the old behavior, use `series.iloc[i:j]`. To get the future behavior, use `series.loc[i:j]`.\n",
      "  v_end=cycle_end_df['Voltage (V)'][1:]\n"
     ]
    },
    {
     "name": "stdout",
     "output_type": "stream",
     "text": [
      "SNL_18650_NCA_25C_0-100_0.5-1C_b_timeseries.csv\n"
     ]
    },
    {
     "name": "stderr",
     "output_type": "stream",
     "text": [
      "C:\\Users\\dmmkm\\AppData\\Local\\Temp\\ipykernel_27488\\1804582149.py:112: RuntimeWarning: divide by zero encountered in divide\n",
      "  dq_dv_start=dq/dv\n",
      "C:\\Users\\dmmkm\\AppData\\Local\\Temp\\ipykernel_27488\\1804582149.py:112: RuntimeWarning: invalid value encountered in divide\n",
      "  dq_dv_start=dq/dv\n",
      "C:\\Users\\dmmkm\\AppData\\Local\\Temp\\ipykernel_27488\\1804582149.py:122: RuntimeWarning: invalid value encountered in divide\n",
      "  dq_dv_end=dq/dv\n",
      "C:\\Users\\dmmkm\\AppData\\Local\\Temp\\ipykernel_27488\\1804582149.py:123: FutureWarning: The behavior of `series[i:j]` with an integer-dtype index is deprecated. In a future version, this will be treated as *label-based* indexing, consistent with e.g. `series[i]` lookups. To retain the old behavior, use `series.iloc[i:j]`. To get the future behavior, use `series.loc[i:j]`.\n",
      "  x=cycle_end_df['Voltage (V)'][1:]\n",
      "C:\\Users\\dmmkm\\AppData\\Local\\Temp\\ipykernel_27488\\1804582149.py:145: FutureWarning: The behavior of `series[i:j]` with an integer-dtype index is deprecated. In a future version, this will be treated as *label-based* indexing, consistent with e.g. `series[i]` lookups. To retain the old behavior, use `series.iloc[i:j]`. To get the future behavior, use `series.loc[i:j]`.\n",
      "  dcap_end=cycle_end_df['Discharge_Capacity (Ah)'][1:]\n",
      "C:\\Users\\dmmkm\\AppData\\Local\\Temp\\ipykernel_27488\\1804582149.py:146: FutureWarning: The behavior of `series[i:j]` with an integer-dtype index is deprecated. In a future version, this will be treated as *label-based* indexing, consistent with e.g. `series[i]` lookups. To retain the old behavior, use `series.iloc[i:j]`. To get the future behavior, use `series.loc[i:j]`.\n",
      "  v_end=cycle_end_df['Voltage (V)'][1:]\n"
     ]
    },
    {
     "name": "stdout",
     "output_type": "stream",
     "text": [
      "SNL_18650_NCA_25C_0-100_0.5-1C_c_timeseries.csv\n"
     ]
    },
    {
     "name": "stderr",
     "output_type": "stream",
     "text": [
      "C:\\Users\\dmmkm\\AppData\\Local\\Temp\\ipykernel_27488\\1804582149.py:112: RuntimeWarning: divide by zero encountered in divide\n",
      "  dq_dv_start=dq/dv\n",
      "C:\\Users\\dmmkm\\AppData\\Local\\Temp\\ipykernel_27488\\1804582149.py:112: RuntimeWarning: invalid value encountered in divide\n",
      "  dq_dv_start=dq/dv\n",
      "C:\\Users\\dmmkm\\AppData\\Local\\Temp\\ipykernel_27488\\1804582149.py:122: RuntimeWarning: invalid value encountered in divide\n",
      "  dq_dv_end=dq/dv\n",
      "C:\\Users\\dmmkm\\AppData\\Local\\Temp\\ipykernel_27488\\1804582149.py:123: FutureWarning: The behavior of `series[i:j]` with an integer-dtype index is deprecated. In a future version, this will be treated as *label-based* indexing, consistent with e.g. `series[i]` lookups. To retain the old behavior, use `series.iloc[i:j]`. To get the future behavior, use `series.loc[i:j]`.\n",
      "  x=cycle_end_df['Voltage (V)'][1:]\n",
      "C:\\Users\\dmmkm\\AppData\\Local\\Temp\\ipykernel_27488\\1804582149.py:145: FutureWarning: The behavior of `series[i:j]` with an integer-dtype index is deprecated. In a future version, this will be treated as *label-based* indexing, consistent with e.g. `series[i]` lookups. To retain the old behavior, use `series.iloc[i:j]`. To get the future behavior, use `series.loc[i:j]`.\n",
      "  dcap_end=cycle_end_df['Discharge_Capacity (Ah)'][1:]\n",
      "C:\\Users\\dmmkm\\AppData\\Local\\Temp\\ipykernel_27488\\1804582149.py:146: FutureWarning: The behavior of `series[i:j]` with an integer-dtype index is deprecated. In a future version, this will be treated as *label-based* indexing, consistent with e.g. `series[i]` lookups. To retain the old behavior, use `series.iloc[i:j]`. To get the future behavior, use `series.loc[i:j]`.\n",
      "  v_end=cycle_end_df['Voltage (V)'][1:]\n"
     ]
    },
    {
     "name": "stdout",
     "output_type": "stream",
     "text": [
      "SNL_18650_NCA_25C_0-100_0.5-1C_d_timeseries.csv\n"
     ]
    },
    {
     "name": "stderr",
     "output_type": "stream",
     "text": [
      "C:\\Users\\dmmkm\\AppData\\Local\\Temp\\ipykernel_27488\\1804582149.py:112: RuntimeWarning: divide by zero encountered in divide\n",
      "  dq_dv_start=dq/dv\n",
      "C:\\Users\\dmmkm\\AppData\\Local\\Temp\\ipykernel_27488\\1804582149.py:112: RuntimeWarning: invalid value encountered in divide\n",
      "  dq_dv_start=dq/dv\n",
      "C:\\Users\\dmmkm\\AppData\\Local\\Temp\\ipykernel_27488\\1804582149.py:122: RuntimeWarning: invalid value encountered in divide\n",
      "  dq_dv_end=dq/dv\n",
      "C:\\Users\\dmmkm\\AppData\\Local\\Temp\\ipykernel_27488\\1804582149.py:123: FutureWarning: The behavior of `series[i:j]` with an integer-dtype index is deprecated. In a future version, this will be treated as *label-based* indexing, consistent with e.g. `series[i]` lookups. To retain the old behavior, use `series.iloc[i:j]`. To get the future behavior, use `series.loc[i:j]`.\n",
      "  x=cycle_end_df['Voltage (V)'][1:]\n",
      "C:\\Users\\dmmkm\\AppData\\Local\\Temp\\ipykernel_27488\\1804582149.py:145: FutureWarning: The behavior of `series[i:j]` with an integer-dtype index is deprecated. In a future version, this will be treated as *label-based* indexing, consistent with e.g. `series[i]` lookups. To retain the old behavior, use `series.iloc[i:j]`. To get the future behavior, use `series.loc[i:j]`.\n",
      "  dcap_end=cycle_end_df['Discharge_Capacity (Ah)'][1:]\n",
      "C:\\Users\\dmmkm\\AppData\\Local\\Temp\\ipykernel_27488\\1804582149.py:146: FutureWarning: The behavior of `series[i:j]` with an integer-dtype index is deprecated. In a future version, this will be treated as *label-based* indexing, consistent with e.g. `series[i]` lookups. To retain the old behavior, use `series.iloc[i:j]`. To get the future behavior, use `series.loc[i:j]`.\n",
      "  v_end=cycle_end_df['Voltage (V)'][1:]\n"
     ]
    },
    {
     "name": "stdout",
     "output_type": "stream",
     "text": [
      "SNL_18650_NCA_25C_0-100_0.5-2C_a_timeseries.csv\n"
     ]
    },
    {
     "name": "stderr",
     "output_type": "stream",
     "text": [
      "C:\\Users\\dmmkm\\AppData\\Local\\Temp\\ipykernel_27488\\1804582149.py:112: RuntimeWarning: divide by zero encountered in divide\n",
      "  dq_dv_start=dq/dv\n",
      "C:\\Users\\dmmkm\\AppData\\Local\\Temp\\ipykernel_27488\\1804582149.py:112: RuntimeWarning: invalid value encountered in divide\n",
      "  dq_dv_start=dq/dv\n",
      "C:\\Users\\dmmkm\\AppData\\Local\\Temp\\ipykernel_27488\\1804582149.py:122: RuntimeWarning: invalid value encountered in divide\n",
      "  dq_dv_end=dq/dv\n",
      "C:\\Users\\dmmkm\\AppData\\Local\\Temp\\ipykernel_27488\\1804582149.py:123: FutureWarning: The behavior of `series[i:j]` with an integer-dtype index is deprecated. In a future version, this will be treated as *label-based* indexing, consistent with e.g. `series[i]` lookups. To retain the old behavior, use `series.iloc[i:j]`. To get the future behavior, use `series.loc[i:j]`.\n",
      "  x=cycle_end_df['Voltage (V)'][1:]\n",
      "C:\\Users\\dmmkm\\AppData\\Local\\Temp\\ipykernel_27488\\1804582149.py:145: FutureWarning: The behavior of `series[i:j]` with an integer-dtype index is deprecated. In a future version, this will be treated as *label-based* indexing, consistent with e.g. `series[i]` lookups. To retain the old behavior, use `series.iloc[i:j]`. To get the future behavior, use `series.loc[i:j]`.\n",
      "  dcap_end=cycle_end_df['Discharge_Capacity (Ah)'][1:]\n",
      "C:\\Users\\dmmkm\\AppData\\Local\\Temp\\ipykernel_27488\\1804582149.py:146: FutureWarning: The behavior of `series[i:j]` with an integer-dtype index is deprecated. In a future version, this will be treated as *label-based* indexing, consistent with e.g. `series[i]` lookups. To retain the old behavior, use `series.iloc[i:j]`. To get the future behavior, use `series.loc[i:j]`.\n",
      "  v_end=cycle_end_df['Voltage (V)'][1:]\n"
     ]
    },
    {
     "name": "stdout",
     "output_type": "stream",
     "text": [
      "SNL_18650_NCA_25C_0-100_0.5-2C_b_timeseries.csv\n"
     ]
    },
    {
     "name": "stderr",
     "output_type": "stream",
     "text": [
      "C:\\Users\\dmmkm\\AppData\\Local\\Temp\\ipykernel_27488\\1804582149.py:112: RuntimeWarning: divide by zero encountered in divide\n",
      "  dq_dv_start=dq/dv\n",
      "C:\\Users\\dmmkm\\AppData\\Local\\Temp\\ipykernel_27488\\1804582149.py:112: RuntimeWarning: invalid value encountered in divide\n",
      "  dq_dv_start=dq/dv\n",
      "C:\\Users\\dmmkm\\AppData\\Local\\Temp\\ipykernel_27488\\1804582149.py:122: RuntimeWarning: invalid value encountered in divide\n",
      "  dq_dv_end=dq/dv\n",
      "C:\\Users\\dmmkm\\AppData\\Local\\Temp\\ipykernel_27488\\1804582149.py:123: FutureWarning: The behavior of `series[i:j]` with an integer-dtype index is deprecated. In a future version, this will be treated as *label-based* indexing, consistent with e.g. `series[i]` lookups. To retain the old behavior, use `series.iloc[i:j]`. To get the future behavior, use `series.loc[i:j]`.\n",
      "  x=cycle_end_df['Voltage (V)'][1:]\n",
      "C:\\Users\\dmmkm\\AppData\\Local\\Temp\\ipykernel_27488\\1804582149.py:145: FutureWarning: The behavior of `series[i:j]` with an integer-dtype index is deprecated. In a future version, this will be treated as *label-based* indexing, consistent with e.g. `series[i]` lookups. To retain the old behavior, use `series.iloc[i:j]`. To get the future behavior, use `series.loc[i:j]`.\n",
      "  dcap_end=cycle_end_df['Discharge_Capacity (Ah)'][1:]\n",
      "C:\\Users\\dmmkm\\AppData\\Local\\Temp\\ipykernel_27488\\1804582149.py:146: FutureWarning: The behavior of `series[i:j]` with an integer-dtype index is deprecated. In a future version, this will be treated as *label-based* indexing, consistent with e.g. `series[i]` lookups. To retain the old behavior, use `series.iloc[i:j]`. To get the future behavior, use `series.loc[i:j]`.\n",
      "  v_end=cycle_end_df['Voltage (V)'][1:]\n"
     ]
    },
    {
     "name": "stdout",
     "output_type": "stream",
     "text": [
      "SNL_18650_NCA_25C_20-80_0.5-0.5C_a_timeseries.csv\n"
     ]
    },
    {
     "name": "stderr",
     "output_type": "stream",
     "text": [
      "C:\\Users\\dmmkm\\AppData\\Local\\Temp\\ipykernel_27488\\1804582149.py:112: RuntimeWarning: divide by zero encountered in divide\n",
      "  dq_dv_start=dq/dv\n",
      "C:\\Users\\dmmkm\\AppData\\Local\\Temp\\ipykernel_27488\\1804582149.py:112: RuntimeWarning: invalid value encountered in divide\n",
      "  dq_dv_start=dq/dv\n",
      "C:\\Users\\dmmkm\\AppData\\Local\\Temp\\ipykernel_27488\\1804582149.py:122: RuntimeWarning: divide by zero encountered in divide\n",
      "  dq_dv_end=dq/dv\n",
      "C:\\Users\\dmmkm\\AppData\\Local\\Temp\\ipykernel_27488\\1804582149.py:122: RuntimeWarning: invalid value encountered in divide\n",
      "  dq_dv_end=dq/dv\n",
      "C:\\Users\\dmmkm\\AppData\\Local\\Temp\\ipykernel_27488\\1804582149.py:123: FutureWarning: The behavior of `series[i:j]` with an integer-dtype index is deprecated. In a future version, this will be treated as *label-based* indexing, consistent with e.g. `series[i]` lookups. To retain the old behavior, use `series.iloc[i:j]`. To get the future behavior, use `series.loc[i:j]`.\n",
      "  x=cycle_end_df['Voltage (V)'][1:]\n",
      "C:\\Users\\dmmkm\\AppData\\Local\\Temp\\ipykernel_27488\\1804582149.py:145: FutureWarning: The behavior of `series[i:j]` with an integer-dtype index is deprecated. In a future version, this will be treated as *label-based* indexing, consistent with e.g. `series[i]` lookups. To retain the old behavior, use `series.iloc[i:j]`. To get the future behavior, use `series.loc[i:j]`.\n",
      "  dcap_end=cycle_end_df['Discharge_Capacity (Ah)'][1:]\n",
      "C:\\Users\\dmmkm\\AppData\\Local\\Temp\\ipykernel_27488\\1804582149.py:146: FutureWarning: The behavior of `series[i:j]` with an integer-dtype index is deprecated. In a future version, this will be treated as *label-based* indexing, consistent with e.g. `series[i]` lookups. To retain the old behavior, use `series.iloc[i:j]`. To get the future behavior, use `series.loc[i:j]`.\n",
      "  v_end=cycle_end_df['Voltage (V)'][1:]\n"
     ]
    },
    {
     "name": "stdout",
     "output_type": "stream",
     "text": [
      "SNL_18650_NCA_25C_20-80_0.5-0.5C_b_timeseries.csv\n"
     ]
    },
    {
     "name": "stderr",
     "output_type": "stream",
     "text": [
      "C:\\Users\\dmmkm\\AppData\\Local\\Temp\\ipykernel_27488\\1804582149.py:112: RuntimeWarning: divide by zero encountered in divide\n",
      "  dq_dv_start=dq/dv\n",
      "C:\\Users\\dmmkm\\AppData\\Local\\Temp\\ipykernel_27488\\1804582149.py:112: RuntimeWarning: invalid value encountered in divide\n",
      "  dq_dv_start=dq/dv\n",
      "C:\\Users\\dmmkm\\AppData\\Local\\Temp\\ipykernel_27488\\1804582149.py:122: RuntimeWarning: divide by zero encountered in divide\n",
      "  dq_dv_end=dq/dv\n",
      "C:\\Users\\dmmkm\\AppData\\Local\\Temp\\ipykernel_27488\\1804582149.py:122: RuntimeWarning: invalid value encountered in divide\n",
      "  dq_dv_end=dq/dv\n",
      "C:\\Users\\dmmkm\\AppData\\Local\\Temp\\ipykernel_27488\\1804582149.py:123: FutureWarning: The behavior of `series[i:j]` with an integer-dtype index is deprecated. In a future version, this will be treated as *label-based* indexing, consistent with e.g. `series[i]` lookups. To retain the old behavior, use `series.iloc[i:j]`. To get the future behavior, use `series.loc[i:j]`.\n",
      "  x=cycle_end_df['Voltage (V)'][1:]\n",
      "C:\\Users\\dmmkm\\AppData\\Local\\Temp\\ipykernel_27488\\1804582149.py:145: FutureWarning: The behavior of `series[i:j]` with an integer-dtype index is deprecated. In a future version, this will be treated as *label-based* indexing, consistent with e.g. `series[i]` lookups. To retain the old behavior, use `series.iloc[i:j]`. To get the future behavior, use `series.loc[i:j]`.\n",
      "  dcap_end=cycle_end_df['Discharge_Capacity (Ah)'][1:]\n",
      "C:\\Users\\dmmkm\\AppData\\Local\\Temp\\ipykernel_27488\\1804582149.py:146: FutureWarning: The behavior of `series[i:j]` with an integer-dtype index is deprecated. In a future version, this will be treated as *label-based* indexing, consistent with e.g. `series[i]` lookups. To retain the old behavior, use `series.iloc[i:j]`. To get the future behavior, use `series.loc[i:j]`.\n",
      "  v_end=cycle_end_df['Voltage (V)'][1:]\n"
     ]
    },
    {
     "name": "stdout",
     "output_type": "stream",
     "text": [
      "SNL_18650_NCA_25C_20-80_0.5-0.5C_c_timeseries.csv\n"
     ]
    },
    {
     "name": "stderr",
     "output_type": "stream",
     "text": [
      "C:\\Users\\dmmkm\\AppData\\Local\\Temp\\ipykernel_27488\\1804582149.py:112: RuntimeWarning: divide by zero encountered in divide\n",
      "  dq_dv_start=dq/dv\n",
      "C:\\Users\\dmmkm\\AppData\\Local\\Temp\\ipykernel_27488\\1804582149.py:112: RuntimeWarning: invalid value encountered in divide\n",
      "  dq_dv_start=dq/dv\n",
      "C:\\Users\\dmmkm\\AppData\\Local\\Temp\\ipykernel_27488\\1804582149.py:122: RuntimeWarning: divide by zero encountered in divide\n",
      "  dq_dv_end=dq/dv\n",
      "C:\\Users\\dmmkm\\AppData\\Local\\Temp\\ipykernel_27488\\1804582149.py:122: RuntimeWarning: invalid value encountered in divide\n",
      "  dq_dv_end=dq/dv\n",
      "C:\\Users\\dmmkm\\AppData\\Local\\Temp\\ipykernel_27488\\1804582149.py:123: FutureWarning: The behavior of `series[i:j]` with an integer-dtype index is deprecated. In a future version, this will be treated as *label-based* indexing, consistent with e.g. `series[i]` lookups. To retain the old behavior, use `series.iloc[i:j]`. To get the future behavior, use `series.loc[i:j]`.\n",
      "  x=cycle_end_df['Voltage (V)'][1:]\n",
      "C:\\Users\\dmmkm\\AppData\\Local\\Temp\\ipykernel_27488\\1804582149.py:145: FutureWarning: The behavior of `series[i:j]` with an integer-dtype index is deprecated. In a future version, this will be treated as *label-based* indexing, consistent with e.g. `series[i]` lookups. To retain the old behavior, use `series.iloc[i:j]`. To get the future behavior, use `series.loc[i:j]`.\n",
      "  dcap_end=cycle_end_df['Discharge_Capacity (Ah)'][1:]\n",
      "C:\\Users\\dmmkm\\AppData\\Local\\Temp\\ipykernel_27488\\1804582149.py:146: FutureWarning: The behavior of `series[i:j]` with an integer-dtype index is deprecated. In a future version, this will be treated as *label-based* indexing, consistent with e.g. `series[i]` lookups. To retain the old behavior, use `series.iloc[i:j]`. To get the future behavior, use `series.loc[i:j]`.\n",
      "  v_end=cycle_end_df['Voltage (V)'][1:]\n"
     ]
    },
    {
     "name": "stdout",
     "output_type": "stream",
     "text": [
      "SNL_18650_NCA_25C_20-80_0.5-0.5C_d_timeseries.csv\n"
     ]
    },
    {
     "name": "stderr",
     "output_type": "stream",
     "text": [
      "C:\\Users\\dmmkm\\AppData\\Local\\Temp\\ipykernel_27488\\1804582149.py:112: RuntimeWarning: divide by zero encountered in divide\n",
      "  dq_dv_start=dq/dv\n",
      "C:\\Users\\dmmkm\\AppData\\Local\\Temp\\ipykernel_27488\\1804582149.py:112: RuntimeWarning: invalid value encountered in divide\n",
      "  dq_dv_start=dq/dv\n",
      "C:\\Users\\dmmkm\\AppData\\Local\\Temp\\ipykernel_27488\\1804582149.py:122: RuntimeWarning: divide by zero encountered in divide\n",
      "  dq_dv_end=dq/dv\n",
      "C:\\Users\\dmmkm\\AppData\\Local\\Temp\\ipykernel_27488\\1804582149.py:122: RuntimeWarning: invalid value encountered in divide\n",
      "  dq_dv_end=dq/dv\n",
      "C:\\Users\\dmmkm\\AppData\\Local\\Temp\\ipykernel_27488\\1804582149.py:123: FutureWarning: The behavior of `series[i:j]` with an integer-dtype index is deprecated. In a future version, this will be treated as *label-based* indexing, consistent with e.g. `series[i]` lookups. To retain the old behavior, use `series.iloc[i:j]`. To get the future behavior, use `series.loc[i:j]`.\n",
      "  x=cycle_end_df['Voltage (V)'][1:]\n",
      "C:\\Users\\dmmkm\\AppData\\Local\\Temp\\ipykernel_27488\\1804582149.py:145: FutureWarning: The behavior of `series[i:j]` with an integer-dtype index is deprecated. In a future version, this will be treated as *label-based* indexing, consistent with e.g. `series[i]` lookups. To retain the old behavior, use `series.iloc[i:j]`. To get the future behavior, use `series.loc[i:j]`.\n",
      "  dcap_end=cycle_end_df['Discharge_Capacity (Ah)'][1:]\n",
      "C:\\Users\\dmmkm\\AppData\\Local\\Temp\\ipykernel_27488\\1804582149.py:146: FutureWarning: The behavior of `series[i:j]` with an integer-dtype index is deprecated. In a future version, this will be treated as *label-based* indexing, consistent with e.g. `series[i]` lookups. To retain the old behavior, use `series.iloc[i:j]`. To get the future behavior, use `series.loc[i:j]`.\n",
      "  v_end=cycle_end_df['Voltage (V)'][1:]\n"
     ]
    },
    {
     "name": "stdout",
     "output_type": "stream",
     "text": [
      "SNL_18650_NCA_25C_40-60_0.5-0.5C_a_timeseries.csv\n"
     ]
    },
    {
     "name": "stderr",
     "output_type": "stream",
     "text": [
      "C:\\Users\\dmmkm\\AppData\\Local\\Temp\\ipykernel_27488\\1804582149.py:112: RuntimeWarning: divide by zero encountered in divide\n",
      "  dq_dv_start=dq/dv\n",
      "C:\\Users\\dmmkm\\AppData\\Local\\Temp\\ipykernel_27488\\1804582149.py:112: RuntimeWarning: invalid value encountered in divide\n",
      "  dq_dv_start=dq/dv\n",
      "C:\\Users\\dmmkm\\AppData\\Local\\Temp\\ipykernel_27488\\1804582149.py:122: RuntimeWarning: divide by zero encountered in divide\n",
      "  dq_dv_end=dq/dv\n",
      "C:\\Users\\dmmkm\\AppData\\Local\\Temp\\ipykernel_27488\\1804582149.py:122: RuntimeWarning: invalid value encountered in divide\n",
      "  dq_dv_end=dq/dv\n",
      "C:\\Users\\dmmkm\\AppData\\Local\\Temp\\ipykernel_27488\\1804582149.py:123: FutureWarning: The behavior of `series[i:j]` with an integer-dtype index is deprecated. In a future version, this will be treated as *label-based* indexing, consistent with e.g. `series[i]` lookups. To retain the old behavior, use `series.iloc[i:j]`. To get the future behavior, use `series.loc[i:j]`.\n",
      "  x=cycle_end_df['Voltage (V)'][1:]\n",
      "C:\\Users\\dmmkm\\AppData\\Local\\Temp\\ipykernel_27488\\1804582149.py:145: FutureWarning: The behavior of `series[i:j]` with an integer-dtype index is deprecated. In a future version, this will be treated as *label-based* indexing, consistent with e.g. `series[i]` lookups. To retain the old behavior, use `series.iloc[i:j]`. To get the future behavior, use `series.loc[i:j]`.\n",
      "  dcap_end=cycle_end_df['Discharge_Capacity (Ah)'][1:]\n",
      "C:\\Users\\dmmkm\\AppData\\Local\\Temp\\ipykernel_27488\\1804582149.py:146: FutureWarning: The behavior of `series[i:j]` with an integer-dtype index is deprecated. In a future version, this will be treated as *label-based* indexing, consistent with e.g. `series[i]` lookups. To retain the old behavior, use `series.iloc[i:j]`. To get the future behavior, use `series.loc[i:j]`.\n",
      "  v_end=cycle_end_df['Voltage (V)'][1:]\n"
     ]
    },
    {
     "name": "stdout",
     "output_type": "stream",
     "text": [
      "SNL_18650_NCA_25C_40-60_0.5-0.5C_b_timeseries.csv\n"
     ]
    },
    {
     "name": "stderr",
     "output_type": "stream",
     "text": [
      "C:\\Users\\dmmkm\\AppData\\Local\\Temp\\ipykernel_27488\\1804582149.py:112: RuntimeWarning: divide by zero encountered in divide\n",
      "  dq_dv_start=dq/dv\n",
      "C:\\Users\\dmmkm\\AppData\\Local\\Temp\\ipykernel_27488\\1804582149.py:112: RuntimeWarning: invalid value encountered in divide\n",
      "  dq_dv_start=dq/dv\n",
      "C:\\Users\\dmmkm\\AppData\\Local\\Temp\\ipykernel_27488\\1804582149.py:122: RuntimeWarning: divide by zero encountered in divide\n",
      "  dq_dv_end=dq/dv\n",
      "C:\\Users\\dmmkm\\AppData\\Local\\Temp\\ipykernel_27488\\1804582149.py:122: RuntimeWarning: invalid value encountered in divide\n",
      "  dq_dv_end=dq/dv\n",
      "C:\\Users\\dmmkm\\AppData\\Local\\Temp\\ipykernel_27488\\1804582149.py:123: FutureWarning: The behavior of `series[i:j]` with an integer-dtype index is deprecated. In a future version, this will be treated as *label-based* indexing, consistent with e.g. `series[i]` lookups. To retain the old behavior, use `series.iloc[i:j]`. To get the future behavior, use `series.loc[i:j]`.\n",
      "  x=cycle_end_df['Voltage (V)'][1:]\n",
      "C:\\Users\\dmmkm\\AppData\\Local\\Temp\\ipykernel_27488\\1804582149.py:145: FutureWarning: The behavior of `series[i:j]` with an integer-dtype index is deprecated. In a future version, this will be treated as *label-based* indexing, consistent with e.g. `series[i]` lookups. To retain the old behavior, use `series.iloc[i:j]`. To get the future behavior, use `series.loc[i:j]`.\n",
      "  dcap_end=cycle_end_df['Discharge_Capacity (Ah)'][1:]\n",
      "C:\\Users\\dmmkm\\AppData\\Local\\Temp\\ipykernel_27488\\1804582149.py:146: FutureWarning: The behavior of `series[i:j]` with an integer-dtype index is deprecated. In a future version, this will be treated as *label-based* indexing, consistent with e.g. `series[i]` lookups. To retain the old behavior, use `series.iloc[i:j]`. To get the future behavior, use `series.loc[i:j]`.\n",
      "  v_end=cycle_end_df['Voltage (V)'][1:]\n"
     ]
    },
    {
     "name": "stdout",
     "output_type": "stream",
     "text": [
      "SNL_18650_NCA_35C_0-100_0.5-1C_a_timeseries.csv\n"
     ]
    },
    {
     "name": "stderr",
     "output_type": "stream",
     "text": [
      "C:\\Users\\dmmkm\\AppData\\Local\\Temp\\ipykernel_27488\\1804582149.py:112: RuntimeWarning: divide by zero encountered in divide\n",
      "  dq_dv_start=dq/dv\n",
      "C:\\Users\\dmmkm\\AppData\\Local\\Temp\\ipykernel_27488\\1804582149.py:112: RuntimeWarning: invalid value encountered in divide\n",
      "  dq_dv_start=dq/dv\n",
      "C:\\Users\\dmmkm\\AppData\\Local\\Temp\\ipykernel_27488\\1804582149.py:122: RuntimeWarning: invalid value encountered in divide\n",
      "  dq_dv_end=dq/dv\n",
      "C:\\Users\\dmmkm\\AppData\\Local\\Temp\\ipykernel_27488\\1804582149.py:123: FutureWarning: The behavior of `series[i:j]` with an integer-dtype index is deprecated. In a future version, this will be treated as *label-based* indexing, consistent with e.g. `series[i]` lookups. To retain the old behavior, use `series.iloc[i:j]`. To get the future behavior, use `series.loc[i:j]`.\n",
      "  x=cycle_end_df['Voltage (V)'][1:]\n",
      "C:\\Users\\dmmkm\\AppData\\Local\\Temp\\ipykernel_27488\\1804582149.py:145: FutureWarning: The behavior of `series[i:j]` with an integer-dtype index is deprecated. In a future version, this will be treated as *label-based* indexing, consistent with e.g. `series[i]` lookups. To retain the old behavior, use `series.iloc[i:j]`. To get the future behavior, use `series.loc[i:j]`.\n",
      "  dcap_end=cycle_end_df['Discharge_Capacity (Ah)'][1:]\n",
      "C:\\Users\\dmmkm\\AppData\\Local\\Temp\\ipykernel_27488\\1804582149.py:146: FutureWarning: The behavior of `series[i:j]` with an integer-dtype index is deprecated. In a future version, this will be treated as *label-based* indexing, consistent with e.g. `series[i]` lookups. To retain the old behavior, use `series.iloc[i:j]`. To get the future behavior, use `series.loc[i:j]`.\n",
      "  v_end=cycle_end_df['Voltage (V)'][1:]\n"
     ]
    },
    {
     "name": "stdout",
     "output_type": "stream",
     "text": [
      "SNL_18650_NCA_35C_0-100_0.5-1C_b_timeseries.csv\n"
     ]
    },
    {
     "name": "stderr",
     "output_type": "stream",
     "text": [
      "C:\\Users\\dmmkm\\AppData\\Local\\Temp\\ipykernel_27488\\1804582149.py:112: RuntimeWarning: divide by zero encountered in divide\n",
      "  dq_dv_start=dq/dv\n",
      "C:\\Users\\dmmkm\\AppData\\Local\\Temp\\ipykernel_27488\\1804582149.py:112: RuntimeWarning: invalid value encountered in divide\n",
      "  dq_dv_start=dq/dv\n",
      "C:\\Users\\dmmkm\\AppData\\Local\\Temp\\ipykernel_27488\\1804582149.py:122: RuntimeWarning: invalid value encountered in divide\n",
      "  dq_dv_end=dq/dv\n",
      "C:\\Users\\dmmkm\\AppData\\Local\\Temp\\ipykernel_27488\\1804582149.py:123: FutureWarning: The behavior of `series[i:j]` with an integer-dtype index is deprecated. In a future version, this will be treated as *label-based* indexing, consistent with e.g. `series[i]` lookups. To retain the old behavior, use `series.iloc[i:j]`. To get the future behavior, use `series.loc[i:j]`.\n",
      "  x=cycle_end_df['Voltage (V)'][1:]\n",
      "C:\\Users\\dmmkm\\AppData\\Local\\Temp\\ipykernel_27488\\1804582149.py:145: FutureWarning: The behavior of `series[i:j]` with an integer-dtype index is deprecated. In a future version, this will be treated as *label-based* indexing, consistent with e.g. `series[i]` lookups. To retain the old behavior, use `series.iloc[i:j]`. To get the future behavior, use `series.loc[i:j]`.\n",
      "  dcap_end=cycle_end_df['Discharge_Capacity (Ah)'][1:]\n",
      "C:\\Users\\dmmkm\\AppData\\Local\\Temp\\ipykernel_27488\\1804582149.py:146: FutureWarning: The behavior of `series[i:j]` with an integer-dtype index is deprecated. In a future version, this will be treated as *label-based* indexing, consistent with e.g. `series[i]` lookups. To retain the old behavior, use `series.iloc[i:j]`. To get the future behavior, use `series.loc[i:j]`.\n",
      "  v_end=cycle_end_df['Voltage (V)'][1:]\n"
     ]
    },
    {
     "name": "stdout",
     "output_type": "stream",
     "text": [
      "SNL_18650_NCA_35C_0-100_0.5-1C_c_timeseries.csv\n"
     ]
    },
    {
     "name": "stderr",
     "output_type": "stream",
     "text": [
      "C:\\Users\\dmmkm\\AppData\\Local\\Temp\\ipykernel_27488\\1804582149.py:112: RuntimeWarning: divide by zero encountered in divide\n",
      "  dq_dv_start=dq/dv\n",
      "C:\\Users\\dmmkm\\AppData\\Local\\Temp\\ipykernel_27488\\1804582149.py:112: RuntimeWarning: invalid value encountered in divide\n",
      "  dq_dv_start=dq/dv\n",
      "C:\\Users\\dmmkm\\AppData\\Local\\Temp\\ipykernel_27488\\1804582149.py:122: RuntimeWarning: invalid value encountered in divide\n",
      "  dq_dv_end=dq/dv\n",
      "C:\\Users\\dmmkm\\AppData\\Local\\Temp\\ipykernel_27488\\1804582149.py:123: FutureWarning: The behavior of `series[i:j]` with an integer-dtype index is deprecated. In a future version, this will be treated as *label-based* indexing, consistent with e.g. `series[i]` lookups. To retain the old behavior, use `series.iloc[i:j]`. To get the future behavior, use `series.loc[i:j]`.\n",
      "  x=cycle_end_df['Voltage (V)'][1:]\n",
      "C:\\Users\\dmmkm\\AppData\\Local\\Temp\\ipykernel_27488\\1804582149.py:145: FutureWarning: The behavior of `series[i:j]` with an integer-dtype index is deprecated. In a future version, this will be treated as *label-based* indexing, consistent with e.g. `series[i]` lookups. To retain the old behavior, use `series.iloc[i:j]`. To get the future behavior, use `series.loc[i:j]`.\n",
      "  dcap_end=cycle_end_df['Discharge_Capacity (Ah)'][1:]\n",
      "C:\\Users\\dmmkm\\AppData\\Local\\Temp\\ipykernel_27488\\1804582149.py:146: FutureWarning: The behavior of `series[i:j]` with an integer-dtype index is deprecated. In a future version, this will be treated as *label-based* indexing, consistent with e.g. `series[i]` lookups. To retain the old behavior, use `series.iloc[i:j]`. To get the future behavior, use `series.loc[i:j]`.\n",
      "  v_end=cycle_end_df['Voltage (V)'][1:]\n"
     ]
    },
    {
     "name": "stdout",
     "output_type": "stream",
     "text": [
      "SNL_18650_NCA_35C_0-100_0.5-1C_d_timeseries.csv\n"
     ]
    },
    {
     "name": "stderr",
     "output_type": "stream",
     "text": [
      "C:\\Users\\dmmkm\\AppData\\Local\\Temp\\ipykernel_27488\\1804582149.py:112: RuntimeWarning: divide by zero encountered in divide\n",
      "  dq_dv_start=dq/dv\n",
      "C:\\Users\\dmmkm\\AppData\\Local\\Temp\\ipykernel_27488\\1804582149.py:112: RuntimeWarning: invalid value encountered in divide\n",
      "  dq_dv_start=dq/dv\n",
      "C:\\Users\\dmmkm\\AppData\\Local\\Temp\\ipykernel_27488\\1804582149.py:122: RuntimeWarning: invalid value encountered in divide\n",
      "  dq_dv_end=dq/dv\n",
      "C:\\Users\\dmmkm\\AppData\\Local\\Temp\\ipykernel_27488\\1804582149.py:123: FutureWarning: The behavior of `series[i:j]` with an integer-dtype index is deprecated. In a future version, this will be treated as *label-based* indexing, consistent with e.g. `series[i]` lookups. To retain the old behavior, use `series.iloc[i:j]`. To get the future behavior, use `series.loc[i:j]`.\n",
      "  x=cycle_end_df['Voltage (V)'][1:]\n",
      "C:\\Users\\dmmkm\\AppData\\Local\\Temp\\ipykernel_27488\\1804582149.py:145: FutureWarning: The behavior of `series[i:j]` with an integer-dtype index is deprecated. In a future version, this will be treated as *label-based* indexing, consistent with e.g. `series[i]` lookups. To retain the old behavior, use `series.iloc[i:j]`. To get the future behavior, use `series.loc[i:j]`.\n",
      "  dcap_end=cycle_end_df['Discharge_Capacity (Ah)'][1:]\n",
      "C:\\Users\\dmmkm\\AppData\\Local\\Temp\\ipykernel_27488\\1804582149.py:146: FutureWarning: The behavior of `series[i:j]` with an integer-dtype index is deprecated. In a future version, this will be treated as *label-based* indexing, consistent with e.g. `series[i]` lookups. To retain the old behavior, use `series.iloc[i:j]`. To get the future behavior, use `series.loc[i:j]`.\n",
      "  v_end=cycle_end_df['Voltage (V)'][1:]\n"
     ]
    },
    {
     "name": "stdout",
     "output_type": "stream",
     "text": [
      "SNL_18650_NCA_35C_0-100_0.5-2C_a_timeseries.csv\n"
     ]
    },
    {
     "name": "stderr",
     "output_type": "stream",
     "text": [
      "C:\\Users\\dmmkm\\AppData\\Local\\Temp\\ipykernel_27488\\1804582149.py:112: RuntimeWarning: divide by zero encountered in divide\n",
      "  dq_dv_start=dq/dv\n",
      "C:\\Users\\dmmkm\\AppData\\Local\\Temp\\ipykernel_27488\\1804582149.py:112: RuntimeWarning: invalid value encountered in divide\n",
      "  dq_dv_start=dq/dv\n",
      "C:\\Users\\dmmkm\\AppData\\Local\\Temp\\ipykernel_27488\\1804582149.py:122: RuntimeWarning: invalid value encountered in divide\n",
      "  dq_dv_end=dq/dv\n",
      "C:\\Users\\dmmkm\\AppData\\Local\\Temp\\ipykernel_27488\\1804582149.py:123: FutureWarning: The behavior of `series[i:j]` with an integer-dtype index is deprecated. In a future version, this will be treated as *label-based* indexing, consistent with e.g. `series[i]` lookups. To retain the old behavior, use `series.iloc[i:j]`. To get the future behavior, use `series.loc[i:j]`.\n",
      "  x=cycle_end_df['Voltage (V)'][1:]\n",
      "C:\\Users\\dmmkm\\AppData\\Local\\Temp\\ipykernel_27488\\1804582149.py:145: FutureWarning: The behavior of `series[i:j]` with an integer-dtype index is deprecated. In a future version, this will be treated as *label-based* indexing, consistent with e.g. `series[i]` lookups. To retain the old behavior, use `series.iloc[i:j]`. To get the future behavior, use `series.loc[i:j]`.\n",
      "  dcap_end=cycle_end_df['Discharge_Capacity (Ah)'][1:]\n",
      "C:\\Users\\dmmkm\\AppData\\Local\\Temp\\ipykernel_27488\\1804582149.py:146: FutureWarning: The behavior of `series[i:j]` with an integer-dtype index is deprecated. In a future version, this will be treated as *label-based* indexing, consistent with e.g. `series[i]` lookups. To retain the old behavior, use `series.iloc[i:j]`. To get the future behavior, use `series.loc[i:j]`.\n",
      "  v_end=cycle_end_df['Voltage (V)'][1:]\n"
     ]
    },
    {
     "name": "stdout",
     "output_type": "stream",
     "text": [
      "SNL_18650_NCA_35C_0-100_0.5-2C_b_timeseries.csv\n"
     ]
    },
    {
     "name": "stderr",
     "output_type": "stream",
     "text": [
      "C:\\Users\\dmmkm\\AppData\\Local\\Temp\\ipykernel_27488\\1804582149.py:112: RuntimeWarning: divide by zero encountered in divide\n",
      "  dq_dv_start=dq/dv\n",
      "C:\\Users\\dmmkm\\AppData\\Local\\Temp\\ipykernel_27488\\1804582149.py:112: RuntimeWarning: invalid value encountered in divide\n",
      "  dq_dv_start=dq/dv\n",
      "C:\\Users\\dmmkm\\AppData\\Local\\Temp\\ipykernel_27488\\1804582149.py:122: RuntimeWarning: invalid value encountered in divide\n",
      "  dq_dv_end=dq/dv\n",
      "C:\\Users\\dmmkm\\AppData\\Local\\Temp\\ipykernel_27488\\1804582149.py:123: FutureWarning: The behavior of `series[i:j]` with an integer-dtype index is deprecated. In a future version, this will be treated as *label-based* indexing, consistent with e.g. `series[i]` lookups. To retain the old behavior, use `series.iloc[i:j]`. To get the future behavior, use `series.loc[i:j]`.\n",
      "  x=cycle_end_df['Voltage (V)'][1:]\n",
      "C:\\Users\\dmmkm\\AppData\\Local\\Temp\\ipykernel_27488\\1804582149.py:145: FutureWarning: The behavior of `series[i:j]` with an integer-dtype index is deprecated. In a future version, this will be treated as *label-based* indexing, consistent with e.g. `series[i]` lookups. To retain the old behavior, use `series.iloc[i:j]`. To get the future behavior, use `series.loc[i:j]`.\n",
      "  dcap_end=cycle_end_df['Discharge_Capacity (Ah)'][1:]\n",
      "C:\\Users\\dmmkm\\AppData\\Local\\Temp\\ipykernel_27488\\1804582149.py:146: FutureWarning: The behavior of `series[i:j]` with an integer-dtype index is deprecated. In a future version, this will be treated as *label-based* indexing, consistent with e.g. `series[i]` lookups. To retain the old behavior, use `series.iloc[i:j]`. To get the future behavior, use `series.loc[i:j]`.\n",
      "  v_end=cycle_end_df['Voltage (V)'][1:]\n"
     ]
    },
    {
     "name": "stdout",
     "output_type": "stream",
     "text": [
      "SNL_18650_NMC_15C_0-100_0.5-1C_a_timeseries.csv\n"
     ]
    },
    {
     "name": "stderr",
     "output_type": "stream",
     "text": [
      "C:\\Users\\dmmkm\\AppData\\Local\\Temp\\ipykernel_27488\\1804582149.py:112: RuntimeWarning: divide by zero encountered in divide\n",
      "  dq_dv_start=dq/dv\n",
      "C:\\Users\\dmmkm\\AppData\\Local\\Temp\\ipykernel_27488\\1804582149.py:112: RuntimeWarning: invalid value encountered in divide\n",
      "  dq_dv_start=dq/dv\n",
      "C:\\Users\\dmmkm\\AppData\\Local\\Temp\\ipykernel_27488\\1804582149.py:122: RuntimeWarning: invalid value encountered in divide\n",
      "  dq_dv_end=dq/dv\n",
      "C:\\Users\\dmmkm\\AppData\\Local\\Temp\\ipykernel_27488\\1804582149.py:123: FutureWarning: The behavior of `series[i:j]` with an integer-dtype index is deprecated. In a future version, this will be treated as *label-based* indexing, consistent with e.g. `series[i]` lookups. To retain the old behavior, use `series.iloc[i:j]`. To get the future behavior, use `series.loc[i:j]`.\n",
      "  x=cycle_end_df['Voltage (V)'][1:]\n",
      "C:\\Users\\dmmkm\\AppData\\Local\\Temp\\ipykernel_27488\\1804582149.py:145: FutureWarning: The behavior of `series[i:j]` with an integer-dtype index is deprecated. In a future version, this will be treated as *label-based* indexing, consistent with e.g. `series[i]` lookups. To retain the old behavior, use `series.iloc[i:j]`. To get the future behavior, use `series.loc[i:j]`.\n",
      "  dcap_end=cycle_end_df['Discharge_Capacity (Ah)'][1:]\n",
      "C:\\Users\\dmmkm\\AppData\\Local\\Temp\\ipykernel_27488\\1804582149.py:146: FutureWarning: The behavior of `series[i:j]` with an integer-dtype index is deprecated. In a future version, this will be treated as *label-based* indexing, consistent with e.g. `series[i]` lookups. To retain the old behavior, use `series.iloc[i:j]`. To get the future behavior, use `series.loc[i:j]`.\n",
      "  v_end=cycle_end_df['Voltage (V)'][1:]\n"
     ]
    },
    {
     "name": "stdout",
     "output_type": "stream",
     "text": [
      "SNL_18650_NMC_15C_0-100_0.5-1C_b_timeseries.csv\n"
     ]
    },
    {
     "name": "stderr",
     "output_type": "stream",
     "text": [
      "C:\\Users\\dmmkm\\AppData\\Local\\Temp\\ipykernel_27488\\1804582149.py:112: RuntimeWarning: divide by zero encountered in divide\n",
      "  dq_dv_start=dq/dv\n",
      "C:\\Users\\dmmkm\\AppData\\Local\\Temp\\ipykernel_27488\\1804582149.py:112: RuntimeWarning: invalid value encountered in divide\n",
      "  dq_dv_start=dq/dv\n",
      "C:\\Users\\dmmkm\\AppData\\Local\\Temp\\ipykernel_27488\\1804582149.py:122: RuntimeWarning: invalid value encountered in divide\n",
      "  dq_dv_end=dq/dv\n",
      "C:\\Users\\dmmkm\\AppData\\Local\\Temp\\ipykernel_27488\\1804582149.py:123: FutureWarning: The behavior of `series[i:j]` with an integer-dtype index is deprecated. In a future version, this will be treated as *label-based* indexing, consistent with e.g. `series[i]` lookups. To retain the old behavior, use `series.iloc[i:j]`. To get the future behavior, use `series.loc[i:j]`.\n",
      "  x=cycle_end_df['Voltage (V)'][1:]\n",
      "C:\\Users\\dmmkm\\AppData\\Local\\Temp\\ipykernel_27488\\1804582149.py:145: FutureWarning: The behavior of `series[i:j]` with an integer-dtype index is deprecated. In a future version, this will be treated as *label-based* indexing, consistent with e.g. `series[i]` lookups. To retain the old behavior, use `series.iloc[i:j]`. To get the future behavior, use `series.loc[i:j]`.\n",
      "  dcap_end=cycle_end_df['Discharge_Capacity (Ah)'][1:]\n",
      "C:\\Users\\dmmkm\\AppData\\Local\\Temp\\ipykernel_27488\\1804582149.py:146: FutureWarning: The behavior of `series[i:j]` with an integer-dtype index is deprecated. In a future version, this will be treated as *label-based* indexing, consistent with e.g. `series[i]` lookups. To retain the old behavior, use `series.iloc[i:j]`. To get the future behavior, use `series.loc[i:j]`.\n",
      "  v_end=cycle_end_df['Voltage (V)'][1:]\n"
     ]
    },
    {
     "name": "stdout",
     "output_type": "stream",
     "text": [
      "SNL_18650_NMC_15C_0-100_0.5-2C_a_timeseries.csv\n"
     ]
    },
    {
     "name": "stderr",
     "output_type": "stream",
     "text": [
      "C:\\Users\\dmmkm\\AppData\\Local\\Temp\\ipykernel_27488\\1804582149.py:112: RuntimeWarning: divide by zero encountered in divide\n",
      "  dq_dv_start=dq/dv\n",
      "C:\\Users\\dmmkm\\AppData\\Local\\Temp\\ipykernel_27488\\1804582149.py:112: RuntimeWarning: invalid value encountered in divide\n",
      "  dq_dv_start=dq/dv\n",
      "C:\\Users\\dmmkm\\AppData\\Local\\Temp\\ipykernel_27488\\1804582149.py:122: RuntimeWarning: invalid value encountered in divide\n",
      "  dq_dv_end=dq/dv\n",
      "C:\\Users\\dmmkm\\AppData\\Local\\Temp\\ipykernel_27488\\1804582149.py:123: FutureWarning: The behavior of `series[i:j]` with an integer-dtype index is deprecated. In a future version, this will be treated as *label-based* indexing, consistent with e.g. `series[i]` lookups. To retain the old behavior, use `series.iloc[i:j]`. To get the future behavior, use `series.loc[i:j]`.\n",
      "  x=cycle_end_df['Voltage (V)'][1:]\n",
      "C:\\Users\\dmmkm\\AppData\\Local\\Temp\\ipykernel_27488\\1804582149.py:145: FutureWarning: The behavior of `series[i:j]` with an integer-dtype index is deprecated. In a future version, this will be treated as *label-based* indexing, consistent with e.g. `series[i]` lookups. To retain the old behavior, use `series.iloc[i:j]`. To get the future behavior, use `series.loc[i:j]`.\n",
      "  dcap_end=cycle_end_df['Discharge_Capacity (Ah)'][1:]\n",
      "C:\\Users\\dmmkm\\AppData\\Local\\Temp\\ipykernel_27488\\1804582149.py:146: FutureWarning: The behavior of `series[i:j]` with an integer-dtype index is deprecated. In a future version, this will be treated as *label-based* indexing, consistent with e.g. `series[i]` lookups. To retain the old behavior, use `series.iloc[i:j]`. To get the future behavior, use `series.loc[i:j]`.\n",
      "  v_end=cycle_end_df['Voltage (V)'][1:]\n"
     ]
    },
    {
     "name": "stdout",
     "output_type": "stream",
     "text": [
      "SNL_18650_NMC_15C_0-100_0.5-2C_b_timeseries.csv\n"
     ]
    },
    {
     "name": "stderr",
     "output_type": "stream",
     "text": [
      "C:\\Users\\dmmkm\\AppData\\Local\\Temp\\ipykernel_27488\\1804582149.py:112: RuntimeWarning: divide by zero encountered in divide\n",
      "  dq_dv_start=dq/dv\n",
      "C:\\Users\\dmmkm\\AppData\\Local\\Temp\\ipykernel_27488\\1804582149.py:112: RuntimeWarning: invalid value encountered in divide\n",
      "  dq_dv_start=dq/dv\n",
      "C:\\Users\\dmmkm\\AppData\\Local\\Temp\\ipykernel_27488\\1804582149.py:122: RuntimeWarning: invalid value encountered in divide\n",
      "  dq_dv_end=dq/dv\n",
      "C:\\Users\\dmmkm\\AppData\\Local\\Temp\\ipykernel_27488\\1804582149.py:123: FutureWarning: The behavior of `series[i:j]` with an integer-dtype index is deprecated. In a future version, this will be treated as *label-based* indexing, consistent with e.g. `series[i]` lookups. To retain the old behavior, use `series.iloc[i:j]`. To get the future behavior, use `series.loc[i:j]`.\n",
      "  x=cycle_end_df['Voltage (V)'][1:]\n",
      "C:\\Users\\dmmkm\\AppData\\Local\\Temp\\ipykernel_27488\\1804582149.py:145: FutureWarning: The behavior of `series[i:j]` with an integer-dtype index is deprecated. In a future version, this will be treated as *label-based* indexing, consistent with e.g. `series[i]` lookups. To retain the old behavior, use `series.iloc[i:j]`. To get the future behavior, use `series.loc[i:j]`.\n",
      "  dcap_end=cycle_end_df['Discharge_Capacity (Ah)'][1:]\n",
      "C:\\Users\\dmmkm\\AppData\\Local\\Temp\\ipykernel_27488\\1804582149.py:146: FutureWarning: The behavior of `series[i:j]` with an integer-dtype index is deprecated. In a future version, this will be treated as *label-based* indexing, consistent with e.g. `series[i]` lookups. To retain the old behavior, use `series.iloc[i:j]`. To get the future behavior, use `series.loc[i:j]`.\n",
      "  v_end=cycle_end_df['Voltage (V)'][1:]\n"
     ]
    },
    {
     "name": "stdout",
     "output_type": "stream",
     "text": [
      "SNL_18650_NMC_25C_0-100_0.5-0.5C_a_timeseries.csv\n"
     ]
    },
    {
     "name": "stderr",
     "output_type": "stream",
     "text": [
      "C:\\Users\\dmmkm\\AppData\\Local\\Temp\\ipykernel_27488\\1804582149.py:112: RuntimeWarning: divide by zero encountered in divide\n",
      "  dq_dv_start=dq/dv\n",
      "C:\\Users\\dmmkm\\AppData\\Local\\Temp\\ipykernel_27488\\1804582149.py:112: RuntimeWarning: invalid value encountered in divide\n",
      "  dq_dv_start=dq/dv\n",
      "C:\\Users\\dmmkm\\AppData\\Local\\Temp\\ipykernel_27488\\1804582149.py:122: RuntimeWarning: invalid value encountered in divide\n",
      "  dq_dv_end=dq/dv\n",
      "C:\\Users\\dmmkm\\AppData\\Local\\Temp\\ipykernel_27488\\1804582149.py:123: FutureWarning: The behavior of `series[i:j]` with an integer-dtype index is deprecated. In a future version, this will be treated as *label-based* indexing, consistent with e.g. `series[i]` lookups. To retain the old behavior, use `series.iloc[i:j]`. To get the future behavior, use `series.loc[i:j]`.\n",
      "  x=cycle_end_df['Voltage (V)'][1:]\n",
      "C:\\Users\\dmmkm\\AppData\\Local\\Temp\\ipykernel_27488\\1804582149.py:145: FutureWarning: The behavior of `series[i:j]` with an integer-dtype index is deprecated. In a future version, this will be treated as *label-based* indexing, consistent with e.g. `series[i]` lookups. To retain the old behavior, use `series.iloc[i:j]`. To get the future behavior, use `series.loc[i:j]`.\n",
      "  dcap_end=cycle_end_df['Discharge_Capacity (Ah)'][1:]\n",
      "C:\\Users\\dmmkm\\AppData\\Local\\Temp\\ipykernel_27488\\1804582149.py:146: FutureWarning: The behavior of `series[i:j]` with an integer-dtype index is deprecated. In a future version, this will be treated as *label-based* indexing, consistent with e.g. `series[i]` lookups. To retain the old behavior, use `series.iloc[i:j]`. To get the future behavior, use `series.loc[i:j]`.\n",
      "  v_end=cycle_end_df['Voltage (V)'][1:]\n"
     ]
    },
    {
     "name": "stdout",
     "output_type": "stream",
     "text": [
      "SNL_18650_NMC_25C_0-100_0.5-0.5C_b_timeseries.csv\n"
     ]
    },
    {
     "name": "stderr",
     "output_type": "stream",
     "text": [
      "C:\\Users\\dmmkm\\AppData\\Local\\Temp\\ipykernel_27488\\1804582149.py:112: RuntimeWarning: divide by zero encountered in divide\n",
      "  dq_dv_start=dq/dv\n",
      "C:\\Users\\dmmkm\\AppData\\Local\\Temp\\ipykernel_27488\\1804582149.py:112: RuntimeWarning: invalid value encountered in divide\n",
      "  dq_dv_start=dq/dv\n",
      "C:\\Users\\dmmkm\\AppData\\Local\\Temp\\ipykernel_27488\\1804582149.py:122: RuntimeWarning: invalid value encountered in divide\n",
      "  dq_dv_end=dq/dv\n",
      "C:\\Users\\dmmkm\\AppData\\Local\\Temp\\ipykernel_27488\\1804582149.py:123: FutureWarning: The behavior of `series[i:j]` with an integer-dtype index is deprecated. In a future version, this will be treated as *label-based* indexing, consistent with e.g. `series[i]` lookups. To retain the old behavior, use `series.iloc[i:j]`. To get the future behavior, use `series.loc[i:j]`.\n",
      "  x=cycle_end_df['Voltage (V)'][1:]\n",
      "C:\\Users\\dmmkm\\AppData\\Local\\Temp\\ipykernel_27488\\1804582149.py:145: FutureWarning: The behavior of `series[i:j]` with an integer-dtype index is deprecated. In a future version, this will be treated as *label-based* indexing, consistent with e.g. `series[i]` lookups. To retain the old behavior, use `series.iloc[i:j]`. To get the future behavior, use `series.loc[i:j]`.\n",
      "  dcap_end=cycle_end_df['Discharge_Capacity (Ah)'][1:]\n",
      "C:\\Users\\dmmkm\\AppData\\Local\\Temp\\ipykernel_27488\\1804582149.py:146: FutureWarning: The behavior of `series[i:j]` with an integer-dtype index is deprecated. In a future version, this will be treated as *label-based* indexing, consistent with e.g. `series[i]` lookups. To retain the old behavior, use `series.iloc[i:j]`. To get the future behavior, use `series.loc[i:j]`.\n",
      "  v_end=cycle_end_df['Voltage (V)'][1:]\n"
     ]
    },
    {
     "name": "stdout",
     "output_type": "stream",
     "text": [
      "SNL_18650_NMC_25C_0-100_0.5-1C_a_timeseries.csv\n"
     ]
    },
    {
     "name": "stderr",
     "output_type": "stream",
     "text": [
      "C:\\Users\\dmmkm\\AppData\\Local\\Temp\\ipykernel_27488\\1804582149.py:112: RuntimeWarning: divide by zero encountered in divide\n",
      "  dq_dv_start=dq/dv\n",
      "C:\\Users\\dmmkm\\AppData\\Local\\Temp\\ipykernel_27488\\1804582149.py:112: RuntimeWarning: invalid value encountered in divide\n",
      "  dq_dv_start=dq/dv\n",
      "C:\\Users\\dmmkm\\AppData\\Local\\Temp\\ipykernel_27488\\1804582149.py:122: RuntimeWarning: invalid value encountered in divide\n",
      "  dq_dv_end=dq/dv\n",
      "C:\\Users\\dmmkm\\AppData\\Local\\Temp\\ipykernel_27488\\1804582149.py:123: FutureWarning: The behavior of `series[i:j]` with an integer-dtype index is deprecated. In a future version, this will be treated as *label-based* indexing, consistent with e.g. `series[i]` lookups. To retain the old behavior, use `series.iloc[i:j]`. To get the future behavior, use `series.loc[i:j]`.\n",
      "  x=cycle_end_df['Voltage (V)'][1:]\n",
      "C:\\Users\\dmmkm\\AppData\\Local\\Temp\\ipykernel_27488\\1804582149.py:145: FutureWarning: The behavior of `series[i:j]` with an integer-dtype index is deprecated. In a future version, this will be treated as *label-based* indexing, consistent with e.g. `series[i]` lookups. To retain the old behavior, use `series.iloc[i:j]`. To get the future behavior, use `series.loc[i:j]`.\n",
      "  dcap_end=cycle_end_df['Discharge_Capacity (Ah)'][1:]\n",
      "C:\\Users\\dmmkm\\AppData\\Local\\Temp\\ipykernel_27488\\1804582149.py:146: FutureWarning: The behavior of `series[i:j]` with an integer-dtype index is deprecated. In a future version, this will be treated as *label-based* indexing, consistent with e.g. `series[i]` lookups. To retain the old behavior, use `series.iloc[i:j]`. To get the future behavior, use `series.loc[i:j]`.\n",
      "  v_end=cycle_end_df['Voltage (V)'][1:]\n"
     ]
    },
    {
     "name": "stdout",
     "output_type": "stream",
     "text": [
      "SNL_18650_NMC_25C_0-100_0.5-1C_b_timeseries.csv\n"
     ]
    },
    {
     "name": "stderr",
     "output_type": "stream",
     "text": [
      "C:\\Users\\dmmkm\\AppData\\Local\\Temp\\ipykernel_27488\\1804582149.py:112: RuntimeWarning: divide by zero encountered in divide\n",
      "  dq_dv_start=dq/dv\n",
      "C:\\Users\\dmmkm\\AppData\\Local\\Temp\\ipykernel_27488\\1804582149.py:112: RuntimeWarning: invalid value encountered in divide\n",
      "  dq_dv_start=dq/dv\n",
      "C:\\Users\\dmmkm\\AppData\\Local\\Temp\\ipykernel_27488\\1804582149.py:122: RuntimeWarning: invalid value encountered in divide\n",
      "  dq_dv_end=dq/dv\n",
      "C:\\Users\\dmmkm\\AppData\\Local\\Temp\\ipykernel_27488\\1804582149.py:123: FutureWarning: The behavior of `series[i:j]` with an integer-dtype index is deprecated. In a future version, this will be treated as *label-based* indexing, consistent with e.g. `series[i]` lookups. To retain the old behavior, use `series.iloc[i:j]`. To get the future behavior, use `series.loc[i:j]`.\n",
      "  x=cycle_end_df['Voltage (V)'][1:]\n",
      "C:\\Users\\dmmkm\\AppData\\Local\\Temp\\ipykernel_27488\\1804582149.py:145: FutureWarning: The behavior of `series[i:j]` with an integer-dtype index is deprecated. In a future version, this will be treated as *label-based* indexing, consistent with e.g. `series[i]` lookups. To retain the old behavior, use `series.iloc[i:j]`. To get the future behavior, use `series.loc[i:j]`.\n",
      "  dcap_end=cycle_end_df['Discharge_Capacity (Ah)'][1:]\n",
      "C:\\Users\\dmmkm\\AppData\\Local\\Temp\\ipykernel_27488\\1804582149.py:146: FutureWarning: The behavior of `series[i:j]` with an integer-dtype index is deprecated. In a future version, this will be treated as *label-based* indexing, consistent with e.g. `series[i]` lookups. To retain the old behavior, use `series.iloc[i:j]`. To get the future behavior, use `series.loc[i:j]`.\n",
      "  v_end=cycle_end_df['Voltage (V)'][1:]\n"
     ]
    },
    {
     "name": "stdout",
     "output_type": "stream",
     "text": [
      "SNL_18650_NMC_25C_0-100_0.5-1C_c_timeseries.csv\n"
     ]
    },
    {
     "name": "stderr",
     "output_type": "stream",
     "text": [
      "C:\\Users\\dmmkm\\AppData\\Local\\Temp\\ipykernel_27488\\1804582149.py:112: RuntimeWarning: divide by zero encountered in divide\n",
      "  dq_dv_start=dq/dv\n",
      "C:\\Users\\dmmkm\\AppData\\Local\\Temp\\ipykernel_27488\\1804582149.py:112: RuntimeWarning: invalid value encountered in divide\n",
      "  dq_dv_start=dq/dv\n",
      "C:\\Users\\dmmkm\\AppData\\Local\\Temp\\ipykernel_27488\\1804582149.py:122: RuntimeWarning: invalid value encountered in divide\n",
      "  dq_dv_end=dq/dv\n",
      "C:\\Users\\dmmkm\\AppData\\Local\\Temp\\ipykernel_27488\\1804582149.py:123: FutureWarning: The behavior of `series[i:j]` with an integer-dtype index is deprecated. In a future version, this will be treated as *label-based* indexing, consistent with e.g. `series[i]` lookups. To retain the old behavior, use `series.iloc[i:j]`. To get the future behavior, use `series.loc[i:j]`.\n",
      "  x=cycle_end_df['Voltage (V)'][1:]\n",
      "C:\\Users\\dmmkm\\AppData\\Local\\Temp\\ipykernel_27488\\1804582149.py:145: FutureWarning: The behavior of `series[i:j]` with an integer-dtype index is deprecated. In a future version, this will be treated as *label-based* indexing, consistent with e.g. `series[i]` lookups. To retain the old behavior, use `series.iloc[i:j]`. To get the future behavior, use `series.loc[i:j]`.\n",
      "  dcap_end=cycle_end_df['Discharge_Capacity (Ah)'][1:]\n",
      "C:\\Users\\dmmkm\\AppData\\Local\\Temp\\ipykernel_27488\\1804582149.py:146: FutureWarning: The behavior of `series[i:j]` with an integer-dtype index is deprecated. In a future version, this will be treated as *label-based* indexing, consistent with e.g. `series[i]` lookups. To retain the old behavior, use `series.iloc[i:j]`. To get the future behavior, use `series.loc[i:j]`.\n",
      "  v_end=cycle_end_df['Voltage (V)'][1:]\n"
     ]
    },
    {
     "name": "stdout",
     "output_type": "stream",
     "text": [
      "SNL_18650_NMC_25C_0-100_0.5-1C_d_timeseries.csv\n"
     ]
    },
    {
     "name": "stderr",
     "output_type": "stream",
     "text": [
      "C:\\Users\\dmmkm\\AppData\\Local\\Temp\\ipykernel_27488\\1804582149.py:112: RuntimeWarning: divide by zero encountered in divide\n",
      "  dq_dv_start=dq/dv\n",
      "C:\\Users\\dmmkm\\AppData\\Local\\Temp\\ipykernel_27488\\1804582149.py:112: RuntimeWarning: invalid value encountered in divide\n",
      "  dq_dv_start=dq/dv\n",
      "C:\\Users\\dmmkm\\AppData\\Local\\Temp\\ipykernel_27488\\1804582149.py:122: RuntimeWarning: invalid value encountered in divide\n",
      "  dq_dv_end=dq/dv\n",
      "C:\\Users\\dmmkm\\AppData\\Local\\Temp\\ipykernel_27488\\1804582149.py:123: FutureWarning: The behavior of `series[i:j]` with an integer-dtype index is deprecated. In a future version, this will be treated as *label-based* indexing, consistent with e.g. `series[i]` lookups. To retain the old behavior, use `series.iloc[i:j]`. To get the future behavior, use `series.loc[i:j]`.\n",
      "  x=cycle_end_df['Voltage (V)'][1:]\n",
      "C:\\Users\\dmmkm\\AppData\\Local\\Temp\\ipykernel_27488\\1804582149.py:145: FutureWarning: The behavior of `series[i:j]` with an integer-dtype index is deprecated. In a future version, this will be treated as *label-based* indexing, consistent with e.g. `series[i]` lookups. To retain the old behavior, use `series.iloc[i:j]`. To get the future behavior, use `series.loc[i:j]`.\n",
      "  dcap_end=cycle_end_df['Discharge_Capacity (Ah)'][1:]\n",
      "C:\\Users\\dmmkm\\AppData\\Local\\Temp\\ipykernel_27488\\1804582149.py:146: FutureWarning: The behavior of `series[i:j]` with an integer-dtype index is deprecated. In a future version, this will be treated as *label-based* indexing, consistent with e.g. `series[i]` lookups. To retain the old behavior, use `series.iloc[i:j]`. To get the future behavior, use `series.loc[i:j]`.\n",
      "  v_end=cycle_end_df['Voltage (V)'][1:]\n"
     ]
    },
    {
     "name": "stdout",
     "output_type": "stream",
     "text": [
      "SNL_18650_NMC_25C_0-100_0.5-2C_a_timeseries.csv\n"
     ]
    },
    {
     "name": "stderr",
     "output_type": "stream",
     "text": [
      "C:\\Users\\dmmkm\\AppData\\Local\\Temp\\ipykernel_27488\\1804582149.py:112: RuntimeWarning: divide by zero encountered in divide\n",
      "  dq_dv_start=dq/dv\n",
      "C:\\Users\\dmmkm\\AppData\\Local\\Temp\\ipykernel_27488\\1804582149.py:112: RuntimeWarning: invalid value encountered in divide\n",
      "  dq_dv_start=dq/dv\n",
      "C:\\Users\\dmmkm\\AppData\\Local\\Temp\\ipykernel_27488\\1804582149.py:122: RuntimeWarning: invalid value encountered in divide\n",
      "  dq_dv_end=dq/dv\n",
      "C:\\Users\\dmmkm\\AppData\\Local\\Temp\\ipykernel_27488\\1804582149.py:123: FutureWarning: The behavior of `series[i:j]` with an integer-dtype index is deprecated. In a future version, this will be treated as *label-based* indexing, consistent with e.g. `series[i]` lookups. To retain the old behavior, use `series.iloc[i:j]`. To get the future behavior, use `series.loc[i:j]`.\n",
      "  x=cycle_end_df['Voltage (V)'][1:]\n",
      "C:\\Users\\dmmkm\\AppData\\Local\\Temp\\ipykernel_27488\\1804582149.py:145: FutureWarning: The behavior of `series[i:j]` with an integer-dtype index is deprecated. In a future version, this will be treated as *label-based* indexing, consistent with e.g. `series[i]` lookups. To retain the old behavior, use `series.iloc[i:j]`. To get the future behavior, use `series.loc[i:j]`.\n",
      "  dcap_end=cycle_end_df['Discharge_Capacity (Ah)'][1:]\n",
      "C:\\Users\\dmmkm\\AppData\\Local\\Temp\\ipykernel_27488\\1804582149.py:146: FutureWarning: The behavior of `series[i:j]` with an integer-dtype index is deprecated. In a future version, this will be treated as *label-based* indexing, consistent with e.g. `series[i]` lookups. To retain the old behavior, use `series.iloc[i:j]`. To get the future behavior, use `series.loc[i:j]`.\n",
      "  v_end=cycle_end_df['Voltage (V)'][1:]\n"
     ]
    },
    {
     "name": "stdout",
     "output_type": "stream",
     "text": [
      "SNL_18650_NMC_25C_0-100_0.5-2C_b_timeseries.csv\n"
     ]
    },
    {
     "name": "stderr",
     "output_type": "stream",
     "text": [
      "C:\\Users\\dmmkm\\AppData\\Local\\Temp\\ipykernel_27488\\1804582149.py:112: RuntimeWarning: divide by zero encountered in divide\n",
      "  dq_dv_start=dq/dv\n",
      "C:\\Users\\dmmkm\\AppData\\Local\\Temp\\ipykernel_27488\\1804582149.py:112: RuntimeWarning: invalid value encountered in divide\n",
      "  dq_dv_start=dq/dv\n",
      "C:\\Users\\dmmkm\\AppData\\Local\\Temp\\ipykernel_27488\\1804582149.py:122: RuntimeWarning: invalid value encountered in divide\n",
      "  dq_dv_end=dq/dv\n",
      "C:\\Users\\dmmkm\\AppData\\Local\\Temp\\ipykernel_27488\\1804582149.py:123: FutureWarning: The behavior of `series[i:j]` with an integer-dtype index is deprecated. In a future version, this will be treated as *label-based* indexing, consistent with e.g. `series[i]` lookups. To retain the old behavior, use `series.iloc[i:j]`. To get the future behavior, use `series.loc[i:j]`.\n",
      "  x=cycle_end_df['Voltage (V)'][1:]\n",
      "C:\\Users\\dmmkm\\AppData\\Local\\Temp\\ipykernel_27488\\1804582149.py:145: FutureWarning: The behavior of `series[i:j]` with an integer-dtype index is deprecated. In a future version, this will be treated as *label-based* indexing, consistent with e.g. `series[i]` lookups. To retain the old behavior, use `series.iloc[i:j]`. To get the future behavior, use `series.loc[i:j]`.\n",
      "  dcap_end=cycle_end_df['Discharge_Capacity (Ah)'][1:]\n",
      "C:\\Users\\dmmkm\\AppData\\Local\\Temp\\ipykernel_27488\\1804582149.py:146: FutureWarning: The behavior of `series[i:j]` with an integer-dtype index is deprecated. In a future version, this will be treated as *label-based* indexing, consistent with e.g. `series[i]` lookups. To retain the old behavior, use `series.iloc[i:j]`. To get the future behavior, use `series.loc[i:j]`.\n",
      "  v_end=cycle_end_df['Voltage (V)'][1:]\n"
     ]
    },
    {
     "name": "stdout",
     "output_type": "stream",
     "text": [
      "SNL_18650_NMC_25C_0-100_0.5-3C_a_timeseries.csv\n"
     ]
    },
    {
     "name": "stderr",
     "output_type": "stream",
     "text": [
      "C:\\Users\\dmmkm\\AppData\\Local\\Temp\\ipykernel_27488\\1804582149.py:112: RuntimeWarning: divide by zero encountered in divide\n",
      "  dq_dv_start=dq/dv\n",
      "C:\\Users\\dmmkm\\AppData\\Local\\Temp\\ipykernel_27488\\1804582149.py:112: RuntimeWarning: invalid value encountered in divide\n",
      "  dq_dv_start=dq/dv\n",
      "C:\\Users\\dmmkm\\AppData\\Local\\Temp\\ipykernel_27488\\1804582149.py:122: RuntimeWarning: invalid value encountered in divide\n",
      "  dq_dv_end=dq/dv\n",
      "C:\\Users\\dmmkm\\AppData\\Local\\Temp\\ipykernel_27488\\1804582149.py:123: FutureWarning: The behavior of `series[i:j]` with an integer-dtype index is deprecated. In a future version, this will be treated as *label-based* indexing, consistent with e.g. `series[i]` lookups. To retain the old behavior, use `series.iloc[i:j]`. To get the future behavior, use `series.loc[i:j]`.\n",
      "  x=cycle_end_df['Voltage (V)'][1:]\n",
      "C:\\Users\\dmmkm\\AppData\\Local\\Temp\\ipykernel_27488\\1804582149.py:145: FutureWarning: The behavior of `series[i:j]` with an integer-dtype index is deprecated. In a future version, this will be treated as *label-based* indexing, consistent with e.g. `series[i]` lookups. To retain the old behavior, use `series.iloc[i:j]`. To get the future behavior, use `series.loc[i:j]`.\n",
      "  dcap_end=cycle_end_df['Discharge_Capacity (Ah)'][1:]\n",
      "C:\\Users\\dmmkm\\AppData\\Local\\Temp\\ipykernel_27488\\1804582149.py:146: FutureWarning: The behavior of `series[i:j]` with an integer-dtype index is deprecated. In a future version, this will be treated as *label-based* indexing, consistent with e.g. `series[i]` lookups. To retain the old behavior, use `series.iloc[i:j]`. To get the future behavior, use `series.loc[i:j]`.\n",
      "  v_end=cycle_end_df['Voltage (V)'][1:]\n"
     ]
    },
    {
     "name": "stdout",
     "output_type": "stream",
     "text": [
      "SNL_18650_NMC_25C_0-100_0.5-3C_b_timeseries.csv\n"
     ]
    },
    {
     "name": "stderr",
     "output_type": "stream",
     "text": [
      "C:\\Users\\dmmkm\\AppData\\Local\\Temp\\ipykernel_27488\\1804582149.py:112: RuntimeWarning: divide by zero encountered in divide\n",
      "  dq_dv_start=dq/dv\n",
      "C:\\Users\\dmmkm\\AppData\\Local\\Temp\\ipykernel_27488\\1804582149.py:112: RuntimeWarning: invalid value encountered in divide\n",
      "  dq_dv_start=dq/dv\n",
      "C:\\Users\\dmmkm\\AppData\\Local\\Temp\\ipykernel_27488\\1804582149.py:122: RuntimeWarning: invalid value encountered in divide\n",
      "  dq_dv_end=dq/dv\n",
      "C:\\Users\\dmmkm\\AppData\\Local\\Temp\\ipykernel_27488\\1804582149.py:123: FutureWarning: The behavior of `series[i:j]` with an integer-dtype index is deprecated. In a future version, this will be treated as *label-based* indexing, consistent with e.g. `series[i]` lookups. To retain the old behavior, use `series.iloc[i:j]`. To get the future behavior, use `series.loc[i:j]`.\n",
      "  x=cycle_end_df['Voltage (V)'][1:]\n",
      "C:\\Users\\dmmkm\\AppData\\Local\\Temp\\ipykernel_27488\\1804582149.py:145: FutureWarning: The behavior of `series[i:j]` with an integer-dtype index is deprecated. In a future version, this will be treated as *label-based* indexing, consistent with e.g. `series[i]` lookups. To retain the old behavior, use `series.iloc[i:j]`. To get the future behavior, use `series.loc[i:j]`.\n",
      "  dcap_end=cycle_end_df['Discharge_Capacity (Ah)'][1:]\n",
      "C:\\Users\\dmmkm\\AppData\\Local\\Temp\\ipykernel_27488\\1804582149.py:146: FutureWarning: The behavior of `series[i:j]` with an integer-dtype index is deprecated. In a future version, this will be treated as *label-based* indexing, consistent with e.g. `series[i]` lookups. To retain the old behavior, use `series.iloc[i:j]`. To get the future behavior, use `series.loc[i:j]`.\n",
      "  v_end=cycle_end_df['Voltage (V)'][1:]\n"
     ]
    },
    {
     "name": "stdout",
     "output_type": "stream",
     "text": [
      "SNL_18650_NMC_25C_0-100_0.5-3C_d_timeseries.csv\n"
     ]
    },
    {
     "name": "stderr",
     "output_type": "stream",
     "text": [
      "C:\\Users\\dmmkm\\AppData\\Local\\Temp\\ipykernel_27488\\1804582149.py:112: RuntimeWarning: divide by zero encountered in divide\n",
      "  dq_dv_start=dq/dv\n",
      "C:\\Users\\dmmkm\\AppData\\Local\\Temp\\ipykernel_27488\\1804582149.py:112: RuntimeWarning: invalid value encountered in divide\n",
      "  dq_dv_start=dq/dv\n",
      "C:\\Users\\dmmkm\\AppData\\Local\\Temp\\ipykernel_27488\\1804582149.py:122: RuntimeWarning: invalid value encountered in divide\n",
      "  dq_dv_end=dq/dv\n",
      "C:\\Users\\dmmkm\\AppData\\Local\\Temp\\ipykernel_27488\\1804582149.py:123: FutureWarning: The behavior of `series[i:j]` with an integer-dtype index is deprecated. In a future version, this will be treated as *label-based* indexing, consistent with e.g. `series[i]` lookups. To retain the old behavior, use `series.iloc[i:j]`. To get the future behavior, use `series.loc[i:j]`.\n",
      "  x=cycle_end_df['Voltage (V)'][1:]\n",
      "C:\\Users\\dmmkm\\AppData\\Local\\Temp\\ipykernel_27488\\1804582149.py:145: FutureWarning: The behavior of `series[i:j]` with an integer-dtype index is deprecated. In a future version, this will be treated as *label-based* indexing, consistent with e.g. `series[i]` lookups. To retain the old behavior, use `series.iloc[i:j]`. To get the future behavior, use `series.loc[i:j]`.\n",
      "  dcap_end=cycle_end_df['Discharge_Capacity (Ah)'][1:]\n",
      "C:\\Users\\dmmkm\\AppData\\Local\\Temp\\ipykernel_27488\\1804582149.py:146: FutureWarning: The behavior of `series[i:j]` with an integer-dtype index is deprecated. In a future version, this will be treated as *label-based* indexing, consistent with e.g. `series[i]` lookups. To retain the old behavior, use `series.iloc[i:j]`. To get the future behavior, use `series.loc[i:j]`.\n",
      "  v_end=cycle_end_df['Voltage (V)'][1:]\n"
     ]
    },
    {
     "name": "stdout",
     "output_type": "stream",
     "text": [
      "SNL_18650_NMC_25C_20-80_0.5-0.5C_a_timeseries.csv\n"
     ]
    },
    {
     "name": "stderr",
     "output_type": "stream",
     "text": [
      "C:\\Users\\dmmkm\\AppData\\Local\\Temp\\ipykernel_27488\\1804582149.py:112: RuntimeWarning: divide by zero encountered in divide\n",
      "  dq_dv_start=dq/dv\n",
      "C:\\Users\\dmmkm\\AppData\\Local\\Temp\\ipykernel_27488\\1804582149.py:112: RuntimeWarning: invalid value encountered in divide\n",
      "  dq_dv_start=dq/dv\n",
      "C:\\Users\\dmmkm\\AppData\\Local\\Temp\\ipykernel_27488\\1804582149.py:123: FutureWarning: The behavior of `series[i:j]` with an integer-dtype index is deprecated. In a future version, this will be treated as *label-based* indexing, consistent with e.g. `series[i]` lookups. To retain the old behavior, use `series.iloc[i:j]`. To get the future behavior, use `series.loc[i:j]`.\n",
      "  x=cycle_end_df['Voltage (V)'][1:]\n",
      "C:\\Users\\dmmkm\\AppData\\Local\\Temp\\ipykernel_27488\\1804582149.py:145: FutureWarning: The behavior of `series[i:j]` with an integer-dtype index is deprecated. In a future version, this will be treated as *label-based* indexing, consistent with e.g. `series[i]` lookups. To retain the old behavior, use `series.iloc[i:j]`. To get the future behavior, use `series.loc[i:j]`.\n",
      "  dcap_end=cycle_end_df['Discharge_Capacity (Ah)'][1:]\n",
      "C:\\Users\\dmmkm\\AppData\\Local\\Temp\\ipykernel_27488\\1804582149.py:146: FutureWarning: The behavior of `series[i:j]` with an integer-dtype index is deprecated. In a future version, this will be treated as *label-based* indexing, consistent with e.g. `series[i]` lookups. To retain the old behavior, use `series.iloc[i:j]`. To get the future behavior, use `series.loc[i:j]`.\n",
      "  v_end=cycle_end_df['Voltage (V)'][1:]\n"
     ]
    },
    {
     "name": "stdout",
     "output_type": "stream",
     "text": [
      "SNL_18650_NMC_25C_20-80_0.5-0.5C_b_timeseries.csv\n"
     ]
    },
    {
     "name": "stderr",
     "output_type": "stream",
     "text": [
      "C:\\Users\\dmmkm\\AppData\\Local\\Temp\\ipykernel_27488\\1804582149.py:112: RuntimeWarning: divide by zero encountered in divide\n",
      "  dq_dv_start=dq/dv\n",
      "C:\\Users\\dmmkm\\AppData\\Local\\Temp\\ipykernel_27488\\1804582149.py:112: RuntimeWarning: invalid value encountered in divide\n",
      "  dq_dv_start=dq/dv\n",
      "C:\\Users\\dmmkm\\AppData\\Local\\Temp\\ipykernel_27488\\1804582149.py:123: FutureWarning: The behavior of `series[i:j]` with an integer-dtype index is deprecated. In a future version, this will be treated as *label-based* indexing, consistent with e.g. `series[i]` lookups. To retain the old behavior, use `series.iloc[i:j]`. To get the future behavior, use `series.loc[i:j]`.\n",
      "  x=cycle_end_df['Voltage (V)'][1:]\n",
      "C:\\Users\\dmmkm\\AppData\\Local\\Temp\\ipykernel_27488\\1804582149.py:145: FutureWarning: The behavior of `series[i:j]` with an integer-dtype index is deprecated. In a future version, this will be treated as *label-based* indexing, consistent with e.g. `series[i]` lookups. To retain the old behavior, use `series.iloc[i:j]`. To get the future behavior, use `series.loc[i:j]`.\n",
      "  dcap_end=cycle_end_df['Discharge_Capacity (Ah)'][1:]\n",
      "C:\\Users\\dmmkm\\AppData\\Local\\Temp\\ipykernel_27488\\1804582149.py:146: FutureWarning: The behavior of `series[i:j]` with an integer-dtype index is deprecated. In a future version, this will be treated as *label-based* indexing, consistent with e.g. `series[i]` lookups. To retain the old behavior, use `series.iloc[i:j]`. To get the future behavior, use `series.loc[i:j]`.\n",
      "  v_end=cycle_end_df['Voltage (V)'][1:]\n"
     ]
    },
    {
     "name": "stdout",
     "output_type": "stream",
     "text": [
      "SNL_18650_NMC_25C_20-80_0.5-0.5C_c_timeseries.csv\n"
     ]
    },
    {
     "name": "stderr",
     "output_type": "stream",
     "text": [
      "C:\\Users\\dmmkm\\AppData\\Local\\Temp\\ipykernel_27488\\1804582149.py:112: RuntimeWarning: divide by zero encountered in divide\n",
      "  dq_dv_start=dq/dv\n",
      "C:\\Users\\dmmkm\\AppData\\Local\\Temp\\ipykernel_27488\\1804582149.py:112: RuntimeWarning: invalid value encountered in divide\n",
      "  dq_dv_start=dq/dv\n",
      "C:\\Users\\dmmkm\\AppData\\Local\\Temp\\ipykernel_27488\\1804582149.py:122: RuntimeWarning: invalid value encountered in divide\n",
      "  dq_dv_end=dq/dv\n",
      "C:\\Users\\dmmkm\\AppData\\Local\\Temp\\ipykernel_27488\\1804582149.py:123: FutureWarning: The behavior of `series[i:j]` with an integer-dtype index is deprecated. In a future version, this will be treated as *label-based* indexing, consistent with e.g. `series[i]` lookups. To retain the old behavior, use `series.iloc[i:j]`. To get the future behavior, use `series.loc[i:j]`.\n",
      "  x=cycle_end_df['Voltage (V)'][1:]\n",
      "C:\\Users\\dmmkm\\AppData\\Local\\Temp\\ipykernel_27488\\1804582149.py:145: FutureWarning: The behavior of `series[i:j]` with an integer-dtype index is deprecated. In a future version, this will be treated as *label-based* indexing, consistent with e.g. `series[i]` lookups. To retain the old behavior, use `series.iloc[i:j]`. To get the future behavior, use `series.loc[i:j]`.\n",
      "  dcap_end=cycle_end_df['Discharge_Capacity (Ah)'][1:]\n",
      "C:\\Users\\dmmkm\\AppData\\Local\\Temp\\ipykernel_27488\\1804582149.py:146: FutureWarning: The behavior of `series[i:j]` with an integer-dtype index is deprecated. In a future version, this will be treated as *label-based* indexing, consistent with e.g. `series[i]` lookups. To retain the old behavior, use `series.iloc[i:j]`. To get the future behavior, use `series.loc[i:j]`.\n",
      "  v_end=cycle_end_df['Voltage (V)'][1:]\n"
     ]
    },
    {
     "name": "stdout",
     "output_type": "stream",
     "text": [
      "SNL_18650_NMC_25C_20-80_0.5-0.5C_d_timeseries.csv\n"
     ]
    },
    {
     "name": "stderr",
     "output_type": "stream",
     "text": [
      "C:\\Users\\dmmkm\\AppData\\Local\\Temp\\ipykernel_27488\\1804582149.py:112: RuntimeWarning: divide by zero encountered in divide\n",
      "  dq_dv_start=dq/dv\n",
      "C:\\Users\\dmmkm\\AppData\\Local\\Temp\\ipykernel_27488\\1804582149.py:112: RuntimeWarning: invalid value encountered in divide\n",
      "  dq_dv_start=dq/dv\n",
      "C:\\Users\\dmmkm\\AppData\\Local\\Temp\\ipykernel_27488\\1804582149.py:122: RuntimeWarning: invalid value encountered in divide\n",
      "  dq_dv_end=dq/dv\n",
      "C:\\Users\\dmmkm\\AppData\\Local\\Temp\\ipykernel_27488\\1804582149.py:123: FutureWarning: The behavior of `series[i:j]` with an integer-dtype index is deprecated. In a future version, this will be treated as *label-based* indexing, consistent with e.g. `series[i]` lookups. To retain the old behavior, use `series.iloc[i:j]`. To get the future behavior, use `series.loc[i:j]`.\n",
      "  x=cycle_end_df['Voltage (V)'][1:]\n",
      "C:\\Users\\dmmkm\\AppData\\Local\\Temp\\ipykernel_27488\\1804582149.py:145: FutureWarning: The behavior of `series[i:j]` with an integer-dtype index is deprecated. In a future version, this will be treated as *label-based* indexing, consistent with e.g. `series[i]` lookups. To retain the old behavior, use `series.iloc[i:j]`. To get the future behavior, use `series.loc[i:j]`.\n",
      "  dcap_end=cycle_end_df['Discharge_Capacity (Ah)'][1:]\n",
      "C:\\Users\\dmmkm\\AppData\\Local\\Temp\\ipykernel_27488\\1804582149.py:146: FutureWarning: The behavior of `series[i:j]` with an integer-dtype index is deprecated. In a future version, this will be treated as *label-based* indexing, consistent with e.g. `series[i]` lookups. To retain the old behavior, use `series.iloc[i:j]`. To get the future behavior, use `series.loc[i:j]`.\n",
      "  v_end=cycle_end_df['Voltage (V)'][1:]\n"
     ]
    },
    {
     "name": "stdout",
     "output_type": "stream",
     "text": [
      "SNL_18650_NMC_25C_20-80_0.5-3C_a_timeseries.csv\n"
     ]
    },
    {
     "name": "stderr",
     "output_type": "stream",
     "text": [
      "C:\\Users\\dmmkm\\AppData\\Local\\Temp\\ipykernel_27488\\1804582149.py:112: RuntimeWarning: divide by zero encountered in divide\n",
      "  dq_dv_start=dq/dv\n",
      "C:\\Users\\dmmkm\\AppData\\Local\\Temp\\ipykernel_27488\\1804582149.py:112: RuntimeWarning: invalid value encountered in divide\n",
      "  dq_dv_start=dq/dv\n",
      "C:\\Users\\dmmkm\\AppData\\Local\\Temp\\ipykernel_27488\\1804582149.py:122: RuntimeWarning: invalid value encountered in divide\n",
      "  dq_dv_end=dq/dv\n",
      "C:\\Users\\dmmkm\\AppData\\Local\\Temp\\ipykernel_27488\\1804582149.py:123: FutureWarning: The behavior of `series[i:j]` with an integer-dtype index is deprecated. In a future version, this will be treated as *label-based* indexing, consistent with e.g. `series[i]` lookups. To retain the old behavior, use `series.iloc[i:j]`. To get the future behavior, use `series.loc[i:j]`.\n",
      "  x=cycle_end_df['Voltage (V)'][1:]\n",
      "C:\\Users\\dmmkm\\AppData\\Local\\Temp\\ipykernel_27488\\1804582149.py:145: FutureWarning: The behavior of `series[i:j]` with an integer-dtype index is deprecated. In a future version, this will be treated as *label-based* indexing, consistent with e.g. `series[i]` lookups. To retain the old behavior, use `series.iloc[i:j]`. To get the future behavior, use `series.loc[i:j]`.\n",
      "  dcap_end=cycle_end_df['Discharge_Capacity (Ah)'][1:]\n",
      "C:\\Users\\dmmkm\\AppData\\Local\\Temp\\ipykernel_27488\\1804582149.py:146: FutureWarning: The behavior of `series[i:j]` with an integer-dtype index is deprecated. In a future version, this will be treated as *label-based* indexing, consistent with e.g. `series[i]` lookups. To retain the old behavior, use `series.iloc[i:j]`. To get the future behavior, use `series.loc[i:j]`.\n",
      "  v_end=cycle_end_df['Voltage (V)'][1:]\n"
     ]
    },
    {
     "name": "stdout",
     "output_type": "stream",
     "text": [
      "SNL_18650_NMC_35C_0-100_0.5-1C_a_timeseries.csv\n"
     ]
    },
    {
     "name": "stderr",
     "output_type": "stream",
     "text": [
      "C:\\Users\\dmmkm\\AppData\\Local\\Temp\\ipykernel_27488\\1804582149.py:112: RuntimeWarning: divide by zero encountered in divide\n",
      "  dq_dv_start=dq/dv\n",
      "C:\\Users\\dmmkm\\AppData\\Local\\Temp\\ipykernel_27488\\1804582149.py:112: RuntimeWarning: invalid value encountered in divide\n",
      "  dq_dv_start=dq/dv\n",
      "C:\\Users\\dmmkm\\AppData\\Local\\Temp\\ipykernel_27488\\1804582149.py:122: RuntimeWarning: invalid value encountered in divide\n",
      "  dq_dv_end=dq/dv\n",
      "C:\\Users\\dmmkm\\AppData\\Local\\Temp\\ipykernel_27488\\1804582149.py:123: FutureWarning: The behavior of `series[i:j]` with an integer-dtype index is deprecated. In a future version, this will be treated as *label-based* indexing, consistent with e.g. `series[i]` lookups. To retain the old behavior, use `series.iloc[i:j]`. To get the future behavior, use `series.loc[i:j]`.\n",
      "  x=cycle_end_df['Voltage (V)'][1:]\n",
      "C:\\Users\\dmmkm\\AppData\\Local\\Temp\\ipykernel_27488\\1804582149.py:145: FutureWarning: The behavior of `series[i:j]` with an integer-dtype index is deprecated. In a future version, this will be treated as *label-based* indexing, consistent with e.g. `series[i]` lookups. To retain the old behavior, use `series.iloc[i:j]`. To get the future behavior, use `series.loc[i:j]`.\n",
      "  dcap_end=cycle_end_df['Discharge_Capacity (Ah)'][1:]\n",
      "C:\\Users\\dmmkm\\AppData\\Local\\Temp\\ipykernel_27488\\1804582149.py:146: FutureWarning: The behavior of `series[i:j]` with an integer-dtype index is deprecated. In a future version, this will be treated as *label-based* indexing, consistent with e.g. `series[i]` lookups. To retain the old behavior, use `series.iloc[i:j]`. To get the future behavior, use `series.loc[i:j]`.\n",
      "  v_end=cycle_end_df['Voltage (V)'][1:]\n"
     ]
    },
    {
     "name": "stdout",
     "output_type": "stream",
     "text": [
      "SNL_18650_NMC_35C_0-100_0.5-1C_b_timeseries.csv\n"
     ]
    },
    {
     "name": "stderr",
     "output_type": "stream",
     "text": [
      "C:\\Users\\dmmkm\\AppData\\Local\\Temp\\ipykernel_27488\\1804582149.py:112: RuntimeWarning: divide by zero encountered in divide\n",
      "  dq_dv_start=dq/dv\n",
      "C:\\Users\\dmmkm\\AppData\\Local\\Temp\\ipykernel_27488\\1804582149.py:112: RuntimeWarning: invalid value encountered in divide\n",
      "  dq_dv_start=dq/dv\n",
      "C:\\Users\\dmmkm\\AppData\\Local\\Temp\\ipykernel_27488\\1804582149.py:122: RuntimeWarning: invalid value encountered in divide\n",
      "  dq_dv_end=dq/dv\n",
      "C:\\Users\\dmmkm\\AppData\\Local\\Temp\\ipykernel_27488\\1804582149.py:123: FutureWarning: The behavior of `series[i:j]` with an integer-dtype index is deprecated. In a future version, this will be treated as *label-based* indexing, consistent with e.g. `series[i]` lookups. To retain the old behavior, use `series.iloc[i:j]`. To get the future behavior, use `series.loc[i:j]`.\n",
      "  x=cycle_end_df['Voltage (V)'][1:]\n",
      "C:\\Users\\dmmkm\\AppData\\Local\\Temp\\ipykernel_27488\\1804582149.py:145: FutureWarning: The behavior of `series[i:j]` with an integer-dtype index is deprecated. In a future version, this will be treated as *label-based* indexing, consistent with e.g. `series[i]` lookups. To retain the old behavior, use `series.iloc[i:j]`. To get the future behavior, use `series.loc[i:j]`.\n",
      "  dcap_end=cycle_end_df['Discharge_Capacity (Ah)'][1:]\n",
      "C:\\Users\\dmmkm\\AppData\\Local\\Temp\\ipykernel_27488\\1804582149.py:146: FutureWarning: The behavior of `series[i:j]` with an integer-dtype index is deprecated. In a future version, this will be treated as *label-based* indexing, consistent with e.g. `series[i]` lookups. To retain the old behavior, use `series.iloc[i:j]`. To get the future behavior, use `series.loc[i:j]`.\n",
      "  v_end=cycle_end_df['Voltage (V)'][1:]\n"
     ]
    },
    {
     "name": "stdout",
     "output_type": "stream",
     "text": [
      "SNL_18650_NMC_35C_0-100_0.5-1C_c_timeseries.csv\n"
     ]
    },
    {
     "name": "stderr",
     "output_type": "stream",
     "text": [
      "C:\\Users\\dmmkm\\AppData\\Local\\Temp\\ipykernel_27488\\1804582149.py:112: RuntimeWarning: divide by zero encountered in divide\n",
      "  dq_dv_start=dq/dv\n",
      "C:\\Users\\dmmkm\\AppData\\Local\\Temp\\ipykernel_27488\\1804582149.py:112: RuntimeWarning: invalid value encountered in divide\n",
      "  dq_dv_start=dq/dv\n",
      "C:\\Users\\dmmkm\\AppData\\Local\\Temp\\ipykernel_27488\\1804582149.py:122: RuntimeWarning: invalid value encountered in divide\n",
      "  dq_dv_end=dq/dv\n",
      "C:\\Users\\dmmkm\\AppData\\Local\\Temp\\ipykernel_27488\\1804582149.py:123: FutureWarning: The behavior of `series[i:j]` with an integer-dtype index is deprecated. In a future version, this will be treated as *label-based* indexing, consistent with e.g. `series[i]` lookups. To retain the old behavior, use `series.iloc[i:j]`. To get the future behavior, use `series.loc[i:j]`.\n",
      "  x=cycle_end_df['Voltage (V)'][1:]\n",
      "C:\\Users\\dmmkm\\AppData\\Local\\Temp\\ipykernel_27488\\1804582149.py:145: FutureWarning: The behavior of `series[i:j]` with an integer-dtype index is deprecated. In a future version, this will be treated as *label-based* indexing, consistent with e.g. `series[i]` lookups. To retain the old behavior, use `series.iloc[i:j]`. To get the future behavior, use `series.loc[i:j]`.\n",
      "  dcap_end=cycle_end_df['Discharge_Capacity (Ah)'][1:]\n",
      "C:\\Users\\dmmkm\\AppData\\Local\\Temp\\ipykernel_27488\\1804582149.py:146: FutureWarning: The behavior of `series[i:j]` with an integer-dtype index is deprecated. In a future version, this will be treated as *label-based* indexing, consistent with e.g. `series[i]` lookups. To retain the old behavior, use `series.iloc[i:j]`. To get the future behavior, use `series.loc[i:j]`.\n",
      "  v_end=cycle_end_df['Voltage (V)'][1:]\n"
     ]
    },
    {
     "name": "stdout",
     "output_type": "stream",
     "text": [
      "SNL_18650_NMC_35C_0-100_0.5-1C_d_timeseries.csv\n"
     ]
    },
    {
     "name": "stderr",
     "output_type": "stream",
     "text": [
      "C:\\Users\\dmmkm\\AppData\\Local\\Temp\\ipykernel_27488\\1804582149.py:112: RuntimeWarning: divide by zero encountered in divide\n",
      "  dq_dv_start=dq/dv\n",
      "C:\\Users\\dmmkm\\AppData\\Local\\Temp\\ipykernel_27488\\1804582149.py:112: RuntimeWarning: invalid value encountered in divide\n",
      "  dq_dv_start=dq/dv\n",
      "C:\\Users\\dmmkm\\AppData\\Local\\Temp\\ipykernel_27488\\1804582149.py:122: RuntimeWarning: invalid value encountered in divide\n",
      "  dq_dv_end=dq/dv\n",
      "C:\\Users\\dmmkm\\AppData\\Local\\Temp\\ipykernel_27488\\1804582149.py:123: FutureWarning: The behavior of `series[i:j]` with an integer-dtype index is deprecated. In a future version, this will be treated as *label-based* indexing, consistent with e.g. `series[i]` lookups. To retain the old behavior, use `series.iloc[i:j]`. To get the future behavior, use `series.loc[i:j]`.\n",
      "  x=cycle_end_df['Voltage (V)'][1:]\n",
      "C:\\Users\\dmmkm\\AppData\\Local\\Temp\\ipykernel_27488\\1804582149.py:145: FutureWarning: The behavior of `series[i:j]` with an integer-dtype index is deprecated. In a future version, this will be treated as *label-based* indexing, consistent with e.g. `series[i]` lookups. To retain the old behavior, use `series.iloc[i:j]`. To get the future behavior, use `series.loc[i:j]`.\n",
      "  dcap_end=cycle_end_df['Discharge_Capacity (Ah)'][1:]\n",
      "C:\\Users\\dmmkm\\AppData\\Local\\Temp\\ipykernel_27488\\1804582149.py:146: FutureWarning: The behavior of `series[i:j]` with an integer-dtype index is deprecated. In a future version, this will be treated as *label-based* indexing, consistent with e.g. `series[i]` lookups. To retain the old behavior, use `series.iloc[i:j]`. To get the future behavior, use `series.loc[i:j]`.\n",
      "  v_end=cycle_end_df['Voltage (V)'][1:]\n"
     ]
    },
    {
     "name": "stdout",
     "output_type": "stream",
     "text": [
      "SNL_18650_NMC_35C_0-100_0.5-2C_a_timeseries.csv\n"
     ]
    },
    {
     "name": "stderr",
     "output_type": "stream",
     "text": [
      "C:\\Users\\dmmkm\\AppData\\Local\\Temp\\ipykernel_27488\\1804582149.py:112: RuntimeWarning: divide by zero encountered in divide\n",
      "  dq_dv_start=dq/dv\n",
      "C:\\Users\\dmmkm\\AppData\\Local\\Temp\\ipykernel_27488\\1804582149.py:112: RuntimeWarning: invalid value encountered in divide\n",
      "  dq_dv_start=dq/dv\n",
      "C:\\Users\\dmmkm\\AppData\\Local\\Temp\\ipykernel_27488\\1804582149.py:122: RuntimeWarning: invalid value encountered in divide\n",
      "  dq_dv_end=dq/dv\n",
      "C:\\Users\\dmmkm\\AppData\\Local\\Temp\\ipykernel_27488\\1804582149.py:123: FutureWarning: The behavior of `series[i:j]` with an integer-dtype index is deprecated. In a future version, this will be treated as *label-based* indexing, consistent with e.g. `series[i]` lookups. To retain the old behavior, use `series.iloc[i:j]`. To get the future behavior, use `series.loc[i:j]`.\n",
      "  x=cycle_end_df['Voltage (V)'][1:]\n",
      "C:\\Users\\dmmkm\\AppData\\Local\\Temp\\ipykernel_27488\\1804582149.py:145: FutureWarning: The behavior of `series[i:j]` with an integer-dtype index is deprecated. In a future version, this will be treated as *label-based* indexing, consistent with e.g. `series[i]` lookups. To retain the old behavior, use `series.iloc[i:j]`. To get the future behavior, use `series.loc[i:j]`.\n",
      "  dcap_end=cycle_end_df['Discharge_Capacity (Ah)'][1:]\n",
      "C:\\Users\\dmmkm\\AppData\\Local\\Temp\\ipykernel_27488\\1804582149.py:146: FutureWarning: The behavior of `series[i:j]` with an integer-dtype index is deprecated. In a future version, this will be treated as *label-based* indexing, consistent with e.g. `series[i]` lookups. To retain the old behavior, use `series.iloc[i:j]`. To get the future behavior, use `series.loc[i:j]`.\n",
      "  v_end=cycle_end_df['Voltage (V)'][1:]\n"
     ]
    },
    {
     "name": "stdout",
     "output_type": "stream",
     "text": [
      "SNL_18650_NMC_35C_0-100_0.5-2C_b_timeseries.csv\n"
     ]
    },
    {
     "name": "stderr",
     "output_type": "stream",
     "text": [
      "C:\\Users\\dmmkm\\AppData\\Local\\Temp\\ipykernel_27488\\1804582149.py:112: RuntimeWarning: divide by zero encountered in divide\n",
      "  dq_dv_start=dq/dv\n",
      "C:\\Users\\dmmkm\\AppData\\Local\\Temp\\ipykernel_27488\\1804582149.py:112: RuntimeWarning: invalid value encountered in divide\n",
      "  dq_dv_start=dq/dv\n",
      "C:\\Users\\dmmkm\\AppData\\Local\\Temp\\ipykernel_27488\\1804582149.py:122: RuntimeWarning: invalid value encountered in divide\n",
      "  dq_dv_end=dq/dv\n",
      "C:\\Users\\dmmkm\\AppData\\Local\\Temp\\ipykernel_27488\\1804582149.py:123: FutureWarning: The behavior of `series[i:j]` with an integer-dtype index is deprecated. In a future version, this will be treated as *label-based* indexing, consistent with e.g. `series[i]` lookups. To retain the old behavior, use `series.iloc[i:j]`. To get the future behavior, use `series.loc[i:j]`.\n",
      "  x=cycle_end_df['Voltage (V)'][1:]\n",
      "C:\\Users\\dmmkm\\AppData\\Local\\Temp\\ipykernel_27488\\1804582149.py:145: FutureWarning: The behavior of `series[i:j]` with an integer-dtype index is deprecated. In a future version, this will be treated as *label-based* indexing, consistent with e.g. `series[i]` lookups. To retain the old behavior, use `series.iloc[i:j]`. To get the future behavior, use `series.loc[i:j]`.\n",
      "  dcap_end=cycle_end_df['Discharge_Capacity (Ah)'][1:]\n",
      "C:\\Users\\dmmkm\\AppData\\Local\\Temp\\ipykernel_27488\\1804582149.py:146: FutureWarning: The behavior of `series[i:j]` with an integer-dtype index is deprecated. In a future version, this will be treated as *label-based* indexing, consistent with e.g. `series[i]` lookups. To retain the old behavior, use `series.iloc[i:j]`. To get the future behavior, use `series.loc[i:j]`.\n",
      "  v_end=cycle_end_df['Voltage (V)'][1:]\n"
     ]
    },
    {
     "name": "stdout",
     "output_type": "stream",
     "text": [
      "HNEI_18650_NMC_LCO_25C_0-100_0.5-1.5C_a_timeseries.csv\n"
     ]
    },
    {
     "name": "stderr",
     "output_type": "stream",
     "text": [
      "C:\\Users\\dmmkm\\AppData\\Local\\Temp\\ipykernel_27488\\1804582149.py:112: RuntimeWarning: divide by zero encountered in divide\n",
      "  dq_dv_start=dq/dv\n",
      "C:\\Users\\dmmkm\\AppData\\Local\\Temp\\ipykernel_27488\\1804582149.py:112: RuntimeWarning: invalid value encountered in divide\n",
      "  dq_dv_start=dq/dv\n",
      "C:\\Users\\dmmkm\\AppData\\Local\\Temp\\ipykernel_27488\\1804582149.py:122: RuntimeWarning: divide by zero encountered in divide\n",
      "  dq_dv_end=dq/dv\n",
      "C:\\Users\\dmmkm\\AppData\\Local\\Temp\\ipykernel_27488\\1804582149.py:122: RuntimeWarning: invalid value encountered in divide\n",
      "  dq_dv_end=dq/dv\n",
      "C:\\Users\\dmmkm\\AppData\\Local\\Temp\\ipykernel_27488\\1804582149.py:123: FutureWarning: The behavior of `series[i:j]` with an integer-dtype index is deprecated. In a future version, this will be treated as *label-based* indexing, consistent with e.g. `series[i]` lookups. To retain the old behavior, use `series.iloc[i:j]`. To get the future behavior, use `series.loc[i:j]`.\n",
      "  x=cycle_end_df['Voltage (V)'][1:]\n",
      "C:\\Users\\dmmkm\\AppData\\Local\\Temp\\ipykernel_27488\\1804582149.py:145: FutureWarning: The behavior of `series[i:j]` with an integer-dtype index is deprecated. In a future version, this will be treated as *label-based* indexing, consistent with e.g. `series[i]` lookups. To retain the old behavior, use `series.iloc[i:j]`. To get the future behavior, use `series.loc[i:j]`.\n",
      "  dcap_end=cycle_end_df['Discharge_Capacity (Ah)'][1:]\n",
      "C:\\Users\\dmmkm\\AppData\\Local\\Temp\\ipykernel_27488\\1804582149.py:146: FutureWarning: The behavior of `series[i:j]` with an integer-dtype index is deprecated. In a future version, this will be treated as *label-based* indexing, consistent with e.g. `series[i]` lookups. To retain the old behavior, use `series.iloc[i:j]`. To get the future behavior, use `series.loc[i:j]`.\n",
      "  v_end=cycle_end_df['Voltage (V)'][1:]\n"
     ]
    },
    {
     "name": "stdout",
     "output_type": "stream",
     "text": [
      "HNEI_18650_NMC_LCO_25C_0-100_0.5-1.5C_b_timeseries.csv\n"
     ]
    },
    {
     "name": "stderr",
     "output_type": "stream",
     "text": [
      "C:\\Users\\dmmkm\\AppData\\Local\\Temp\\ipykernel_27488\\1804582149.py:112: RuntimeWarning: divide by zero encountered in divide\n",
      "  dq_dv_start=dq/dv\n",
      "C:\\Users\\dmmkm\\AppData\\Local\\Temp\\ipykernel_27488\\1804582149.py:112: RuntimeWarning: invalid value encountered in divide\n",
      "  dq_dv_start=dq/dv\n",
      "C:\\Users\\dmmkm\\AppData\\Local\\Temp\\ipykernel_27488\\1804582149.py:122: RuntimeWarning: invalid value encountered in divide\n",
      "  dq_dv_end=dq/dv\n",
      "C:\\Users\\dmmkm\\AppData\\Local\\Temp\\ipykernel_27488\\1804582149.py:123: FutureWarning: The behavior of `series[i:j]` with an integer-dtype index is deprecated. In a future version, this will be treated as *label-based* indexing, consistent with e.g. `series[i]` lookups. To retain the old behavior, use `series.iloc[i:j]`. To get the future behavior, use `series.loc[i:j]`.\n",
      "  x=cycle_end_df['Voltage (V)'][1:]\n",
      "C:\\Users\\dmmkm\\AppData\\Local\\Temp\\ipykernel_27488\\1804582149.py:145: FutureWarning: The behavior of `series[i:j]` with an integer-dtype index is deprecated. In a future version, this will be treated as *label-based* indexing, consistent with e.g. `series[i]` lookups. To retain the old behavior, use `series.iloc[i:j]`. To get the future behavior, use `series.loc[i:j]`.\n",
      "  dcap_end=cycle_end_df['Discharge_Capacity (Ah)'][1:]\n",
      "C:\\Users\\dmmkm\\AppData\\Local\\Temp\\ipykernel_27488\\1804582149.py:146: FutureWarning: The behavior of `series[i:j]` with an integer-dtype index is deprecated. In a future version, this will be treated as *label-based* indexing, consistent with e.g. `series[i]` lookups. To retain the old behavior, use `series.iloc[i:j]`. To get the future behavior, use `series.loc[i:j]`.\n",
      "  v_end=cycle_end_df['Voltage (V)'][1:]\n"
     ]
    },
    {
     "name": "stdout",
     "output_type": "stream",
     "text": [
      "HNEI_18650_NMC_LCO_25C_0-100_0.5-1.5C_c_timeseries.csv\n"
     ]
    },
    {
     "name": "stderr",
     "output_type": "stream",
     "text": [
      "C:\\Users\\dmmkm\\AppData\\Local\\Temp\\ipykernel_27488\\1804582149.py:112: RuntimeWarning: divide by zero encountered in divide\n",
      "  dq_dv_start=dq/dv\n",
      "C:\\Users\\dmmkm\\AppData\\Local\\Temp\\ipykernel_27488\\1804582149.py:112: RuntimeWarning: invalid value encountered in divide\n",
      "  dq_dv_start=dq/dv\n",
      "C:\\Users\\dmmkm\\AppData\\Local\\Temp\\ipykernel_27488\\1804582149.py:122: RuntimeWarning: invalid value encountered in divide\n",
      "  dq_dv_end=dq/dv\n",
      "C:\\Users\\dmmkm\\AppData\\Local\\Temp\\ipykernel_27488\\1804582149.py:123: FutureWarning: The behavior of `series[i:j]` with an integer-dtype index is deprecated. In a future version, this will be treated as *label-based* indexing, consistent with e.g. `series[i]` lookups. To retain the old behavior, use `series.iloc[i:j]`. To get the future behavior, use `series.loc[i:j]`.\n",
      "  x=cycle_end_df['Voltage (V)'][1:]\n",
      "C:\\Users\\dmmkm\\AppData\\Local\\Temp\\ipykernel_27488\\1804582149.py:145: FutureWarning: The behavior of `series[i:j]` with an integer-dtype index is deprecated. In a future version, this will be treated as *label-based* indexing, consistent with e.g. `series[i]` lookups. To retain the old behavior, use `series.iloc[i:j]`. To get the future behavior, use `series.loc[i:j]`.\n",
      "  dcap_end=cycle_end_df['Discharge_Capacity (Ah)'][1:]\n",
      "C:\\Users\\dmmkm\\AppData\\Local\\Temp\\ipykernel_27488\\1804582149.py:146: FutureWarning: The behavior of `series[i:j]` with an integer-dtype index is deprecated. In a future version, this will be treated as *label-based* indexing, consistent with e.g. `series[i]` lookups. To retain the old behavior, use `series.iloc[i:j]`. To get the future behavior, use `series.loc[i:j]`.\n",
      "  v_end=cycle_end_df['Voltage (V)'][1:]\n"
     ]
    },
    {
     "name": "stdout",
     "output_type": "stream",
     "text": [
      "HNEI_18650_NMC_LCO_25C_0-100_0.5-1.5C_d_timeseries.csv\n"
     ]
    },
    {
     "name": "stderr",
     "output_type": "stream",
     "text": [
      "C:\\Users\\dmmkm\\AppData\\Local\\Temp\\ipykernel_27488\\1804582149.py:112: RuntimeWarning: divide by zero encountered in divide\n",
      "  dq_dv_start=dq/dv\n",
      "C:\\Users\\dmmkm\\AppData\\Local\\Temp\\ipykernel_27488\\1804582149.py:112: RuntimeWarning: invalid value encountered in divide\n",
      "  dq_dv_start=dq/dv\n",
      "C:\\Users\\dmmkm\\AppData\\Local\\Temp\\ipykernel_27488\\1804582149.py:122: RuntimeWarning: invalid value encountered in divide\n",
      "  dq_dv_end=dq/dv\n",
      "C:\\Users\\dmmkm\\AppData\\Local\\Temp\\ipykernel_27488\\1804582149.py:123: FutureWarning: The behavior of `series[i:j]` with an integer-dtype index is deprecated. In a future version, this will be treated as *label-based* indexing, consistent with e.g. `series[i]` lookups. To retain the old behavior, use `series.iloc[i:j]`. To get the future behavior, use `series.loc[i:j]`.\n",
      "  x=cycle_end_df['Voltage (V)'][1:]\n",
      "C:\\Users\\dmmkm\\AppData\\Local\\Temp\\ipykernel_27488\\1804582149.py:145: FutureWarning: The behavior of `series[i:j]` with an integer-dtype index is deprecated. In a future version, this will be treated as *label-based* indexing, consistent with e.g. `series[i]` lookups. To retain the old behavior, use `series.iloc[i:j]`. To get the future behavior, use `series.loc[i:j]`.\n",
      "  dcap_end=cycle_end_df['Discharge_Capacity (Ah)'][1:]\n",
      "C:\\Users\\dmmkm\\AppData\\Local\\Temp\\ipykernel_27488\\1804582149.py:146: FutureWarning: The behavior of `series[i:j]` with an integer-dtype index is deprecated. In a future version, this will be treated as *label-based* indexing, consistent with e.g. `series[i]` lookups. To retain the old behavior, use `series.iloc[i:j]`. To get the future behavior, use `series.loc[i:j]`.\n",
      "  v_end=cycle_end_df['Voltage (V)'][1:]\n"
     ]
    },
    {
     "name": "stdout",
     "output_type": "stream",
     "text": [
      "HNEI_18650_NMC_LCO_25C_0-100_0.5-1.5C_e_timeseries.csv\n"
     ]
    },
    {
     "name": "stderr",
     "output_type": "stream",
     "text": [
      "C:\\Users\\dmmkm\\AppData\\Local\\Temp\\ipykernel_27488\\1804582149.py:112: RuntimeWarning: divide by zero encountered in divide\n",
      "  dq_dv_start=dq/dv\n",
      "C:\\Users\\dmmkm\\AppData\\Local\\Temp\\ipykernel_27488\\1804582149.py:112: RuntimeWarning: invalid value encountered in divide\n",
      "  dq_dv_start=dq/dv\n",
      "C:\\Users\\dmmkm\\AppData\\Local\\Temp\\ipykernel_27488\\1804582149.py:122: RuntimeWarning: divide by zero encountered in divide\n",
      "  dq_dv_end=dq/dv\n",
      "C:\\Users\\dmmkm\\AppData\\Local\\Temp\\ipykernel_27488\\1804582149.py:122: RuntimeWarning: invalid value encountered in divide\n",
      "  dq_dv_end=dq/dv\n",
      "C:\\Users\\dmmkm\\AppData\\Local\\Temp\\ipykernel_27488\\1804582149.py:123: FutureWarning: The behavior of `series[i:j]` with an integer-dtype index is deprecated. In a future version, this will be treated as *label-based* indexing, consistent with e.g. `series[i]` lookups. To retain the old behavior, use `series.iloc[i:j]`. To get the future behavior, use `series.loc[i:j]`.\n",
      "  x=cycle_end_df['Voltage (V)'][1:]\n",
      "C:\\Users\\dmmkm\\AppData\\Local\\Temp\\ipykernel_27488\\1804582149.py:145: FutureWarning: The behavior of `series[i:j]` with an integer-dtype index is deprecated. In a future version, this will be treated as *label-based* indexing, consistent with e.g. `series[i]` lookups. To retain the old behavior, use `series.iloc[i:j]`. To get the future behavior, use `series.loc[i:j]`.\n",
      "  dcap_end=cycle_end_df['Discharge_Capacity (Ah)'][1:]\n",
      "C:\\Users\\dmmkm\\AppData\\Local\\Temp\\ipykernel_27488\\1804582149.py:146: FutureWarning: The behavior of `series[i:j]` with an integer-dtype index is deprecated. In a future version, this will be treated as *label-based* indexing, consistent with e.g. `series[i]` lookups. To retain the old behavior, use `series.iloc[i:j]`. To get the future behavior, use `series.loc[i:j]`.\n",
      "  v_end=cycle_end_df['Voltage (V)'][1:]\n"
     ]
    },
    {
     "name": "stdout",
     "output_type": "stream",
     "text": [
      "HNEI_18650_NMC_LCO_25C_0-100_0.5-1.5C_f_timeseries.csv\n"
     ]
    },
    {
     "name": "stderr",
     "output_type": "stream",
     "text": [
      "C:\\Users\\dmmkm\\AppData\\Local\\Temp\\ipykernel_27488\\1804582149.py:112: RuntimeWarning: divide by zero encountered in divide\n",
      "  dq_dv_start=dq/dv\n",
      "C:\\Users\\dmmkm\\AppData\\Local\\Temp\\ipykernel_27488\\1804582149.py:112: RuntimeWarning: invalid value encountered in divide\n",
      "  dq_dv_start=dq/dv\n",
      "C:\\Users\\dmmkm\\AppData\\Local\\Temp\\ipykernel_27488\\1804582149.py:122: RuntimeWarning: divide by zero encountered in divide\n",
      "  dq_dv_end=dq/dv\n",
      "C:\\Users\\dmmkm\\AppData\\Local\\Temp\\ipykernel_27488\\1804582149.py:122: RuntimeWarning: invalid value encountered in divide\n",
      "  dq_dv_end=dq/dv\n",
      "C:\\Users\\dmmkm\\AppData\\Local\\Temp\\ipykernel_27488\\1804582149.py:123: FutureWarning: The behavior of `series[i:j]` with an integer-dtype index is deprecated. In a future version, this will be treated as *label-based* indexing, consistent with e.g. `series[i]` lookups. To retain the old behavior, use `series.iloc[i:j]`. To get the future behavior, use `series.loc[i:j]`.\n",
      "  x=cycle_end_df['Voltage (V)'][1:]\n",
      "C:\\Users\\dmmkm\\AppData\\Local\\Temp\\ipykernel_27488\\1804582149.py:145: FutureWarning: The behavior of `series[i:j]` with an integer-dtype index is deprecated. In a future version, this will be treated as *label-based* indexing, consistent with e.g. `series[i]` lookups. To retain the old behavior, use `series.iloc[i:j]`. To get the future behavior, use `series.loc[i:j]`.\n",
      "  dcap_end=cycle_end_df['Discharge_Capacity (Ah)'][1:]\n",
      "C:\\Users\\dmmkm\\AppData\\Local\\Temp\\ipykernel_27488\\1804582149.py:146: FutureWarning: The behavior of `series[i:j]` with an integer-dtype index is deprecated. In a future version, this will be treated as *label-based* indexing, consistent with e.g. `series[i]` lookups. To retain the old behavior, use `series.iloc[i:j]`. To get the future behavior, use `series.loc[i:j]`.\n",
      "  v_end=cycle_end_df['Voltage (V)'][1:]\n"
     ]
    },
    {
     "name": "stdout",
     "output_type": "stream",
     "text": [
      "HNEI_18650_NMC_LCO_25C_0-100_0.5-1.5C_g_timeseries.csv\n"
     ]
    },
    {
     "name": "stderr",
     "output_type": "stream",
     "text": [
      "C:\\Users\\dmmkm\\AppData\\Local\\Temp\\ipykernel_27488\\1804582149.py:112: RuntimeWarning: divide by zero encountered in divide\n",
      "  dq_dv_start=dq/dv\n",
      "C:\\Users\\dmmkm\\AppData\\Local\\Temp\\ipykernel_27488\\1804582149.py:112: RuntimeWarning: invalid value encountered in divide\n",
      "  dq_dv_start=dq/dv\n",
      "C:\\Users\\dmmkm\\AppData\\Local\\Temp\\ipykernel_27488\\1804582149.py:122: RuntimeWarning: divide by zero encountered in divide\n",
      "  dq_dv_end=dq/dv\n",
      "C:\\Users\\dmmkm\\AppData\\Local\\Temp\\ipykernel_27488\\1804582149.py:122: RuntimeWarning: invalid value encountered in divide\n",
      "  dq_dv_end=dq/dv\n",
      "C:\\Users\\dmmkm\\AppData\\Local\\Temp\\ipykernel_27488\\1804582149.py:123: FutureWarning: The behavior of `series[i:j]` with an integer-dtype index is deprecated. In a future version, this will be treated as *label-based* indexing, consistent with e.g. `series[i]` lookups. To retain the old behavior, use `series.iloc[i:j]`. To get the future behavior, use `series.loc[i:j]`.\n",
      "  x=cycle_end_df['Voltage (V)'][1:]\n",
      "C:\\Users\\dmmkm\\AppData\\Local\\Temp\\ipykernel_27488\\1804582149.py:145: FutureWarning: The behavior of `series[i:j]` with an integer-dtype index is deprecated. In a future version, this will be treated as *label-based* indexing, consistent with e.g. `series[i]` lookups. To retain the old behavior, use `series.iloc[i:j]`. To get the future behavior, use `series.loc[i:j]`.\n",
      "  dcap_end=cycle_end_df['Discharge_Capacity (Ah)'][1:]\n",
      "C:\\Users\\dmmkm\\AppData\\Local\\Temp\\ipykernel_27488\\1804582149.py:146: FutureWarning: The behavior of `series[i:j]` with an integer-dtype index is deprecated. In a future version, this will be treated as *label-based* indexing, consistent with e.g. `series[i]` lookups. To retain the old behavior, use `series.iloc[i:j]`. To get the future behavior, use `series.loc[i:j]`.\n",
      "  v_end=cycle_end_df['Voltage (V)'][1:]\n"
     ]
    },
    {
     "name": "stdout",
     "output_type": "stream",
     "text": [
      "HNEI_18650_NMC_LCO_25C_0-100_0.5-1.5C_j_timeseries.csv\n"
     ]
    },
    {
     "name": "stderr",
     "output_type": "stream",
     "text": [
      "C:\\Users\\dmmkm\\AppData\\Local\\Temp\\ipykernel_27488\\1804582149.py:112: RuntimeWarning: divide by zero encountered in divide\n",
      "  dq_dv_start=dq/dv\n",
      "C:\\Users\\dmmkm\\AppData\\Local\\Temp\\ipykernel_27488\\1804582149.py:112: RuntimeWarning: invalid value encountered in divide\n",
      "  dq_dv_start=dq/dv\n",
      "C:\\Users\\dmmkm\\AppData\\Local\\Temp\\ipykernel_27488\\1804582149.py:122: RuntimeWarning: invalid value encountered in divide\n",
      "  dq_dv_end=dq/dv\n",
      "C:\\Users\\dmmkm\\AppData\\Local\\Temp\\ipykernel_27488\\1804582149.py:123: FutureWarning: The behavior of `series[i:j]` with an integer-dtype index is deprecated. In a future version, this will be treated as *label-based* indexing, consistent with e.g. `series[i]` lookups. To retain the old behavior, use `series.iloc[i:j]`. To get the future behavior, use `series.loc[i:j]`.\n",
      "  x=cycle_end_df['Voltage (V)'][1:]\n",
      "C:\\Users\\dmmkm\\AppData\\Local\\Temp\\ipykernel_27488\\1804582149.py:145: FutureWarning: The behavior of `series[i:j]` with an integer-dtype index is deprecated. In a future version, this will be treated as *label-based* indexing, consistent with e.g. `series[i]` lookups. To retain the old behavior, use `series.iloc[i:j]`. To get the future behavior, use `series.loc[i:j]`.\n",
      "  dcap_end=cycle_end_df['Discharge_Capacity (Ah)'][1:]\n",
      "C:\\Users\\dmmkm\\AppData\\Local\\Temp\\ipykernel_27488\\1804582149.py:146: FutureWarning: The behavior of `series[i:j]` with an integer-dtype index is deprecated. In a future version, this will be treated as *label-based* indexing, consistent with e.g. `series[i]` lookups. To retain the old behavior, use `series.iloc[i:j]`. To get the future behavior, use `series.loc[i:j]`.\n",
      "  v_end=cycle_end_df['Voltage (V)'][1:]\n"
     ]
    },
    {
     "name": "stdout",
     "output_type": "stream",
     "text": [
      "HNEI_18650_NMC_LCO_25C_0-100_0.5-1.5C_l_timeseries.csv\n"
     ]
    },
    {
     "name": "stderr",
     "output_type": "stream",
     "text": [
      "C:\\Users\\dmmkm\\AppData\\Local\\Temp\\ipykernel_27488\\1804582149.py:112: RuntimeWarning: divide by zero encountered in divide\n",
      "  dq_dv_start=dq/dv\n",
      "C:\\Users\\dmmkm\\AppData\\Local\\Temp\\ipykernel_27488\\1804582149.py:112: RuntimeWarning: invalid value encountered in divide\n",
      "  dq_dv_start=dq/dv\n",
      "C:\\Users\\dmmkm\\AppData\\Local\\Temp\\ipykernel_27488\\1804582149.py:122: RuntimeWarning: divide by zero encountered in divide\n",
      "  dq_dv_end=dq/dv\n",
      "C:\\Users\\dmmkm\\AppData\\Local\\Temp\\ipykernel_27488\\1804582149.py:122: RuntimeWarning: invalid value encountered in divide\n",
      "  dq_dv_end=dq/dv\n",
      "C:\\Users\\dmmkm\\AppData\\Local\\Temp\\ipykernel_27488\\1804582149.py:123: FutureWarning: The behavior of `series[i:j]` with an integer-dtype index is deprecated. In a future version, this will be treated as *label-based* indexing, consistent with e.g. `series[i]` lookups. To retain the old behavior, use `series.iloc[i:j]`. To get the future behavior, use `series.loc[i:j]`.\n",
      "  x=cycle_end_df['Voltage (V)'][1:]\n",
      "C:\\Users\\dmmkm\\AppData\\Local\\Temp\\ipykernel_27488\\1804582149.py:145: FutureWarning: The behavior of `series[i:j]` with an integer-dtype index is deprecated. In a future version, this will be treated as *label-based* indexing, consistent with e.g. `series[i]` lookups. To retain the old behavior, use `series.iloc[i:j]`. To get the future behavior, use `series.loc[i:j]`.\n",
      "  dcap_end=cycle_end_df['Discharge_Capacity (Ah)'][1:]\n",
      "C:\\Users\\dmmkm\\AppData\\Local\\Temp\\ipykernel_27488\\1804582149.py:146: FutureWarning: The behavior of `series[i:j]` with an integer-dtype index is deprecated. In a future version, this will be treated as *label-based* indexing, consistent with e.g. `series[i]` lookups. To retain the old behavior, use `series.iloc[i:j]`. To get the future behavior, use `series.loc[i:j]`.\n",
      "  v_end=cycle_end_df['Voltage (V)'][1:]\n"
     ]
    },
    {
     "name": "stdout",
     "output_type": "stream",
     "text": [
      "HNEI_18650_NMC_LCO_25C_0-100_0.5-1.5C_n_timeseries.csv\n"
     ]
    },
    {
     "name": "stderr",
     "output_type": "stream",
     "text": [
      "C:\\Users\\dmmkm\\AppData\\Local\\Temp\\ipykernel_27488\\1804582149.py:112: RuntimeWarning: divide by zero encountered in divide\n",
      "  dq_dv_start=dq/dv\n",
      "C:\\Users\\dmmkm\\AppData\\Local\\Temp\\ipykernel_27488\\1804582149.py:112: RuntimeWarning: invalid value encountered in divide\n",
      "  dq_dv_start=dq/dv\n",
      "C:\\Users\\dmmkm\\AppData\\Local\\Temp\\ipykernel_27488\\1804582149.py:122: RuntimeWarning: invalid value encountered in divide\n",
      "  dq_dv_end=dq/dv\n",
      "C:\\Users\\dmmkm\\AppData\\Local\\Temp\\ipykernel_27488\\1804582149.py:123: FutureWarning: The behavior of `series[i:j]` with an integer-dtype index is deprecated. In a future version, this will be treated as *label-based* indexing, consistent with e.g. `series[i]` lookups. To retain the old behavior, use `series.iloc[i:j]`. To get the future behavior, use `series.loc[i:j]`.\n",
      "  x=cycle_end_df['Voltage (V)'][1:]\n",
      "C:\\Users\\dmmkm\\AppData\\Local\\Temp\\ipykernel_27488\\1804582149.py:145: FutureWarning: The behavior of `series[i:j]` with an integer-dtype index is deprecated. In a future version, this will be treated as *label-based* indexing, consistent with e.g. `series[i]` lookups. To retain the old behavior, use `series.iloc[i:j]`. To get the future behavior, use `series.loc[i:j]`.\n",
      "  dcap_end=cycle_end_df['Discharge_Capacity (Ah)'][1:]\n",
      "C:\\Users\\dmmkm\\AppData\\Local\\Temp\\ipykernel_27488\\1804582149.py:146: FutureWarning: The behavior of `series[i:j]` with an integer-dtype index is deprecated. In a future version, this will be treated as *label-based* indexing, consistent with e.g. `series[i]` lookups. To retain the old behavior, use `series.iloc[i:j]`. To get the future behavior, use `series.loc[i:j]`.\n",
      "  v_end=cycle_end_df['Voltage (V)'][1:]\n"
     ]
    },
    {
     "name": "stdout",
     "output_type": "stream",
     "text": [
      "HNEI_18650_NMC_LCO_25C_0-100_0.5-1.5C_o_timeseries.csv\n"
     ]
    },
    {
     "name": "stderr",
     "output_type": "stream",
     "text": [
      "C:\\Users\\dmmkm\\AppData\\Local\\Temp\\ipykernel_27488\\1804582149.py:112: RuntimeWarning: divide by zero encountered in divide\n",
      "  dq_dv_start=dq/dv\n",
      "C:\\Users\\dmmkm\\AppData\\Local\\Temp\\ipykernel_27488\\1804582149.py:112: RuntimeWarning: invalid value encountered in divide\n",
      "  dq_dv_start=dq/dv\n",
      "C:\\Users\\dmmkm\\AppData\\Local\\Temp\\ipykernel_27488\\1804582149.py:122: RuntimeWarning: divide by zero encountered in divide\n",
      "  dq_dv_end=dq/dv\n",
      "C:\\Users\\dmmkm\\AppData\\Local\\Temp\\ipykernel_27488\\1804582149.py:122: RuntimeWarning: invalid value encountered in divide\n",
      "  dq_dv_end=dq/dv\n",
      "C:\\Users\\dmmkm\\AppData\\Local\\Temp\\ipykernel_27488\\1804582149.py:123: FutureWarning: The behavior of `series[i:j]` with an integer-dtype index is deprecated. In a future version, this will be treated as *label-based* indexing, consistent with e.g. `series[i]` lookups. To retain the old behavior, use `series.iloc[i:j]`. To get the future behavior, use `series.loc[i:j]`.\n",
      "  x=cycle_end_df['Voltage (V)'][1:]\n",
      "C:\\Users\\dmmkm\\AppData\\Local\\Temp\\ipykernel_27488\\1804582149.py:145: FutureWarning: The behavior of `series[i:j]` with an integer-dtype index is deprecated. In a future version, this will be treated as *label-based* indexing, consistent with e.g. `series[i]` lookups. To retain the old behavior, use `series.iloc[i:j]`. To get the future behavior, use `series.loc[i:j]`.\n",
      "  dcap_end=cycle_end_df['Discharge_Capacity (Ah)'][1:]\n",
      "C:\\Users\\dmmkm\\AppData\\Local\\Temp\\ipykernel_27488\\1804582149.py:146: FutureWarning: The behavior of `series[i:j]` with an integer-dtype index is deprecated. In a future version, this will be treated as *label-based* indexing, consistent with e.g. `series[i]` lookups. To retain the old behavior, use `series.iloc[i:j]`. To get the future behavior, use `series.loc[i:j]`.\n",
      "  v_end=cycle_end_df['Voltage (V)'][1:]\n"
     ]
    },
    {
     "name": "stdout",
     "output_type": "stream",
     "text": [
      "HNEI_18650_NMC_LCO_25C_0-100_0.5-1.5C_p_timeseries.csv\n"
     ]
    },
    {
     "name": "stderr",
     "output_type": "stream",
     "text": [
      "C:\\Users\\dmmkm\\AppData\\Local\\Temp\\ipykernel_27488\\1804582149.py:112: RuntimeWarning: divide by zero encountered in divide\n",
      "  dq_dv_start=dq/dv\n",
      "C:\\Users\\dmmkm\\AppData\\Local\\Temp\\ipykernel_27488\\1804582149.py:112: RuntimeWarning: invalid value encountered in divide\n",
      "  dq_dv_start=dq/dv\n",
      "C:\\Users\\dmmkm\\AppData\\Local\\Temp\\ipykernel_27488\\1804582149.py:122: RuntimeWarning: divide by zero encountered in divide\n",
      "  dq_dv_end=dq/dv\n",
      "C:\\Users\\dmmkm\\AppData\\Local\\Temp\\ipykernel_27488\\1804582149.py:122: RuntimeWarning: invalid value encountered in divide\n",
      "  dq_dv_end=dq/dv\n",
      "C:\\Users\\dmmkm\\AppData\\Local\\Temp\\ipykernel_27488\\1804582149.py:123: FutureWarning: The behavior of `series[i:j]` with an integer-dtype index is deprecated. In a future version, this will be treated as *label-based* indexing, consistent with e.g. `series[i]` lookups. To retain the old behavior, use `series.iloc[i:j]`. To get the future behavior, use `series.loc[i:j]`.\n",
      "  x=cycle_end_df['Voltage (V)'][1:]\n",
      "C:\\Users\\dmmkm\\AppData\\Local\\Temp\\ipykernel_27488\\1804582149.py:145: FutureWarning: The behavior of `series[i:j]` with an integer-dtype index is deprecated. In a future version, this will be treated as *label-based* indexing, consistent with e.g. `series[i]` lookups. To retain the old behavior, use `series.iloc[i:j]`. To get the future behavior, use `series.loc[i:j]`.\n",
      "  dcap_end=cycle_end_df['Discharge_Capacity (Ah)'][1:]\n",
      "C:\\Users\\dmmkm\\AppData\\Local\\Temp\\ipykernel_27488\\1804582149.py:146: FutureWarning: The behavior of `series[i:j]` with an integer-dtype index is deprecated. In a future version, this will be treated as *label-based* indexing, consistent with e.g. `series[i]` lookups. To retain the old behavior, use `series.iloc[i:j]`. To get the future behavior, use `series.loc[i:j]`.\n",
      "  v_end=cycle_end_df['Voltage (V)'][1:]\n"
     ]
    },
    {
     "name": "stdout",
     "output_type": "stream",
     "text": [
      "HNEI_18650_NMC_LCO_25C_0-100_0.5-1.5C_s_timeseries.csv\n"
     ]
    },
    {
     "name": "stderr",
     "output_type": "stream",
     "text": [
      "C:\\Users\\dmmkm\\AppData\\Local\\Temp\\ipykernel_27488\\1804582149.py:112: RuntimeWarning: divide by zero encountered in divide\n",
      "  dq_dv_start=dq/dv\n",
      "C:\\Users\\dmmkm\\AppData\\Local\\Temp\\ipykernel_27488\\1804582149.py:112: RuntimeWarning: invalid value encountered in divide\n",
      "  dq_dv_start=dq/dv\n",
      "C:\\Users\\dmmkm\\AppData\\Local\\Temp\\ipykernel_27488\\1804582149.py:122: RuntimeWarning: divide by zero encountered in divide\n",
      "  dq_dv_end=dq/dv\n",
      "C:\\Users\\dmmkm\\AppData\\Local\\Temp\\ipykernel_27488\\1804582149.py:122: RuntimeWarning: invalid value encountered in divide\n",
      "  dq_dv_end=dq/dv\n",
      "C:\\Users\\dmmkm\\AppData\\Local\\Temp\\ipykernel_27488\\1804582149.py:123: FutureWarning: The behavior of `series[i:j]` with an integer-dtype index is deprecated. In a future version, this will be treated as *label-based* indexing, consistent with e.g. `series[i]` lookups. To retain the old behavior, use `series.iloc[i:j]`. To get the future behavior, use `series.loc[i:j]`.\n",
      "  x=cycle_end_df['Voltage (V)'][1:]\n",
      "C:\\Users\\dmmkm\\AppData\\Local\\Temp\\ipykernel_27488\\1804582149.py:145: FutureWarning: The behavior of `series[i:j]` with an integer-dtype index is deprecated. In a future version, this will be treated as *label-based* indexing, consistent with e.g. `series[i]` lookups. To retain the old behavior, use `series.iloc[i:j]`. To get the future behavior, use `series.loc[i:j]`.\n",
      "  dcap_end=cycle_end_df['Discharge_Capacity (Ah)'][1:]\n",
      "C:\\Users\\dmmkm\\AppData\\Local\\Temp\\ipykernel_27488\\1804582149.py:146: FutureWarning: The behavior of `series[i:j]` with an integer-dtype index is deprecated. In a future version, this will be treated as *label-based* indexing, consistent with e.g. `series[i]` lookups. To retain the old behavior, use `series.iloc[i:j]`. To get the future behavior, use `series.loc[i:j]`.\n",
      "  v_end=cycle_end_df['Voltage (V)'][1:]\n"
     ]
    },
    {
     "name": "stdout",
     "output_type": "stream",
     "text": [
      "HNEI_18650_NMC_LCO_25C_0-100_0.5-1.5C_t_timeseries.csv\n"
     ]
    },
    {
     "name": "stderr",
     "output_type": "stream",
     "text": [
      "C:\\Users\\dmmkm\\AppData\\Local\\Temp\\ipykernel_27488\\1804582149.py:112: RuntimeWarning: divide by zero encountered in divide\n",
      "  dq_dv_start=dq/dv\n",
      "C:\\Users\\dmmkm\\AppData\\Local\\Temp\\ipykernel_27488\\1804582149.py:112: RuntimeWarning: invalid value encountered in divide\n",
      "  dq_dv_start=dq/dv\n",
      "C:\\Users\\dmmkm\\AppData\\Local\\Temp\\ipykernel_27488\\1804582149.py:122: RuntimeWarning: divide by zero encountered in divide\n",
      "  dq_dv_end=dq/dv\n",
      "C:\\Users\\dmmkm\\AppData\\Local\\Temp\\ipykernel_27488\\1804582149.py:122: RuntimeWarning: invalid value encountered in divide\n",
      "  dq_dv_end=dq/dv\n",
      "C:\\Users\\dmmkm\\AppData\\Local\\Temp\\ipykernel_27488\\1804582149.py:123: FutureWarning: The behavior of `series[i:j]` with an integer-dtype index is deprecated. In a future version, this will be treated as *label-based* indexing, consistent with e.g. `series[i]` lookups. To retain the old behavior, use `series.iloc[i:j]`. To get the future behavior, use `series.loc[i:j]`.\n",
      "  x=cycle_end_df['Voltage (V)'][1:]\n",
      "C:\\Users\\dmmkm\\AppData\\Local\\Temp\\ipykernel_27488\\1804582149.py:145: FutureWarning: The behavior of `series[i:j]` with an integer-dtype index is deprecated. In a future version, this will be treated as *label-based* indexing, consistent with e.g. `series[i]` lookups. To retain the old behavior, use `series.iloc[i:j]`. To get the future behavior, use `series.loc[i:j]`.\n",
      "  dcap_end=cycle_end_df['Discharge_Capacity (Ah)'][1:]\n",
      "C:\\Users\\dmmkm\\AppData\\Local\\Temp\\ipykernel_27488\\1804582149.py:146: FutureWarning: The behavior of `series[i:j]` with an integer-dtype index is deprecated. In a future version, this will be treated as *label-based* indexing, consistent with e.g. `series[i]` lookups. To retain the old behavior, use `series.iloc[i:j]`. To get the future behavior, use `series.loc[i:j]`.\n",
      "  v_end=cycle_end_df['Voltage (V)'][1:]\n"
     ]
    },
    {
     "name": "stdout",
     "output_type": "stream",
     "text": [
      "CALCE_CX2-16_prism_LCO_25C_0-100_0.5-0.5C_a_timeseries.csv\n"
     ]
    },
    {
     "name": "stderr",
     "output_type": "stream",
     "text": [
      "C:\\Users\\dmmkm\\AppData\\Local\\Temp\\ipykernel_27488\\1804582149.py:112: RuntimeWarning: invalid value encountered in divide\n",
      "  dq_dv_start=dq/dv\n",
      "C:\\Users\\dmmkm\\AppData\\Local\\Temp\\ipykernel_27488\\1804582149.py:113: FutureWarning: The behavior of `series[i:j]` with an integer-dtype index is deprecated. In a future version, this will be treated as *label-based* indexing, consistent with e.g. `series[i]` lookups. To retain the old behavior, use `series.iloc[i:j]`. To get the future behavior, use `series.loc[i:j]`.\n",
      "  x=cycle_start_df['Voltage (V)'][1:]\n",
      "C:\\Users\\dmmkm\\AppData\\Local\\Temp\\ipykernel_27488\\1804582149.py:122: RuntimeWarning: invalid value encountered in divide\n",
      "  dq_dv_end=dq/dv\n",
      "C:\\Users\\dmmkm\\AppData\\Local\\Temp\\ipykernel_27488\\1804582149.py:123: FutureWarning: The behavior of `series[i:j]` with an integer-dtype index is deprecated. In a future version, this will be treated as *label-based* indexing, consistent with e.g. `series[i]` lookups. To retain the old behavior, use `series.iloc[i:j]`. To get the future behavior, use `series.loc[i:j]`.\n",
      "  x=cycle_end_df['Voltage (V)'][1:]\n",
      "C:\\Users\\dmmkm\\AppData\\Local\\Temp\\ipykernel_27488\\1804582149.py:134: FutureWarning: The behavior of `series[i:j]` with an integer-dtype index is deprecated. In a future version, this will be treated as *label-based* indexing, consistent with e.g. `series[i]` lookups. To retain the old behavior, use `series.iloc[i:j]`. To get the future behavior, use `series.loc[i:j]`.\n",
      "  dcap_start=cycle_start_df['Discharge_Capacity (Ah)'][1:]\n",
      "C:\\Users\\dmmkm\\AppData\\Local\\Temp\\ipykernel_27488\\1804582149.py:135: FutureWarning: The behavior of `series[i:j]` with an integer-dtype index is deprecated. In a future version, this will be treated as *label-based* indexing, consistent with e.g. `series[i]` lookups. To retain the old behavior, use `series.iloc[i:j]`. To get the future behavior, use `series.loc[i:j]`.\n",
      "  v_start=cycle_start_df['Voltage (V)'][1:]\n",
      "C:\\Users\\dmmkm\\AppData\\Local\\Temp\\ipykernel_27488\\1804582149.py:145: FutureWarning: The behavior of `series[i:j]` with an integer-dtype index is deprecated. In a future version, this will be treated as *label-based* indexing, consistent with e.g. `series[i]` lookups. To retain the old behavior, use `series.iloc[i:j]`. To get the future behavior, use `series.loc[i:j]`.\n",
      "  dcap_end=cycle_end_df['Discharge_Capacity (Ah)'][1:]\n",
      "C:\\Users\\dmmkm\\AppData\\Local\\Temp\\ipykernel_27488\\1804582149.py:146: FutureWarning: The behavior of `series[i:j]` with an integer-dtype index is deprecated. In a future version, this will be treated as *label-based* indexing, consistent with e.g. `series[i]` lookups. To retain the old behavior, use `series.iloc[i:j]`. To get the future behavior, use `series.loc[i:j]`.\n",
      "  v_end=cycle_end_df['Voltage (V)'][1:]\n"
     ]
    },
    {
     "name": "stdout",
     "output_type": "stream",
     "text": [
      "CALCE_CX2-25_prism_LCO_25C_0-100_0.5-0.5C_b_timeseries.csv\n"
     ]
    },
    {
     "name": "stderr",
     "output_type": "stream",
     "text": [
      "C:\\Users\\dmmkm\\AppData\\Local\\Temp\\ipykernel_27488\\1804582149.py:112: RuntimeWarning: divide by zero encountered in divide\n",
      "  dq_dv_start=dq/dv\n",
      "C:\\Users\\dmmkm\\AppData\\Local\\Temp\\ipykernel_27488\\1804582149.py:112: RuntimeWarning: invalid value encountered in divide\n",
      "  dq_dv_start=dq/dv\n",
      "C:\\Users\\dmmkm\\AppData\\Local\\Temp\\ipykernel_27488\\1804582149.py:113: FutureWarning: The behavior of `series[i:j]` with an integer-dtype index is deprecated. In a future version, this will be treated as *label-based* indexing, consistent with e.g. `series[i]` lookups. To retain the old behavior, use `series.iloc[i:j]`. To get the future behavior, use `series.loc[i:j]`.\n",
      "  x=cycle_start_df['Voltage (V)'][1:]\n",
      "C:\\Users\\dmmkm\\AppData\\Local\\Temp\\ipykernel_27488\\1804582149.py:122: RuntimeWarning: invalid value encountered in divide\n",
      "  dq_dv_end=dq/dv\n",
      "C:\\Users\\dmmkm\\AppData\\Local\\Temp\\ipykernel_27488\\1804582149.py:123: FutureWarning: The behavior of `series[i:j]` with an integer-dtype index is deprecated. In a future version, this will be treated as *label-based* indexing, consistent with e.g. `series[i]` lookups. To retain the old behavior, use `series.iloc[i:j]`. To get the future behavior, use `series.loc[i:j]`.\n",
      "  x=cycle_end_df['Voltage (V)'][1:]\n",
      "C:\\Users\\dmmkm\\AppData\\Local\\Temp\\ipykernel_27488\\1804582149.py:134: FutureWarning: The behavior of `series[i:j]` with an integer-dtype index is deprecated. In a future version, this will be treated as *label-based* indexing, consistent with e.g. `series[i]` lookups. To retain the old behavior, use `series.iloc[i:j]`. To get the future behavior, use `series.loc[i:j]`.\n",
      "  dcap_start=cycle_start_df['Discharge_Capacity (Ah)'][1:]\n",
      "C:\\Users\\dmmkm\\AppData\\Local\\Temp\\ipykernel_27488\\1804582149.py:135: FutureWarning: The behavior of `series[i:j]` with an integer-dtype index is deprecated. In a future version, this will be treated as *label-based* indexing, consistent with e.g. `series[i]` lookups. To retain the old behavior, use `series.iloc[i:j]`. To get the future behavior, use `series.loc[i:j]`.\n",
      "  v_start=cycle_start_df['Voltage (V)'][1:]\n",
      "C:\\Users\\dmmkm\\AppData\\Local\\Temp\\ipykernel_27488\\1804582149.py:145: FutureWarning: The behavior of `series[i:j]` with an integer-dtype index is deprecated. In a future version, this will be treated as *label-based* indexing, consistent with e.g. `series[i]` lookups. To retain the old behavior, use `series.iloc[i:j]`. To get the future behavior, use `series.loc[i:j]`.\n",
      "  dcap_end=cycle_end_df['Discharge_Capacity (Ah)'][1:]\n",
      "C:\\Users\\dmmkm\\AppData\\Local\\Temp\\ipykernel_27488\\1804582149.py:146: FutureWarning: The behavior of `series[i:j]` with an integer-dtype index is deprecated. In a future version, this will be treated as *label-based* indexing, consistent with e.g. `series[i]` lookups. To retain the old behavior, use `series.iloc[i:j]`. To get the future behavior, use `series.loc[i:j]`.\n",
      "  v_end=cycle_end_df['Voltage (V)'][1:]\n"
     ]
    },
    {
     "name": "stdout",
     "output_type": "stream",
     "text": [
      "CALCE_CX2-33_prism_LCO_25C_0-100_0.5-0.5C_d_timeseries.csv\n"
     ]
    },
    {
     "name": "stderr",
     "output_type": "stream",
     "text": [
      "C:\\Users\\dmmkm\\AppData\\Local\\Temp\\ipykernel_27488\\1804582149.py:112: RuntimeWarning: invalid value encountered in divide\n",
      "  dq_dv_start=dq/dv\n",
      "C:\\Users\\dmmkm\\AppData\\Local\\Temp\\ipykernel_27488\\1804582149.py:113: FutureWarning: The behavior of `series[i:j]` with an integer-dtype index is deprecated. In a future version, this will be treated as *label-based* indexing, consistent with e.g. `series[i]` lookups. To retain the old behavior, use `series.iloc[i:j]`. To get the future behavior, use `series.loc[i:j]`.\n",
      "  x=cycle_start_df['Voltage (V)'][1:]\n",
      "C:\\Users\\dmmkm\\AppData\\Local\\Temp\\ipykernel_27488\\1804582149.py:122: RuntimeWarning: invalid value encountered in divide\n",
      "  dq_dv_end=dq/dv\n",
      "C:\\Users\\dmmkm\\AppData\\Local\\Temp\\ipykernel_27488\\1804582149.py:123: FutureWarning: The behavior of `series[i:j]` with an integer-dtype index is deprecated. In a future version, this will be treated as *label-based* indexing, consistent with e.g. `series[i]` lookups. To retain the old behavior, use `series.iloc[i:j]`. To get the future behavior, use `series.loc[i:j]`.\n",
      "  x=cycle_end_df['Voltage (V)'][1:]\n",
      "C:\\Users\\dmmkm\\AppData\\Local\\Temp\\ipykernel_27488\\1804582149.py:134: FutureWarning: The behavior of `series[i:j]` with an integer-dtype index is deprecated. In a future version, this will be treated as *label-based* indexing, consistent with e.g. `series[i]` lookups. To retain the old behavior, use `series.iloc[i:j]`. To get the future behavior, use `series.loc[i:j]`.\n",
      "  dcap_start=cycle_start_df['Discharge_Capacity (Ah)'][1:]\n",
      "C:\\Users\\dmmkm\\AppData\\Local\\Temp\\ipykernel_27488\\1804582149.py:135: FutureWarning: The behavior of `series[i:j]` with an integer-dtype index is deprecated. In a future version, this will be treated as *label-based* indexing, consistent with e.g. `series[i]` lookups. To retain the old behavior, use `series.iloc[i:j]`. To get the future behavior, use `series.loc[i:j]`.\n",
      "  v_start=cycle_start_df['Voltage (V)'][1:]\n",
      "C:\\Users\\dmmkm\\AppData\\Local\\Temp\\ipykernel_27488\\1804582149.py:145: FutureWarning: The behavior of `series[i:j]` with an integer-dtype index is deprecated. In a future version, this will be treated as *label-based* indexing, consistent with e.g. `series[i]` lookups. To retain the old behavior, use `series.iloc[i:j]`. To get the future behavior, use `series.loc[i:j]`.\n",
      "  dcap_end=cycle_end_df['Discharge_Capacity (Ah)'][1:]\n",
      "C:\\Users\\dmmkm\\AppData\\Local\\Temp\\ipykernel_27488\\1804582149.py:146: FutureWarning: The behavior of `series[i:j]` with an integer-dtype index is deprecated. In a future version, this will be treated as *label-based* indexing, consistent with e.g. `series[i]` lookups. To retain the old behavior, use `series.iloc[i:j]`. To get the future behavior, use `series.loc[i:j]`.\n",
      "  v_end=cycle_end_df['Voltage (V)'][1:]\n"
     ]
    },
    {
     "name": "stdout",
     "output_type": "stream",
     "text": [
      "CALCE_CX2-36_prism_LCO_25C_0-100_0.5-0.5C_f_timeseries.csv\n"
     ]
    },
    {
     "name": "stderr",
     "output_type": "stream",
     "text": [
      "C:\\Users\\dmmkm\\AppData\\Local\\Temp\\ipykernel_27488\\1804582149.py:112: RuntimeWarning: divide by zero encountered in divide\n",
      "  dq_dv_start=dq/dv\n",
      "C:\\Users\\dmmkm\\AppData\\Local\\Temp\\ipykernel_27488\\1804582149.py:112: RuntimeWarning: invalid value encountered in divide\n",
      "  dq_dv_start=dq/dv\n",
      "C:\\Users\\dmmkm\\AppData\\Local\\Temp\\ipykernel_27488\\1804582149.py:113: FutureWarning: The behavior of `series[i:j]` with an integer-dtype index is deprecated. In a future version, this will be treated as *label-based* indexing, consistent with e.g. `series[i]` lookups. To retain the old behavior, use `series.iloc[i:j]`. To get the future behavior, use `series.loc[i:j]`.\n",
      "  x=cycle_start_df['Voltage (V)'][1:]\n",
      "C:\\Users\\dmmkm\\AppData\\Local\\Temp\\ipykernel_27488\\1804582149.py:122: RuntimeWarning: invalid value encountered in divide\n",
      "  dq_dv_end=dq/dv\n",
      "C:\\Users\\dmmkm\\AppData\\Local\\Temp\\ipykernel_27488\\1804582149.py:123: FutureWarning: The behavior of `series[i:j]` with an integer-dtype index is deprecated. In a future version, this will be treated as *label-based* indexing, consistent with e.g. `series[i]` lookups. To retain the old behavior, use `series.iloc[i:j]`. To get the future behavior, use `series.loc[i:j]`.\n",
      "  x=cycle_end_df['Voltage (V)'][1:]\n",
      "C:\\Users\\dmmkm\\AppData\\Local\\Temp\\ipykernel_27488\\1804582149.py:134: FutureWarning: The behavior of `series[i:j]` with an integer-dtype index is deprecated. In a future version, this will be treated as *label-based* indexing, consistent with e.g. `series[i]` lookups. To retain the old behavior, use `series.iloc[i:j]`. To get the future behavior, use `series.loc[i:j]`.\n",
      "  dcap_start=cycle_start_df['Discharge_Capacity (Ah)'][1:]\n",
      "C:\\Users\\dmmkm\\AppData\\Local\\Temp\\ipykernel_27488\\1804582149.py:135: FutureWarning: The behavior of `series[i:j]` with an integer-dtype index is deprecated. In a future version, this will be treated as *label-based* indexing, consistent with e.g. `series[i]` lookups. To retain the old behavior, use `series.iloc[i:j]`. To get the future behavior, use `series.loc[i:j]`.\n",
      "  v_start=cycle_start_df['Voltage (V)'][1:]\n",
      "C:\\Users\\dmmkm\\AppData\\Local\\Temp\\ipykernel_27488\\1804582149.py:145: FutureWarning: The behavior of `series[i:j]` with an integer-dtype index is deprecated. In a future version, this will be treated as *label-based* indexing, consistent with e.g. `series[i]` lookups. To retain the old behavior, use `series.iloc[i:j]`. To get the future behavior, use `series.loc[i:j]`.\n",
      "  dcap_end=cycle_end_df['Discharge_Capacity (Ah)'][1:]\n",
      "C:\\Users\\dmmkm\\AppData\\Local\\Temp\\ipykernel_27488\\1804582149.py:146: FutureWarning: The behavior of `series[i:j]` with an integer-dtype index is deprecated. In a future version, this will be treated as *label-based* indexing, consistent with e.g. `series[i]` lookups. To retain the old behavior, use `series.iloc[i:j]`. To get the future behavior, use `series.loc[i:j]`.\n",
      "  v_end=cycle_end_df['Voltage (V)'][1:]\n"
     ]
    },
    {
     "name": "stdout",
     "output_type": "stream",
     "text": [
      "CALCE_CX2-37_prism_LCO_25C_0-100_0.5-0.5C_g_timeseries.csv\n"
     ]
    },
    {
     "name": "stderr",
     "output_type": "stream",
     "text": [
      "C:\\Users\\dmmkm\\AppData\\Local\\Temp\\ipykernel_27488\\1804582149.py:112: RuntimeWarning: divide by zero encountered in divide\n",
      "  dq_dv_start=dq/dv\n",
      "C:\\Users\\dmmkm\\AppData\\Local\\Temp\\ipykernel_27488\\1804582149.py:112: RuntimeWarning: invalid value encountered in divide\n",
      "  dq_dv_start=dq/dv\n",
      "C:\\Users\\dmmkm\\AppData\\Local\\Temp\\ipykernel_27488\\1804582149.py:113: FutureWarning: The behavior of `series[i:j]` with an integer-dtype index is deprecated. In a future version, this will be treated as *label-based* indexing, consistent with e.g. `series[i]` lookups. To retain the old behavior, use `series.iloc[i:j]`. To get the future behavior, use `series.loc[i:j]`.\n",
      "  x=cycle_start_df['Voltage (V)'][1:]\n",
      "C:\\Users\\dmmkm\\AppData\\Local\\Temp\\ipykernel_27488\\1804582149.py:122: RuntimeWarning: invalid value encountered in divide\n",
      "  dq_dv_end=dq/dv\n",
      "C:\\Users\\dmmkm\\AppData\\Local\\Temp\\ipykernel_27488\\1804582149.py:123: FutureWarning: The behavior of `series[i:j]` with an integer-dtype index is deprecated. In a future version, this will be treated as *label-based* indexing, consistent with e.g. `series[i]` lookups. To retain the old behavior, use `series.iloc[i:j]`. To get the future behavior, use `series.loc[i:j]`.\n",
      "  x=cycle_end_df['Voltage (V)'][1:]\n",
      "C:\\Users\\dmmkm\\AppData\\Local\\Temp\\ipykernel_27488\\1804582149.py:134: FutureWarning: The behavior of `series[i:j]` with an integer-dtype index is deprecated. In a future version, this will be treated as *label-based* indexing, consistent with e.g. `series[i]` lookups. To retain the old behavior, use `series.iloc[i:j]`. To get the future behavior, use `series.loc[i:j]`.\n",
      "  dcap_start=cycle_start_df['Discharge_Capacity (Ah)'][1:]\n",
      "C:\\Users\\dmmkm\\AppData\\Local\\Temp\\ipykernel_27488\\1804582149.py:135: FutureWarning: The behavior of `series[i:j]` with an integer-dtype index is deprecated. In a future version, this will be treated as *label-based* indexing, consistent with e.g. `series[i]` lookups. To retain the old behavior, use `series.iloc[i:j]`. To get the future behavior, use `series.loc[i:j]`.\n",
      "  v_start=cycle_start_df['Voltage (V)'][1:]\n",
      "C:\\Users\\dmmkm\\AppData\\Local\\Temp\\ipykernel_27488\\1804582149.py:145: FutureWarning: The behavior of `series[i:j]` with an integer-dtype index is deprecated. In a future version, this will be treated as *label-based* indexing, consistent with e.g. `series[i]` lookups. To retain the old behavior, use `series.iloc[i:j]`. To get the future behavior, use `series.loc[i:j]`.\n",
      "  dcap_end=cycle_end_df['Discharge_Capacity (Ah)'][1:]\n",
      "C:\\Users\\dmmkm\\AppData\\Local\\Temp\\ipykernel_27488\\1804582149.py:146: FutureWarning: The behavior of `series[i:j]` with an integer-dtype index is deprecated. In a future version, this will be treated as *label-based* indexing, consistent with e.g. `series[i]` lookups. To retain the old behavior, use `series.iloc[i:j]`. To get the future behavior, use `series.loc[i:j]`.\n",
      "  v_end=cycle_end_df['Voltage (V)'][1:]\n"
     ]
    },
    {
     "name": "stdout",
     "output_type": "stream",
     "text": [
      "CALCE_CX2-38_prism_LCO_25C_0-100_0.5-0.5C_h_timeseries.csv\n"
     ]
    },
    {
     "name": "stderr",
     "output_type": "stream",
     "text": [
      "C:\\Users\\dmmkm\\AppData\\Local\\Temp\\ipykernel_27488\\1804582149.py:112: RuntimeWarning: divide by zero encountered in divide\n",
      "  dq_dv_start=dq/dv\n",
      "C:\\Users\\dmmkm\\AppData\\Local\\Temp\\ipykernel_27488\\1804582149.py:112: RuntimeWarning: invalid value encountered in divide\n",
      "  dq_dv_start=dq/dv\n",
      "C:\\Users\\dmmkm\\AppData\\Local\\Temp\\ipykernel_27488\\1804582149.py:113: FutureWarning: The behavior of `series[i:j]` with an integer-dtype index is deprecated. In a future version, this will be treated as *label-based* indexing, consistent with e.g. `series[i]` lookups. To retain the old behavior, use `series.iloc[i:j]`. To get the future behavior, use `series.loc[i:j]`.\n",
      "  x=cycle_start_df['Voltage (V)'][1:]\n",
      "C:\\Users\\dmmkm\\AppData\\Local\\Temp\\ipykernel_27488\\1804582149.py:122: RuntimeWarning: invalid value encountered in divide\n",
      "  dq_dv_end=dq/dv\n",
      "C:\\Users\\dmmkm\\AppData\\Local\\Temp\\ipykernel_27488\\1804582149.py:123: FutureWarning: The behavior of `series[i:j]` with an integer-dtype index is deprecated. In a future version, this will be treated as *label-based* indexing, consistent with e.g. `series[i]` lookups. To retain the old behavior, use `series.iloc[i:j]`. To get the future behavior, use `series.loc[i:j]`.\n",
      "  x=cycle_end_df['Voltage (V)'][1:]\n",
      "C:\\Users\\dmmkm\\AppData\\Local\\Temp\\ipykernel_27488\\1804582149.py:134: FutureWarning: The behavior of `series[i:j]` with an integer-dtype index is deprecated. In a future version, this will be treated as *label-based* indexing, consistent with e.g. `series[i]` lookups. To retain the old behavior, use `series.iloc[i:j]`. To get the future behavior, use `series.loc[i:j]`.\n",
      "  dcap_start=cycle_start_df['Discharge_Capacity (Ah)'][1:]\n",
      "C:\\Users\\dmmkm\\AppData\\Local\\Temp\\ipykernel_27488\\1804582149.py:135: FutureWarning: The behavior of `series[i:j]` with an integer-dtype index is deprecated. In a future version, this will be treated as *label-based* indexing, consistent with e.g. `series[i]` lookups. To retain the old behavior, use `series.iloc[i:j]`. To get the future behavior, use `series.loc[i:j]`.\n",
      "  v_start=cycle_start_df['Voltage (V)'][1:]\n",
      "C:\\Users\\dmmkm\\AppData\\Local\\Temp\\ipykernel_27488\\1804582149.py:145: FutureWarning: The behavior of `series[i:j]` with an integer-dtype index is deprecated. In a future version, this will be treated as *label-based* indexing, consistent with e.g. `series[i]` lookups. To retain the old behavior, use `series.iloc[i:j]`. To get the future behavior, use `series.loc[i:j]`.\n",
      "  dcap_end=cycle_end_df['Discharge_Capacity (Ah)'][1:]\n",
      "C:\\Users\\dmmkm\\AppData\\Local\\Temp\\ipykernel_27488\\1804582149.py:146: FutureWarning: The behavior of `series[i:j]` with an integer-dtype index is deprecated. In a future version, this will be treated as *label-based* indexing, consistent with e.g. `series[i]` lookups. To retain the old behavior, use `series.iloc[i:j]`. To get the future behavior, use `series.loc[i:j]`.\n",
      "  v_end=cycle_end_df['Voltage (V)'][1:]\n"
     ]
    },
    {
     "data": {
      "text/html": [
       "<div>\n",
       "<style scoped>\n",
       "    .dataframe tbody tr th:only-of-type {\n",
       "        vertical-align: middle;\n",
       "    }\n",
       "\n",
       "    .dataframe tbody tr th {\n",
       "        vertical-align: top;\n",
       "    }\n",
       "\n",
       "    .dataframe thead th {\n",
       "        text-align: right;\n",
       "    }\n",
       "</style>\n",
       "<table border=\"1\" class=\"dataframe\">\n",
       "  <thead>\n",
       "    <tr style=\"text-align: right;\">\n",
       "      <th></th>\n",
       "      <th>dataset</th>\n",
       "      <th>dq/dv_shift</th>\n",
       "      <th>dq_diff</th>\n",
       "      <th>max_temp_diff</th>\n",
       "      <th>ave_temp_cycle1</th>\n",
       "      <th>cycle_lifetime</th>\n",
       "      <th>2.0-2.1 V</th>\n",
       "      <th>2.1-2.2 V</th>\n",
       "      <th>2.2-2.3 V</th>\n",
       "      <th>2.3-2.4 V</th>\n",
       "      <th>...</th>\n",
       "      <th>dt_39_40 (C)</th>\n",
       "      <th>dt_40_41 (C)</th>\n",
       "      <th>dt_41_42 (C)</th>\n",
       "      <th>dt_42_43 (C)</th>\n",
       "      <th>dt_43_44 (C)</th>\n",
       "      <th>dt_44_45 (C)</th>\n",
       "      <th>dt_45_46 (C)</th>\n",
       "      <th>dt_46_47 (C)</th>\n",
       "      <th>dt_47_48 (C)</th>\n",
       "      <th>dt_48_49 (C)</th>\n",
       "    </tr>\n",
       "  </thead>\n",
       "  <tbody>\n",
       "    <tr>\n",
       "      <th>0</th>\n",
       "      <td>a123</td>\n",
       "      <td>-0.001527</td>\n",
       "      <td>-0.008349</td>\n",
       "      <td>-6.414988</td>\n",
       "      <td>31.875011</td>\n",
       "      <td>279.0</td>\n",
       "      <td>256.411497</td>\n",
       "      <td>2.559145</td>\n",
       "      <td>3.851198</td>\n",
       "      <td>5.863147</td>\n",
       "      <td>...</td>\n",
       "      <td>0.0</td>\n",
       "      <td>0.0</td>\n",
       "      <td>0.0</td>\n",
       "      <td>0.0</td>\n",
       "      <td>0.0</td>\n",
       "      <td>0.0</td>\n",
       "      <td>0.0</td>\n",
       "      <td>0.0</td>\n",
       "      <td>0.0</td>\n",
       "      <td>0.0</td>\n",
       "    </tr>\n",
       "    <tr>\n",
       "      <th>1</th>\n",
       "      <td>a123</td>\n",
       "      <td>-0.001094</td>\n",
       "      <td>-0.005910</td>\n",
       "      <td>-4.915979</td>\n",
       "      <td>31.668844</td>\n",
       "      <td>2158.0</td>\n",
       "      <td>249.156107</td>\n",
       "      <td>2.684140</td>\n",
       "      <td>4.039452</td>\n",
       "      <td>6.070350</td>\n",
       "      <td>...</td>\n",
       "      <td>0.0</td>\n",
       "      <td>0.0</td>\n",
       "      <td>0.0</td>\n",
       "      <td>0.0</td>\n",
       "      <td>0.0</td>\n",
       "      <td>0.0</td>\n",
       "      <td>0.0</td>\n",
       "      <td>0.0</td>\n",
       "      <td>0.0</td>\n",
       "      <td>0.0</td>\n",
       "    </tr>\n",
       "    <tr>\n",
       "      <th>2</th>\n",
       "      <td>a123</td>\n",
       "      <td>-0.000719</td>\n",
       "      <td>-0.005519</td>\n",
       "      <td>-6.163752</td>\n",
       "      <td>32.939408</td>\n",
       "      <td>786.0</td>\n",
       "      <td>260.328892</td>\n",
       "      <td>2.447698</td>\n",
       "      <td>3.434162</td>\n",
       "      <td>5.382598</td>\n",
       "      <td>...</td>\n",
       "      <td>0.0</td>\n",
       "      <td>0.0</td>\n",
       "      <td>0.0</td>\n",
       "      <td>0.0</td>\n",
       "      <td>0.0</td>\n",
       "      <td>0.0</td>\n",
       "      <td>0.0</td>\n",
       "      <td>0.0</td>\n",
       "      <td>0.0</td>\n",
       "      <td>0.0</td>\n",
       "    </tr>\n",
       "    <tr>\n",
       "      <th>3</th>\n",
       "      <td>a123</td>\n",
       "      <td>0.000180</td>\n",
       "      <td>0.001645</td>\n",
       "      <td>-6.523652</td>\n",
       "      <td>33.187719</td>\n",
       "      <td>288.0</td>\n",
       "      <td>248.257822</td>\n",
       "      <td>3.131025</td>\n",
       "      <td>4.263192</td>\n",
       "      <td>6.208157</td>\n",
       "      <td>...</td>\n",
       "      <td>0.0</td>\n",
       "      <td>0.0</td>\n",
       "      <td>0.0</td>\n",
       "      <td>0.0</td>\n",
       "      <td>0.0</td>\n",
       "      <td>0.0</td>\n",
       "      <td>0.0</td>\n",
       "      <td>0.0</td>\n",
       "      <td>0.0</td>\n",
       "      <td>0.0</td>\n",
       "    </tr>\n",
       "    <tr>\n",
       "      <th>4</th>\n",
       "      <td>a123</td>\n",
       "      <td>-0.000448</td>\n",
       "      <td>-0.003248</td>\n",
       "      <td>-6.944896</td>\n",
       "      <td>33.138162</td>\n",
       "      <td>717.0</td>\n",
       "      <td>253.051512</td>\n",
       "      <td>2.602178</td>\n",
       "      <td>3.627373</td>\n",
       "      <td>5.603975</td>\n",
       "      <td>...</td>\n",
       "      <td>0.0</td>\n",
       "      <td>0.0</td>\n",
       "      <td>0.0</td>\n",
       "      <td>0.0</td>\n",
       "      <td>0.0</td>\n",
       "      <td>0.0</td>\n",
       "      <td>0.0</td>\n",
       "      <td>0.0</td>\n",
       "      <td>0.0</td>\n",
       "      <td>0.0</td>\n",
       "    </tr>\n",
       "  </tbody>\n",
       "</table>\n",
       "<p>5 rows × 280 columns</p>\n",
       "</div>"
      ],
      "text/plain": [
       "  dataset  dq/dv_shift   dq_diff  max_temp_diff  ave_temp_cycle1  \\\n",
       "0    a123    -0.001527 -0.008349      -6.414988        31.875011   \n",
       "1    a123    -0.001094 -0.005910      -4.915979        31.668844   \n",
       "2    a123    -0.000719 -0.005519      -6.163752        32.939408   \n",
       "3    a123     0.000180  0.001645      -6.523652        33.187719   \n",
       "4    a123    -0.000448 -0.003248      -6.944896        33.138162   \n",
       "\n",
       "   cycle_lifetime   2.0-2.1 V  2.1-2.2 V  2.2-2.3 V  2.3-2.4 V  ...  \\\n",
       "0           279.0  256.411497   2.559145   3.851198   5.863147  ...   \n",
       "1          2158.0  249.156107   2.684140   4.039452   6.070350  ...   \n",
       "2           786.0  260.328892   2.447698   3.434162   5.382598  ...   \n",
       "3           288.0  248.257822   3.131025   4.263192   6.208157  ...   \n",
       "4           717.0  253.051512   2.602178   3.627373   5.603975  ...   \n",
       "\n",
       "   dt_39_40 (C)  dt_40_41 (C)  dt_41_42 (C)  dt_42_43 (C)  dt_43_44 (C)  \\\n",
       "0           0.0           0.0           0.0           0.0           0.0   \n",
       "1           0.0           0.0           0.0           0.0           0.0   \n",
       "2           0.0           0.0           0.0           0.0           0.0   \n",
       "3           0.0           0.0           0.0           0.0           0.0   \n",
       "4           0.0           0.0           0.0           0.0           0.0   \n",
       "\n",
       "   dt_44_45 (C)  dt_45_46 (C)  dt_46_47 (C)  dt_47_48 (C)  dt_48_49 (C)  \n",
       "0           0.0           0.0           0.0           0.0           0.0  \n",
       "1           0.0           0.0           0.0           0.0           0.0  \n",
       "2           0.0           0.0           0.0           0.0           0.0  \n",
       "3           0.0           0.0           0.0           0.0           0.0  \n",
       "4           0.0           0.0           0.0           0.0           0.0  \n",
       "\n",
       "[5 rows x 280 columns]"
      ]
     },
     "execution_count": 5,
     "metadata": {},
     "output_type": "execute_result"
    }
   ],
   "source": [
    "paths = [a123_path, snl_path, hnei_path, calce_path]\n",
    "\n",
    "# create bins\n",
    "v_bins=list(np.arange(2, 3.6, 0.1))\n",
    "i_bins=list(np.arange(0, 2, 0.1))\n",
    "t_bins=list(np.arange(10, 50, 1))\n",
    "p_bins=list(np.arange(-25, 40, 1))\n",
    "\n",
    "# create voltage labels\n",
    "v_labels=[]\n",
    "dt_v_labels=[]\n",
    "for bin in list(range(len(v_bins))):\n",
    "    if bin > 0:\n",
    "        start=np.round(v_bins[bin-1], 1)\n",
    "        end=np.round(v_bins[bin], 1)\n",
    "    \n",
    "        label=str(start)+'-'+str(end)+' V'\n",
    "        v_labels.append(label)\n",
    "        \n",
    "        dt_v_label='dt_'+str(start)+'_'+str(end)+' V'\n",
    "        dt_v_labels.append(dt_v_label)\n",
    "        \n",
    "# create current squared labels\n",
    "i_squared_labels=[]\n",
    "dt_i2_labels=[]\n",
    "for bin in list(range(len(i_bins))):\n",
    "    if bin > 0:\n",
    "        start=np.round(i_bins[bin-1], 1)\n",
    "        end=np.round(i_bins[bin], 1)\n",
    "        \n",
    "        label=str(start)+'_'+str(end)+' A2'\n",
    "        i_squared_labels.append(label)\n",
    "        \n",
    "        dt_i2_label='dt_'+str(start)+'_'+str(end)+' A2'\n",
    "        dt_i2_labels.append(dt_i2_label)\n",
    "\n",
    "# create temperature labels\n",
    "temp_labels=[]\n",
    "dt_temp_labels=[]\n",
    "for bin in list(range(len(t_bins))):\n",
    "    if bin > 0:\n",
    "        start=np.round(t_bins[bin-1], 1)\n",
    "        end=np.round(t_bins[bin], 1)\n",
    "        \n",
    "        label=str(start)+'_'+str(end)+' (C)'\n",
    "        temp_labels.append(label)\n",
    "        \n",
    "        dt_temp_label='dt_'+str(start)+'_'+str(end)+' (C)'\n",
    "        dt_temp_labels.append(dt_temp_label)\n",
    "        \n",
    "# create power labels\n",
    "power_labels=[]\n",
    "dt_p_labels=[]\n",
    "for bin in list(range(len(p_bins))):\n",
    "    if bin > 0:\n",
    "        start = np.round(p_bins[bin-1], 1)\n",
    "        end = np.round(p_bins[bin], 1)\n",
    "        \n",
    "        label = str(start)+'_'+str(end)+' (W)'\n",
    "        power_labels.append(label)\n",
    "        \n",
    "        dt_power_label = 'dt_'+str(start)+'_'+str(end)+\" (W)\"\n",
    "        dt_p_labels.append(dt_power_label)\n",
    "\n",
    "\n",
    "# create data dictionary\n",
    "data_dict={'dataset':[],\n",
    "           'dq/dv_shift':[],\n",
    "           'dq_diff':[],\n",
    "           'max_temp_diff':[],\n",
    "           'ave_temp_cycle1':[],\n",
    "           'cycle_lifetime':[]\n",
    "           }\n",
    "\n",
    "# set start and end cycles\n",
    "start=1\n",
    "end=100\n",
    "\n",
    "# create empty lists for histogram data\n",
    "v_sums=[]\n",
    "i_sums=[]\n",
    "t_sums=[]\n",
    "p_sums=[]\n",
    "\n",
    "# create empty lists for dt data\n",
    "dt_v_aves=[]\n",
    "dt_i_aves=[]\n",
    "dt_t_aves=[]\n",
    "dt_p_aves=[]\n",
    "\n",
    "# for path in paths\n",
    "for path in paths:\n",
    "    files=os.listdir(path)\n",
    "    # for file in files\n",
    "    for file in files:\n",
    "        path_prefix=file.split('_')[0]\n",
    "        data_dict['dataset'].append(path_prefix)\n",
    "        print(file)\n",
    "        \n",
    "        # create cell_df\n",
    "        cell_df=pd.read_csv(path+'\\\\'+file)\n",
    "        # clean cell_df of bad dt values\n",
    "        cell_df=cell_df[cell_df['dt']<200]\n",
    "        \n",
    "        # create start and end cycle dataframes\n",
    "        cycle_start_df=cell_df[cell_df['Cycle_Index']==start]\n",
    "        cycle_end_df=cell_df[cell_df['Cycle_Index']==end]\n",
    "        \n",
    "        # calculate dq/df shift\n",
    "        dq=np.diff(cycle_start_df['Discharge_Capacity (Ah)'])\n",
    "        dv=np.diff(cycle_start_df['Voltage (V)'])\n",
    "        dq_dv_start=dq/dv\n",
    "        x=cycle_start_df['Voltage (V)'][1:]\n",
    "        df=pd.DataFrame(list(zip(x, dq_dv_start)), columns=['Voltage (V)', 'dq/dv'])\n",
    "        df.replace([np.inf, -np.inf], np.nan, inplace=True)\n",
    "        df.dropna(inplace=True)\n",
    "        popt_gauss, pcov_gauss = curve_fit(gaussian, df['Voltage (V)'], df['dq/dv'], p0=[5, 3.2, 0.1], maxfev = 2000)\n",
    "        dq_dv_start=popt_gauss[1]\n",
    "        \n",
    "        dq=np.diff(cycle_end_df['Discharge_Capacity (Ah)'])\n",
    "        dv=np.diff(cycle_end_df['Voltage (V)'])\n",
    "        dq_dv_end=dq/dv\n",
    "        x=cycle_end_df['Voltage (V)'][1:]\n",
    "        df=pd.DataFrame(list(zip(x, dq_dv_end)), columns=['Voltage (V)', 'dq/dv'])\n",
    "        df.replace([np.inf, -np.inf], np.nan, inplace=True)\n",
    "        df.dropna(inplace=True)\n",
    "        popt_gauss, pcov_gauss = curve_fit(gaussian, df['Voltage (V)'], df['dq/dv'], p0=[5, 3.2, 0.1], maxfev = 2000)\n",
    "        dq_dv_end=popt_gauss[1]\n",
    "        \n",
    "        dq_dv_shift = dq_dv_start - dq_dv_end\n",
    "        data_dict['dq/dv_shift'].append(dq_dv_shift)\n",
    "        \n",
    "        # calculate dq difference\n",
    "        dcap_start=cycle_start_df['Discharge_Capacity (Ah)'][1:]\n",
    "        v_start=cycle_start_df['Voltage (V)'][1:]\n",
    "        dq_start=np.diff(cycle_start_df['Discharge_Capacity (Ah)'].to_numpy())\n",
    "        df=pd.DataFrame(list(zip(dq_start, v_start, dcap_start)), columns=['dq', 'Voltage (V)', 'Discharge_Capacity (Ah)'])\n",
    "        \n",
    "        if path_prefix=='a123':\n",
    "            df=df[(df['dq']>0) & (df['Discharge_Capacity (Ah)']>0)]\n",
    "        if path_prefix!='a123':\n",
    "            df=df[(df['dq']>-0.01) & (df['Discharge_Capacity (Ah)']>0)]    \n",
    "        area_start=auc(df['Discharge_Capacity (Ah)'], df['Voltage (V)'])\n",
    "        \n",
    "        dcap_end=cycle_end_df['Discharge_Capacity (Ah)'][1:]\n",
    "        v_end=cycle_end_df['Voltage (V)'][1:]\n",
    "        dq_end=np.diff(cycle_start_df['Discharge_Capacity (Ah)'].to_numpy())\n",
    "        df=pd.DataFrame(list(zip(dq_end, v_end, dcap_end)), columns=['dq', 'Voltage (V)', 'Discharge_Capacity (Ah)'])\n",
    "        if path_prefix=='a123':\n",
    "            df=df[(df['dq']>0) & (df['Discharge_Capacity (Ah)']>0)]\n",
    "        if path_prefix!='a123':\n",
    "            df=df[(df['dq']>-0.01) & (df['Discharge_Capacity (Ah)']>0)]\n",
    "        area_end=auc(df['Discharge_Capacity (Ah)'], df['Voltage (V)'])\n",
    "        \n",
    "        area_diff = area_start - area_end\n",
    "        data_dict['dq_diff'].append(area_diff)\n",
    "        \n",
    "        # calculate average temp of 1st cycle\n",
    "        ave_temp = np.mean(cycle_start_df['Cell_Temperature (C)'].to_numpy())\n",
    "        data_dict['ave_temp_cycle1'].append(ave_temp)\n",
    "        \n",
    "        # calculate max temperature difference between cycles\n",
    "        max_temp_start=np.max(cycle_start_df['Cell_Temperature (C)'].to_numpy())\n",
    "        max_temp_end=np.min(cycle_end_df['Cell_Temperature (C)'].to_numpy())\n",
    "        temp_diff=max_temp_end - max_temp_start\n",
    "        data_dict['max_temp_diff'].append(temp_diff)\n",
    "        \n",
    "        # calculate cycle_lifetime\n",
    "        cycle_lifetimes=np.max(cell_df['Cycle_Index'].to_numpy())\n",
    "        data_dict['cycle_lifetime'].append(cycle_lifetimes)\n",
    "        \n",
    "        # create data frame of first 'end' number of cycles\n",
    "        df=cell_df[cell_df['Cycle_Index']<=end]\n",
    "        v_hist_arrays=[]\n",
    "        i_hist_arrays=[]\n",
    "        t_hist_arrays=[]\n",
    "        p_hist_arrays=[]\n",
    "        dt_v_arrays=[]\n",
    "        dt_i_arrays=[]\n",
    "        dt_t_arrays=[]\n",
    "        dt_p_arrays=[]\n",
    "        \n",
    "        for cycle in df['Cycle_Index'].unique():\n",
    "            cycle_df=df[df['Cycle_Index']==cycle]\n",
    "            \n",
    "            # calculate time spent in voltage ranges for current cycle\n",
    "            volt_array=cycle_df['Voltage (V)'].to_numpy()\n",
    "            dt_array=cycle_df['dt'].to_numpy()\n",
    "            v_hist_array=np.histogram(volt_array, bins=v_bins, weights=dt_array)[0]\n",
    "            v_hist_arrays.append(v_hist_array)\n",
    "            \n",
    "            # calculate difference in time spent in voltage ranges\n",
    "            if cycle > 1:\n",
    "                prev_array=v_hist_arrays[int(cycle-2)]\n",
    "                \n",
    "                dt_v_array=v_hist_array-prev_array\n",
    "                dt_v_arrays.append(dt_v_array)\n",
    "            \n",
    "            # calculate time spent in current squared ranges for current cycle\n",
    "            current_array=(cycle_df['Current (A)']**2).to_numpy()\n",
    "            dt_array=cycle_df['dt'].to_numpy()\n",
    "            i_hist_array=np.histogram(current_array, bins=i_bins, weights=dt_array)[0]\n",
    "            i_hist_arrays.append(i_hist_array)\n",
    "            \n",
    "            # calculate difference in time spent in current squared ranges\n",
    "            if cycle > 1:\n",
    "                prev_array=i_hist_arrays[int(cycle-2)]\n",
    "                \n",
    "                dt_i_array = i_hist_array - prev_array\n",
    "                dt_i_arrays.append(dt_i_array)\n",
    "            \n",
    "            # calculate time spent in temperature range for current cycle\n",
    "            temp_array=(cycle_df['Cell_Temperature (C)']).to_numpy()\n",
    "            dt_array=cycle_df['dt'].to_numpy()\n",
    "            t_hist_array=np.histogram(temp_array, bins=t_bins, weights=dt_array)[0]\n",
    "            t_hist_arrays.append(t_hist_array)\n",
    "            \n",
    "            # calculate difference in time spent in temperature ranges\n",
    "            if cycle > 1:\n",
    "                prev_array = t_hist_arrays[int(cycle-2)]\n",
    "                \n",
    "                dt_t_array = t_hist_array - prev_array\n",
    "                dt_t_arrays.append(dt_t_array)\n",
    "            \n",
    "            # calculate time spent in power range for current cycle\n",
    "            power_array=(cycle_df['Power (W)']).to_numpy()\n",
    "            dt_array=cycle_df['dt'].to_numpy()\n",
    "            p_hist_array=np.histogram(power_array, bins=p_bins, weights=dt_array)[0]\n",
    "            p_hist_arrays.append(p_hist_array)\n",
    "            \n",
    "            # calculate differences in time spent in power ranges\n",
    "            if cycle > 1:\n",
    "                \n",
    "                prev_array = p_hist_arrays[int(cycle-2)]\n",
    "                \n",
    "                dt_p_array = p_hist_array - prev_array\n",
    "                dt_p_arrays.append(dt_p_array)\n",
    "        \n",
    "        # calculate total time spent in voltage ranges    \n",
    "        v_hist_df=pd.DataFrame(v_hist_arrays, columns=v_labels)\n",
    "        v_hist_sum=list(v_hist_df.sum())\n",
    "        v_sums.append(v_hist_sum)\n",
    "        \n",
    "        # calculate total time spent in current ranges    \n",
    "        i_hist_df=pd.DataFrame(i_hist_arrays, columns=i_squared_labels)\n",
    "        i_hist_sum=list(i_hist_df.sum())\n",
    "        i_sums.append(i_hist_sum)\n",
    "        \n",
    "        # calculate total time spent in temperature ranges\n",
    "        t_hist_df=pd.DataFrame(t_hist_arrays, columns=temp_labels)\n",
    "        t_hist_sum=list(t_hist_df.sum())\n",
    "        t_sums.append(t_hist_sum)\n",
    "        \n",
    "        # calculate total time spent in power ranges\n",
    "        p_hist_df=pd.DataFrame(p_hist_arrays, columns=power_labels)\n",
    "        p_hist_sum=list(p_hist_df.sum())\n",
    "        p_sums.append(p_hist_sum)\n",
    "        \n",
    "        # calculate average difference in time across voltage ranges\n",
    "        dt_v_df=pd.DataFrame(dt_v_arrays, columns=dt_v_labels)\n",
    "        dt_v_ave=list(dt_v_df.mean())\n",
    "        dt_v_aves.append(dt_v_ave)\n",
    "        \n",
    "        # calculate average difference in time across current squared ranges\n",
    "        dt_i_df=pd.DataFrame(dt_i_arrays, columns=dt_i2_labels)\n",
    "        dt_i_ave=list(dt_i_df.mean())\n",
    "        dt_i_aves.append(dt_i_ave)\n",
    "        \n",
    "        # calculate average differences in time across temperature ranges\n",
    "        dt_t_df=pd.DataFrame(dt_t_arrays, columns=dt_temp_labels)\n",
    "        dt_t_ave=list(dt_t_df.mean())\n",
    "        dt_t_aves.append(dt_t_ave)\n",
    "        \n",
    "        # calculate average differences in time acrros power ranges\n",
    "        dt_p_df=pd.DataFrame(dt_p_arrays, columns=dt_p_labels)\n",
    "        dt_p_ave=list(dt_p_df.mean())\n",
    "        dt_p_aves.append(dt_p_ave)\n",
    "              \n",
    "# create dataframes   \n",
    "df=pd.DataFrame.from_dict(data_dict)\n",
    "v_df=pd.DataFrame(v_sums, columns=v_labels)\n",
    "i_df=pd.DataFrame(i_sums, columns=i_squared_labels)\n",
    "t_df=pd.DataFrame(t_sums, columns=temp_labels)\n",
    "p_df=pd.DataFrame(p_sums, columns=power_labels)\n",
    "dt_v_df=pd.DataFrame(dt_v_aves, columns=dt_v_labels)\n",
    "dt_i_df=pd.DataFrame(dt_i_aves, columns=dt_i2_labels)\n",
    "dt_t_df=pd.DataFrame(dt_t_aves, columns=dt_temp_labels)\n",
    "dt_p_df=pd.DataFrame(dt_p_aves, columns=dt_p_labels)\n",
    "\n",
    "feature_df=pd.concat([df, v_df, i_df, p_df, t_df, dt_v_df, dt_i_df, dt_p_df, dt_t_df], axis=1)\n",
    "feature_df.head()"
   ]
  },
  {
   "cell_type": "code",
   "execution_count": 8,
   "metadata": {},
   "outputs": [],
   "source": [
    "# save feature dataframe to csv fil\n",
    "feature_df.to_csv(feature_path+'\\\\'+'extracted_features_cycle100.csv', index=False)"
   ]
  }
 ],
 "metadata": {
  "kernelspec": {
   "display_name": "general",
   "language": "python",
   "name": "python3"
  },
  "language_info": {
   "codemirror_mode": {
    "name": "ipython",
    "version": 3
   },
   "file_extension": ".py",
   "mimetype": "text/x-python",
   "name": "python",
   "nbconvert_exporter": "python",
   "pygments_lexer": "ipython3",
   "version": "3.8.8"
  },
  "orig_nbformat": 4
 },
 "nbformat": 4,
 "nbformat_minor": 2
}
